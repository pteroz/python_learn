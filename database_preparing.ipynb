{
 "cells": [
  {
   "cell_type": "code",
   "execution_count": 32,
   "id": "2c8e9319-dcb0-4e90-93e9-39ecbfe3f6fc",
   "metadata": {},
   "outputs": [],
   "source": [
    "import pyperclip as pc\n",
    " \n",
    "def copypaste_fio(a):\n",
    "    a = a.strip()\n",
    "    b = a.split('\\n')\n",
    "    out = ['\\t'.join([c.capitalize() for c in (i.split())]) for i in b]\n",
    "    out = '\\n'.join(out)\n",
    "    return out\n",
    "\n",
    "def copypaste_date(d):\n",
    "    d = d.strip()\n",
    "    b = d.split('\\n')\n",
    "    out = []\n",
    "    for i in b:\n",
    "        i = i.split('.')\n",
    "        out.append('-'.join(i[::-1]))\n",
    "        \n",
    "    out = '\\n'.join(out)\n",
    "    return out\n",
    "\n",
    "pc.copy(copypaste_date(pc.paste()))"
   ]
  },
  {
   "cell_type": "code",
   "execution_count": 18,
   "id": "16d435d9-da30-4aaf-9cc2-4e5e1e9a8163",
   "metadata": {},
   "outputs": [
    {
     "ename": "SyntaxError",
     "evalue": "invalid syntax (3002233204.py, line 1)",
     "output_type": "error",
     "traceback": [
      "\u001b[0;36m  Cell \u001b[0;32mIn[18], line 1\u001b[0;36m\u001b[0m\n\u001b[0;31m    19.03.1971\u001b[0m\n\u001b[0m         ^\u001b[0m\n\u001b[0;31mSyntaxError\u001b[0m\u001b[0;31m:\u001b[0m invalid syntax\n"
     ]
    }
   ],
   "source": [
    "1971-03-19\n",
    "1965-12-26\n",
    "1966-10-19\n",
    "1944-01-02\n",
    "1996-02-19\n",
    "1958-05-11\n",
    "1961-09-27\n",
    "1962-11-27\n",
    "1950-01-20\n",
    "2021-06-25\n",
    "1985-05-08\n",
    "1993-08-16\n",
    "1962-03-26\n",
    "1960-02-25\n",
    "1983-11-09"
   ]
  },
  {
   "cell_type": "code",
   "execution_count": 30,
   "id": "cbb47dfc-cec5-4413-9840-3620388280e6",
   "metadata": {},
   "outputs": [
    {
     "data": {
      "text/plain": [
       "[3, 2, 1]"
      ]
     },
     "execution_count": 30,
     "metadata": {},
     "output_type": "execute_result"
    }
   ],
   "source": [
    "a = [1, 2, 3]\n",
    "a = a[::-1]\n",
    "a"
   ]
  },
  {
   "cell_type": "code",
   "execution_count": 36,
   "id": "bd87cd19-e19d-43bf-b8f7-2e781dfe12e0",
   "metadata": {},
   "outputs": [],
   "source": [
    "import pyperclip as pc\n",
    "\n",
    "a = pc.paste()\n",
    "len(a)\n",
    "a = a.replace(',,,,,', '')\n",
    "a = a.replace(',\\n', '\\n')\n"
   ]
  },
  {
   "cell_type": "code",
   "execution_count": 38,
   "id": "2cdf8aff-9d94-4997-95e5-98d824ea4e99",
   "metadata": {},
   "outputs": [],
   "source": [
    "pc.copy(a)"
   ]
  },
  {
   "cell_type": "code",
   "execution_count": 51,
   "id": "cf5b05a2-7cd2-4bbd-8554-bf7467aadf4e",
   "metadata": {},
   "outputs": [],
   "source": [
    "a = pc.paste()\n",
    "b = a.split('\\n')\n",
    "for i in b:\n",
    "    if (len(i.split(','))) != 6:\n",
    "        print(i)"
   ]
  },
  {
   "cell_type": "code",
   "execution_count": 52,
   "id": "3274d02b-71bb-493c-9296-1c154abc138a",
   "metadata": {},
   "outputs": [],
   "source": [
    "a = pc.paste()\n",
    "a = a.replace(',', '\\t')\n",
    "pc.copy(a)"
   ]
  }
 ],
 "metadata": {
  "kernelspec": {
   "display_name": "Python 3 (ipykernel)",
   "language": "python",
   "name": "python3"
  },
  "language_info": {
   "codemirror_mode": {
    "name": "ipython",
    "version": 3
   },
   "file_extension": ".py",
   "mimetype": "text/x-python",
   "name": "python",
   "nbconvert_exporter": "python",
   "pygments_lexer": "ipython3",
   "version": "3.10.12"
  }
 },
 "nbformat": 4,
 "nbformat_minor": 5
}
