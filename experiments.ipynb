{
  "nbformat": 4,
  "nbformat_minor": 0,
  "metadata": {
    "colab": {
      "provenance": [],
      "collapsed_sections": [
        "Kpo5Yr7rAMb3",
        "oSHGNOXV88BR",
        "dVjBnXoZGFql",
        "y40qF6skdU_y"
      ],
      "toc_visible": true,
      "mount_file_id": "16LAtAQtYtOFuZ8vlEqHeF9c_AlLkbwGC",
      "authorship_tag": "ABX9TyPhZXCrQiZcOVjtu9yifU0j",
      "include_colab_link": true
    },
    "kernelspec": {
      "name": "python3",
      "display_name": "Python 3"
    },
    "language_info": {
      "name": "python"
    },
    "widgets": {
      "application/vnd.jupyter.widget-state+json": {
        "dffb3a6075d44d609dc5c04e27e01a08": {
          "model_module": "@jupyter-widgets/controls",
          "model_name": "ButtonModel",
          "model_module_version": "1.5.0",
          "state": {
            "_dom_classes": [],
            "_model_module": "@jupyter-widgets/controls",
            "_model_module_version": "1.5.0",
            "_model_name": "ButtonModel",
            "_view_count": null,
            "_view_module": "@jupyter-widgets/controls",
            "_view_module_version": "1.5.0",
            "_view_name": "ButtonView",
            "button_style": "",
            "description": "Click!",
            "disabled": false,
            "icon": "",
            "layout": "IPY_MODEL_79404a3a92cd444ab3ab0a3d7b1b729d",
            "style": "IPY_MODEL_b20fba7602a14bf68798c79bab42ff4e",
            "tooltip": ""
          }
        },
        "79404a3a92cd444ab3ab0a3d7b1b729d": {
          "model_module": "@jupyter-widgets/base",
          "model_name": "LayoutModel",
          "model_module_version": "1.2.0",
          "state": {
            "_model_module": "@jupyter-widgets/base",
            "_model_module_version": "1.2.0",
            "_model_name": "LayoutModel",
            "_view_count": null,
            "_view_module": "@jupyter-widgets/base",
            "_view_module_version": "1.2.0",
            "_view_name": "LayoutView",
            "align_content": null,
            "align_items": null,
            "align_self": null,
            "border": null,
            "bottom": null,
            "display": null,
            "flex": null,
            "flex_flow": null,
            "grid_area": null,
            "grid_auto_columns": null,
            "grid_auto_flow": null,
            "grid_auto_rows": null,
            "grid_column": null,
            "grid_gap": null,
            "grid_row": null,
            "grid_template_areas": null,
            "grid_template_columns": null,
            "grid_template_rows": null,
            "height": null,
            "justify_content": null,
            "justify_items": null,
            "left": null,
            "margin": null,
            "max_height": null,
            "max_width": null,
            "min_height": null,
            "min_width": null,
            "object_fit": null,
            "object_position": null,
            "order": null,
            "overflow": null,
            "overflow_x": null,
            "overflow_y": null,
            "padding": null,
            "right": null,
            "top": null,
            "visibility": null,
            "width": null
          }
        },
        "b20fba7602a14bf68798c79bab42ff4e": {
          "model_module": "@jupyter-widgets/controls",
          "model_name": "ButtonStyleModel",
          "model_module_version": "1.5.0",
          "state": {
            "_model_module": "@jupyter-widgets/controls",
            "_model_module_version": "1.5.0",
            "_model_name": "ButtonStyleModel",
            "_view_count": null,
            "_view_module": "@jupyter-widgets/base",
            "_view_module_version": "1.2.0",
            "_view_name": "StyleView",
            "button_color": null,
            "font_weight": ""
          }
        },
        "b5101f2978464278bdb85af9fc74f448": {
          "model_module": "@jupyter-widgets/output",
          "model_name": "OutputModel",
          "model_module_version": "1.0.0",
          "state": {
            "_dom_classes": [],
            "_model_module": "@jupyter-widgets/output",
            "_model_module_version": "1.0.0",
            "_model_name": "OutputModel",
            "_view_count": null,
            "_view_module": "@jupyter-widgets/output",
            "_view_module_version": "1.0.0",
            "_view_name": "OutputView",
            "layout": "IPY_MODEL_c3f5166c3b70495f98c0024e323ed4b9",
            "msg_id": "",
            "outputs": [
              {
                "output_type": "stream",
                "name": "stdout",
                "text": [
                  "2 привет, hot\n"
                ]
              }
            ]
          }
        },
        "c3f5166c3b70495f98c0024e323ed4b9": {
          "model_module": "@jupyter-widgets/base",
          "model_name": "LayoutModel",
          "model_module_version": "1.2.0",
          "state": {
            "_model_module": "@jupyter-widgets/base",
            "_model_module_version": "1.2.0",
            "_model_name": "LayoutModel",
            "_view_count": null,
            "_view_module": "@jupyter-widgets/base",
            "_view_module_version": "1.2.0",
            "_view_name": "LayoutView",
            "align_content": null,
            "align_items": null,
            "align_self": null,
            "border": null,
            "bottom": null,
            "display": null,
            "flex": null,
            "flex_flow": null,
            "grid_area": null,
            "grid_auto_columns": null,
            "grid_auto_flow": null,
            "grid_auto_rows": null,
            "grid_column": null,
            "grid_gap": null,
            "grid_row": null,
            "grid_template_areas": null,
            "grid_template_columns": null,
            "grid_template_rows": null,
            "height": null,
            "justify_content": null,
            "justify_items": null,
            "left": null,
            "margin": null,
            "max_height": null,
            "max_width": null,
            "min_height": null,
            "min_width": null,
            "object_fit": null,
            "object_position": null,
            "order": null,
            "overflow": null,
            "overflow_x": null,
            "overflow_y": null,
            "padding": null,
            "right": null,
            "top": null,
            "visibility": null,
            "width": null
          }
        },
        "d6ed2cf12bf44634a3ab685ba291746d": {
          "model_module": "@jupyter-widgets/controls",
          "model_name": "TextModel",
          "model_module_version": "1.5.0",
          "state": {
            "_dom_classes": [],
            "_model_module": "@jupyter-widgets/controls",
            "_model_module_version": "1.5.0",
            "_model_name": "TextModel",
            "_view_count": null,
            "_view_module": "@jupyter-widgets/controls",
            "_view_module_version": "1.5.0",
            "_view_name": "TextView",
            "continuous_update": true,
            "description": "01 учреждение здравоохранения",
            "description_tooltip": null,
            "disabled": false,
            "layout": "IPY_MODEL_acf7f6ba12a74c4ca4586ff1e6bcd507",
            "placeholder": "Type something",
            "style": "IPY_MODEL_25de5fb9f5f543218f726fb44f97fd2d",
            "value": ""
          }
        },
        "acf7f6ba12a74c4ca4586ff1e6bcd507": {
          "model_module": "@jupyter-widgets/base",
          "model_name": "LayoutModel",
          "model_module_version": "1.2.0",
          "state": {
            "_model_module": "@jupyter-widgets/base",
            "_model_module_version": "1.2.0",
            "_model_name": "LayoutModel",
            "_view_count": null,
            "_view_module": "@jupyter-widgets/base",
            "_view_module_version": "1.2.0",
            "_view_name": "LayoutView",
            "align_content": null,
            "align_items": null,
            "align_self": null,
            "border": null,
            "bottom": null,
            "display": null,
            "flex": null,
            "flex_flow": null,
            "grid_area": null,
            "grid_auto_columns": null,
            "grid_auto_flow": null,
            "grid_auto_rows": null,
            "grid_column": null,
            "grid_gap": null,
            "grid_row": null,
            "grid_template_areas": null,
            "grid_template_columns": null,
            "grid_template_rows": null,
            "height": null,
            "justify_content": null,
            "justify_items": null,
            "left": null,
            "margin": null,
            "max_height": null,
            "max_width": null,
            "min_height": null,
            "min_width": null,
            "object_fit": null,
            "object_position": null,
            "order": null,
            "overflow": null,
            "overflow_x": null,
            "overflow_y": null,
            "padding": null,
            "right": null,
            "top": null,
            "visibility": null,
            "width": "auto"
          }
        },
        "25de5fb9f5f543218f726fb44f97fd2d": {
          "model_module": "@jupyter-widgets/controls",
          "model_name": "DescriptionStyleModel",
          "model_module_version": "1.5.0",
          "state": {
            "_model_module": "@jupyter-widgets/controls",
            "_model_module_version": "1.5.0",
            "_model_name": "DescriptionStyleModel",
            "_view_count": null,
            "_view_module": "@jupyter-widgets/base",
            "_view_module_version": "1.2.0",
            "_view_name": "StyleView",
            "description_width": "initial"
          }
        },
        "6123536a776c437db584ff5cfdcde319": {
          "model_module": "@jupyter-widgets/controls",
          "model_name": "DatePickerModel",
          "model_module_version": "1.5.0",
          "state": {
            "_dom_classes": [],
            "_model_module": "@jupyter-widgets/controls",
            "_model_module_version": "1.5.0",
            "_model_name": "DatePickerModel",
            "_view_count": null,
            "_view_module": "@jupyter-widgets/controls",
            "_view_module_version": "1.5.0",
            "_view_name": "DatePickerView",
            "description": "02 дата исследования",
            "description_tooltip": null,
            "disabled": false,
            "layout": "IPY_MODEL_a80ce8a4c1b34d428e82e2f1e8242819",
            "style": "IPY_MODEL_c51ef97bf4944a819a1526663ec2dd6b",
            "value": null
          }
        },
        "a80ce8a4c1b34d428e82e2f1e8242819": {
          "model_module": "@jupyter-widgets/base",
          "model_name": "LayoutModel",
          "model_module_version": "1.2.0",
          "state": {
            "_model_module": "@jupyter-widgets/base",
            "_model_module_version": "1.2.0",
            "_model_name": "LayoutModel",
            "_view_count": null,
            "_view_module": "@jupyter-widgets/base",
            "_view_module_version": "1.2.0",
            "_view_name": "LayoutView",
            "align_content": null,
            "align_items": null,
            "align_self": null,
            "border": null,
            "bottom": null,
            "display": null,
            "flex": null,
            "flex_flow": null,
            "grid_area": null,
            "grid_auto_columns": null,
            "grid_auto_flow": null,
            "grid_auto_rows": null,
            "grid_column": null,
            "grid_gap": null,
            "grid_row": null,
            "grid_template_areas": null,
            "grid_template_columns": null,
            "grid_template_rows": null,
            "height": null,
            "justify_content": null,
            "justify_items": null,
            "left": null,
            "margin": null,
            "max_height": null,
            "max_width": null,
            "min_height": null,
            "min_width": null,
            "object_fit": null,
            "object_position": null,
            "order": null,
            "overflow": null,
            "overflow_x": null,
            "overflow_y": null,
            "padding": null,
            "right": null,
            "top": null,
            "visibility": null,
            "width": null
          }
        },
        "c51ef97bf4944a819a1526663ec2dd6b": {
          "model_module": "@jupyter-widgets/controls",
          "model_name": "DescriptionStyleModel",
          "model_module_version": "1.5.0",
          "state": {
            "_model_module": "@jupyter-widgets/controls",
            "_model_module_version": "1.5.0",
            "_model_name": "DescriptionStyleModel",
            "_view_count": null,
            "_view_module": "@jupyter-widgets/base",
            "_view_module_version": "1.2.0",
            "_view_name": "StyleView",
            "description_width": "initial"
          }
        },
        "8874b6e08da1433aa80ac34c6d3fa2ed": {
          "model_module": "@jupyter-widgets/controls",
          "model_name": "TextModel",
          "model_module_version": "1.5.0",
          "state": {
            "_dom_classes": [],
            "_model_module": "@jupyter-widgets/controls",
            "_model_module_version": "1.5.0",
            "_model_name": "TextModel",
            "_view_count": null,
            "_view_module": "@jupyter-widgets/controls",
            "_view_module_version": "1.5.0",
            "_view_name": "TextView",
            "continuous_update": true,
            "description": "03 время исследования",
            "description_tooltip": null,
            "disabled": false,
            "layout": "IPY_MODEL_4d68997f8cbf420289ae8abee8ee6476",
            "placeholder": "Type something",
            "style": "IPY_MODEL_f7a49107f52741eca0e3c398ec5ec735",
            "value": ""
          }
        },
        "4d68997f8cbf420289ae8abee8ee6476": {
          "model_module": "@jupyter-widgets/base",
          "model_name": "LayoutModel",
          "model_module_version": "1.2.0",
          "state": {
            "_model_module": "@jupyter-widgets/base",
            "_model_module_version": "1.2.0",
            "_model_name": "LayoutModel",
            "_view_count": null,
            "_view_module": "@jupyter-widgets/base",
            "_view_module_version": "1.2.0",
            "_view_name": "LayoutView",
            "align_content": null,
            "align_items": null,
            "align_self": null,
            "border": null,
            "bottom": null,
            "display": null,
            "flex": null,
            "flex_flow": null,
            "grid_area": null,
            "grid_auto_columns": null,
            "grid_auto_flow": null,
            "grid_auto_rows": null,
            "grid_column": null,
            "grid_gap": null,
            "grid_row": null,
            "grid_template_areas": null,
            "grid_template_columns": null,
            "grid_template_rows": null,
            "height": null,
            "justify_content": null,
            "justify_items": null,
            "left": null,
            "margin": null,
            "max_height": null,
            "max_width": null,
            "min_height": null,
            "min_width": null,
            "object_fit": null,
            "object_position": null,
            "order": null,
            "overflow": null,
            "overflow_x": null,
            "overflow_y": null,
            "padding": null,
            "right": null,
            "top": null,
            "visibility": null,
            "width": "auto"
          }
        },
        "f7a49107f52741eca0e3c398ec5ec735": {
          "model_module": "@jupyter-widgets/controls",
          "model_name": "DescriptionStyleModel",
          "model_module_version": "1.5.0",
          "state": {
            "_model_module": "@jupyter-widgets/controls",
            "_model_module_version": "1.5.0",
            "_model_name": "DescriptionStyleModel",
            "_view_count": null,
            "_view_module": "@jupyter-widgets/base",
            "_view_module_version": "1.2.0",
            "_view_name": "StyleView",
            "description_width": "initial"
          }
        },
        "1090ade6cf6045789cc77200796caa86": {
          "model_module": "@jupyter-widgets/controls",
          "model_name": "TextModel",
          "model_module_version": "1.5.0",
          "state": {
            "_dom_classes": [],
            "_model_module": "@jupyter-widgets/controls",
            "_model_module_version": "1.5.0",
            "_model_name": "TextModel",
            "_view_count": null,
            "_view_module": "@jupyter-widgets/controls",
            "_view_module_version": "1.5.0",
            "_view_name": "TextView",
            "continuous_update": true,
            "description": "04 фамилия имя отчество пациента",
            "description_tooltip": null,
            "disabled": false,
            "layout": "IPY_MODEL_8f7d78e38bf5425daa28129041960fe6",
            "placeholder": "Type something",
            "style": "IPY_MODEL_cffbd17c493e47c38403f370bb4ff0d9",
            "value": ""
          }
        },
        "8f7d78e38bf5425daa28129041960fe6": {
          "model_module": "@jupyter-widgets/base",
          "model_name": "LayoutModel",
          "model_module_version": "1.2.0",
          "state": {
            "_model_module": "@jupyter-widgets/base",
            "_model_module_version": "1.2.0",
            "_model_name": "LayoutModel",
            "_view_count": null,
            "_view_module": "@jupyter-widgets/base",
            "_view_module_version": "1.2.0",
            "_view_name": "LayoutView",
            "align_content": null,
            "align_items": null,
            "align_self": null,
            "border": null,
            "bottom": null,
            "display": null,
            "flex": null,
            "flex_flow": null,
            "grid_area": null,
            "grid_auto_columns": null,
            "grid_auto_flow": null,
            "grid_auto_rows": null,
            "grid_column": null,
            "grid_gap": null,
            "grid_row": null,
            "grid_template_areas": null,
            "grid_template_columns": null,
            "grid_template_rows": null,
            "height": null,
            "justify_content": null,
            "justify_items": null,
            "left": null,
            "margin": null,
            "max_height": null,
            "max_width": null,
            "min_height": null,
            "min_width": null,
            "object_fit": null,
            "object_position": null,
            "order": null,
            "overflow": null,
            "overflow_x": null,
            "overflow_y": null,
            "padding": null,
            "right": null,
            "top": null,
            "visibility": null,
            "width": "auto"
          }
        },
        "cffbd17c493e47c38403f370bb4ff0d9": {
          "model_module": "@jupyter-widgets/controls",
          "model_name": "DescriptionStyleModel",
          "model_module_version": "1.5.0",
          "state": {
            "_model_module": "@jupyter-widgets/controls",
            "_model_module_version": "1.5.0",
            "_model_name": "DescriptionStyleModel",
            "_view_count": null,
            "_view_module": "@jupyter-widgets/base",
            "_view_module_version": "1.2.0",
            "_view_name": "StyleView",
            "description_width": "initial"
          }
        },
        "995031cb49d046b6901afd9214efb386": {
          "model_module": "@jupyter-widgets/controls",
          "model_name": "DatePickerModel",
          "model_module_version": "1.5.0",
          "state": {
            "_dom_classes": [],
            "_model_module": "@jupyter-widgets/controls",
            "_model_module_version": "1.5.0",
            "_model_name": "DatePickerModel",
            "_view_count": null,
            "_view_module": "@jupyter-widgets/controls",
            "_view_module_version": "1.5.0",
            "_view_name": "DatePickerView",
            "description": "05 дата рождения пациента",
            "description_tooltip": null,
            "disabled": false,
            "layout": "IPY_MODEL_652d2747c332446b9dfdd5f85939671d",
            "style": "IPY_MODEL_0ec00fa1b98e4579b110778a0c2e7969",
            "value": null
          }
        },
        "652d2747c332446b9dfdd5f85939671d": {
          "model_module": "@jupyter-widgets/base",
          "model_name": "LayoutModel",
          "model_module_version": "1.2.0",
          "state": {
            "_model_module": "@jupyter-widgets/base",
            "_model_module_version": "1.2.0",
            "_model_name": "LayoutModel",
            "_view_count": null,
            "_view_module": "@jupyter-widgets/base",
            "_view_module_version": "1.2.0",
            "_view_name": "LayoutView",
            "align_content": null,
            "align_items": null,
            "align_self": null,
            "border": null,
            "bottom": null,
            "display": null,
            "flex": null,
            "flex_flow": null,
            "grid_area": null,
            "grid_auto_columns": null,
            "grid_auto_flow": null,
            "grid_auto_rows": null,
            "grid_column": null,
            "grid_gap": null,
            "grid_row": null,
            "grid_template_areas": null,
            "grid_template_columns": null,
            "grid_template_rows": null,
            "height": null,
            "justify_content": null,
            "justify_items": null,
            "left": null,
            "margin": null,
            "max_height": null,
            "max_width": null,
            "min_height": null,
            "min_width": null,
            "object_fit": null,
            "object_position": null,
            "order": null,
            "overflow": null,
            "overflow_x": null,
            "overflow_y": null,
            "padding": null,
            "right": null,
            "top": null,
            "visibility": null,
            "width": null
          }
        },
        "0ec00fa1b98e4579b110778a0c2e7969": {
          "model_module": "@jupyter-widgets/controls",
          "model_name": "DescriptionStyleModel",
          "model_module_version": "1.5.0",
          "state": {
            "_model_module": "@jupyter-widgets/controls",
            "_model_module_version": "1.5.0",
            "_model_name": "DescriptionStyleModel",
            "_view_count": null,
            "_view_module": "@jupyter-widgets/base",
            "_view_module_version": "1.2.0",
            "_view_name": "StyleView",
            "description_width": "initial"
          }
        },
        "2d779dd65db549f98eead3245e873210": {
          "model_module": "@jupyter-widgets/controls",
          "model_name": "TextModel",
          "model_module_version": "1.5.0",
          "state": {
            "_dom_classes": [],
            "_model_module": "@jupyter-widgets/controls",
            "_model_module_version": "1.5.0",
            "_model_name": "TextModel",
            "_view_count": null,
            "_view_module": "@jupyter-widgets/controls",
            "_view_module_version": "1.5.0",
            "_view_name": "TextView",
            "continuous_update": true,
            "description": "06 адрес пациента",
            "description_tooltip": null,
            "disabled": false,
            "layout": "IPY_MODEL_6c63e412e85b4329b71db127c74a2c6e",
            "placeholder": "Type something",
            "style": "IPY_MODEL_3ecfbd15a71f46c89f3e2f91326c35cf",
            "value": ""
          }
        },
        "6c63e412e85b4329b71db127c74a2c6e": {
          "model_module": "@jupyter-widgets/base",
          "model_name": "LayoutModel",
          "model_module_version": "1.2.0",
          "state": {
            "_model_module": "@jupyter-widgets/base",
            "_model_module_version": "1.2.0",
            "_model_name": "LayoutModel",
            "_view_count": null,
            "_view_module": "@jupyter-widgets/base",
            "_view_module_version": "1.2.0",
            "_view_name": "LayoutView",
            "align_content": null,
            "align_items": null,
            "align_self": null,
            "border": null,
            "bottom": null,
            "display": null,
            "flex": null,
            "flex_flow": null,
            "grid_area": null,
            "grid_auto_columns": null,
            "grid_auto_flow": null,
            "grid_auto_rows": null,
            "grid_column": null,
            "grid_gap": null,
            "grid_row": null,
            "grid_template_areas": null,
            "grid_template_columns": null,
            "grid_template_rows": null,
            "height": null,
            "justify_content": null,
            "justify_items": null,
            "left": null,
            "margin": null,
            "max_height": null,
            "max_width": null,
            "min_height": null,
            "min_width": null,
            "object_fit": null,
            "object_position": null,
            "order": null,
            "overflow": null,
            "overflow_x": null,
            "overflow_y": null,
            "padding": null,
            "right": null,
            "top": null,
            "visibility": null,
            "width": "auto"
          }
        },
        "3ecfbd15a71f46c89f3e2f91326c35cf": {
          "model_module": "@jupyter-widgets/controls",
          "model_name": "DescriptionStyleModel",
          "model_module_version": "1.5.0",
          "state": {
            "_model_module": "@jupyter-widgets/controls",
            "_model_module_version": "1.5.0",
            "_model_name": "DescriptionStyleModel",
            "_view_count": null,
            "_view_module": "@jupyter-widgets/base",
            "_view_module_version": "1.2.0",
            "_view_name": "StyleView",
            "description_width": "initial"
          }
        },
        "338586ceeccd456f9d3d6eee92dd3982": {
          "model_module": "@jupyter-widgets/controls",
          "model_name": "TextModel",
          "model_module_version": "1.5.0",
          "state": {
            "_dom_classes": [],
            "_model_module": "@jupyter-widgets/controls",
            "_model_module_version": "1.5.0",
            "_model_name": "TextModel",
            "_view_count": null,
            "_view_module": "@jupyter-widgets/controls",
            "_view_module_version": "1.5.0",
            "_view_name": "TextView",
            "continuous_update": true,
            "description": "07 вес пациента",
            "description_tooltip": null,
            "disabled": false,
            "layout": "IPY_MODEL_6a95db7c07f0439d8db715f4296ce6ed",
            "placeholder": "Type something",
            "style": "IPY_MODEL_6715c0b7efb24e7da65f1635c4ccdad0",
            "value": ""
          }
        },
        "6a95db7c07f0439d8db715f4296ce6ed": {
          "model_module": "@jupyter-widgets/base",
          "model_name": "LayoutModel",
          "model_module_version": "1.2.0",
          "state": {
            "_model_module": "@jupyter-widgets/base",
            "_model_module_version": "1.2.0",
            "_model_name": "LayoutModel",
            "_view_count": null,
            "_view_module": "@jupyter-widgets/base",
            "_view_module_version": "1.2.0",
            "_view_name": "LayoutView",
            "align_content": null,
            "align_items": null,
            "align_self": null,
            "border": null,
            "bottom": null,
            "display": null,
            "flex": null,
            "flex_flow": null,
            "grid_area": null,
            "grid_auto_columns": null,
            "grid_auto_flow": null,
            "grid_auto_rows": null,
            "grid_column": null,
            "grid_gap": null,
            "grid_row": null,
            "grid_template_areas": null,
            "grid_template_columns": null,
            "grid_template_rows": null,
            "height": null,
            "justify_content": null,
            "justify_items": null,
            "left": null,
            "margin": null,
            "max_height": null,
            "max_width": null,
            "min_height": null,
            "min_width": null,
            "object_fit": null,
            "object_position": null,
            "order": null,
            "overflow": null,
            "overflow_x": null,
            "overflow_y": null,
            "padding": null,
            "right": null,
            "top": null,
            "visibility": null,
            "width": "auto"
          }
        },
        "6715c0b7efb24e7da65f1635c4ccdad0": {
          "model_module": "@jupyter-widgets/controls",
          "model_name": "DescriptionStyleModel",
          "model_module_version": "1.5.0",
          "state": {
            "_model_module": "@jupyter-widgets/controls",
            "_model_module_version": "1.5.0",
            "_model_name": "DescriptionStyleModel",
            "_view_count": null,
            "_view_module": "@jupyter-widgets/base",
            "_view_module_version": "1.2.0",
            "_view_name": "StyleView",
            "description_width": "initial"
          }
        },
        "89153e9f83a74512ba2e2126f93e535c": {
          "model_module": "@jupyter-widgets/controls",
          "model_name": "TextModel",
          "model_module_version": "1.5.0",
          "state": {
            "_dom_classes": [],
            "_model_module": "@jupyter-widgets/controls",
            "_model_module_version": "1.5.0",
            "_model_name": "TextModel",
            "_view_count": null,
            "_view_module": "@jupyter-widgets/controls",
            "_view_module_version": "1.5.0",
            "_view_name": "TextView",
            "continuous_update": true,
            "description": "08 отделение учреждения здравоохранения",
            "description_tooltip": null,
            "disabled": false,
            "layout": "IPY_MODEL_97a654a9eeec4456b58f066b3c04b3fd",
            "placeholder": "Type something",
            "style": "IPY_MODEL_a1a33baf6162462bb76c832b5289134a",
            "value": ""
          }
        },
        "97a654a9eeec4456b58f066b3c04b3fd": {
          "model_module": "@jupyter-widgets/base",
          "model_name": "LayoutModel",
          "model_module_version": "1.2.0",
          "state": {
            "_model_module": "@jupyter-widgets/base",
            "_model_module_version": "1.2.0",
            "_model_name": "LayoutModel",
            "_view_count": null,
            "_view_module": "@jupyter-widgets/base",
            "_view_module_version": "1.2.0",
            "_view_name": "LayoutView",
            "align_content": null,
            "align_items": null,
            "align_self": null,
            "border": null,
            "bottom": null,
            "display": null,
            "flex": null,
            "flex_flow": null,
            "grid_area": null,
            "grid_auto_columns": null,
            "grid_auto_flow": null,
            "grid_auto_rows": null,
            "grid_column": null,
            "grid_gap": null,
            "grid_row": null,
            "grid_template_areas": null,
            "grid_template_columns": null,
            "grid_template_rows": null,
            "height": null,
            "justify_content": null,
            "justify_items": null,
            "left": null,
            "margin": null,
            "max_height": null,
            "max_width": null,
            "min_height": null,
            "min_width": null,
            "object_fit": null,
            "object_position": null,
            "order": null,
            "overflow": null,
            "overflow_x": null,
            "overflow_y": null,
            "padding": null,
            "right": null,
            "top": null,
            "visibility": null,
            "width": "auto"
          }
        },
        "a1a33baf6162462bb76c832b5289134a": {
          "model_module": "@jupyter-widgets/controls",
          "model_name": "DescriptionStyleModel",
          "model_module_version": "1.5.0",
          "state": {
            "_model_module": "@jupyter-widgets/controls",
            "_model_module_version": "1.5.0",
            "_model_name": "DescriptionStyleModel",
            "_view_count": null,
            "_view_module": "@jupyter-widgets/base",
            "_view_module_version": "1.2.0",
            "_view_name": "StyleView",
            "description_width": "initial"
          }
        },
        "f366e5de440e4b5a8374af5dca3f42cd": {
          "model_module": "@jupyter-widgets/controls",
          "model_name": "TextModel",
          "model_module_version": "1.5.0",
          "state": {
            "_dom_classes": [],
            "_model_module": "@jupyter-widgets/controls",
            "_model_module_version": "1.5.0",
            "_model_name": "TextModel",
            "_view_count": null,
            "_view_module": "@jupyter-widgets/controls",
            "_view_module_version": "1.5.0",
            "_view_name": "TextView",
            "continuous_update": true,
            "description": "09 номер мед",
            "description_tooltip": null,
            "disabled": false,
            "layout": "IPY_MODEL_ac4568c54ed04a31bf6ad6204f147889",
            "placeholder": "Type something",
            "style": "IPY_MODEL_ef97ffda0e9441afaafd20a44891bac1",
            "value": ""
          }
        },
        "ac4568c54ed04a31bf6ad6204f147889": {
          "model_module": "@jupyter-widgets/base",
          "model_name": "LayoutModel",
          "model_module_version": "1.2.0",
          "state": {
            "_model_module": "@jupyter-widgets/base",
            "_model_module_version": "1.2.0",
            "_model_name": "LayoutModel",
            "_view_count": null,
            "_view_module": "@jupyter-widgets/base",
            "_view_module_version": "1.2.0",
            "_view_name": "LayoutView",
            "align_content": null,
            "align_items": null,
            "align_self": null,
            "border": null,
            "bottom": null,
            "display": null,
            "flex": null,
            "flex_flow": null,
            "grid_area": null,
            "grid_auto_columns": null,
            "grid_auto_flow": null,
            "grid_auto_rows": null,
            "grid_column": null,
            "grid_gap": null,
            "grid_row": null,
            "grid_template_areas": null,
            "grid_template_columns": null,
            "grid_template_rows": null,
            "height": null,
            "justify_content": null,
            "justify_items": null,
            "left": null,
            "margin": null,
            "max_height": null,
            "max_width": null,
            "min_height": null,
            "min_width": null,
            "object_fit": null,
            "object_position": null,
            "order": null,
            "overflow": null,
            "overflow_x": null,
            "overflow_y": null,
            "padding": null,
            "right": null,
            "top": null,
            "visibility": null,
            "width": "auto"
          }
        },
        "ef97ffda0e9441afaafd20a44891bac1": {
          "model_module": "@jupyter-widgets/controls",
          "model_name": "DescriptionStyleModel",
          "model_module_version": "1.5.0",
          "state": {
            "_model_module": "@jupyter-widgets/controls",
            "_model_module_version": "1.5.0",
            "_model_name": "DescriptionStyleModel",
            "_view_count": null,
            "_view_module": "@jupyter-widgets/base",
            "_view_module_version": "1.2.0",
            "_view_name": "StyleView",
            "description_width": "initial"
          }
        },
        "b6733add30b448389c64839099fc4db5": {
          "model_module": "@jupyter-widgets/controls",
          "model_name": "TextModel",
          "model_module_version": "1.5.0",
          "state": {
            "_dom_classes": [],
            "_model_module": "@jupyter-widgets/controls",
            "_model_module_version": "1.5.0",
            "_model_name": "TextModel",
            "_view_count": null,
            "_view_module": "@jupyter-widgets/controls",
            "_view_module_version": "1.5.0",
            "_view_name": "TextView",
            "continuous_update": true,
            "description": "10 жалобы пациента",
            "description_tooltip": null,
            "disabled": false,
            "layout": "IPY_MODEL_dac0aab47be0471da53c5f565a014639",
            "placeholder": "Type something",
            "style": "IPY_MODEL_91c56f04dd724a7fb95d06324062fc3c",
            "value": ""
          }
        },
        "dac0aab47be0471da53c5f565a014639": {
          "model_module": "@jupyter-widgets/base",
          "model_name": "LayoutModel",
          "model_module_version": "1.2.0",
          "state": {
            "_model_module": "@jupyter-widgets/base",
            "_model_module_version": "1.2.0",
            "_model_name": "LayoutModel",
            "_view_count": null,
            "_view_module": "@jupyter-widgets/base",
            "_view_module_version": "1.2.0",
            "_view_name": "LayoutView",
            "align_content": null,
            "align_items": null,
            "align_self": null,
            "border": null,
            "bottom": null,
            "display": null,
            "flex": null,
            "flex_flow": null,
            "grid_area": null,
            "grid_auto_columns": null,
            "grid_auto_flow": null,
            "grid_auto_rows": null,
            "grid_column": null,
            "grid_gap": null,
            "grid_row": null,
            "grid_template_areas": null,
            "grid_template_columns": null,
            "grid_template_rows": null,
            "height": null,
            "justify_content": null,
            "justify_items": null,
            "left": null,
            "margin": null,
            "max_height": null,
            "max_width": null,
            "min_height": null,
            "min_width": null,
            "object_fit": null,
            "object_position": null,
            "order": null,
            "overflow": null,
            "overflow_x": null,
            "overflow_y": null,
            "padding": null,
            "right": null,
            "top": null,
            "visibility": null,
            "width": "auto"
          }
        },
        "91c56f04dd724a7fb95d06324062fc3c": {
          "model_module": "@jupyter-widgets/controls",
          "model_name": "DescriptionStyleModel",
          "model_module_version": "1.5.0",
          "state": {
            "_model_module": "@jupyter-widgets/controls",
            "_model_module_version": "1.5.0",
            "_model_name": "DescriptionStyleModel",
            "_view_count": null,
            "_view_module": "@jupyter-widgets/base",
            "_view_module_version": "1.2.0",
            "_view_name": "StyleView",
            "description_width": "initial"
          }
        },
        "b549ca8d80b34b278ca40fd58e1d57d0": {
          "model_module": "@jupyter-widgets/controls",
          "model_name": "TextModel",
          "model_module_version": "1.5.0",
          "state": {
            "_dom_classes": [],
            "_model_module": "@jupyter-widgets/controls",
            "_model_module_version": "1.5.0",
            "_model_name": "TextModel",
            "_view_count": null,
            "_view_module": "@jupyter-widgets/controls",
            "_view_module_version": "1.5.0",
            "_view_name": "TextView",
            "continuous_update": true,
            "description": "11 краткий анамнез",
            "description_tooltip": null,
            "disabled": false,
            "layout": "IPY_MODEL_4b56fedf09c746089e7ab3443617ef08",
            "placeholder": "Type something",
            "style": "IPY_MODEL_302bde3feb4d4097b5ae127be34c50a5",
            "value": ""
          }
        },
        "4b56fedf09c746089e7ab3443617ef08": {
          "model_module": "@jupyter-widgets/base",
          "model_name": "LayoutModel",
          "model_module_version": "1.2.0",
          "state": {
            "_model_module": "@jupyter-widgets/base",
            "_model_module_version": "1.2.0",
            "_model_name": "LayoutModel",
            "_view_count": null,
            "_view_module": "@jupyter-widgets/base",
            "_view_module_version": "1.2.0",
            "_view_name": "LayoutView",
            "align_content": null,
            "align_items": null,
            "align_self": null,
            "border": null,
            "bottom": null,
            "display": null,
            "flex": null,
            "flex_flow": null,
            "grid_area": null,
            "grid_auto_columns": null,
            "grid_auto_flow": null,
            "grid_auto_rows": null,
            "grid_column": null,
            "grid_gap": null,
            "grid_row": null,
            "grid_template_areas": null,
            "grid_template_columns": null,
            "grid_template_rows": null,
            "height": null,
            "justify_content": null,
            "justify_items": null,
            "left": null,
            "margin": null,
            "max_height": null,
            "max_width": null,
            "min_height": null,
            "min_width": null,
            "object_fit": null,
            "object_position": null,
            "order": null,
            "overflow": null,
            "overflow_x": null,
            "overflow_y": null,
            "padding": null,
            "right": null,
            "top": null,
            "visibility": null,
            "width": "auto"
          }
        },
        "302bde3feb4d4097b5ae127be34c50a5": {
          "model_module": "@jupyter-widgets/controls",
          "model_name": "DescriptionStyleModel",
          "model_module_version": "1.5.0",
          "state": {
            "_model_module": "@jupyter-widgets/controls",
            "_model_module_version": "1.5.0",
            "_model_name": "DescriptionStyleModel",
            "_view_count": null,
            "_view_module": "@jupyter-widgets/base",
            "_view_module_version": "1.2.0",
            "_view_name": "StyleView",
            "description_width": "initial"
          }
        },
        "bf234d35ee27444faacb16609633681c": {
          "model_module": "@jupyter-widgets/controls",
          "model_name": "TextModel",
          "model_module_version": "1.5.0",
          "state": {
            "_dom_classes": [],
            "_model_module": "@jupyter-widgets/controls",
            "_model_module_version": "1.5.0",
            "_model_name": "TextModel",
            "_view_count": null,
            "_view_module": "@jupyter-widgets/controls",
            "_view_module_version": "1.5.0",
            "_view_name": "TextView",
            "continuous_update": true,
            "description": "12 клинический статус",
            "description_tooltip": null,
            "disabled": false,
            "layout": "IPY_MODEL_df382765d571409881c0eb8887700d60",
            "placeholder": "Type something",
            "style": "IPY_MODEL_eaf7a2c077574f61a2590d6d9c2bdc87",
            "value": ""
          }
        },
        "df382765d571409881c0eb8887700d60": {
          "model_module": "@jupyter-widgets/base",
          "model_name": "LayoutModel",
          "model_module_version": "1.2.0",
          "state": {
            "_model_module": "@jupyter-widgets/base",
            "_model_module_version": "1.2.0",
            "_model_name": "LayoutModel",
            "_view_count": null,
            "_view_module": "@jupyter-widgets/base",
            "_view_module_version": "1.2.0",
            "_view_name": "LayoutView",
            "align_content": null,
            "align_items": null,
            "align_self": null,
            "border": null,
            "bottom": null,
            "display": null,
            "flex": null,
            "flex_flow": null,
            "grid_area": null,
            "grid_auto_columns": null,
            "grid_auto_flow": null,
            "grid_auto_rows": null,
            "grid_column": null,
            "grid_gap": null,
            "grid_row": null,
            "grid_template_areas": null,
            "grid_template_columns": null,
            "grid_template_rows": null,
            "height": null,
            "justify_content": null,
            "justify_items": null,
            "left": null,
            "margin": null,
            "max_height": null,
            "max_width": null,
            "min_height": null,
            "min_width": null,
            "object_fit": null,
            "object_position": null,
            "order": null,
            "overflow": null,
            "overflow_x": null,
            "overflow_y": null,
            "padding": null,
            "right": null,
            "top": null,
            "visibility": null,
            "width": "auto"
          }
        },
        "eaf7a2c077574f61a2590d6d9c2bdc87": {
          "model_module": "@jupyter-widgets/controls",
          "model_name": "DescriptionStyleModel",
          "model_module_version": "1.5.0",
          "state": {
            "_model_module": "@jupyter-widgets/controls",
            "_model_module_version": "1.5.0",
            "_model_name": "DescriptionStyleModel",
            "_view_count": null,
            "_view_module": "@jupyter-widgets/base",
            "_view_module_version": "1.2.0",
            "_view_name": "StyleView",
            "description_width": "initial"
          }
        },
        "2fba10d04c7340d8a9d733e216a80d71": {
          "model_module": "@jupyter-widgets/controls",
          "model_name": "TextModel",
          "model_module_version": "1.5.0",
          "state": {
            "_dom_classes": [],
            "_model_module": "@jupyter-widgets/controls",
            "_model_module_version": "1.5.0",
            "_model_name": "TextModel",
            "_view_count": null,
            "_view_module": "@jupyter-widgets/controls",
            "_view_module_version": "1.5.0",
            "_view_name": "TextView",
            "continuous_update": true,
            "description": "13 диагноз",
            "description_tooltip": null,
            "disabled": false,
            "layout": "IPY_MODEL_b7d9ed1b312840e6b3b1d31ce952e798",
            "placeholder": "Type something",
            "style": "IPY_MODEL_bdd6f4b37aff4bd08cca9fcd0acf6fc9",
            "value": ""
          }
        },
        "b7d9ed1b312840e6b3b1d31ce952e798": {
          "model_module": "@jupyter-widgets/base",
          "model_name": "LayoutModel",
          "model_module_version": "1.2.0",
          "state": {
            "_model_module": "@jupyter-widgets/base",
            "_model_module_version": "1.2.0",
            "_model_name": "LayoutModel",
            "_view_count": null,
            "_view_module": "@jupyter-widgets/base",
            "_view_module_version": "1.2.0",
            "_view_name": "LayoutView",
            "align_content": null,
            "align_items": null,
            "align_self": null,
            "border": null,
            "bottom": null,
            "display": null,
            "flex": null,
            "flex_flow": null,
            "grid_area": null,
            "grid_auto_columns": null,
            "grid_auto_flow": null,
            "grid_auto_rows": null,
            "grid_column": null,
            "grid_gap": null,
            "grid_row": null,
            "grid_template_areas": null,
            "grid_template_columns": null,
            "grid_template_rows": null,
            "height": null,
            "justify_content": null,
            "justify_items": null,
            "left": null,
            "margin": null,
            "max_height": null,
            "max_width": null,
            "min_height": null,
            "min_width": null,
            "object_fit": null,
            "object_position": null,
            "order": null,
            "overflow": null,
            "overflow_x": null,
            "overflow_y": null,
            "padding": null,
            "right": null,
            "top": null,
            "visibility": null,
            "width": "auto"
          }
        },
        "bdd6f4b37aff4bd08cca9fcd0acf6fc9": {
          "model_module": "@jupyter-widgets/controls",
          "model_name": "DescriptionStyleModel",
          "model_module_version": "1.5.0",
          "state": {
            "_model_module": "@jupyter-widgets/controls",
            "_model_module_version": "1.5.0",
            "_model_name": "DescriptionStyleModel",
            "_view_count": null,
            "_view_module": "@jupyter-widgets/base",
            "_view_module_version": "1.2.0",
            "_view_name": "StyleView",
            "description_width": "initial"
          }
        },
        "d6bd07a702654574a3b8427cf71acb97": {
          "model_module": "@jupyter-widgets/controls",
          "model_name": "TextModel",
          "model_module_version": "1.5.0",
          "state": {
            "_dom_classes": [],
            "_model_module": "@jupyter-widgets/controls",
            "_model_module_version": "1.5.0",
            "_model_name": "TextModel",
            "_view_count": null,
            "_view_module": "@jupyter-widgets/controls",
            "_view_module_version": "1.5.0",
            "_view_name": "TextView",
            "continuous_update": true,
            "description": "14 исследуемый орган",
            "description_tooltip": null,
            "disabled": false,
            "layout": "IPY_MODEL_3063f6a6f2b844ee827672149bbdbe65",
            "placeholder": "Type something",
            "style": "IPY_MODEL_cdad8caf5ccd4e65a04776bb8cde6553",
            "value": ""
          }
        },
        "3063f6a6f2b844ee827672149bbdbe65": {
          "model_module": "@jupyter-widgets/base",
          "model_name": "LayoutModel",
          "model_module_version": "1.2.0",
          "state": {
            "_model_module": "@jupyter-widgets/base",
            "_model_module_version": "1.2.0",
            "_model_name": "LayoutModel",
            "_view_count": null,
            "_view_module": "@jupyter-widgets/base",
            "_view_module_version": "1.2.0",
            "_view_name": "LayoutView",
            "align_content": null,
            "align_items": null,
            "align_self": null,
            "border": null,
            "bottom": null,
            "display": null,
            "flex": null,
            "flex_flow": null,
            "grid_area": null,
            "grid_auto_columns": null,
            "grid_auto_flow": null,
            "grid_auto_rows": null,
            "grid_column": null,
            "grid_gap": null,
            "grid_row": null,
            "grid_template_areas": null,
            "grid_template_columns": null,
            "grid_template_rows": null,
            "height": null,
            "justify_content": null,
            "justify_items": null,
            "left": null,
            "margin": null,
            "max_height": null,
            "max_width": null,
            "min_height": null,
            "min_width": null,
            "object_fit": null,
            "object_position": null,
            "order": null,
            "overflow": null,
            "overflow_x": null,
            "overflow_y": null,
            "padding": null,
            "right": null,
            "top": null,
            "visibility": null,
            "width": "auto"
          }
        },
        "cdad8caf5ccd4e65a04776bb8cde6553": {
          "model_module": "@jupyter-widgets/controls",
          "model_name": "DescriptionStyleModel",
          "model_module_version": "1.5.0",
          "state": {
            "_model_module": "@jupyter-widgets/controls",
            "_model_module_version": "1.5.0",
            "_model_name": "DescriptionStyleModel",
            "_view_count": null,
            "_view_module": "@jupyter-widgets/base",
            "_view_module_version": "1.2.0",
            "_view_name": "StyleView",
            "description_width": "initial"
          }
        },
        "a6199d5643444570a5039d783841db2c": {
          "model_module": "@jupyter-widgets/controls",
          "model_name": "TextModel",
          "model_module_version": "1.5.0",
          "state": {
            "_dom_classes": [],
            "_model_module": "@jupyter-widgets/controls",
            "_model_module_version": "1.5.0",
            "_model_name": "TextModel",
            "_view_count": null,
            "_view_module": "@jupyter-widgets/controls",
            "_view_module_version": "1.5.0",
            "_view_name": "TextView",
            "continuous_update": true,
            "description": "15 обоснование и задача исследованияt",
            "description_tooltip": null,
            "disabled": false,
            "layout": "IPY_MODEL_56f535824d254b5c91c10e5f17cf2da7",
            "placeholder": "Type something",
            "style": "IPY_MODEL_b90dde4dc99f4eb6895aa93dab83d399",
            "value": ""
          }
        },
        "56f535824d254b5c91c10e5f17cf2da7": {
          "model_module": "@jupyter-widgets/base",
          "model_name": "LayoutModel",
          "model_module_version": "1.2.0",
          "state": {
            "_model_module": "@jupyter-widgets/base",
            "_model_module_version": "1.2.0",
            "_model_name": "LayoutModel",
            "_view_count": null,
            "_view_module": "@jupyter-widgets/base",
            "_view_module_version": "1.2.0",
            "_view_name": "LayoutView",
            "align_content": null,
            "align_items": null,
            "align_self": null,
            "border": null,
            "bottom": null,
            "display": null,
            "flex": null,
            "flex_flow": null,
            "grid_area": null,
            "grid_auto_columns": null,
            "grid_auto_flow": null,
            "grid_auto_rows": null,
            "grid_column": null,
            "grid_gap": null,
            "grid_row": null,
            "grid_template_areas": null,
            "grid_template_columns": null,
            "grid_template_rows": null,
            "height": null,
            "justify_content": null,
            "justify_items": null,
            "left": null,
            "margin": null,
            "max_height": null,
            "max_width": null,
            "min_height": null,
            "min_width": null,
            "object_fit": null,
            "object_position": null,
            "order": null,
            "overflow": null,
            "overflow_x": null,
            "overflow_y": null,
            "padding": null,
            "right": null,
            "top": null,
            "visibility": null,
            "width": "auto"
          }
        },
        "b90dde4dc99f4eb6895aa93dab83d399": {
          "model_module": "@jupyter-widgets/controls",
          "model_name": "DescriptionStyleModel",
          "model_module_version": "1.5.0",
          "state": {
            "_model_module": "@jupyter-widgets/controls",
            "_model_module_version": "1.5.0",
            "_model_name": "DescriptionStyleModel",
            "_view_count": null,
            "_view_module": "@jupyter-widgets/base",
            "_view_module_version": "1.2.0",
            "_view_name": "StyleView",
            "description_width": "initial"
          }
        },
        "0bfefae015154dfe85f6ba3403acac5c": {
          "model_module": "@jupyter-widgets/controls",
          "model_name": "TextModel",
          "model_module_version": "1.5.0",
          "state": {
            "_dom_classes": [],
            "_model_module": "@jupyter-widgets/controls",
            "_model_module_version": "1.5.0",
            "_model_name": "TextModel",
            "_view_count": null,
            "_view_module": "@jupyter-widgets/controls",
            "_view_module_version": "1.5.0",
            "_view_name": "TextView",
            "continuous_update": true,
            "description": "16 противопоказания для введения йодсодеражих веществ",
            "description_tooltip": null,
            "disabled": false,
            "layout": "IPY_MODEL_9d5c2b3d19924d66ab44430a2e1f37e5",
            "placeholder": "Type something",
            "style": "IPY_MODEL_fb675512f38b4583ac4af6ebcbc77428",
            "value": ""
          }
        },
        "9d5c2b3d19924d66ab44430a2e1f37e5": {
          "model_module": "@jupyter-widgets/base",
          "model_name": "LayoutModel",
          "model_module_version": "1.2.0",
          "state": {
            "_model_module": "@jupyter-widgets/base",
            "_model_module_version": "1.2.0",
            "_model_name": "LayoutModel",
            "_view_count": null,
            "_view_module": "@jupyter-widgets/base",
            "_view_module_version": "1.2.0",
            "_view_name": "LayoutView",
            "align_content": null,
            "align_items": null,
            "align_self": null,
            "border": null,
            "bottom": null,
            "display": null,
            "flex": null,
            "flex_flow": null,
            "grid_area": null,
            "grid_auto_columns": null,
            "grid_auto_flow": null,
            "grid_auto_rows": null,
            "grid_column": null,
            "grid_gap": null,
            "grid_row": null,
            "grid_template_areas": null,
            "grid_template_columns": null,
            "grid_template_rows": null,
            "height": null,
            "justify_content": null,
            "justify_items": null,
            "left": null,
            "margin": null,
            "max_height": null,
            "max_width": null,
            "min_height": null,
            "min_width": null,
            "object_fit": null,
            "object_position": null,
            "order": null,
            "overflow": null,
            "overflow_x": null,
            "overflow_y": null,
            "padding": null,
            "right": null,
            "top": null,
            "visibility": null,
            "width": "auto"
          }
        },
        "fb675512f38b4583ac4af6ebcbc77428": {
          "model_module": "@jupyter-widgets/controls",
          "model_name": "DescriptionStyleModel",
          "model_module_version": "1.5.0",
          "state": {
            "_model_module": "@jupyter-widgets/controls",
            "_model_module_version": "1.5.0",
            "_model_name": "DescriptionStyleModel",
            "_view_count": null,
            "_view_module": "@jupyter-widgets/base",
            "_view_module_version": "1.2.0",
            "_view_name": "StyleView",
            "description_width": "initial"
          }
        },
        "d4bb442f8bbd406291a976bf074b83b9": {
          "model_module": "@jupyter-widgets/controls",
          "model_name": "TextModel",
          "model_module_version": "1.5.0",
          "state": {
            "_dom_classes": [],
            "_model_module": "@jupyter-widgets/controls",
            "_model_module_version": "1.5.0",
            "_model_name": "TextModel",
            "_view_count": null,
            "_view_module": "@jupyter-widgets/controls",
            "_view_module_version": "1.5.0",
            "_view_name": "TextView",
            "continuous_update": true,
            "description": "17 аллергические реакции на введение йодсодержащих веществ",
            "description_tooltip": null,
            "disabled": false,
            "layout": "IPY_MODEL_6420ba75d5f04d73916da8379d4d5c1f",
            "placeholder": "Type something",
            "style": "IPY_MODEL_cc6a9219d7574abf8edb738421bc0709",
            "value": ""
          }
        },
        "6420ba75d5f04d73916da8379d4d5c1f": {
          "model_module": "@jupyter-widgets/base",
          "model_name": "LayoutModel",
          "model_module_version": "1.2.0",
          "state": {
            "_model_module": "@jupyter-widgets/base",
            "_model_module_version": "1.2.0",
            "_model_name": "LayoutModel",
            "_view_count": null,
            "_view_module": "@jupyter-widgets/base",
            "_view_module_version": "1.2.0",
            "_view_name": "LayoutView",
            "align_content": null,
            "align_items": null,
            "align_self": null,
            "border": null,
            "bottom": null,
            "display": null,
            "flex": null,
            "flex_flow": null,
            "grid_area": null,
            "grid_auto_columns": null,
            "grid_auto_flow": null,
            "grid_auto_rows": null,
            "grid_column": null,
            "grid_gap": null,
            "grid_row": null,
            "grid_template_areas": null,
            "grid_template_columns": null,
            "grid_template_rows": null,
            "height": null,
            "justify_content": null,
            "justify_items": null,
            "left": null,
            "margin": null,
            "max_height": null,
            "max_width": null,
            "min_height": null,
            "min_width": null,
            "object_fit": null,
            "object_position": null,
            "order": null,
            "overflow": null,
            "overflow_x": null,
            "overflow_y": null,
            "padding": null,
            "right": null,
            "top": null,
            "visibility": null,
            "width": "auto"
          }
        },
        "cc6a9219d7574abf8edb738421bc0709": {
          "model_module": "@jupyter-widgets/controls",
          "model_name": "DescriptionStyleModel",
          "model_module_version": "1.5.0",
          "state": {
            "_model_module": "@jupyter-widgets/controls",
            "_model_module_version": "1.5.0",
            "_model_name": "DescriptionStyleModel",
            "_view_count": null,
            "_view_module": "@jupyter-widgets/base",
            "_view_module_version": "1.2.0",
            "_view_name": "StyleView",
            "description_width": "initial"
          }
        },
        "629360db7954477bbb990f23e14fb25e": {
          "model_module": "@jupyter-widgets/controls",
          "model_name": "TextModel",
          "model_module_version": "1.5.0",
          "state": {
            "_dom_classes": [],
            "_model_module": "@jupyter-widgets/controls",
            "_model_module_version": "1.5.0",
            "_model_name": "TextModel",
            "_view_count": null,
            "_view_module": "@jupyter-widgets/controls",
            "_view_module_version": "1.5.0",
            "_view_name": "TextView",
            "continuous_update": true,
            "description": "18 врач направивший пациента",
            "description_tooltip": null,
            "disabled": false,
            "layout": "IPY_MODEL_39963f2fcc234934ae67444ce1a1d628",
            "placeholder": "Type something",
            "style": "IPY_MODEL_e392637336ca4ab8b0ba1a602668e98d",
            "value": ""
          }
        },
        "39963f2fcc234934ae67444ce1a1d628": {
          "model_module": "@jupyter-widgets/base",
          "model_name": "LayoutModel",
          "model_module_version": "1.2.0",
          "state": {
            "_model_module": "@jupyter-widgets/base",
            "_model_module_version": "1.2.0",
            "_model_name": "LayoutModel",
            "_view_count": null,
            "_view_module": "@jupyter-widgets/base",
            "_view_module_version": "1.2.0",
            "_view_name": "LayoutView",
            "align_content": null,
            "align_items": null,
            "align_self": null,
            "border": null,
            "bottom": null,
            "display": null,
            "flex": null,
            "flex_flow": null,
            "grid_area": null,
            "grid_auto_columns": null,
            "grid_auto_flow": null,
            "grid_auto_rows": null,
            "grid_column": null,
            "grid_gap": null,
            "grid_row": null,
            "grid_template_areas": null,
            "grid_template_columns": null,
            "grid_template_rows": null,
            "height": null,
            "justify_content": null,
            "justify_items": null,
            "left": null,
            "margin": null,
            "max_height": null,
            "max_width": null,
            "min_height": null,
            "min_width": null,
            "object_fit": null,
            "object_position": null,
            "order": null,
            "overflow": null,
            "overflow_x": null,
            "overflow_y": null,
            "padding": null,
            "right": null,
            "top": null,
            "visibility": null,
            "width": "auto"
          }
        },
        "e392637336ca4ab8b0ba1a602668e98d": {
          "model_module": "@jupyter-widgets/controls",
          "model_name": "DescriptionStyleModel",
          "model_module_version": "1.5.0",
          "state": {
            "_model_module": "@jupyter-widgets/controls",
            "_model_module_version": "1.5.0",
            "_model_name": "DescriptionStyleModel",
            "_view_count": null,
            "_view_module": "@jupyter-widgets/base",
            "_view_module_version": "1.2.0",
            "_view_name": "StyleView",
            "description_width": "initial"
          }
        },
        "6e38cdab301b45dd874220f5c72f9bb4": {
          "model_module": "@jupyter-widgets/controls",
          "model_name": "DatePickerModel",
          "model_module_version": "1.5.0",
          "state": {
            "_dom_classes": [],
            "_model_module": "@jupyter-widgets/controls",
            "_model_module_version": "1.5.0",
            "_model_name": "DatePickerModel",
            "_view_count": null,
            "_view_module": "@jupyter-widgets/controls",
            "_view_module_version": "1.5.0",
            "_view_name": "DatePickerView",
            "description": "19 дата выдачи направления",
            "description_tooltip": null,
            "disabled": false,
            "layout": "IPY_MODEL_e1477a89453e42718abb502978e3c9e1",
            "style": "IPY_MODEL_d82b0d3962374a4298474d125df47afa",
            "value": null
          }
        },
        "e1477a89453e42718abb502978e3c9e1": {
          "model_module": "@jupyter-widgets/base",
          "model_name": "LayoutModel",
          "model_module_version": "1.2.0",
          "state": {
            "_model_module": "@jupyter-widgets/base",
            "_model_module_version": "1.2.0",
            "_model_name": "LayoutModel",
            "_view_count": null,
            "_view_module": "@jupyter-widgets/base",
            "_view_module_version": "1.2.0",
            "_view_name": "LayoutView",
            "align_content": null,
            "align_items": null,
            "align_self": null,
            "border": null,
            "bottom": null,
            "display": null,
            "flex": null,
            "flex_flow": null,
            "grid_area": null,
            "grid_auto_columns": null,
            "grid_auto_flow": null,
            "grid_auto_rows": null,
            "grid_column": null,
            "grid_gap": null,
            "grid_row": null,
            "grid_template_areas": null,
            "grid_template_columns": null,
            "grid_template_rows": null,
            "height": null,
            "justify_content": null,
            "justify_items": null,
            "left": null,
            "margin": null,
            "max_height": null,
            "max_width": null,
            "min_height": null,
            "min_width": null,
            "object_fit": null,
            "object_position": null,
            "order": null,
            "overflow": null,
            "overflow_x": null,
            "overflow_y": null,
            "padding": null,
            "right": null,
            "top": null,
            "visibility": null,
            "width": null
          }
        },
        "d82b0d3962374a4298474d125df47afa": {
          "model_module": "@jupyter-widgets/controls",
          "model_name": "DescriptionStyleModel",
          "model_module_version": "1.5.0",
          "state": {
            "_model_module": "@jupyter-widgets/controls",
            "_model_module_version": "1.5.0",
            "_model_name": "DescriptionStyleModel",
            "_view_count": null,
            "_view_module": "@jupyter-widgets/base",
            "_view_module_version": "1.2.0",
            "_view_name": "StyleView",
            "description_width": "initial"
          }
        },
        "f412cbe8942b4e1b95702a03295d5c71": {
          "model_module": "@jupyter-widgets/controls",
          "model_name": "TextModel",
          "model_module_version": "1.5.0",
          "state": {
            "_dom_classes": [],
            "_model_module": "@jupyter-widgets/controls",
            "_model_module_version": "1.5.0",
            "_model_name": "TextModel",
            "_view_count": null,
            "_view_module": "@jupyter-widgets/controls",
            "_view_module_version": "1.5.0",
            "_view_name": "TextView",
            "continuous_update": true,
            "description": "",
            "description_tooltip": null,
            "disabled": false,
            "layout": "IPY_MODEL_9218904f7fc24edfa5d2f5c72419eee0",
            "placeholder": "Type something",
            "style": "IPY_MODEL_d9717c2cb8904f4387fe231262e44012",
            "value": ""
          }
        },
        "9218904f7fc24edfa5d2f5c72419eee0": {
          "model_module": "@jupyter-widgets/base",
          "model_name": "LayoutModel",
          "model_module_version": "1.2.0",
          "state": {
            "_model_module": "@jupyter-widgets/base",
            "_model_module_version": "1.2.0",
            "_model_name": "LayoutModel",
            "_view_count": null,
            "_view_module": "@jupyter-widgets/base",
            "_view_module_version": "1.2.0",
            "_view_name": "LayoutView",
            "align_content": null,
            "align_items": null,
            "align_self": null,
            "border": null,
            "bottom": null,
            "display": null,
            "flex": null,
            "flex_flow": null,
            "grid_area": null,
            "grid_auto_columns": null,
            "grid_auto_flow": null,
            "grid_auto_rows": null,
            "grid_column": null,
            "grid_gap": null,
            "grid_row": null,
            "grid_template_areas": null,
            "grid_template_columns": null,
            "grid_template_rows": null,
            "height": null,
            "justify_content": null,
            "justify_items": null,
            "left": null,
            "margin": null,
            "max_height": null,
            "max_width": null,
            "min_height": null,
            "min_width": null,
            "object_fit": null,
            "object_position": null,
            "order": null,
            "overflow": null,
            "overflow_x": null,
            "overflow_y": null,
            "padding": null,
            "right": null,
            "top": null,
            "visibility": null,
            "width": "auto"
          }
        },
        "d9717c2cb8904f4387fe231262e44012": {
          "model_module": "@jupyter-widgets/controls",
          "model_name": "DescriptionStyleModel",
          "model_module_version": "1.5.0",
          "state": {
            "_model_module": "@jupyter-widgets/controls",
            "_model_module_version": "1.5.0",
            "_model_name": "DescriptionStyleModel",
            "_view_count": null,
            "_view_module": "@jupyter-widgets/base",
            "_view_module_version": "1.2.0",
            "_view_name": "StyleView",
            "description_width": "initial"
          }
        },
        "336145d7f94943279c65b36c4277a810": {
          "model_module": "@jupyter-widgets/controls",
          "model_name": "ComboboxModel",
          "model_module_version": "1.5.0",
          "state": {
            "_dom_classes": [],
            "_model_module": "@jupyter-widgets/controls",
            "_model_module_version": "1.5.0",
            "_model_name": "ComboboxModel",
            "_view_count": null,
            "_view_module": "@jupyter-widgets/controls",
            "_view_module_version": "1.5.0",
            "_view_name": "ComboboxView",
            "continuous_update": true,
            "description": "Один член семьи?",
            "description_tooltip": null,
            "disabled": false,
            "ensure_option": true,
            "layout": "IPY_MODEL_3ea49e21fc2b4463a02dc9a902a04035",
            "options": [
              "Оля",
              "Петр"
            ],
            "placeholder": "​",
            "style": "IPY_MODEL_1eba0a7b6b724a0baf9cace845d48fd1",
            "value": ""
          }
        },
        "3ea49e21fc2b4463a02dc9a902a04035": {
          "model_module": "@jupyter-widgets/base",
          "model_name": "LayoutModel",
          "model_module_version": "1.2.0",
          "state": {
            "_model_module": "@jupyter-widgets/base",
            "_model_module_version": "1.2.0",
            "_model_name": "LayoutModel",
            "_view_count": null,
            "_view_module": "@jupyter-widgets/base",
            "_view_module_version": "1.2.0",
            "_view_name": "LayoutView",
            "align_content": null,
            "align_items": null,
            "align_self": null,
            "border": null,
            "bottom": null,
            "display": null,
            "flex": null,
            "flex_flow": null,
            "grid_area": null,
            "grid_auto_columns": null,
            "grid_auto_flow": null,
            "grid_auto_rows": null,
            "grid_column": null,
            "grid_gap": null,
            "grid_row": null,
            "grid_template_areas": null,
            "grid_template_columns": null,
            "grid_template_rows": null,
            "height": null,
            "justify_content": null,
            "justify_items": null,
            "left": null,
            "margin": null,
            "max_height": null,
            "max_width": null,
            "min_height": null,
            "min_width": null,
            "object_fit": null,
            "object_position": null,
            "order": null,
            "overflow": null,
            "overflow_x": null,
            "overflow_y": null,
            "padding": null,
            "right": null,
            "top": null,
            "visibility": null,
            "width": null
          }
        },
        "1eba0a7b6b724a0baf9cace845d48fd1": {
          "model_module": "@jupyter-widgets/controls",
          "model_name": "DescriptionStyleModel",
          "model_module_version": "1.5.0",
          "state": {
            "_model_module": "@jupyter-widgets/controls",
            "_model_module_version": "1.5.0",
            "_model_name": "DescriptionStyleModel",
            "_view_count": null,
            "_view_module": "@jupyter-widgets/base",
            "_view_module_version": "1.2.0",
            "_view_name": "StyleView",
            "description_width": ""
          }
        },
        "ffd29450b149410db9cb6c35d1c979eb": {
          "model_module": "@jupyter-widgets/controls",
          "model_name": "DropdownModel",
          "model_module_version": "1.5.0",
          "state": {
            "_dom_classes": [],
            "_model_module": "@jupyter-widgets/controls",
            "_model_module_version": "1.5.0",
            "_model_name": "DropdownModel",
            "_options_labels": [
              "One",
              "Two"
            ],
            "_view_count": null,
            "_view_module": "@jupyter-widgets/controls",
            "_view_module_version": "1.5.0",
            "_view_name": "DropdownView",
            "description": "Номер:",
            "description_tooltip": null,
            "disabled": false,
            "index": 1,
            "layout": "IPY_MODEL_16f2825eda814d27b6625385042218f4",
            "style": "IPY_MODEL_5aed39d32b0f4357996759554298d0d9"
          }
        },
        "16f2825eda814d27b6625385042218f4": {
          "model_module": "@jupyter-widgets/base",
          "model_name": "LayoutModel",
          "model_module_version": "1.2.0",
          "state": {
            "_model_module": "@jupyter-widgets/base",
            "_model_module_version": "1.2.0",
            "_model_name": "LayoutModel",
            "_view_count": null,
            "_view_module": "@jupyter-widgets/base",
            "_view_module_version": "1.2.0",
            "_view_name": "LayoutView",
            "align_content": null,
            "align_items": null,
            "align_self": null,
            "border": null,
            "bottom": null,
            "display": null,
            "flex": null,
            "flex_flow": null,
            "grid_area": null,
            "grid_auto_columns": null,
            "grid_auto_flow": null,
            "grid_auto_rows": null,
            "grid_column": null,
            "grid_gap": null,
            "grid_row": null,
            "grid_template_areas": null,
            "grid_template_columns": null,
            "grid_template_rows": null,
            "height": null,
            "justify_content": null,
            "justify_items": null,
            "left": null,
            "margin": null,
            "max_height": null,
            "max_width": null,
            "min_height": null,
            "min_width": null,
            "object_fit": null,
            "object_position": null,
            "order": null,
            "overflow": null,
            "overflow_x": null,
            "overflow_y": null,
            "padding": null,
            "right": null,
            "top": null,
            "visibility": null,
            "width": null
          }
        },
        "5aed39d32b0f4357996759554298d0d9": {
          "model_module": "@jupyter-widgets/controls",
          "model_name": "DescriptionStyleModel",
          "model_module_version": "1.5.0",
          "state": {
            "_model_module": "@jupyter-widgets/controls",
            "_model_module_version": "1.5.0",
            "_model_name": "DescriptionStyleModel",
            "_view_count": null,
            "_view_module": "@jupyter-widgets/base",
            "_view_module_version": "1.2.0",
            "_view_name": "StyleView",
            "description_width": ""
          }
        },
        "6235eefa1f874abfb5d7b74c187a36f6": {
          "model_module": "@jupyter-widgets/controls",
          "model_name": "ButtonModel",
          "model_module_version": "1.5.0",
          "state": {
            "_dom_classes": [],
            "_model_module": "@jupyter-widgets/controls",
            "_model_module_version": "1.5.0",
            "_model_name": "ButtonModel",
            "_view_count": null,
            "_view_module": "@jupyter-widgets/controls",
            "_view_module_version": "1.5.0",
            "_view_name": "ButtonView",
            "button_style": "success",
            "description": "Click Нажми!",
            "disabled": false,
            "icon": "",
            "layout": "IPY_MODEL_4819cc92d1d946b89d456fe10e031c98",
            "style": "IPY_MODEL_6b1d3dfefeac417fab2e1f19a06f0a7e",
            "tooltip": ""
          }
        },
        "4819cc92d1d946b89d456fe10e031c98": {
          "model_module": "@jupyter-widgets/base",
          "model_name": "LayoutModel",
          "model_module_version": "1.2.0",
          "state": {
            "_model_module": "@jupyter-widgets/base",
            "_model_module_version": "1.2.0",
            "_model_name": "LayoutModel",
            "_view_count": null,
            "_view_module": "@jupyter-widgets/base",
            "_view_module_version": "1.2.0",
            "_view_name": "LayoutView",
            "align_content": null,
            "align_items": null,
            "align_self": null,
            "border": null,
            "bottom": null,
            "display": null,
            "flex": null,
            "flex_flow": null,
            "grid_area": null,
            "grid_auto_columns": null,
            "grid_auto_flow": null,
            "grid_auto_rows": null,
            "grid_column": null,
            "grid_gap": null,
            "grid_row": null,
            "grid_template_areas": null,
            "grid_template_columns": null,
            "grid_template_rows": null,
            "height": null,
            "justify_content": null,
            "justify_items": null,
            "left": null,
            "margin": null,
            "max_height": null,
            "max_width": null,
            "min_height": null,
            "min_width": null,
            "object_fit": null,
            "object_position": null,
            "order": null,
            "overflow": null,
            "overflow_x": null,
            "overflow_y": null,
            "padding": null,
            "right": null,
            "top": null,
            "visibility": null,
            "width": null
          }
        },
        "6b1d3dfefeac417fab2e1f19a06f0a7e": {
          "model_module": "@jupyter-widgets/controls",
          "model_name": "ButtonStyleModel",
          "model_module_version": "1.5.0",
          "state": {
            "_model_module": "@jupyter-widgets/controls",
            "_model_module_version": "1.5.0",
            "_model_name": "ButtonStyleModel",
            "_view_count": null,
            "_view_module": "@jupyter-widgets/base",
            "_view_module_version": "1.2.0",
            "_view_name": "StyleView",
            "button_color": null,
            "font_weight": ""
          }
        }
      }
    }
  },
  "cells": [
    {
      "cell_type": "markdown",
      "metadata": {
        "id": "view-in-github",
        "colab_type": "text"
      },
      "source": [
        "<a href=\"https://colab.research.google.com/github/pteroz/python_learn/blob/main/experiments.ipynb\" target=\"_parent\"><img src=\"https://colab.research.google.com/assets/colab-badge.svg\" alt=\"Open In Colab\"/></a>"
      ]
    },
    {
      "cell_type": "markdown",
      "source": [
        "# Take photo from device probe"
      ],
      "metadata": {
        "id": "Kpo5Yr7rAMb3"
      }
    },
    {
      "cell_type": "code",
      "source": [
        "from IPython.display import display, Javascript\n",
        "from google.colab.output import eval_js\n",
        "from base64 import b64decode\n",
        "\n",
        "def take_photo(filename='photo.jpg', quality=0.8):\n",
        "  js = Javascript('''\n",
        "    async function takePhoto(quality) {\n",
        "      const div = document.createElement('div');\n",
        "      const capture = document.createElement('button');\n",
        "      capture.textContent = 'Capture';\n",
        "      div.appendChild(capture);\n",
        "\n",
        "      const video = document.createElement('video');\n",
        "      video.style.display = 'block';\n",
        "      const stream = await navigator.mediaDevices.getUserMedia({video: true});\n",
        "\n",
        "      document.body.appendChild(div);\n",
        "      div.appendChild(video);\n",
        "      video.srcObject = stream;\n",
        "      await video.play();\n",
        "\n",
        "      // Resize the output to fit the video element.\n",
        "      google.colab.output.setIframeHeight(document.documentElement.scrollHeight, true);\n",
        "\n",
        "      // Wait for Capture to be clicked.\n",
        "      await new Promise((resolve) => capture.onclick = resolve);\n",
        "\n",
        "      const canvas = document.createElement('canvas');\n",
        "      canvas.width = video.videoWidth;\n",
        "      canvas.height = video.videoHeight;\n",
        "      canvas.getContext('2d').drawImage(video, 0, 0);\n",
        "      stream.getVideoTracks()[0].stop();\n",
        "      div.remove();\n",
        "      return canvas.toDataURL('image/jpeg', quality);\n",
        "    }\n",
        "    ''')\n",
        "  display(js)\n",
        "  data = eval_js('takePhoto({})'.format(quality))\n",
        "  binary = b64decode(data.split(',')[1])\n",
        "  with open(filename, 'wb') as f:\n",
        "    f.write(binary)\n",
        "  return filename"
      ],
      "metadata": {
        "id": "QOwOzi6cUrwS"
      },
      "execution_count": null,
      "outputs": []
    },
    {
      "cell_type": "code",
      "source": [
        "from IPython.display import Image\n",
        "try:\n",
        "  filename = take_photo()\n",
        "  print('Saved to {}'.format(filename))\n",
        "  \n",
        "  # Show the image which was just taken.\n",
        "  display(Image(filename))\n",
        "except Exception as err:\n",
        "  # Errors will be thrown if the user does not have a webcam or if they do not\n",
        "  # grant the page permission to access it.\n",
        "  print(str(err))"
      ],
      "metadata": {
        "id": "mhFuIXuzUrwU",
        "colab": {
          "base_uri": "https://localhost:8080/",
          "height": 514
        },
        "outputId": "4d1861ef-cc34-410f-9e99-4a21c4565878"
      },
      "execution_count": null,
      "outputs": [
        {
          "output_type": "display_data",
          "data": {
            "text/plain": [
              "<IPython.core.display.Javascript object>"
            ],
            "application/javascript": [
              "\n",
              "    async function takePhoto(quality) {\n",
              "      const div = document.createElement('div');\n",
              "      const capture = document.createElement('button');\n",
              "      capture.textContent = 'Capture';\n",
              "      div.appendChild(capture);\n",
              "\n",
              "      const video = document.createElement('video');\n",
              "      video.style.display = 'block';\n",
              "      const stream = await navigator.mediaDevices.getUserMedia({video: true});\n",
              "\n",
              "      document.body.appendChild(div);\n",
              "      div.appendChild(video);\n",
              "      video.srcObject = stream;\n",
              "      await video.play();\n",
              "\n",
              "      // Resize the output to fit the video element.\n",
              "      google.colab.output.setIframeHeight(document.documentElement.scrollHeight, true);\n",
              "\n",
              "      // Wait for Capture to be clicked.\n",
              "      await new Promise((resolve) => capture.onclick = resolve);\n",
              "\n",
              "      const canvas = document.createElement('canvas');\n",
              "      canvas.width = video.videoWidth;\n",
              "      canvas.height = video.videoHeight;\n",
              "      canvas.getContext('2d').drawImage(video, 0, 0);\n",
              "      stream.getVideoTracks()[0].stop();\n",
              "      div.remove();\n",
              "      return canvas.toDataURL('image/jpeg', quality);\n",
              "    }\n",
              "    "
            ]
          },
          "metadata": {}
        },
        {
          "output_type": "stream",
          "name": "stdout",
          "text": [
            "Saved to photo.jpg\n"
          ]
        },
        {
          "output_type": "display_data",
          "data": {
            "image/jpeg": "[encoded data removed]",
            "text/plain": [
              "<IPython.core.display.Image object>"
            ]
          },
          "metadata": {}
        }
      ]
    },
    {
      "cell_type": "markdown",
      "source": [
        "# Example form fields"
      ],
      "metadata": {
        "id": "oSHGNOXV88BR"
      }
    },
    {
      "cell_type": "code",
      "source": [
        "#@title Example form fields\n",
        "#@markdown Forms support many types of fields.\n",
        "\n",
        "no_type_checking = ''  #@param\n",
        "string_type = 'example'  #@param {type: \"string\"}\n",
        "slider_value = 142  #@param {type: \"slider\", min: 100, max: 200}\n",
        "number = 102  #@param {type: \"number\"}\n",
        "date = '2010-11-05'  #@param {type: \"date\"}\n",
        "pick_me = \"monday\"  #@param ['monday', 'tuesday', 'wednesday', 'thursday']\n",
        "select_or_input = \"apples\" #@param [\"apples\", \"bananas\", \"oranges\"] {allow-input: true}\n",
        "#@markdown ---"
      ],
      "metadata": {
        "id": "ZCiag6o6VO7v"
      },
      "execution_count": null,
      "outputs": []
    },
    {
      "cell_type": "code",
      "source": [
        "#@title Проба с формами { vertical-output: true }\n",
        "#Попробуем соединиться с заметками\n",
        "\n",
        "\n",
        "b = [7, 8, 9]\n",
        "c = 'раз два три'.split()\n",
        "dropdown = \"2\" #@param [1, 2, 3]\n",
        "date = \"2022-08-25\" #@param { type: \"date\"}\n",
        "\n",
        "#@markdown ---\n",
        "\n",
        "#@markdown ![Alt text](https://aux.iconspalace.com/uploads/10511515931817530194.png)\n",
        "\n",
        "#@markdown **_Enter hello_**\n",
        "a = \"\\u043F\\u0440\\u0438\\u0432\\u0435\\u0442, hot\" #@param { type:\"string\" }\n",
        "#@markdown ---\n",
        "button = widgets.Button(description=\"Click!\")\n",
        "output = widgets.Output()\n",
        "\n",
        "def on_button_clicked(b):\n",
        "    with output:\n",
        "        print(dropdown, a)\n",
        "\n",
        "button.on_click(on_button_clicked)\n",
        "display(button, output)"
      ],
      "metadata": {
        "id": "EkEOdIm_8HE7",
        "colab": {
          "base_uri": "https://localhost:8080/",
          "height": 66,
          "referenced_widgets": [
            "dffb3a6075d44d609dc5c04e27e01a08",
            "79404a3a92cd444ab3ab0a3d7b1b729d",
            "b20fba7602a14bf68798c79bab42ff4e",
            "b5101f2978464278bdb85af9fc74f448",
            "c3f5166c3b70495f98c0024e323ed4b9"
          ]
        },
        "outputId": "2a36c917-371b-4756-c3e3-dbce99d1049c"
      },
      "execution_count": null,
      "outputs": [
        {
          "output_type": "display_data",
          "data": {
            "text/plain": [
              "Button(description='Click!', style=ButtonStyle())"
            ],
            "application/vnd.jupyter.widget-view+json": {
              "version_major": 2,
              "version_minor": 0,
              "model_id": "dffb3a6075d44d609dc5c04e27e01a08"
            }
          },
          "metadata": {}
        },
        {
          "output_type": "display_data",
          "data": {
            "text/plain": [
              "Output()"
            ],
            "application/vnd.jupyter.widget-view+json": {
              "version_major": 2,
              "version_minor": 0,
              "model_id": "b5101f2978464278bdb85af9fc74f448"
            }
          },
          "metadata": {}
        }
      ]
    },
    {
      "cell_type": "markdown",
      "source": [
        "# Widget probe"
      ],
      "metadata": {
        "id": "xgGOTa_ucduK"
      }
    },
    {
      "cell_type": "code",
      "source": [
        "import ipywidgets as widgets\n",
        "from IPython.display import display\n",
        "\n",
        "from google.colab import output\n",
        "output.enable_custom_widget_manager()"
      ],
      "metadata": {
        "id": "YeTzM5Y8W7mN"
      },
      "execution_count": null,
      "outputs": []
    },
    {
      "cell_type": "code",
      "source": [
        "button1 = widgets.Button(description=\"Click Нажми!\",\n",
        "                 button_style=\"success\")\n",
        "\n",
        "def on_button_clicked(b):\n",
        "    print(dropdown1.value)\n",
        "\n",
        "button1.on_click(on_button_clicked)\n",
        "\n",
        "dropdown1 = widgets.Dropdown(\n",
        "    options=[('One', 1), ('Two', 2)],\n",
        "    value=2,\n",
        "    description='Номер:',\n",
        ")\n",
        "\n",
        "combobox1 = widgets.Combobox(\n",
        "    #value='Петр',\n",
        "    options=['Оля', 'Петр'],\n",
        "    description='Один член семьи?',\n",
        "    ensure_option=True,\n",
        "    disabled=False,\n",
        ")\n",
        "\n",
        "\n",
        "display(combobox1)\n",
        "display(dropdown1)\n",
        "display(button1)"
      ],
      "metadata": {
        "colab": {
          "base_uri": "https://localhost:8080/",
          "height": 148,
          "referenced_widgets": [
            "336145d7f94943279c65b36c4277a810",
            "3ea49e21fc2b4463a02dc9a902a04035",
            "1eba0a7b6b724a0baf9cace845d48fd1",
            "ffd29450b149410db9cb6c35d1c979eb",
            "16f2825eda814d27b6625385042218f4",
            "5aed39d32b0f4357996759554298d0d9",
            "6235eefa1f874abfb5d7b74c187a36f6",
            "4819cc92d1d946b89d456fe10e031c98",
            "6b1d3dfefeac417fab2e1f19a06f0a7e"
          ]
        },
        "id": "c5G917FzUSY_",
        "outputId": "9dbdc5fd-98d3-4ea2-991c-9b331ad80c2b"
      },
      "execution_count": null,
      "outputs": [
        {
          "output_type": "display_data",
          "data": {
            "text/plain": [
              "Combobox(value='', description='Один член семьи?', ensure_option=True, options=('Оля', 'Петр'))"
            ],
            "application/vnd.jupyter.widget-view+json": {
              "version_major": 2,
              "version_minor": 0,
              "model_id": "336145d7f94943279c65b36c4277a810"
            }
          },
          "metadata": {
            "application/vnd.jupyter.widget-view+json": {
              "colab": {
                "custom_widget_manager": {
                  "url": "https://ssl.gstatic.com/colaboratory-static/widgets/colab-cdn-widget-manager/d2e234f7cc04bf79/manager.min.js"
                }
              }
            }
          }
        },
        {
          "output_type": "display_data",
          "data": {
            "text/plain": [
              "Dropdown(description='Номер:', index=1, options=(('One', 1), ('Two', 2)), value=2)"
            ],
            "application/vnd.jupyter.widget-view+json": {
              "version_major": 2,
              "version_minor": 0,
              "model_id": "ffd29450b149410db9cb6c35d1c979eb"
            }
          },
          "metadata": {
            "application/vnd.jupyter.widget-view+json": {
              "colab": {
                "custom_widget_manager": {
                  "url": "https://ssl.gstatic.com/colaboratory-static/widgets/colab-cdn-widget-manager/d2e234f7cc04bf79/manager.min.js"
                }
              }
            }
          }
        },
        {
          "output_type": "display_data",
          "data": {
            "text/plain": [
              "Button(button_style='success', description='Click Нажми!', style=ButtonStyle())"
            ],
            "application/vnd.jupyter.widget-view+json": {
              "version_major": 2,
              "version_minor": 0,
              "model_id": "6235eefa1f874abfb5d7b74c187a36f6"
            }
          },
          "metadata": {
            "application/vnd.jupyter.widget-view+json": {
              "colab": {
                "custom_widget_manager": {
                  "url": "https://ssl.gstatic.com/colaboratory-static/widgets/colab-cdn-widget-manager/d2e234f7cc04bf79/manager.min.js"
                }
              }
            }
          }
        },
        {
          "output_type": "stream",
          "name": "stdout",
          "text": [
            "2\n",
            "2\n"
          ]
        }
      ]
    },
    {
      "cell_type": "markdown",
      "source": [
        "# Проба с импортом библиотеки"
      ],
      "metadata": {
        "id": "dVjBnXoZGFql"
      }
    },
    {
      "cell_type": "code",
      "source": [
        "#@title Проба с импортом библиотеки\n",
        "\n",
        "import sys\n",
        "sys.path.append('/content/drive/MyDrive/p_t_it/prog')\n",
        "\n",
        "import mylib\n",
        "mylib.myFunction()"
      ],
      "metadata": {
        "id": "fORgHgVLJINY",
        "colab": {
          "base_uri": "https://localhost:8080/",
          "height": 35
        },
        "outputId": "d61fd318-7030-4945-9a09-67b2f9670584"
      },
      "execution_count": null,
      "outputs": [
        {
          "output_type": "execute_result",
          "data": {
            "text/plain": [
              "'Hello, i am here!'"
            ],
            "application/vnd.google.colaboratory.intrinsic+json": {
              "type": "string"
            }
          },
          "metadata": {},
          "execution_count": 5
        }
      ]
    },
    {
      "cell_type": "markdown",
      "source": [
        "# Section night shift"
      ],
      "metadata": {
        "id": "y40qF6skdU_y"
      }
    },
    {
      "cell_type": "code",
      "source": [
        "#@title Шаблон осмотра\n",
        "\n",
        "class Patient():\n",
        "    def __init__(self, **kwargs):\n",
        "        self.surname = kwargs['surname'],\n",
        "        self.name = kwargs['name'],\n",
        "        self.patronymic = kwargs['patronymic'],\n",
        "        self.date_of_birth = kwargs['date_of_birth']\n",
        "\n",
        "patient = Patient(\n",
        "    surname = \"ssfas\", #@param { type: \"string\" }\n",
        "    name = \"name\", #@param {type: \"string\"}\n",
        "    patronymic = \"patronymic\", #@param {type: \"string\"}\n",
        "    date_of_birth = \"2022-08-26\", #@param {type: \"date\"}\n",
        ")\n",
        "\n",
        "import ipywidgets as widgets\n",
        "from IPython.display import display\n",
        "\n",
        "button = widgets.Button()\n"
      ],
      "metadata": {
        "id": "Gn4AXbHseEWI"
      },
      "execution_count": null,
      "outputs": []
    },
    {
      "cell_type": "code",
      "source": [
        "dict_my = {'a': 'b',\n",
        "           \"c\": 1}\n",
        "dict_my['a']"
      ],
      "metadata": {
        "colab": {
          "base_uri": "https://localhost:8080/",
          "height": 35
        },
        "id": "WQnOet1NvIn3",
        "outputId": "78ab9754-acb4-4d88-eef0-af6eabbc6b3f"
      },
      "execution_count": null,
      "outputs": [
        {
          "output_type": "execute_result",
          "data": {
            "text/plain": [
              "'b'"
            ],
            "application/vnd.google.colaboratory.intrinsic+json": {
              "type": "string"
            }
          },
          "metadata": {},
          "execution_count": 2
        }
      ]
    },
    {
      "cell_type": "code",
      "source": [
        "p = Patient(a = 'b')\n",
        "p\n",
        "p.date_of_birth\n"
      ],
      "metadata": {
        "colab": {
          "base_uri": "https://localhost:8080/",
          "height": 321
        },
        "id": "7xqAvpU4hw6I",
        "outputId": "de2f9527-abd3-4306-fbb7-33fda6d24aad"
      },
      "execution_count": null,
      "outputs": [
        {
          "output_type": "error",
          "ename": "NameError",
          "evalue": "ignored",
          "traceback": [
            "\u001b[0;31m---------------------------------------------------------------------------\u001b[0m",
            "\u001b[0;31mNameError\u001b[0m                                 Traceback (most recent call last)",
            "\u001b[0;32m<ipython-input-10-1e4338a694cc>\u001b[0m in \u001b[0;36m<module>\u001b[0;34m\u001b[0m\n\u001b[0;32m----> 1\u001b[0;31m \u001b[0mp\u001b[0m \u001b[0;34m=\u001b[0m \u001b[0mPatient\u001b[0m\u001b[0;34m(\u001b[0m\u001b[0ma\u001b[0m \u001b[0;34m=\u001b[0m \u001b[0;34m'b'\u001b[0m\u001b[0;34m)\u001b[0m\u001b[0;34m\u001b[0m\u001b[0;34m\u001b[0m\u001b[0m\n\u001b[0m\u001b[1;32m      2\u001b[0m \u001b[0mp\u001b[0m\u001b[0;34m\u001b[0m\u001b[0;34m\u001b[0m\u001b[0m\n\u001b[1;32m      3\u001b[0m \u001b[0mp\u001b[0m\u001b[0;34m.\u001b[0m\u001b[0mdate_of_birth\u001b[0m\u001b[0;34m\u001b[0m\u001b[0;34m\u001b[0m\u001b[0m\n",
            "\u001b[0;32m<ipython-input-8-eabf9325008b>\u001b[0m in \u001b[0;36m__init__\u001b[0;34m(self, **kwargs)\u001b[0m\n\u001b[1;32m      3\u001b[0m \u001b[0;32mclass\u001b[0m \u001b[0mPatient\u001b[0m\u001b[0;34m(\u001b[0m\u001b[0;34m)\u001b[0m\u001b[0;34m:\u001b[0m\u001b[0;34m\u001b[0m\u001b[0;34m\u001b[0m\u001b[0m\n\u001b[1;32m      4\u001b[0m     \u001b[0;32mdef\u001b[0m \u001b[0m__init__\u001b[0m\u001b[0;34m(\u001b[0m\u001b[0mself\u001b[0m\u001b[0;34m,\u001b[0m \u001b[0;34m**\u001b[0m\u001b[0mkwargs\u001b[0m\u001b[0;34m)\u001b[0m\u001b[0;34m:\u001b[0m\u001b[0;34m\u001b[0m\u001b[0;34m\u001b[0m\u001b[0m\n\u001b[0;32m----> 5\u001b[0;31m         \u001b[0mself\u001b[0m\u001b[0;34m.\u001b[0m\u001b[0msurname\u001b[0m \u001b[0;34m=\u001b[0m \u001b[0mkwargs\u001b[0m\u001b[0;34m[\u001b[0m\u001b[0msurname\u001b[0m\u001b[0;34m]\u001b[0m\u001b[0;34m,\u001b[0m\u001b[0;34m\u001b[0m\u001b[0;34m\u001b[0m\u001b[0m\n\u001b[0m\u001b[1;32m      6\u001b[0m         \u001b[0mself\u001b[0m\u001b[0;34m.\u001b[0m\u001b[0mname\u001b[0m \u001b[0;34m=\u001b[0m \u001b[0mkwargs\u001b[0m\u001b[0;34m[\u001b[0m\u001b[0mname\u001b[0m\u001b[0;34m]\u001b[0m\u001b[0;34m,\u001b[0m\u001b[0;34m\u001b[0m\u001b[0;34m\u001b[0m\u001b[0m\n\u001b[1;32m      7\u001b[0m         \u001b[0mself\u001b[0m\u001b[0;34m.\u001b[0m\u001b[0mpatronymic\u001b[0m \u001b[0;34m=\u001b[0m \u001b[0mkwargs\u001b[0m\u001b[0;34m[\u001b[0m\u001b[0mpatronymic\u001b[0m\u001b[0;34m]\u001b[0m\u001b[0;34m,\u001b[0m\u001b[0;34m\u001b[0m\u001b[0;34m\u001b[0m\u001b[0m\n",
            "\u001b[0;31mNameError\u001b[0m: name 'surname' is not defined"
          ]
        }
      ]
    },
    {
      "cell_type": "markdown",
      "source": [
        "# Docx template"
      ],
      "metadata": {
        "id": "_XnX1ZnTHxjJ"
      }
    },
    {
      "cell_type": "code",
      "source": [
        "!pip install docxtpl"
      ],
      "metadata": {
        "colab": {
          "base_uri": "https://localhost:8080/"
        },
        "id": "l0LvnW7vH1YY",
        "outputId": "34755cfc-4d6d-4686-f502-a9aa1fb84897"
      },
      "execution_count": null,
      "outputs": [
        {
          "output_type": "stream",
          "name": "stdout",
          "text": [
            "Looking in indexes: https://pypi.org/simple, https://us-python.pkg.dev/colab-wheels/public/simple/\n",
            "Collecting docxtpl\n",
            "  Downloading docxtpl-0.16.4-py2.py3-none-any.whl (28 kB)\n",
            "Requirement already satisfied: jinja2 in /usr/local/lib/python3.7/dist-packages (from docxtpl) (2.11.3)\n",
            "Collecting python-docx\n",
            "  Downloading python-docx-0.8.11.tar.gz (5.6 MB)\n",
            "\u001b[K     |████████████████████████████████| 5.6 MB 6.3 MB/s \n",
            "\u001b[?25hCollecting docxcompose\n",
            "  Downloading docxcompose-1.3.5.tar.gz (19 kB)\n",
            "Requirement already satisfied: six in /usr/local/lib/python3.7/dist-packages (from docxtpl) (1.15.0)\n",
            "Requirement already satisfied: lxml in /usr/local/lib/python3.7/dist-packages (from docxtpl) (4.9.1)\n",
            "Requirement already satisfied: setuptools in /usr/local/lib/python3.7/dist-packages (from docxcompose->docxtpl) (57.4.0)\n",
            "Requirement already satisfied: MarkupSafe>=0.23 in /usr/local/lib/python3.7/dist-packages (from jinja2->docxtpl) (2.0.1)\n",
            "Building wheels for collected packages: docxcompose, python-docx\n",
            "  Building wheel for docxcompose (setup.py) ... \u001b[?25l\u001b[?25hdone\n",
            "  Created wheel for docxcompose: filename=docxcompose-1.3.5-py3-none-any.whl size=22162 sha256=a82db1b94fbb1a9093b483b95d49ca6d65a68b64ab4e7c719b0d0fc97a50c9f3\n",
            "  Stored in directory: /root/.cache/pip/wheels/c8/1e/26/2fb5a4e66d2e90f10f86e5b5821cb599b4ed8b168d07015553\n",
            "  Building wheel for python-docx (setup.py) ... \u001b[?25l\u001b[?25hdone\n",
            "  Created wheel for python-docx: filename=python_docx-0.8.11-py3-none-any.whl size=184507 sha256=3c832aa6419ec7951651226e91ed251dbb04e5e73042078a12ed293c21ccb339\n",
            "  Stored in directory: /root/.cache/pip/wheels/f6/6f/b9/d798122a8b55b74ad30b5f52b01482169b445fbb84a11797a6\n",
            "Successfully built docxcompose python-docx\n",
            "Installing collected packages: python-docx, docxcompose, docxtpl\n",
            "Successfully installed docxcompose-1.3.5 docxtpl-0.16.4 python-docx-0.8.11\n"
          ]
        }
      ]
    },
    {
      "cell_type": "code",
      "source": [
        "import docxtpl\n",
        "path_dir = \"/content/drive/MyDrive/p_t_it/prog/docx_tmpl/\"\n",
        "doc = docxtpl.DocxTemplate(path_dir + 'rkt_tmp.docx')\n",
        "doc.get_undeclared_template_variables()\n",
        "class RKT:\n",
        "    address = '' #@param {type: \"string\"}\n",
        "    allergic_reaction = '' #@param {type: \"string\"}\n",
        "    birth_date = '' #@param {type: \"date\"}\n",
        "    brief_history = '' #@param {type: \"string\"}\n",
        "    card_number = '' #@param {type: \"string\"}\n",
        "    clinical_status = '' #@param {type: \"string\"}\n",
        "    department = '' #@param {type: \"string\"}\n",
        "    diagnosis = '' #@param {type: \"string\"}\n",
        "    doctor_fio = '' #@param {type: \"string\"}\n",
        "    document_date = '2022-09-02' #@param {type: \"date\"}\n",
        "    fio = '' #@param {type: \"string\"}\n",
        "    hospital_name = '\\u0423\\u0417 \\u041C\\u043E\\u043B\\u043E\\u0434\\u0435\\u0447\\u043D\\u0435\\u043D\\u0441\\u043A\\u0430\\u044F \\u0426\\u0420\\u0411, \\u0411\\u043E\\u043B\\u044C\\u043D\\u0438\\u0446\\u0430 \\u21161' #@param ['УЗ Молодечненская ЦРБ, Больница №1'] {allow-input: true}\n",
        "    patient_complaints = '' #@param {type: \"string\"}\n",
        "    research_date = '' #@param {type: \"date\"}\n",
        "    research_target = '' #@param {type: \"string\"}\n",
        "    research_time = '' #@param {type: \"string\"}\n",
        "    weight = '' #@param {type: \"string\"}\n",
        "    yes_no = 'нет' #@param ['да', 'нет']"
      ],
      "metadata": {
        "id": "wGdIo9CcILSy"
      },
      "execution_count": null,
      "outputs": []
    },
    {
      "cell_type": "code",
      "source": [
        "!pip install docxtpl"
      ],
      "metadata": {
        "id": "1VKkKFsIepgT",
        "colab": {
          "base_uri": "https://localhost:8080/"
        },
        "outputId": "e582a5f3-b881-41cb-8fdf-27e67e239e15"
      },
      "execution_count": null,
      "outputs": [
        {
          "output_type": "stream",
          "name": "stdout",
          "text": [
            "Looking in indexes: https://pypi.org/simple, https://us-python.pkg.dev/colab-wheels/public/simple/\n",
            "Collecting docxtpl\n",
            "  Downloading docxtpl-0.16.4-py2.py3-none-any.whl (28 kB)\n",
            "Collecting docxcompose\n",
            "  Downloading docxcompose-1.3.5.tar.gz (19 kB)\n",
            "Requirement already satisfied: six in /usr/local/lib/python3.7/dist-packages (from docxtpl) (1.15.0)\n",
            "Requirement already satisfied: jinja2 in /usr/local/lib/python3.7/dist-packages (from docxtpl) (2.11.3)\n",
            "Requirement already satisfied: lxml in /usr/local/lib/python3.7/dist-packages (from docxtpl) (4.9.1)\n",
            "Collecting python-docx\n",
            "  Downloading python-docx-0.8.11.tar.gz (5.6 MB)\n",
            "\u001b[K     |████████████████████████████████| 5.6 MB 5.0 MB/s \n",
            "\u001b[?25hRequirement already satisfied: setuptools in /usr/local/lib/python3.7/dist-packages (from docxcompose->docxtpl) (57.4.0)\n",
            "Requirement already satisfied: MarkupSafe>=0.23 in /usr/local/lib/python3.7/dist-packages (from jinja2->docxtpl) (2.0.1)\n",
            "Building wheels for collected packages: docxcompose, python-docx\n",
            "  Building wheel for docxcompose (setup.py) ... \u001b[?25l\u001b[?25hdone\n",
            "  Created wheel for docxcompose: filename=docxcompose-1.3.5-py3-none-any.whl size=22162 sha256=2ac6e24f4fae07faea7879d4102fcd1490c7eec0103c88e4c3b93c95f67b4442\n",
            "  Stored in directory: /root/.cache/pip/wheels/c8/1e/26/2fb5a4e66d2e90f10f86e5b5821cb599b4ed8b168d07015553\n",
            "  Building wheel for python-docx (setup.py) ... \u001b[?25l\u001b[?25hdone\n",
            "  Created wheel for python-docx: filename=python_docx-0.8.11-py3-none-any.whl size=184507 sha256=66a6c0498d9cef6467c16547fb1ec1df924d544b3b9a7806c9780ec1ddf7d4ac\n",
            "  Stored in directory: /root/.cache/pip/wheels/f6/6f/b9/d798122a8b55b74ad30b5f52b01482169b445fbb84a11797a6\n",
            "Successfully built docxcompose python-docx\n",
            "Installing collected packages: python-docx, docxcompose, docxtpl\n",
            "Successfully installed docxcompose-1.3.5 docxtpl-0.16.4 python-docx-0.8.11\n"
          ]
        }
      ]
    },
    {
      "cell_type": "code",
      "source": [
        "from google.colab import drive\n",
        "drive.mount('/content/drive/',force_remount=True);\n",
        "import docxtpl\n",
        "path_dir = \"/content/drive/MyDrive/p_t_it/prog/docx_tmpl/\"\n",
        "doc = docxtpl.DocxTemplate(path_dir + 'rkt_tmp.docx')\n",
        "variables_from_doc = doc.get_undeclared_template_variables()\n",
        "variables_from_doc;"
      ],
      "metadata": {
        "id": "jz805hsvjIB6",
        "colab": {
          "base_uri": "https://localhost:8080/"
        },
        "outputId": "f3767ff2-b245-497e-95d4-274ec32cb1f9"
      },
      "execution_count": null,
      "outputs": [
        {
          "output_type": "stream",
          "name": "stdout",
          "text": [
            "Mounted at /content/drive/\n"
          ]
        }
      ]
    },
    {
      "cell_type": "code",
      "source": [
        "import glob\n",
        "import ipywidgets as widgets\n",
        "from IPython.display import display\n",
        "\n",
        "#files_dropdown = widgets.Dropdown(\n",
        "#    options=[i for i.split('/')[:-1] in docx_list]\n",
        "#)\n",
        "docx_list = glob.glob(path_dir + '*.docx')\n",
        "#[i.split('/')[-1].split('') for i in docx_list]"
      ],
      "metadata": {
        "id": "LrjWGC35BsPZ"
      },
      "execution_count": null,
      "outputs": []
    },
    {
      "cell_type": "code",
      "source": [
        "import ipywidgets as widgets\n",
        "from IPython.display import display, update_display\n",
        "\n",
        "import time\n",
        "\n",
        "from google.colab import output\n",
        "output.enable_custom_widget_manager()\n",
        "display_list = []\n",
        "variables_from_doc = list(variables_from_doc)\n",
        "variables_from_doc.sort()\n",
        "\n",
        "for item in variables_from_doc:\n",
        "    item = item.split('_')\n",
        "    item = ' '.join(item[1:]).capitalize()\n",
        "    if 'дата' in item:\n",
        "        widget_out = widgets.DatePicker(\n",
        "        description=item,\n",
        "        disabled=False,\n",
        "        style= {'description_width': 'initial'},        \n",
        "    )\n",
        "    else:\n",
        "        widget_out = widgets.Text(\n",
        "            value='',\n",
        "            placeholder='Type something',\n",
        "            description=item,\n",
        "            disabled=False,\n",
        "            style= {'description_width': 'initial'},\n",
        "            layout= {'width': 'auto'}\n",
        "    )\n",
        "    display(widget_out)\n"
      ],
      "metadata": {
        "colab": {
          "base_uri": "https://localhost:8080/",
          "height": 619,
          "referenced_widgets": [
            "d6ed2cf12bf44634a3ab685ba291746d",
            "acf7f6ba12a74c4ca4586ff1e6bcd507",
            "25de5fb9f5f543218f726fb44f97fd2d",
            "6123536a776c437db584ff5cfdcde319",
            "a80ce8a4c1b34d428e82e2f1e8242819",
            "c51ef97bf4944a819a1526663ec2dd6b",
            "8874b6e08da1433aa80ac34c6d3fa2ed",
            "4d68997f8cbf420289ae8abee8ee6476",
            "f7a49107f52741eca0e3c398ec5ec735",
            "1090ade6cf6045789cc77200796caa86",
            "8f7d78e38bf5425daa28129041960fe6",
            "cffbd17c493e47c38403f370bb4ff0d9",
            "995031cb49d046b6901afd9214efb386",
            "652d2747c332446b9dfdd5f85939671d",
            "0ec00fa1b98e4579b110778a0c2e7969",
            "2d779dd65db549f98eead3245e873210",
            "6c63e412e85b4329b71db127c74a2c6e",
            "3ecfbd15a71f46c89f3e2f91326c35cf",
            "338586ceeccd456f9d3d6eee92dd3982",
            "6a95db7c07f0439d8db715f4296ce6ed",
            "6715c0b7efb24e7da65f1635c4ccdad0",
            "89153e9f83a74512ba2e2126f93e535c",
            "97a654a9eeec4456b58f066b3c04b3fd",
            "a1a33baf6162462bb76c832b5289134a",
            "f366e5de440e4b5a8374af5dca3f42cd",
            "ac4568c54ed04a31bf6ad6204f147889",
            "ef97ffda0e9441afaafd20a44891bac1",
            "b6733add30b448389c64839099fc4db5",
            "dac0aab47be0471da53c5f565a014639",
            "91c56f04dd724a7fb95d06324062fc3c",
            "b549ca8d80b34b278ca40fd58e1d57d0",
            "4b56fedf09c746089e7ab3443617ef08",
            "302bde3feb4d4097b5ae127be34c50a5",
            "bf234d35ee27444faacb16609633681c",
            "df382765d571409881c0eb8887700d60",
            "eaf7a2c077574f61a2590d6d9c2bdc87",
            "2fba10d04c7340d8a9d733e216a80d71",
            "b7d9ed1b312840e6b3b1d31ce952e798",
            "bdd6f4b37aff4bd08cca9fcd0acf6fc9",
            "d6bd07a702654574a3b8427cf71acb97",
            "3063f6a6f2b844ee827672149bbdbe65",
            "cdad8caf5ccd4e65a04776bb8cde6553",
            "a6199d5643444570a5039d783841db2c",
            "56f535824d254b5c91c10e5f17cf2da7",
            "b90dde4dc99f4eb6895aa93dab83d399",
            "0bfefae015154dfe85f6ba3403acac5c",
            "9d5c2b3d19924d66ab44430a2e1f37e5",
            "fb675512f38b4583ac4af6ebcbc77428",
            "d4bb442f8bbd406291a976bf074b83b9",
            "6420ba75d5f04d73916da8379d4d5c1f",
            "cc6a9219d7574abf8edb738421bc0709",
            "629360db7954477bbb990f23e14fb25e",
            "39963f2fcc234934ae67444ce1a1d628",
            "e392637336ca4ab8b0ba1a602668e98d",
            "6e38cdab301b45dd874220f5c72f9bb4",
            "e1477a89453e42718abb502978e3c9e1",
            "d82b0d3962374a4298474d125df47afa",
            "f412cbe8942b4e1b95702a03295d5c71",
            "9218904f7fc24edfa5d2f5c72419eee0",
            "d9717c2cb8904f4387fe231262e44012"
          ]
        },
        "id": "D64OYeP-G7GL",
        "outputId": "3b815a15-a035-414a-bfd7-8f3c0431dc86"
      },
      "execution_count": null,
      "outputs": [
        {
          "output_type": "display_data",
          "data": {
            "text/plain": [
              "Text(value='', description='01 учреждение здравоохранения', layout=Layout(width='auto'), placeholder='Type som…"
            ],
            "application/vnd.jupyter.widget-view+json": {
              "version_major": 2,
              "version_minor": 0,
              "model_id": "d6ed2cf12bf44634a3ab685ba291746d"
            }
          },
          "metadata": {
            "application/vnd.jupyter.widget-view+json": {
              "colab": {
                "custom_widget_manager": {
                  "url": "https://ssl.gstatic.com/colaboratory-static/widgets/colab-cdn-widget-manager/d2e234f7cc04bf79/manager.min.js"
                }
              }
            }
          }
        },
        {
          "output_type": "display_data",
          "data": {
            "text/plain": [
              "DatePicker(value=None, description='02 дата исследования', style=DescriptionStyle(description_width='initial')…"
            ],
            "application/vnd.jupyter.widget-view+json": {
              "version_major": 2,
              "version_minor": 0,
              "model_id": "6123536a776c437db584ff5cfdcde319"
            }
          },
          "metadata": {
            "application/vnd.jupyter.widget-view+json": {
              "colab": {
                "custom_widget_manager": {
                  "url": "https://ssl.gstatic.com/colaboratory-static/widgets/colab-cdn-widget-manager/d2e234f7cc04bf79/manager.min.js"
                }
              }
            }
          }
        },
        {
          "output_type": "display_data",
          "data": {
            "text/plain": [
              "Text(value='', description='03 время исследования', layout=Layout(width='auto'), placeholder='Type something',…"
            ],
            "application/vnd.jupyter.widget-view+json": {
              "version_major": 2,
              "version_minor": 0,
              "model_id": "8874b6e08da1433aa80ac34c6d3fa2ed"
            }
          },
          "metadata": {
            "application/vnd.jupyter.widget-view+json": {
              "colab": {
                "custom_widget_manager": {
                  "url": "https://ssl.gstatic.com/colaboratory-static/widgets/colab-cdn-widget-manager/d2e234f7cc04bf79/manager.min.js"
                }
              }
            }
          }
        },
        {
          "output_type": "display_data",
          "data": {
            "text/plain": [
              "Text(value='', description='04 фамилия имя отчество пациента', layout=Layout(width='auto'), placeholder='Type …"
            ],
            "application/vnd.jupyter.widget-view+json": {
              "version_major": 2,
              "version_minor": 0,
              "model_id": "1090ade6cf6045789cc77200796caa86"
            }
          },
          "metadata": {
            "application/vnd.jupyter.widget-view+json": {
              "colab": {
                "custom_widget_manager": {
                  "url": "https://ssl.gstatic.com/colaboratory-static/widgets/colab-cdn-widget-manager/d2e234f7cc04bf79/manager.min.js"
                }
              }
            }
          }
        },
        {
          "output_type": "display_data",
          "data": {
            "text/plain": [
              "DatePicker(value=None, description='05 дата рождения пациента', style=DescriptionStyle(description_width='init…"
            ],
            "application/vnd.jupyter.widget-view+json": {
              "version_major": 2,
              "version_minor": 0,
              "model_id": "995031cb49d046b6901afd9214efb386"
            }
          },
          "metadata": {
            "application/vnd.jupyter.widget-view+json": {
              "colab": {
                "custom_widget_manager": {
                  "url": "https://ssl.gstatic.com/colaboratory-static/widgets/colab-cdn-widget-manager/d2e234f7cc04bf79/manager.min.js"
                }
              }
            }
          }
        },
        {
          "output_type": "display_data",
          "data": {
            "text/plain": [
              "Text(value='', description='06 адрес пациента', layout=Layout(width='auto'), placeholder='Type something', sty…"
            ],
            "application/vnd.jupyter.widget-view+json": {
              "version_major": 2,
              "version_minor": 0,
              "model_id": "2d779dd65db549f98eead3245e873210"
            }
          },
          "metadata": {
            "application/vnd.jupyter.widget-view+json": {
              "colab": {
                "custom_widget_manager": {
                  "url": "https://ssl.gstatic.com/colaboratory-static/widgets/colab-cdn-widget-manager/d2e234f7cc04bf79/manager.min.js"
                }
              }
            }
          }
        },
        {
          "output_type": "display_data",
          "data": {
            "text/plain": [
              "Text(value='', description='07 вес пациента', layout=Layout(width='auto'), placeholder='Type something', style…"
            ],
            "application/vnd.jupyter.widget-view+json": {
              "version_major": 2,
              "version_minor": 0,
              "model_id": "338586ceeccd456f9d3d6eee92dd3982"
            }
          },
          "metadata": {
            "application/vnd.jupyter.widget-view+json": {
              "colab": {
                "custom_widget_manager": {
                  "url": "https://ssl.gstatic.com/colaboratory-static/widgets/colab-cdn-widget-manager/d2e234f7cc04bf79/manager.min.js"
                }
              }
            }
          }
        },
        {
          "output_type": "display_data",
          "data": {
            "text/plain": [
              "Text(value='', description='08 отделение учреждения здравоохранения', layout=Layout(width='auto'), placeholder…"
            ],
            "application/vnd.jupyter.widget-view+json": {
              "version_major": 2,
              "version_minor": 0,
              "model_id": "89153e9f83a74512ba2e2126f93e535c"
            }
          },
          "metadata": {
            "application/vnd.jupyter.widget-view+json": {
              "colab": {
                "custom_widget_manager": {
                  "url": "https://ssl.gstatic.com/colaboratory-static/widgets/colab-cdn-widget-manager/d2e234f7cc04bf79/manager.min.js"
                }
              }
            }
          }
        },
        {
          "output_type": "display_data",
          "data": {
            "text/plain": [
              "Text(value='', description='09 номер мед', layout=Layout(width='auto'), placeholder='Type something', style=De…"
            ],
            "application/vnd.jupyter.widget-view+json": {
              "version_major": 2,
              "version_minor": 0,
              "model_id": "f366e5de440e4b5a8374af5dca3f42cd"
            }
          },
          "metadata": {
            "application/vnd.jupyter.widget-view+json": {
              "colab": {
                "custom_widget_manager": {
                  "url": "https://ssl.gstatic.com/colaboratory-static/widgets/colab-cdn-widget-manager/d2e234f7cc04bf79/manager.min.js"
                }
              }
            }
          }
        },
        {
          "output_type": "display_data",
          "data": {
            "text/plain": [
              "Text(value='', description='10 жалобы пациента', layout=Layout(width='auto'), placeholder='Type something', st…"
            ],
            "application/vnd.jupyter.widget-view+json": {
              "version_major": 2,
              "version_minor": 0,
              "model_id": "b6733add30b448389c64839099fc4db5"
            }
          },
          "metadata": {
            "application/vnd.jupyter.widget-view+json": {
              "colab": {
                "custom_widget_manager": {
                  "url": "https://ssl.gstatic.com/colaboratory-static/widgets/colab-cdn-widget-manager/d2e234f7cc04bf79/manager.min.js"
                }
              }
            }
          }
        },
        {
          "output_type": "display_data",
          "data": {
            "text/plain": [
              "Text(value='', description='11 краткий анамнез', layout=Layout(width='auto'), placeholder='Type something', st…"
            ],
            "application/vnd.jupyter.widget-view+json": {
              "version_major": 2,
              "version_minor": 0,
              "model_id": "b549ca8d80b34b278ca40fd58e1d57d0"
            }
          },
          "metadata": {
            "application/vnd.jupyter.widget-view+json": {
              "colab": {
                "custom_widget_manager": {
                  "url": "https://ssl.gstatic.com/colaboratory-static/widgets/colab-cdn-widget-manager/d2e234f7cc04bf79/manager.min.js"
                }
              }
            }
          }
        },
        {
          "output_type": "display_data",
          "data": {
            "text/plain": [
              "Text(value='', description='12 клинический статус', layout=Layout(width='auto'), placeholder='Type something',…"
            ],
            "application/vnd.jupyter.widget-view+json": {
              "version_major": 2,
              "version_minor": 0,
              "model_id": "bf234d35ee27444faacb16609633681c"
            }
          },
          "metadata": {
            "application/vnd.jupyter.widget-view+json": {
              "colab": {
                "custom_widget_manager": {
                  "url": "https://ssl.gstatic.com/colaboratory-static/widgets/colab-cdn-widget-manager/d2e234f7cc04bf79/manager.min.js"
                }
              }
            }
          }
        },
        {
          "output_type": "display_data",
          "data": {
            "text/plain": [
              "Text(value='', description='13 диагноз', layout=Layout(width='auto'), placeholder='Type something', style=Desc…"
            ],
            "application/vnd.jupyter.widget-view+json": {
              "version_major": 2,
              "version_minor": 0,
              "model_id": "2fba10d04c7340d8a9d733e216a80d71"
            }
          },
          "metadata": {
            "application/vnd.jupyter.widget-view+json": {
              "colab": {
                "custom_widget_manager": {
                  "url": "https://ssl.gstatic.com/colaboratory-static/widgets/colab-cdn-widget-manager/d2e234f7cc04bf79/manager.min.js"
                }
              }
            }
          }
        },
        {
          "output_type": "display_data",
          "data": {
            "text/plain": [
              "Text(value='', description='14 исследуемый орган', layout=Layout(width='auto'), placeholder='Type something', …"
            ],
            "application/vnd.jupyter.widget-view+json": {
              "version_major": 2,
              "version_minor": 0,
              "model_id": "d6bd07a702654574a3b8427cf71acb97"
            }
          },
          "metadata": {
            "application/vnd.jupyter.widget-view+json": {
              "colab": {
                "custom_widget_manager": {
                  "url": "https://ssl.gstatic.com/colaboratory-static/widgets/colab-cdn-widget-manager/d2e234f7cc04bf79/manager.min.js"
                }
              }
            }
          }
        },
        {
          "output_type": "display_data",
          "data": {
            "text/plain": [
              "Text(value='', description='15 обоснование и задача исследованияt', layout=Layout(width='auto'), placeholder='…"
            ],
            "application/vnd.jupyter.widget-view+json": {
              "version_major": 2,
              "version_minor": 0,
              "model_id": "a6199d5643444570a5039d783841db2c"
            }
          },
          "metadata": {
            "application/vnd.jupyter.widget-view+json": {
              "colab": {
                "custom_widget_manager": {
                  "url": "https://ssl.gstatic.com/colaboratory-static/widgets/colab-cdn-widget-manager/d2e234f7cc04bf79/manager.min.js"
                }
              }
            }
          }
        },
        {
          "output_type": "display_data",
          "data": {
            "text/plain": [
              "Text(value='', description='16 противопоказания для введения йодсодеражих веществ', layout=Layout(width='auto'…"
            ],
            "application/vnd.jupyter.widget-view+json": {
              "version_major": 2,
              "version_minor": 0,
              "model_id": "0bfefae015154dfe85f6ba3403acac5c"
            }
          },
          "metadata": {
            "application/vnd.jupyter.widget-view+json": {
              "colab": {
                "custom_widget_manager": {
                  "url": "https://ssl.gstatic.com/colaboratory-static/widgets/colab-cdn-widget-manager/d2e234f7cc04bf79/manager.min.js"
                }
              }
            }
          }
        },
        {
          "output_type": "display_data",
          "data": {
            "text/plain": [
              "Text(value='', description='17 аллергические реакции на введение йодсодержащих веществ', layout=Layout(width='…"
            ],
            "application/vnd.jupyter.widget-view+json": {
              "version_major": 2,
              "version_minor": 0,
              "model_id": "d4bb442f8bbd406291a976bf074b83b9"
            }
          },
          "metadata": {
            "application/vnd.jupyter.widget-view+json": {
              "colab": {
                "custom_widget_manager": {
                  "url": "https://ssl.gstatic.com/colaboratory-static/widgets/colab-cdn-widget-manager/d2e234f7cc04bf79/manager.min.js"
                }
              }
            }
          }
        },
        {
          "output_type": "display_data",
          "data": {
            "text/plain": [
              "Text(value='', description='18 врач направивший пациента', layout=Layout(width='auto'), placeholder='Type some…"
            ],
            "application/vnd.jupyter.widget-view+json": {
              "version_major": 2,
              "version_minor": 0,
              "model_id": "629360db7954477bbb990f23e14fb25e"
            }
          },
          "metadata": {
            "application/vnd.jupyter.widget-view+json": {
              "colab": {
                "custom_widget_manager": {
                  "url": "https://ssl.gstatic.com/colaboratory-static/widgets/colab-cdn-widget-manager/d2e234f7cc04bf79/manager.min.js"
                }
              }
            }
          }
        },
        {
          "output_type": "display_data",
          "data": {
            "text/plain": [
              "DatePicker(value=None, description='19 дата выдачи направления', style=DescriptionStyle(description_width='ini…"
            ],
            "application/vnd.jupyter.widget-view+json": {
              "version_major": 2,
              "version_minor": 0,
              "model_id": "6e38cdab301b45dd874220f5c72f9bb4"
            }
          },
          "metadata": {
            "application/vnd.jupyter.widget-view+json": {
              "colab": {
                "custom_widget_manager": {
                  "url": "https://ssl.gstatic.com/colaboratory-static/widgets/colab-cdn-widget-manager/d2e234f7cc04bf79/manager.min.js"
                }
              }
            }
          }
        },
        {
          "output_type": "display_data",
          "data": {
            "text/plain": [
              "Text(value='', layout=Layout(width='auto'), placeholder='Type something', style=DescriptionStyle(description_w…"
            ],
            "application/vnd.jupyter.widget-view+json": {
              "version_major": 2,
              "version_minor": 0,
              "model_id": "f412cbe8942b4e1b95702a03295d5c71"
            }
          },
          "metadata": {
            "application/vnd.jupyter.widget-view+json": {
              "colab": {
                "custom_widget_manager": {
                  "url": "https://ssl.gstatic.com/colaboratory-static/widgets/colab-cdn-widget-manager/d2e234f7cc04bf79/manager.min.js"
                }
              }
            }
          }
        }
      ]
    },
    {
      "cell_type": "markdown",
      "source": [
        "# Numpy Probe"
      ],
      "metadata": {
        "id": "U3LrKLb21tm7"
      }
    },
    {
      "cell_type": "code",
      "source": [
        "#your code\n",
        "import numpy as np\n",
        "n = input()\n",
        "n = n.split(', ')\n",
        "m = [float(i) for i in n]\n",
        "print(m)\n",
        "V1 = np.array(m)\n",
        "V2 = np.array(V1[-2])\n",
        "V3 = np.array(V1[::-1])\n",
        "V4 = np.array(V1[0::3])\n",
        "V5 = np.array([i for i in range(len(m))])"
      ],
      "metadata": {
        "colab": {
          "base_uri": "https://localhost:8080/",
          "height": 380
        },
        "id": "RKrXMrnJ1wv2",
        "outputId": "cbebfe66-749f-4d13-e7a3-44ed5daf095b"
      },
      "execution_count": null,
      "outputs": [
        {
          "output_type": "error",
          "ename": "KeyboardInterrupt",
          "evalue": "ignored",
          "traceback": [
            "\u001b[0;31m---------------------------------------------------------------------------\u001b[0m",
            "\u001b[0;31mKeyboardInterrupt\u001b[0m                         Traceback (most recent call last)",
            "\u001b[0;32m<ipython-input-47-ad83f8b4f6be>\u001b[0m in \u001b[0;36m<module>\u001b[0;34m\u001b[0m\n\u001b[1;32m      1\u001b[0m \u001b[0;31m#your code\u001b[0m\u001b[0;34m\u001b[0m\u001b[0;34m\u001b[0m\u001b[0;34m\u001b[0m\u001b[0m\n\u001b[1;32m      2\u001b[0m \u001b[0;32mimport\u001b[0m \u001b[0mnumpy\u001b[0m \u001b[0;32mas\u001b[0m \u001b[0mnp\u001b[0m\u001b[0;34m\u001b[0m\u001b[0;34m\u001b[0m\u001b[0m\n\u001b[0;32m----> 3\u001b[0;31m \u001b[0mn\u001b[0m \u001b[0;34m=\u001b[0m \u001b[0minput\u001b[0m\u001b[0;34m(\u001b[0m\u001b[0;34m)\u001b[0m\u001b[0;34m\u001b[0m\u001b[0;34m\u001b[0m\u001b[0m\n\u001b[0m\u001b[1;32m      4\u001b[0m \u001b[0mn\u001b[0m \u001b[0;34m=\u001b[0m \u001b[0mn\u001b[0m\u001b[0;34m.\u001b[0m\u001b[0msplit\u001b[0m\u001b[0;34m(\u001b[0m\u001b[0;34m', '\u001b[0m\u001b[0;34m)\u001b[0m\u001b[0;34m\u001b[0m\u001b[0;34m\u001b[0m\u001b[0m\n\u001b[1;32m      5\u001b[0m \u001b[0mm\u001b[0m \u001b[0;34m=\u001b[0m \u001b[0;34m[\u001b[0m\u001b[0mfloat\u001b[0m\u001b[0;34m(\u001b[0m\u001b[0mi\u001b[0m\u001b[0;34m)\u001b[0m \u001b[0;32mfor\u001b[0m \u001b[0mi\u001b[0m \u001b[0;32min\u001b[0m \u001b[0mn\u001b[0m\u001b[0;34m]\u001b[0m\u001b[0;34m\u001b[0m\u001b[0;34m\u001b[0m\u001b[0m\n",
            "\u001b[0;32m/usr/local/lib/python3.7/dist-packages/ipykernel/kernelbase.py\u001b[0m in \u001b[0;36mraw_input\u001b[0;34m(self, prompt)\u001b[0m\n\u001b[1;32m    861\u001b[0m             \u001b[0mself\u001b[0m\u001b[0;34m.\u001b[0m\u001b[0m_parent_ident\u001b[0m\u001b[0;34m,\u001b[0m\u001b[0;34m\u001b[0m\u001b[0;34m\u001b[0m\u001b[0m\n\u001b[1;32m    862\u001b[0m             \u001b[0mself\u001b[0m\u001b[0;34m.\u001b[0m\u001b[0m_parent_header\u001b[0m\u001b[0;34m,\u001b[0m\u001b[0;34m\u001b[0m\u001b[0;34m\u001b[0m\u001b[0m\n\u001b[0;32m--> 863\u001b[0;31m             \u001b[0mpassword\u001b[0m\u001b[0;34m=\u001b[0m\u001b[0;32mFalse\u001b[0m\u001b[0;34m,\u001b[0m\u001b[0;34m\u001b[0m\u001b[0;34m\u001b[0m\u001b[0m\n\u001b[0m\u001b[1;32m    864\u001b[0m         )\n\u001b[1;32m    865\u001b[0m \u001b[0;34m\u001b[0m\u001b[0m\n",
            "\u001b[0;32m/usr/local/lib/python3.7/dist-packages/ipykernel/kernelbase.py\u001b[0m in \u001b[0;36m_input_request\u001b[0;34m(self, prompt, ident, parent, password)\u001b[0m\n\u001b[1;32m    902\u001b[0m             \u001b[0;32mexcept\u001b[0m \u001b[0mKeyboardInterrupt\u001b[0m\u001b[0;34m:\u001b[0m\u001b[0;34m\u001b[0m\u001b[0;34m\u001b[0m\u001b[0m\n\u001b[1;32m    903\u001b[0m                 \u001b[0;31m# re-raise KeyboardInterrupt, to truncate traceback\u001b[0m\u001b[0;34m\u001b[0m\u001b[0;34m\u001b[0m\u001b[0;34m\u001b[0m\u001b[0m\n\u001b[0;32m--> 904\u001b[0;31m                 \u001b[0;32mraise\u001b[0m \u001b[0mKeyboardInterrupt\u001b[0m\u001b[0;34m(\u001b[0m\u001b[0;34m\"Interrupted by user\"\u001b[0m\u001b[0;34m)\u001b[0m \u001b[0;32mfrom\u001b[0m \u001b[0;32mNone\u001b[0m\u001b[0;34m\u001b[0m\u001b[0;34m\u001b[0m\u001b[0m\n\u001b[0m\u001b[1;32m    905\u001b[0m             \u001b[0;32mexcept\u001b[0m \u001b[0mException\u001b[0m \u001b[0;32mas\u001b[0m \u001b[0me\u001b[0m\u001b[0;34m:\u001b[0m\u001b[0;34m\u001b[0m\u001b[0;34m\u001b[0m\u001b[0m\n\u001b[1;32m    906\u001b[0m                 \u001b[0mself\u001b[0m\u001b[0;34m.\u001b[0m\u001b[0mlog\u001b[0m\u001b[0;34m.\u001b[0m\u001b[0mwarning\u001b[0m\u001b[0;34m(\u001b[0m\u001b[0;34m\"Invalid Message:\"\u001b[0m\u001b[0;34m,\u001b[0m \u001b[0mexc_info\u001b[0m\u001b[0;34m=\u001b[0m\u001b[0;32mTrue\u001b[0m\u001b[0;34m)\u001b[0m\u001b[0;34m\u001b[0m\u001b[0;34m\u001b[0m\u001b[0m\n",
            "\u001b[0;31mKeyboardInterrupt\u001b[0m: Interrupted by user"
          ]
        }
      ]
    },
    {
      "cell_type": "code",
      "source": [
        "V1 = np.array((1, 2, 3, 4, 5))\n",
        "V2 = np.array((5, 4, 3, 2, 1))"
      ],
      "metadata": {
        "id": "fkWk4Djb2UFl"
      },
      "execution_count": null,
      "outputs": []
    },
    {
      "cell_type": "code",
      "source": [
        "V1 * V2"
      ],
      "metadata": {
        "id": "GCp4H2GrgH5p"
      },
      "execution_count": null,
      "outputs": []
    },
    {
      "cell_type": "code",
      "source": [
        "print(V1 == V2)\n",
        "print(V1)\n",
        "print(V2)\n",
        "print(V2 & V1)"
      ],
      "metadata": {
        "id": "X4zCx53MgN_a"
      },
      "execution_count": null,
      "outputs": []
    },
    {
      "cell_type": "markdown",
      "source": [
        "## Векторы из данных\n",
        "\n",
        "На вход подаётся 2 списка целых чисел (они представляют из себя вектора равной длины, т.е. с одинаковым количеством элементов).\n",
        "\n",
        "Используя векторные операции создайте и сохраните:\n",
        "\n",
        "в переменную V1 Numpy вектор с числами из 1 строки\n",
        "\n",
        "в переменную V2 Numpy вектор с числами из 2 строки\n",
        "\n",
        "в переменную V3 Numpy вектор с покоординатными суммами V1 и V2\n",
        "\n",
        "в переменную V4 Numpy вектор с покоординатными произведениями каждого второго числа V1 на каждое второе число V2, развёрнутого в обратном порядке\n",
        "\n",
        "Примечание. В этой задаче не нужно ничего выводить на печать. Только создать вектора.\n",
        "\n",
        "Sample Input 1:\n",
        "\n",
        "1, 2, 3, 4\n",
        "10, 20, 30, 40"
      ],
      "metadata": {
        "id": "P_Ex-prllCA5"
      }
    },
    {
      "cell_type": "code",
      "source": [
        "import numpy as np\n",
        "a = np.array([int(i) for i in input().split(', ')])\n",
        "b = np.array([int(i) for i in input().split(', ')])\n",
        "V1 = a\n",
        "V2 = b\n",
        "V3 = V1 + V2\n",
        "V4 = V1[::2] * V2[::-1][::2]\n",
        "print(V1, V2, V3, V4)"
      ],
      "metadata": {
        "id": "Mp_dkqb5k-yR"
      },
      "execution_count": null,
      "outputs": []
    },
    {
      "cell_type": "code",
      "source": [
        "V = np.array((1, -2, 3, -4, 5))\n",
        "print(V)\n",
        "a = V[V % 2 == 0]\n",
        "print(a)"
      ],
      "metadata": {
        "id": "8A1cV3d3nOJ-"
      },
      "execution_count": null,
      "outputs": []
    },
    {
      "cell_type": "markdown",
      "source": [
        "## Вектор по условию\n",
        "\n",
        "На вход подаётся 2 набора целых чисел.\n",
        "\n",
        "Создайте вектор V такой, что он будет содержать числа из 1 набора, делящиеся нацело на предпоследнее число из 2 набора и разделённые на это число.\n",
        "\n",
        "Если таких чисел не найдётся, то вектор V будет пустым (т.е. не будет содержать элементов).\n",
        "\n",
        " "
      ],
      "metadata": {
        "id": "kIgzzSYcoWor"
      }
    },
    {
      "cell_type": "code",
      "source": [
        "import numpy as np\n",
        "a = np.array([int(i) for i in input().split(', ')])\n",
        "b = np.array([int(i) for i in input().split(', ')])\n",
        "V = a[a % b[-2] == 0] / b[-2]"
      ],
      "metadata": {
        "id": "fFA3budLoVvJ"
      },
      "execution_count": null,
      "outputs": []
    },
    {
      "cell_type": "code",
      "source": [
        "V"
      ],
      "metadata": {
        "id": "IazxWDpGpKHN"
      },
      "execution_count": null,
      "outputs": []
    },
    {
      "cell_type": "markdown",
      "source": [
        "## Площать треугольника\n",
        "\n",
        "В этой задаче нам даны 3 переменные: A1, A2, A3. Каждая содержит вектор с 2 координатами соответствующей вершины треугольника.\n",
        "\n",
        "Найдите площадь треугольника и выведите её на печать.\n",
        "\n",
        " \n",
        "\n",
        "Если все 3 точки лежат на одной прямой, то площадь треугольника равна 0.\n",
        "\n",
        " \n",
        "\n",
        "Ответ проверяется с точностью до 4 знака после запятой."
      ],
      "metadata": {
        "id": "WFLJKJeqp3BQ"
      }
    },
    {
      "cell_type": "code",
      "source": [
        "import numpy as np\n",
        "A1 = np.array((-1, 1))\n",
        "A2 = np.array((2, 5))\n",
        "A3 = np.array((5, -3))\n",
        "a = np.sqrt(sum((A2-A1)**2))\n",
        "b = np.sqrt(sum((A2-A3)**2))\n",
        "c = np.sqrt(sum((A1-A3)**2))\n",
        "p = (a + b + c) / 2\n",
        "S = np.sqrt(p * (p - a) * (p - b) * (p - c))"
      ],
      "metadata": {
        "id": "6mQsqYRYtbqP"
      },
      "execution_count": null,
      "outputs": []
    },
    {
      "cell_type": "code",
      "source": [
        "M1 = np.array((\n",
        "    (1, 2, 3),\n",
        "    (4, 5, 6)\n",
        "))\n",
        "M2 = np.array((\n",
        "    (2)\n",
        "))"
      ],
      "metadata": {
        "id": "-9zqP_9op2CF"
      },
      "execution_count": null,
      "outputs": []
    },
    {
      "cell_type": "code",
      "source": [
        "np.dot(M2, M1)"
      ],
      "metadata": {
        "id": "b8yrzc7bEdlC"
      },
      "execution_count": null,
      "outputs": []
    },
    {
      "cell_type": "markdown",
      "source": [
        "## Matrix operations\n",
        "\n",
        "Переменная M1 содержит Numpy матрицу.\n",
        "\n",
        "Произведите операции последовательно:\n",
        "\n",
        "1. Замените значения в предпоследней строке на значения по формуле:\n",
        "\n",
        "sin(x*pi/6), где x - старое значение\n",
        "\n",
        "2. Замените значения в предпоследнем столбце на значения по формуле:\n",
        "\n",
        "e**x\n",
        "\n",
        "Примечание. Для ячейки на пересечении предпоследнего столбца и предпоследней строки значение ячейки будет изменено по формуле: \n",
        "\n",
        " e**sin(x*pi/6)\n",
        "\n",
        "Результат запишите в переменную M2"
      ],
      "metadata": {
        "id": "j9KSXTiPZO8V"
      }
    },
    {
      "cell_type": "code",
      "source": [
        "kimport numpy as np\n",
        "M1 = np.array((\n",
        "    (1., 2., 3., 0.),\n",
        "    (4., 5., 6., 0.),\n",
        "    (0., 1., 1., 6.,),\n",
        "    (7., 8., 9., 0.)\n",
        "))\n",
        "\n",
        "M1[-2] = M1[-2]*np.sin((M1[-2]*np.pi)/6)\n",
        "M1[:,-2] = np.exp(M1[:,-2])\n",
        "M2 = M1.copy()\n",
        "M2"
      ],
      "metadata": {
        "id": "OvgGZGmaaZbz"
      },
      "execution_count": null,
      "outputs": []
    },
    {
      "cell_type": "markdown",
      "source": [
        "## numpy-100 (1-10)"
      ],
      "metadata": {
        "id": "2ed6fIANtUch"
      }
    },
    {
      "cell_type": "code",
      "source": [
        "# 1. Выведите на печать версию модуля numpy\n",
        "import numpy as np\n",
        "np.version.version"
      ],
      "metadata": {
        "id": "0OF2646utZqI"
      },
      "execution_count": null,
      "outputs": []
    },
    {
      "cell_type": "code",
      "source": [
        "# 2. Считайте число n\n",
        "# Создайте в переменной Z Numpy вектор из нулей длины n.\n",
        "import numpy as np\n",
        "n = int(\n",
        "    input()\n",
        ")\n",
        "Z = np.zeros(n)\n",
        "print(Z)"
      ],
      "metadata": {
        "id": "YGhNLIA4uRNl"
      },
      "execution_count": null,
      "outputs": []
    },
    {
      "cell_type": "code",
      "source": [
        "# 3. Считайте строку, где значения заданы через пробел shape и dtype\n",
        "# Последнее значение в строке может быть либо числом (тогда это последнее значение кортежа shape, либо строкой dtype)\n",
        "# shape - атрибут, задающий размеры матрицы нолей (позволяет вернуть вектор-строку, вектор-столбец, матрицу, куб и т.д.)\n",
        "# dtype - тип данных, использующихся для значений матрицы. По-умолчанию используется numpy.float64.\n",
        "# Создайте матрицу Z размера shape, со значениями типа dtype (если dtype не указан, используйте numpy.float64)\n",
        "\n",
        "import numpy as np\n",
        "n = input().split()\n",
        "if len(n) == 1 or str.isdigit(n[-1]):\n",
        "    dtype = np.float64\n",
        "    shape = [int(i) for i in n]\n",
        "else:\n",
        "    dtype = n[-1]\n",
        "    shape = [int(i) for i in n[:-1]]\n",
        "Z = np.zeros(shape, dtype=dtype)\n",
        "Z"
      ],
      "metadata": {
        "id": "sQM5bZtCvDhy"
      },
      "execution_count": null,
      "outputs": []
    },
    {
      "cell_type": "code",
      "source": [
        "# 4. Посчитайте размер матрицы Z в байтах и выведите его на печать.\n",
        "\n",
        "import numpy as np\n",
        "\n",
        "Z = np.zeros((10, 10))\n",
        "Z.itemsize * np.prod(Z.shape)"
      ],
      "metadata": {
        "id": "UEhhDswxwJEm"
      },
      "execution_count": null,
      "outputs": []
    },
    {
      "cell_type": "code",
      "source": [
        "# 5. Выведите на печать встроенную документацию для функции add numpy, а потом объекта numpy.array.\n",
        "\n",
        "import numpy as np\n",
        "\n",
        "print(np.add.__doc__)\n",
        "print(np.array.__doc__)"
      ],
      "metadata": {
        "id": "s8vXy_u-2nNq"
      },
      "execution_count": null,
      "outputs": []
    },
    {
      "cell_type": "code",
      "source": [
        "# 6. Считайте 2 числа:\n",
        "# n - размер Numpy вектора\n",
        "# x - координата элемента вектора, который должен быть равен 1. Остальные элементы вектора должны быть равны 0.\n",
        "# Сохраните вектор в переменную Z.\n",
        "\n",
        "import numpy as np\n",
        "\n",
        "n = int(input())\n",
        "x = int(input())\n",
        "Z = np.zeros(n)\n",
        "Z[x] = 1\n",
        "Z"
      ],
      "metadata": {
        "id": "vIpwTWnO3QCM"
      },
      "execution_count": null,
      "outputs": []
    },
    {
      "cell_type": "code",
      "source": [
        "# 7. Считайте 2 числа n, m.\n",
        "# Создайте вектор Z состоящий из чисел от n до m с шагом 1.\n",
        "import numpy as np\n",
        "\n",
        "n,m = [int(input()) for i in range(2)]\n",
        "# Z = np.array([i for i in range(n,m+1,1)])\n",
        "np.arange(n, m+1, 1)"
      ],
      "metadata": {
        "id": "eYDD0e494DGx"
      },
      "execution_count": null,
      "outputs": []
    },
    {
      "cell_type": "code",
      "source": [
        "# 8. Дан вектор Z\n",
        "# \"Разверните\" его.\n",
        "\n",
        "import numpy as np\n",
        "\n",
        "# Z = np.array([1, 2, 3, 4])\n",
        "\n",
        "Z = np.flip(Z, 0)"
      ],
      "metadata": {
        "id": "B86HOoDY6DDO"
      },
      "execution_count": null,
      "outputs": []
    },
    {
      "cell_type": "code",
      "source": [
        "# 9. Считайте 3 числа:\n",
        "# n - количество элементов матрицы\n",
        "# m и k - размеры матрицы (число строк и столбцов соответственно)\n",
        "# Заполните матрицу Z числами от 0 до n-1 по порядку (сперва строки, потом столбцы).\n",
        "# Гарантируется, что m*k = n, т.е. все элементы \"влезут\" в матрицу и не останется пустых мест.\n",
        "\n",
        "import numpy as np\n",
        "\n",
        "n = int(input())\n",
        "m,k = [int(i) for i in input().split()]\n",
        "\n",
        "Z = np.arange(n).reshape(m, k)\n",
        "Z"
      ],
      "metadata": {
        "id": "y6yKzcZD6_-p"
      },
      "execution_count": null,
      "outputs": []
    },
    {
      "cell_type": "code",
      "source": [
        "# 10.1 Дан вектор Z\n",
        "# Запишите в переменную NonZerros индексы ненулевых элементов.\n",
        "\n",
        "import numpy as np\n",
        "\n",
        "Z = np.array([1, 0, 2, 0, 3, 0, 4])\n",
        "NonZerros = np.nonzero(Z)\n",
        "NonZerros"
      ],
      "metadata": {
        "id": "FCgY5tom8cdR"
      },
      "execution_count": null,
      "outputs": []
    },
    {
      "cell_type": "code",
      "source": [
        "# 10.2 Дана матрица чисел Z (Z может быть 1, 2 или даже 3 мерной).\n",
        "# Выведите на печать список чисел из этой матрицы, которые больше 3.\n",
        "import numpy as np\n",
        "\n",
        "Z = np.array([[1, 2, 3],\n",
        "          [4, 5, 6],\n",
        "          [7, 8, 9],\n",
        "          [0, 0, 9]])\n",
        "print(list(Z[np.nonzero(Z > 3)]))\n",
        "print(list(Z[Z > 3]))"
      ],
      "metadata": {
        "id": "UNu6uV6S9P_t"
      },
      "execution_count": null,
      "outputs": []
    },
    {
      "cell_type": "markdown",
      "source": [
        "## numpy-100 (11-20)"
      ],
      "metadata": {
        "id": "YWbhPlbYAUHq"
      }
    },
    {
      "cell_type": "code",
      "source": [
        "# 11. Считайте число n\n",
        "\n",
        "# Создайте единичную матрицу размера n, сохраните результат в переменную Z.\n",
        "import numpy as np\n",
        "\n",
        "n = int(input())\n",
        "Z = np.eye(n)\n",
        "Z"
      ],
      "metadata": {
        "id": "L8B5mvqgAYeP"
      },
      "execution_count": null,
      "outputs": []
    },
    {
      "cell_type": "code",
      "source": [
        "# 12. Считайте 3 числа: n, m, l.\n",
        "\n",
        "# Зафиксируйте значение генератора случайных чисел Numpy с помощью\n",
        "\n",
        "#numpy.random.seed(42)\n",
        "#Создайте матрицу n*m*l из случайных чисел (от 0 до 1) и сохраните результат в переменную Z.\n",
        "import numpy as np\n",
        "n, m, l = [int(i) for i in input().split()]\n",
        "np.random.seed(42)\n",
        "Z = np.random.random((n,m,l))\n",
        "Z"
      ],
      "metadata": {
        "id": "jgU5PbubDRiP"
      },
      "execution_count": null,
      "outputs": []
    },
    {
      "cell_type": "code",
      "source": [
        "# 13. Считайте 2 числа: n, m\n",
        "# Зафиксируйте значение генератора\n",
        "# numpy.random.seed(42)\n",
        "# создайте матрицу n*m из случайных чисел\n",
        "# выведите значение минимального и максимального чисел в получившейся матрице\n",
        "\n",
        "import numpy as np\n",
        "np.random.seed(42)\n",
        "n, m = [int(i) for i in (input().split())]\n",
        "Z = np.random.random((n, m))\n",
        "print(Z.min())\n",
        "print(Z.max())"
      ],
      "metadata": {
        "id": "ATqtK07P8P6s"
      },
      "execution_count": null,
      "outputs": []
    },
    {
      "cell_type": "code",
      "source": [
        "# 14. Считайте 2 числа: n, m\n",
        "# Зафиксируйте значение генератора\n",
        "# numpy.random.seed(42)\n",
        "# создайте матрицу n*m из случайных чисел\n",
        "# выведите значение среднего для всей матрицы\n",
        "\n",
        "import numpy as np\n",
        "np.random.seed(42)\n",
        "#n, m = [int(i) for i in (input().split())]\n",
        "n, m = list(map(int, input().split()))\n",
        "Z = np.random.random((n, m))\n",
        "print(Z.mean())"
      ],
      "metadata": {
        "id": "aRGDXwOr-mzk"
      },
      "execution_count": null,
      "outputs": []
    },
    {
      "cell_type": "code",
      "source": [
        "# 14.* Считайте 2 числа: n, m\n",
        "# Зафиксируйте значение генератора\n",
        "# numpy.random.seed(42)\n",
        "# создайте матрицу n*m из случайных чисел\n",
        "# найдите среднее значение для каждого из столбцов\n",
        "# выведите на печать значение минимального и максимального среднего по столбцам (каждое с новой строки)\n",
        "\n",
        "import numpy as np\n",
        "np.random.seed(42)\n",
        "#n, m = [int(i) for i in (input().split())]\n",
        "n, m = list(map(int, input().split()))\n",
        "Z = np.random.random((n, m))\n",
        "print(Z.mean(axis=0).min())\n",
        "print(Z.mean(axis=0).max())"
      ],
      "metadata": {
        "id": "uGTEELsCASa6"
      },
      "execution_count": null,
      "outputs": []
    },
    {
      "cell_type": "code",
      "source": [
        "# 15. Считайте 2 числа: n, m\n",
        "# Создайте матрицу размера n*m такую что\n",
        "# На границе матрицы будет стоять 1\n",
        "# Внутри матрицы будет стоять 0\n",
        "# Сохраните матрицу в переменную Z\n",
        "\n",
        "import numpy as np\n",
        "n, m = tuple(map(int, input().split()))\n",
        "'''\n",
        "Z = np.zeros((n, m))\n",
        "Z[0] = 1\n",
        "Z[-1] = 1\n",
        "Z[:,0] = 1\n",
        "Z[:,-1] = 1\n",
        "'''\n",
        "Z = np.ones((n, m))\n",
        "Z[1:-1,1:-1] = 0\n",
        "Z"
      ],
      "metadata": {
        "id": "_nFjx3qcCUcZ"
      },
      "execution_count": null,
      "outputs": []
    },
    {
      "cell_type": "code",
      "source": [
        "# 16. Имеется матрица Z\n",
        "# добавьте вокруг имеющейся матрицы \"забор\" из 0\n",
        "\n",
        "import numpy as np\n",
        "Z = np.array([1,2,3,4,5,6,7,8,9]).reshape(3,3)\n",
        "np.pad(Z, 1, constant_values=0)"
      ],
      "metadata": {
        "id": "vUdnH0DDFGz-"
      },
      "execution_count": null,
      "outputs": []
    },
    {
      "cell_type": "code",
      "source": [
        "# 18.1 Считайте число n\n",
        "# Создайте диагональную матрицу n*n. На главной диагонали должны быть числа от 1 до n\n",
        "# Сохраните матрицу в переменную Z\n",
        "\n",
        "import numpy as np\n",
        "n = int(input())\n",
        "Z = np.arange(1, n+1)\n",
        "Z = np.diag(Z)\n",
        "Z"
      ],
      "metadata": {
        "id": "N6dWOif8HFjZ"
      },
      "execution_count": null,
      "outputs": []
    },
    {
      "cell_type": "code",
      "source": [
        "# 18.2 Считайте 2 числа:\n",
        "\n",
        "# x - сдвиг для единственной ненулевой диагонали в матрице.\n",
        "# k - верхняя граница для интервала чисел на диагонали (т.е. если k = 5, то на диагонали будут стоять числа 1, 2, 3, 4 и 5)\n",
        "# Договоримся о значениях x:\n",
        "\n",
        "# x = 0 - это главная диагональ матрицы\n",
        "# x<0 - диагональ сдвигается вниз на |x| ячеек (если x = -1, то первая не нулевая ячейка будет с координатами (1,0))\n",
        "# x>0 - диагональ сдвигается вправо на |x| ячеек (если x = 1, то первая ненулевая ячейка будет с координатами (0,1))\n",
        "\n",
        "import numpy as np\n",
        "x, k = tuple(map(int, input().split()))\n",
        "Z = np.arange(1, k+1)\n",
        "Z = np.diag(Z, k=x)\n",
        "Z"
      ],
      "metadata": {
        "id": "UqnTy-jmTl2l"
      },
      "execution_count": null,
      "outputs": []
    },
    {
      "cell_type": "code",
      "source": [
        "# 19 (21)\n",
        "\n",
        "\n",
        "# Считайте 2 числа: n, m.\n",
        "# Создайте матрицу размера n*m и \"раскрасьте\" её в шахматную раскраску.\n",
        "# 0 - \"чёрное\"\n",
        "# 1 - \"белое\"\n",
        "# Ячейка с координатами (0, 0) всегда \"чёрная\" (т.е. элемент (0, 0) равен 0).\n",
        "# Матрицу сохраните в переменную Z.\n",
        "\n",
        "import numpy as np\n",
        "n, m = tuple(map(int, input().split()))\n",
        "# Z = np.tile((1.,0.),(n,m))\n",
        "# Z[::2,:] = np.flip(Z[1], axis=0)\n",
        "# Z = Z[:,:m]\n",
        "Z = np.ones((n,m))\n",
        "Z[0::2, 0::2] = 0\n",
        "Z[1::2, 1::2] = 0\n",
        "Z"
      ],
      "metadata": {
        "id": "8NzdF5y6m646"
      },
      "execution_count": null,
      "outputs": []
    },
    {
      "cell_type": "code",
      "source": [
        "# 20\n",
        "# Даны:\n",
        "\n",
        "# индекс i\n",
        "# numpy массив Z\n",
        "# Определите \"координаты\" элемента с индексом i в Z и выведите кортеж с координатами на печать.\n",
        "\n",
        "import numpy as np\n",
        "\n",
        "i = 5\n",
        "Z = np.array([[0, 1, 2, 3],\n",
        "              [4, 5, 6, 7],\n",
        "              [8, 9, 10, 11]])\n",
        "np.unravel_index(i, Z.shape, order='C')"
      ],
      "metadata": {
        "id": "hZrFVEyVv9KA"
      },
      "execution_count": null,
      "outputs": []
    },
    {
      "cell_type": "markdown",
      "source": [
        "## numpy-100 (22, 24-30)"
      ],
      "metadata": {
        "id": "3k76wPdXKnNB"
      }
    },
    {
      "cell_type": "code",
      "source": [
        "# 22. Переменная Y содержит исходную матрицу\n",
        "\n",
        "# В переменную Z сохраните её \"нормализованный\" вид, \n",
        "# округлив каждое значение в матрице до 2 знака после запятой с помощью numpy.around.\n",
        "\n",
        "import numpy as np\n",
        "\n",
        "Y = np.array([[99, 11, 55],\n",
        "              [33, 66, 99]])\n",
        "Z = (Y - np.mean(Y))/np.std(Y)\n",
        "np.around(Z, 2)"
      ],
      "metadata": {
        "id": "THCiCAfWKs4I"
      },
      "execution_count": null,
      "outputs": []
    },
    {
      "cell_type": "code",
      "source": [
        "# 24.1 Скалярное произведение векторов\n",
        "# Переменные A и B содержат по numpy вектору. Найдите их скалярное произведение и сохраните в переменную Z.\n",
        "\n",
        "# A и B могут содержать как int, так и float.\n",
        "\n",
        "# Примечание. В этой задаче не нужно ничего выводить на печать. Только создать Z.\n",
        "\n",
        "import numpy as np\n",
        "\n",
        "A = np.array([1.5, 2.5, 3.5])\n",
        "B = np.array([4, 5, 6])\n",
        "\n",
        "np.dot(A, B)"
      ],
      "metadata": {
        "id": "VD-CFYW0O8bI"
      },
      "execution_count": null,
      "outputs": []
    },
    {
      "cell_type": "code",
      "source": [
        "# 24.2 Умножение матриц\n",
        "# Даны 2 матрицы: A и B.\n",
        "\n",
        "# Найдите произведение матриц и сохраните его в переменную Z.\n",
        "\n",
        "# Если найти произведение матриц невозможно, то запишите в Z строку:\n",
        "\n",
        "# Упс! Что-то пошло не так...\n",
        "\n",
        "import numpy as np\n",
        "A = np.array([\n",
        "    [1, 2, 3],\n",
        "    [4, 5, 6]\n",
        "])\n",
        "B = np.array([\n",
        "    [11.5, 12.5, 13.5]\n",
        "])\n",
        "try:\n",
        "    Z = np.dot(A, B)\n",
        "except:\n",
        "    Z = 'Упс! Что-то пошло не так...'"
      ],
      "metadata": {
        "id": "fa6hW0j7PZoe"
      },
      "execution_count": null,
      "outputs": []
    },
    {
      "cell_type": "code",
      "source": [
        "# 25\n",
        "# Поменяйте знак всех чисел из интервала (3; 9), хранящихся в векторе Z.\n",
        "import numpy as np\n",
        "\n",
        "Z = np.arange(11)\n",
        "Z[(Z > 3) & (Z < 9)] *= -1\n",
        "Z"
      ],
      "metadata": {
        "id": "cjR3PSnARa4W"
      },
      "execution_count": null,
      "outputs": []
    },
    {
      "cell_type": "code",
      "source": [
        "print(sum(range(5), -1))\n",
        "from numpy import *\n",
        "print(sum(range(5), -1))"
      ],
      "metadata": {
        "id": "bAxLxus-VZVc"
      },
      "execution_count": null,
      "outputs": []
    },
    {
      "cell_type": "code",
      "source": [
        "import numpy as np\n",
        "\n",
        "Z = np.array([1, 2, 3, 4, 5, 6, 7])\n",
        "\n",
        "2 << Z >> 2\n",
        "\n",
        "Z**Z\n",
        "\n",
        "1j*Z\n",
        "\n",
        "Z/1/1\n",
        "\n",
        "Z <- Z"
      ],
      "metadata": {
        "id": "oEW4-q-HV9WO"
      },
      "execution_count": null,
      "outputs": []
    },
    {
      "cell_type": "code",
      "source": [
        "# 29\n",
        "# Вектор A содержит float числа как больше, так и меньше нуля.\n",
        "\n",
        "# Округлите их до целых и результат запишите в переменную Z. Округление должно быть \"от нуля\", т.е.:\n",
        "\n",
        "# положительные числа округляем всегда вверх до целого\n",
        "# отрицательные числа округляем всегда вниз до целого\n",
        "# 0 остаётся 0\n",
        "\n",
        "import numpy as np\n",
        "\n",
        "A = np.array([-3.1, -5.9, 0, 2.2, 9.8])\n",
        "\n",
        "#np.ceil(A[A<0])\n",
        "a = A.copy()\n",
        "A = np.absolute(A)\n",
        "A = np.ceil(A)\n",
        "Z = np.copysign(A, a)\n"
      ],
      "metadata": {
        "id": "5_LAd4BMW0lv"
      },
      "execution_count": null,
      "outputs": []
    },
    {
      "cell_type": "code",
      "source": [
        "# 30\n",
        "# Даны 2 вектора целых чисел A и B.\n",
        "\n",
        "# Найдите числа, встречающиеся в обоих векторах и составьте их по возрастанию в вектор Z.\n",
        "\n",
        "# Если пересечений нет, то вектор Z будет пустым.\n",
        "\n",
        "import numpy as np\n",
        "A = np.array([0, 9, 7, 1, 3, 7, 5, 2, 5, 1])\n",
        "B = np.array([3, 1, 3, 7, 4, 1, 8, 1, 1, 8])\n",
        "A = np.array([1, 2, 3, 4, 5])\n",
        "B = np.array([-5, -4, -3])\n",
        "np.intersect1d(A, B)"
      ],
      "metadata": {
        "id": "UNS-elHAl7aQ"
      },
      "execution_count": null,
      "outputs": []
    },
    {
      "cell_type": "markdown",
      "source": [
        "## numpy-100 (31-34, 37-40)"
      ],
      "metadata": {
        "id": "TQX-JnwHnNPF"
      }
    },
    {
      "cell_type": "code",
      "source": [
        "# 31.\n",
        "# # Suicide mode on\n",
        "# В Numpy можно предусмотреть различное поведение в случае ошибок (а не только то, что мы наблюдали в задаче 28). Для этого используется функция https://docs.scipy.org/doc/numpy-1.15.0/reference/generated/numpy.seterr.html\n",
        "\n",
        "# Отключите вывод всех ошибок (это довольно опасное поведение)\n",
        "\n",
        "import numpy as np\n",
        "\n",
        "np.seterr(all='ignore')"
      ],
      "metadata": {
        "id": "_0cp-_DhnSfw"
      },
      "execution_count": null,
      "outputs": []
    },
    {
      "cell_type": "code",
      "source": [
        "# 32.\n",
        "# Что можно сказать о выражении\n",
        "# np.sqrt(-1) == np.emath.sqrt(-1)\n",
        "\n",
        "import numpy as np\n",
        "\n",
        "np.sqrt(-1) == np.emath.sqrt(-1)"
      ],
      "metadata": {
        "id": "JCN5TKvAor8Y"
      },
      "execution_count": null,
      "outputs": []
    },
    {
      "cell_type": "code",
      "source": [
        "# 33.\n",
        "# Изучите работу с датами \n",
        "# (https://docs.scipy.org/doc/numpy-1.15.0/reference/arrays.datetime.html) \n",
        "# и выберите верные утверждения:\n",
        "\n",
        "import numpy as np\n",
        "\n",
        "np.datetime64('nat')\n",
        "#np.datetime64('yesterday')\n",
        "#np.datetime64('tomorrow')\n",
        "np.datetime64('nat')-1"
      ],
      "metadata": {
        "id": "QbM0QoWxplFG"
      },
      "execution_count": null,
      "outputs": []
    },
    {
      "cell_type": "code",
      "source": [
        "# 34.\n",
        "# 1-я входная строка - год (опционально месяц и день) в формате ISO начала отсчёта\n",
        "# 2-я входная строка - год (опционально месяц и день) в формате ISO окончания отсчёта\n",
        "# Составьте список (numpy array) дат с шагом в 1 день от начала до окончания отсчёта (последний день не включается).\n",
        "# Результат должен представлять из себя список дат в формате ISO.\n",
        "# Пример - 2005-02-25, где\n",
        "\n",
        "# 2005 - год\n",
        "# 02 - месяц\n",
        "# 25 - день\n",
        "# Запишите результат в переменную Z\n",
        "\n",
        "import numpy as np\n",
        "\n",
        "D1 = '2019'\n",
        "D2 = '2019-01-09'\n",
        "D1 = np.datetime64(D1, 'D')\n",
        "D2 = np.datetime64(D2, 'D')\n",
        "Z = np.arange(D1, D2)\n",
        "Z"
      ],
      "metadata": {
        "id": "V1yXvXz4q07E"
      },
      "execution_count": null,
      "outputs": []
    },
    {
      "cell_type": "code",
      "source": [
        "# 36.\n",
        "# Существует по крайней мере 5 способов получить из вектора случайных \n",
        "#float чисел вектор чисел только с целой частью:\n",
        "\n",
        "# Целочисленное деление и векторные операции\n",
        "# Округление \"вниз\"\n",
        "# Округление \"вверх\" и вычет 1 (важно, что этот способ работает \n",
        "# только для \"случайных\" чисел. Если число УЖЕ целое, \n",
        "# то такая манипуляция приведёт к получению числа на 1 меньше исходного, т.е. ошибке)\n",
        "# Приведение к целочисленному типу\n",
        "# \"Усечение\" или округление в сторону нуля с помощью функции\n",
        "# https://docs.scipy.org/doc/numpy-1.15.0/reference/generated/numpy.trunc.html\n",
        "\n",
        "import numpy as np\n",
        "\n",
        "np.random.seed(42)\n",
        "Z = np.random.uniform(0, 10, 10)\n",
        "#1 целочисленное деление и векторные операции\n",
        "# Z - Z%1\n",
        "\n",
        "#2 округление \"вниз\"\n",
        "# np.floor(Z)\n",
        "\n",
        "#3 округление \"вверх\" и вычет 1\n",
        "# np.ceil(Z)-1\n",
        "\n",
        "#4 приведение к целочисленному типу\n",
        "# Z.astype(int)\n",
        "\n",
        "#5 \"усечение\" или округление в сторону нуля\n",
        "np.trunc(Z)"
      ],
      "metadata": {
        "id": "nINs-zdlurnt"
      },
      "execution_count": null,
      "outputs": []
    },
    {
      "cell_type": "code",
      "source": [
        "# 37.1\n",
        "# На вход подаётся 2 строки:\n",
        "\n",
        "# 1-я строка содержит 2 натуральных числа: n, m\n",
        "# 2-я строка содержит число k\n",
        "# Создайте матрицу размера n*m такую, что каждая её строка содержит числа от k до k+m-1 (с шагом 1).\n",
        "\n",
        "# Ответ запишите в переменную Z\n",
        "\n",
        "import numpy as np\n",
        "\n",
        "n, m = tuple(map(int, input().split()))\n",
        "k = int(input())\n",
        "z = np.arange(k, k+m)\n",
        "Z = np.tile(z, (n, 1))\n",
        "Z = Z*1.\n",
        "Z"
      ],
      "metadata": {
        "id": "wSwJVQ2swnEM"
      },
      "execution_count": null,
      "outputs": []
    },
    {
      "cell_type": "code",
      "source": [
        "# 37.2\n",
        "# На вход подаётся 2 строки:\n",
        "\n",
        "# 1-я строка содержит 2 натуральных числа: n, m\n",
        "# 2-я строка содержит число k\n",
        "# Создайте матрицу размера n*m такую, что каждый её столбец содержит числа от k до k+n-1 (с шагом 1).\n",
        "\n",
        "# Ответ запишите в переменную Z\n",
        "\n",
        "import numpy as np\n",
        "\n",
        "n, m = tuple(map(int, input().split()))\n",
        "k = int(input())\n",
        "z = np.arange(k, k+n)\n",
        "Z = np.tile(z, (m, 1))\n",
        "Z = np.rot90(Z, axes=(1,0))/1.\n",
        "Z"
      ],
      "metadata": {
        "id": "YsgwDDopEb7V"
      },
      "execution_count": null,
      "outputs": []
    },
    {
      "cell_type": "code",
      "source": [
        "# 38\n",
        "# Переменная V содержит итерируемый объект.\n",
        "\n",
        "# Превратите его в одномерный numpy массив \n",
        "# и сохраните в переменную Z. \n",
        "# Массив будет содержать только числа типа float.\n",
        "\n",
        "import numpy as np\n",
        "\n",
        "V = map(np.sin, range(10))\n",
        "V = {1:2, 3:4}\n",
        "\n",
        "np.fromiter(V, dtype='float64')"
      ],
      "metadata": {
        "id": "ie8PDZghGszA"
      },
      "execution_count": null,
      "outputs": []
    },
    {
      "cell_type": "code",
      "source": [
        "# 39.1 (деление отрезка на N+1 часть)\n",
        "# На вход подаются 3 числа (каждое с новой строки):\n",
        "\n",
        "# start\n",
        "# stop\n",
        "# n\n",
        "# Составьте список (numpy.array) из n точек на отрезке (start, stop), попарно равноудалённых друг от друга и от концов отрезка (т.е. разделите отрезок на n+1 часть). Округлите значения точек до 3 знака после запятой.\n",
        "\n",
        "# Результат сохраните в переменную Z.\n",
        "\n",
        "import numpy as np\n",
        "\n",
        "start = int(input())\n",
        "stop = int(input())\n",
        "n = int(input())\n",
        "\n",
        "#Z = np.arange(start, stop, stop/(n+1)) #div by zero!\n",
        "Z = np.linspace(start, stop, num=n+2)\n",
        "Z = Z[1:-1]\n",
        "np.around(Z, 3)"
      ],
      "metadata": {
        "id": "61yc-LpiMMhs"
      },
      "execution_count": null,
      "outputs": []
    },
    {
      "cell_type": "code",
      "source": [
        "# 39.2\n",
        "# На вход подаются 3 числа (каждое с новой строки):\n",
        "\n",
        "# start\n",
        "# stop\n",
        "# n\n",
        "# Составьте список из n точек на отрезке [start, stop] в геометрической прогрессии, включая start и stop.\n",
        "\n",
        "# Округлите значения точек до 3 знака после запятой.\n",
        "\n",
        "# Результат сохраните в переменную Z.\n",
        "\n",
        "import numpy as np\n",
        "\n",
        "start, stop, n = [int(input()) for i in range(3)]\n",
        "\n",
        "Z = np.geomspace(start, stop, num=n)\n",
        "Z = np.around(Z, 3)\n",
        "Z"
      ],
      "metadata": {
        "id": "fRYuSrWnPrtc"
      },
      "execution_count": null,
      "outputs": []
    },
    {
      "cell_type": "code",
      "source": [
        "# Считайте 2 числа:\n",
        "\n",
        "# seed\n",
        "# n\n",
        "# С помощью Numpy сгенерируйте n случайных чисел из интервала (0, 1) \n",
        "# с фиксированным seed (https://docs.scipy.org/doc/numpy-1.14.0/reference/generated/numpy.random.seed.html), \n",
        "# отсортируйте их по возрастанию и сохраните в переменную Z.\n",
        "\n",
        "import numpy as np\n",
        "\n",
        "seed, n = [int(input()) for i in range(2)]\n",
        "\n",
        "np.random.seed(seed)\n",
        "Z = np.random.random(n)\n",
        "Z = np.sort(Z)\n",
        "Z"
      ],
      "metadata": {
        "id": "5_ZnhY1qQe4k"
      },
      "execution_count": null,
      "outputs": []
    },
    {
      "cell_type": "markdown",
      "source": [
        "## pandas-100 (1-10)"
      ],
      "metadata": {
        "id": "Xm168UbCRYcC"
      }
    },
    {
      "cell_type": "code",
      "source": [
        "# 2. Выведите на печать версию модуля pandas\n",
        "\n",
        "import pandas as pd\n",
        "\n",
        "print(pd.__version__)"
      ],
      "metadata": {
        "id": "C6Jz6mXHRdGN"
      },
      "execution_count": null,
      "outputs": []
    },
    {
      "cell_type": "code",
      "source": [
        "import numpy as np\n",
        "data = {'animal': ['cat', 'cat', 'snake', 'dog', 'dog', 'cat', 'snake', 'cat', 'dog', 'dog'],\n",
        "        'age': [2.5, 3, 0.5, np.nan, 5, 2, 4.5, np.nan, 7, 3],\n",
        "        'visits': [1, 3, 2, 3, 2, 3, 1, 1, 2, 1],\n",
        "        'priority': ['yes', 'yes', 'no', 'yes', 'no', 'no', 'no', 'yes', 'no', 'no']}\n",
        "\n",
        "labels = ['a', 'b', 'c', 'd', 'e', 'f', 'g', 'h', 'i', 'j']"
      ],
      "metadata": {
        "id": "0ALPqGzCSrhW"
      },
      "execution_count": null,
      "outputs": []
    },
    {
      "cell_type": "code",
      "source": [
        "import pandas as pd\n",
        "df = pd.DataFrame(data, labels)\n",
        "\n",
        "# Переменная df содержит DataFrame.\n",
        "# Переменная col содержит имя колонки\n",
        "# Переменная row содержит имя ИЛИ индекс строки\n",
        "# Выведите на печать содержимое ячейки\n",
        "row = 'e'\n",
        "col = 'animal'\n",
        "\n",
        "print(df.at[row, col])\n",
        "print(df.loc[row, cold])\n"
      ],
      "metadata": {
        "id": "YCSIRL8CSxqB"
      },
      "execution_count": null,
      "outputs": []
    },
    {
      "cell_type": "code",
      "source": [
        "df.info()"
      ],
      "metadata": {
        "id": "mrCi-KwRZzl3"
      },
      "execution_count": null,
      "outputs": []
    },
    {
      "cell_type": "code",
      "source": [
        "# 5.\n",
        "# Переменная df содержит DataFrame.\n",
        "\n",
        "# Выведите на печать:\n",
        "\n",
        "# число непустых (не null) значений в колонке 'age'\n",
        "# 75% квантиль для значений в колонке 'age'\n",
        "\n",
        "import pandas as pd\n",
        "import numpy as np\n",
        "\n",
        "\n",
        "df = pd.DataFrame({'animal': ['cat', 'cat', 'snake', 'dog', 'dog', 'cat', 'snake', 'cat', 'dog', 'dog'],\n",
        "                   'age': [2.5, 3, 0.5, np.nan, 5, 2, 4.5, np.nan, 7, 3],\n",
        "                   'visits': [1, 3, 2, 3, 2, 3, 1, 1, 2, 1],\n",
        "                   'priority': ['yes', 'yes', 'no', 'yes', 'no', 'no', 'no', 'yes', 'no', 'no']})\n",
        "index = ['a', 'b', 'c', 'd', 'e', 'f', 'g', 'h', 'i', 'j']\n",
        "\n",
        "df.age.count()\n",
        "df.age.quantile(0.75)"
      ],
      "metadata": {
        "id": "DcWclq0MaPNT"
      },
      "execution_count": null,
      "outputs": []
    },
    {
      "cell_type": "code",
      "source": [
        "# 6.1\n",
        "# Переменная df содержит DataFrame.\n",
        "\n",
        "# Выведите на печать 3 первых строки.\n",
        "import pandas as pd\n",
        "import numpy as np\n",
        "\n",
        "df = pd.DataFrame({'animal': ['cat', 'cat', 'snake', 'dog', 'dog', 'cat', 'snake', 'cat', 'dog', 'dog'],\n",
        "                   'age': [2.5, 3, 0.5, np.nan, 5, 2, 4.5, np.nan, 7, 3],\n",
        "                   'visits': [1, 3, 2, 3, 2, 3, 1, 1, 2, 1],\n",
        "                   'priority': ['yes', 'yes', 'no', 'yes', 'no', 'no', 'no', 'yes', 'no', 'no']},\n",
        "                 index = ['a', 'b', 'c', 'd', 'e', 'f', 'g', 'h', 'i', 'j'])\n",
        "\n",
        "df.head(3)\n",
        "df[:3]"
      ],
      "metadata": {
        "id": "jq2CcwAC1PMz"
      },
      "execution_count": null,
      "outputs": []
    },
    {
      "cell_type": "code",
      "source": [
        "# 6.2\n",
        "# Переменная df содержит DataFrame.\n",
        "\n",
        "# Выведите на печать строки с индексами 0, 2, 3.\n",
        "\n",
        "# Важно. Обратите внимание, что хотя у 1-ого Dataframe назначены произвольные строки в качестве индексов, \n",
        "# к ним тем не менее можно обратиться и по их порядковым значениям!\n",
        "\n",
        "import pandas as pd\n",
        "import numpy as np\n",
        "\n",
        "df = pd.DataFrame({'animal': ['cat', 'cat', 'snake', 'dog', 'dog', 'cat', 'snake', 'cat', 'dog', 'dog'],\n",
        "                   'age': [2.5, 3, 0.5, np.nan, 5, 2, 4.5, np.nan, 7, 3],\n",
        "                   'visits': [1, 3, 2, 3, 2, 3, 1, 1, 2, 1],\n",
        "                   'priority': ['yes', 'yes', 'no', 'yes', 'no', 'no', 'no', 'yes', 'no', 'no']},\n",
        "                 index = ['a', 'b', 'c', 'd', 'e', 'f', 'g', 'h', 'i', 'j'])\n",
        "\n",
        "df.iloc[[0, 2, 3]]\n",
        "\n"
      ],
      "metadata": {
        "id": "AsPgzoXL2UHj"
      },
      "execution_count": null,
      "outputs": []
    },
    {
      "cell_type": "code",
      "source": [
        "# 7\n",
        "# Переменная df содержит DataFrame.\n",
        "\n",
        "# Выведите на печать только столбцы 'name' и 'age' (гарантируется, что они есть)\n",
        "\n",
        "import numpy as np\n",
        "import pandas as pd\n",
        "\n",
        "df = pd.DataFrame({'animal': ['cat', 'cat', 'snake', 'dog', 'dog', 'cat', 'snake', 'cat', 'dog', 'dog'],\n",
        "                   'age': [2.5, 3, 0.5, np.nan, 5, 2, 4.5, np.nan, 7, 3],\n",
        "                   'name': ['Murzik', 'Pushok', 'Kaa', 'Bobik', 'Strelka', 'Vaska', 'Kaa2', 'Murka', 'Graf', 'Muhtar'],\n",
        "                   'visits': [1, 3, 2, 3, 2, 3, 1, 1, 2, 1],\n",
        "                   'priority': ['yes', 'yes', 'no', 'yes', 'no', 'no', 'no', 'yes', 'no', 'no']},\n",
        "                 index = ['a', 'b', 'c', 'd', 'e', 'f', 'g', 'h', 'i', 'j'])\n",
        "\n",
        "df[['name','age']]\n",
        "df.loc[:, ['name', 'age']]"
      ],
      "metadata": {
        "id": "lw13wtc7J4Z6"
      },
      "execution_count": null,
      "outputs": []
    },
    {
      "cell_type": "code",
      "source": [
        "# 8\n",
        "# Переменная df содержит DataFrame.\n",
        "\n",
        "# Выведите на печать только столбцы 'name' и 'age' И строки 0, 2, 3 (гарантируется, что они есть)\n",
        "\n",
        "df = pd.DataFrame({'animal': ['cat', 'cat', 'snake', 'dog', 'dog', 'cat', 'snake', 'cat', 'dog', 'dog'],\n",
        "                   'age': [2.5, 3, 0.5, np.nan, 5, 2, 4.5, np.nan, 7, 3],\n",
        "                   'name': ['Murzik', 'Pushok', 'Kaa', 'Bobik', 'Strelka', 'Vaska', 'Kaa2', 'Murka', 'Graf', 'Muhtar'],\n",
        "                   'visits': [1, 3, 2, 3, 2, 3, 1, 1, 2, 1],\n",
        "                   'priority': ['yes', 'yes', 'no', 'yes', 'no', 'no', 'no', 'yes', 'no', 'no']},\n",
        "                 index = ['a', 'b', 'c', 'd', 'e', 'f', 'g', 'h', 'i', 'j'])\n",
        "\n",
        "df.loc[:,['name', 'age']].iloc[[0, 2, 3]]"
      ],
      "metadata": {
        "id": "oLbYwtelNLcJ"
      },
      "execution_count": null,
      "outputs": []
    },
    {
      "cell_type": "code",
      "source": [
        "# 9\n",
        "# Переменная df содержит DataFrame.\n",
        "\n",
        "# Выведите на печать только данные, относящиеся к записям,\n",
        "# возраст которых больше, указанного в переменное critical_age.\n",
        "\n",
        "import numpy as np\n",
        "import pandas as pd\n",
        "\n",
        "df = pd.DataFrame({'animal': ['cat', 'cat', 'snake', 'dog', 'dog', 'cat', 'snake', 'cat', 'dog', 'dog'],\n",
        "                   'age': [2.5, 3, 0.5, np.nan, 5, 2, 4.5, np.nan, 7, 3],\n",
        "                   'name': ['Murzik', 'Pushok', 'Kaa', 'Bobik', 'Strelka', 'Vaska', 'Kaa2', 'Murka', 'Graf', 'Muhtar'],\n",
        "                   'visits': [1, 3, 2, 3, 2, 3, 1, 1, 2, 1],\n",
        "                   'priority': ['yes', 'yes', 'no', 'yes', 'no', 'no', 'no', 'yes', 'no', 'no']},\n",
        "                 index = ['a', 'b', 'c', 'd', 'e', 'f', 'g', 'h', 'i', 'j'])\n",
        "                 \n",
        "critical_age = 3\n",
        "\n",
        "df[df['age'] > critical_age]"
      ],
      "metadata": {
        "id": "_fX724UDPtne"
      },
      "execution_count": null,
      "outputs": []
    },
    {
      "cell_type": "code",
      "source": [
        "# 10\n",
        "# Переменная df содержит DataFrame.\n",
        "\n",
        "# Выведите на печать только данные, в которых не заполнен возраст (в графе 'age' стоит null).\n",
        "\n",
        "import numpy as np\n",
        "import pandas as pd\n",
        "\n",
        "df = pd.DataFrame({'animal': ['cat', 'cat', 'snake', 'dog', 'dog', 'cat', 'snake', 'cat', 'dog', 'dog'],\n",
        "                   'age': [2.5, 3, 0.5, np.nan, 5, 2, 4.5, np.nan, 7, 3],\n",
        "                   'name': ['Murzik', 'Pushok', 'Kaa', 'Bobik', 'Strelka', 'Vaska', 'Kaa2', 'Murka', 'Graf', 'Muhtar'],\n",
        "                   'visits': [1, 3, 2, 3, 2, 3, 1, 1, 2, 1],\n",
        "                   'priority': ['yes', 'yes', 'no', 'yes', 'no', 'no', 'no', 'yes', 'no', 'no']},\n",
        "                 index = ['a', 'b', 'c', 'd', 'e', 'f', 'g', 'h', 'i', 'j'])\n",
        "\n",
        "print(df[df['age'].isnull()])\n",
        "df[df['age'].isnull()]"
      ],
      "metadata": {
        "id": "K6BGRmvZRccc"
      },
      "execution_count": null,
      "outputs": []
    },
    {
      "cell_type": "markdown",
      "source": [
        "## pandas-100 (11-20)"
      ],
      "metadata": {
        "id": "HpwPjdAqL-u2"
      }
    },
    {
      "cell_type": "code",
      "source": [
        "# 11.\n",
        "\n",
        "# Переменная df содержит DataFrame.\n",
        "\n",
        "# Переменная filter_names содержит список имён столбцов по которым происходит фильтрация\n",
        "\n",
        "# Переменная filter_values содержит список из 2 значений по которым происходит фильтрация. \n",
        "# 1 значение проверяется на равенство. 2 значение должно быть меньше указанного в фильтре.\n",
        "\n",
        "# Выведите только те строки датафрейма, которые удовлетворяют условиям обоих фильтров.\n",
        "\n",
        "# В 1 примере мы выводим данные обо всех животных (имя столбца = 'animal'), \n",
        "# являющихся кошками (значение = 'cat'), возраст (имя столбца = 'age') которых меньше 3 (значение = 3).\n",
        "\n",
        "import pandas as pd\n",
        "import numpy as np\n",
        "\n",
        "df = pd.DataFrame({'animal': ['cat', 'cat', 'snake', 'dog', 'dog', 'cat', 'snake', 'cat', 'dog', 'dog'],\n",
        "                   'age': [2.5, 3, 0.5, np.nan, 5, 2, 4.5, np.nan, 7, 3],\n",
        "                   'name': ['Murzik', 'Pushok', 'Kaa', 'Bobik', 'Strelka', 'Vaska', 'Kaa2', 'Murka', 'Graf', 'Muhtar'],\n",
        "                   'visits': [1, 3, 2, 3, 2, 3, 1, 1, 2, 1],\n",
        "                   'priority': ['yes', 'yes', 'no', 'yes', 'no', 'no', 'no', 'yes', 'no', 'no']},\n",
        "                 index = ['a', 'b', 'c', 'd', 'e', 'f', 'g', 'h', 'i', 'j'])\n",
        "filter_names = [\"animal\", \"age\"]\n",
        "filter_values = [\"cat\", 3]\n",
        "\n",
        "print(df[(df[filter_names[0]] == filter_values[0]) & (df[filter_names[1]] < filter_values[1])])"
      ],
      "metadata": {
        "colab": {
          "base_uri": "https://localhost:8080/"
        },
        "id": "qrtN10LEMJSb",
        "outputId": "459ea5fa-4d69-4c98-f9c3-c5f3b0bb81df"
      },
      "execution_count": null,
      "outputs": [
        {
          "output_type": "stream",
          "name": "stdout",
          "text": [
            "  animal  age    name  visits priority\n",
            "a    cat  2.5  Murzik       1      yes\n",
            "f    cat  2.0   Vaska       3       no\n"
          ]
        }
      ]
    },
    {
      "cell_type": "code",
      "source": [
        "# 12\n",
        "# Переменная df содержит DataFrame.\n",
        "\n",
        "# Переменная age_between содержит 2 числа\n",
        "\n",
        "# Выведите только те строки датафрейма, \n",
        "#возраст в которых находится в интервале между числами age_between (включая границы).\n",
        "\n",
        "import pandas as pd\n",
        "import numpy as np\n",
        "\n",
        "df = pd.DataFrame({'animal': ['cat', 'cat', 'snake', 'dog', 'dog', 'cat', 'snake', 'cat', 'dog', 'dog'],\n",
        "                   'age': [2.5, 3, 0.5, np.nan, 5, 2, 4.5, np.nan, 7, 3],\n",
        "                   'name': ['Murzik', 'Pushok', 'Kaa', 'Bobik', 'Strelka', 'Vaska', 'Kaa2', 'Murka', 'Graf', 'Muhtar'],\n",
        "                   'visits': [1, 3, 2, 3, 2, 3, 1, 1, 2, 1],\n",
        "                   'priority': ['yes', 'yes', 'no', 'yes', 'no', 'no', 'no', 'yes', 'no', 'no']}, \n",
        "                 index = ['a', 'b', 'c', 'd', 'e', 'f', 'g', 'h', 'i', 'j'])\n",
        "age_between = [2, 4]\n",
        "\n",
        "df[\n",
        "    (df['age'] >= age_between[0]) & (df['age'] <= age_between[1])\n",
        "    ]\n",
        "\n",
        "df[df['age'].between(*age_between)]"
      ],
      "metadata": {
        "colab": {
          "base_uri": "https://localhost:8080/",
          "height": 175
        },
        "id": "SJLhCxsYVkRL",
        "outputId": "a8bc7e5e-2706-4d87-9d12-a91853970788"
      },
      "execution_count": null,
      "outputs": [
        {
          "output_type": "execute_result",
          "data": {
            "text/plain": [
              "  animal  age    name  visits priority\n",
              "a    cat  2.5  Murzik       1      yes\n",
              "b    cat  3.0  Pushok       3      yes\n",
              "f    cat  2.0   Vaska       3       no\n",
              "j    dog  3.0  Muhtar       1       no"
            ],
            "text/html": [
              "\n",
              "  <div id=\"df-ff601270-9d7e-412f-a2b5-592d2f775bb8\">\n",
              "    <div class=\"colab-df-container\">\n",
              "      <div>\n",
              "<style scoped>\n",
              "    .dataframe tbody tr th:only-of-type {\n",
              "        vertical-align: middle;\n",
              "    }\n",
              "\n",
              "    .dataframe tbody tr th {\n",
              "        vertical-align: top;\n",
              "    }\n",
              "\n",
              "    .dataframe thead th {\n",
              "        text-align: right;\n",
              "    }\n",
              "</style>\n",
              "<table border=\"1\" class=\"dataframe\">\n",
              "  <thead>\n",
              "    <tr style=\"text-align: right;\">\n",
              "      <th></th>\n",
              "      <th>animal</th>\n",
              "      <th>age</th>\n",
              "      <th>name</th>\n",
              "      <th>visits</th>\n",
              "      <th>priority</th>\n",
              "    </tr>\n",
              "  </thead>\n",
              "  <tbody>\n",
              "    <tr>\n",
              "      <th>a</th>\n",
              "      <td>cat</td>\n",
              "      <td>2.5</td>\n",
              "      <td>Murzik</td>\n",
              "      <td>1</td>\n",
              "      <td>yes</td>\n",
              "    </tr>\n",
              "    <tr>\n",
              "      <th>b</th>\n",
              "      <td>cat</td>\n",
              "      <td>3.0</td>\n",
              "      <td>Pushok</td>\n",
              "      <td>3</td>\n",
              "      <td>yes</td>\n",
              "    </tr>\n",
              "    <tr>\n",
              "      <th>f</th>\n",
              "      <td>cat</td>\n",
              "      <td>2.0</td>\n",
              "      <td>Vaska</td>\n",
              "      <td>3</td>\n",
              "      <td>no</td>\n",
              "    </tr>\n",
              "    <tr>\n",
              "      <th>j</th>\n",
              "      <td>dog</td>\n",
              "      <td>3.0</td>\n",
              "      <td>Muhtar</td>\n",
              "      <td>1</td>\n",
              "      <td>no</td>\n",
              "    </tr>\n",
              "  </tbody>\n",
              "</table>\n",
              "</div>\n",
              "      <button class=\"colab-df-convert\" onclick=\"convertToInteractive('df-ff601270-9d7e-412f-a2b5-592d2f775bb8')\"\n",
              "              title=\"Convert this dataframe to an interactive table.\"\n",
              "              style=\"display:none;\">\n",
              "        \n",
              "  <svg xmlns=\"http://www.w3.org/2000/svg\" height=\"24px\"viewBox=\"0 0 24 24\"\n",
              "       width=\"24px\">\n",
              "    <path d=\"M0 0h24v24H0V0z\" fill=\"none\"/>\n",
              "    <path d=\"M18.56 5.44l.94 2.06.94-2.06 2.06-.94-2.06-.94-.94-2.06-.94 2.06-2.06.94zm-11 1L8.5 8.5l.94-2.06 2.06-.94-2.06-.94L8.5 2.5l-.94 2.06-2.06.94zm10 10l.94 2.06.94-2.06 2.06-.94-2.06-.94-.94-2.06-.94 2.06-2.06.94z\"/><path d=\"M17.41 7.96l-1.37-1.37c-.4-.4-.92-.59-1.43-.59-.52 0-1.04.2-1.43.59L10.3 9.45l-7.72 7.72c-.78.78-.78 2.05 0 2.83L4 21.41c.39.39.9.59 1.41.59.51 0 1.02-.2 1.41-.59l7.78-7.78 2.81-2.81c.8-.78.8-2.07 0-2.86zM5.41 20L4 18.59l7.72-7.72 1.47 1.35L5.41 20z\"/>\n",
              "  </svg>\n",
              "      </button>\n",
              "      \n",
              "  <style>\n",
              "    .colab-df-container {\n",
              "      display:flex;\n",
              "      flex-wrap:wrap;\n",
              "      gap: 12px;\n",
              "    }\n",
              "\n",
              "    .colab-df-convert {\n",
              "      background-color: #E8F0FE;\n",
              "      border: none;\n",
              "      border-radius: 50%;\n",
              "      cursor: pointer;\n",
              "      display: none;\n",
              "      fill: #1967D2;\n",
              "      height: 32px;\n",
              "      padding: 0 0 0 0;\n",
              "      width: 32px;\n",
              "    }\n",
              "\n",
              "    .colab-df-convert:hover {\n",
              "      background-color: #E2EBFA;\n",
              "      box-shadow: 0px 1px 2px rgba(60, 64, 67, 0.3), 0px 1px 3px 1px rgba(60, 64, 67, 0.15);\n",
              "      fill: #174EA6;\n",
              "    }\n",
              "\n",
              "    [theme=dark] .colab-df-convert {\n",
              "      background-color: #3B4455;\n",
              "      fill: #D2E3FC;\n",
              "    }\n",
              "\n",
              "    [theme=dark] .colab-df-convert:hover {\n",
              "      background-color: #434B5C;\n",
              "      box-shadow: 0px 1px 3px 1px rgba(0, 0, 0, 0.15);\n",
              "      filter: drop-shadow(0px 1px 2px rgba(0, 0, 0, 0.3));\n",
              "      fill: #FFFFFF;\n",
              "    }\n",
              "  </style>\n",
              "\n",
              "      <script>\n",
              "        const buttonEl =\n",
              "          document.querySelector('#df-ff601270-9d7e-412f-a2b5-592d2f775bb8 button.colab-df-convert');\n",
              "        buttonEl.style.display =\n",
              "          google.colab.kernel.accessAllowed ? 'block' : 'none';\n",
              "\n",
              "        async function convertToInteractive(key) {\n",
              "          const element = document.querySelector('#df-ff601270-9d7e-412f-a2b5-592d2f775bb8');\n",
              "          const dataTable =\n",
              "            await google.colab.kernel.invokeFunction('convertToInteractive',\n",
              "                                                     [key], {});\n",
              "          if (!dataTable) return;\n",
              "\n",
              "          const docLinkHtml = 'Like what you see? Visit the ' +\n",
              "            '<a target=\"_blank\" href=https://colab.research.google.com/notebooks/data_table.ipynb>data table notebook</a>'\n",
              "            + ' to learn more about interactive tables.';\n",
              "          element.innerHTML = '';\n",
              "          dataTable['output_type'] = 'display_data';\n",
              "          await google.colab.output.renderOutput(dataTable, element);\n",
              "          const docLink = document.createElement('div');\n",
              "          docLink.innerHTML = docLinkHtml;\n",
              "          element.appendChild(docLink);\n",
              "        }\n",
              "      </script>\n",
              "    </div>\n",
              "  </div>\n",
              "  "
            ]
          },
          "metadata": {},
          "execution_count": 62
        }
      ]
    },
    {
      "cell_type": "code",
      "source": [
        "# 13.1\n",
        "# Переменная df содержит DataFrame.\n",
        "\n",
        "# Переменная index содержит строку ИЛИ число (индекс)\n",
        "\n",
        "# Увеличьте значение возраста в строке индексом равным index на 1.\n",
        "\n",
        "# Выведите df на печать.\n",
        "\n",
        "import pandas as pd\n",
        "import numpy as np\n",
        "\n",
        "df = pd.DataFrame({'animal': ['cat', 'cat', 'snake', 'dog', 'dog', 'cat', 'snake', 'cat', 'dog', 'dog'],\n",
        "                   'age': [2.5, 3, 0.5, np.nan, 5, 2, 4.5, np.nan, 7, 3],\n",
        "                   'name': ['Murzik', 'Pushok', 'Kaa', 'Bobik', 'Strelka', 'Vaska', 'Kaa2', 'Murka', 'Graf', 'Muhtar'],\n",
        "                   'visits': [1, 3, 2, 3, 2, 3, 1, 1, 2, 1],\n",
        "                   'priority': ['yes', 'yes', 'no', 'yes', 'no', 'no', 'no', 'yes', 'no', 'no']},\n",
        "                 index = ['a', 'b', 'c', 'd', 'e', 'f', 'g', 'h', 'i', 'j'])\n",
        "index = 'f'\n",
        "'''\n",
        "df = pd.DataFrame({'name' : [\"Alex\", \"Bob\", \"Carmen\", \"Diaz\", \"Ella\",\"Forman\", \"Glen\"],\n",
        "                   'age' : [20, 27, 35, 55, 18, 21, 35],\n",
        "                   'designation': [\"VP\", \"CEO\", \"CFO\", \"VP\", \"VP\", \"CEO\", \"MD\"]})\n",
        "index = 2\n",
        "'''\n",
        "value = None\n",
        "'''\n",
        "if type(index) == int:\n",
        "    value = df.iloc[index]['age']\n",
        "else:\n",
        "    value = df.loc[index, 'age']\n",
        "\n",
        "df = df.replace(value, value+1)\n",
        "'''\n",
        "\n",
        "df['age'][index] += 1\n",
        "print(df)"
      ],
      "metadata": {
        "colab": {
          "base_uri": "https://localhost:8080/"
        },
        "id": "5oxN9UgsXfN2",
        "outputId": "43bb4f71-319c-4ecd-8a41-23e569145c47"
      },
      "execution_count": null,
      "outputs": [
        {
          "output_type": "stream",
          "name": "stdout",
          "text": [
            "  animal    age     name  visits priority\n",
            "a    cat    2.5   Murzik       1      yes\n",
            "b    cat    3.0   Pushok       3      yes\n",
            "c  snake    0.5      Kaa       2       no\n",
            "d    dog    NaN    Bobik       3      yes\n",
            "e    dog    5.0  Strelka       2       no\n",
            "f    cat  102.0    Vaska       3       no\n",
            "g  snake    4.5     Kaa2       1       no\n",
            "h    cat    NaN    Murka       1      yes\n",
            "i    dog    7.0     Graf       2       no\n",
            "j    dog    3.0   Muhtar       1       no\n"
          ]
        },
        {
          "output_type": "stream",
          "name": "stderr",
          "text": [
            "/usr/local/lib/python3.7/dist-packages/ipykernel_launcher.py:36: SettingWithCopyWarning: \n",
            "A value is trying to be set on a copy of a slice from a DataFrame\n",
            "\n",
            "See the caveats in the documentation: https://pandas.pydata.org/pandas-docs/stable/user_guide/indexing.html#returning-a-view-versus-a-copy\n"
          ]
        }
      ]
    },
    {
      "cell_type": "code",
      "source": [
        "# 13.2\n",
        "# Переменная df содержит DataFrame.\n",
        "\n",
        "# Увеличьте значение возраста во всех строках на 1.\n",
        "\n",
        "# Выведите df на печать.\n",
        "\n",
        "df = pd.DataFrame({'animal': ['cat', 'cat', 'snake', 'dog', 'dog', 'cat', 'snake', 'cat', 'dog', 'dog'],\n",
        "                   'age': [2.5, 3, 0.5, np.nan, 5, 2, 4.5, np.nan, 7, 3],\n",
        "                   'name': ['Murzik', 'Pushok', 'Kaa', 'Bobik', 'Strelka', 'Vaska', 'Kaa2', 'Murka', 'Graf', 'Muhtar'],\n",
        "                   'visits': [1, 3, 2, 3, 2, 3, 1, 1, 2, 1],\n",
        "                   'priority': ['yes', 'yes', 'no', 'yes', 'no', 'no', 'no', 'yes', 'no', 'no']},\n",
        "                 index = ['a', 'b', 'c', 'd', 'e', 'f', 'g', 'h', 'i', 'j'])\n",
        "\n",
        "df['age'] += 100\n",
        "print(df)"
      ],
      "metadata": {
        "colab": {
          "base_uri": "https://localhost:8080/"
        },
        "id": "QEhUso45hF8y",
        "outputId": "6cd77a6a-642a-4419-a562-a8f2d3ca9e28"
      },
      "execution_count": null,
      "outputs": [
        {
          "output_type": "stream",
          "name": "stdout",
          "text": [
            "  animal    age     name  visits priority\n",
            "a    cat  102.5   Murzik       1      yes\n",
            "b    cat  103.0   Pushok       3      yes\n",
            "c  snake  100.5      Kaa       2       no\n",
            "d    dog    NaN    Bobik       3      yes\n",
            "e    dog  105.0  Strelka       2       no\n",
            "f    cat  102.0    Vaska       3       no\n",
            "g  snake  104.5     Kaa2       1       no\n",
            "h    cat    NaN    Murka       1      yes\n",
            "i    dog  107.0     Graf       2       no\n",
            "j    dog  103.0   Muhtar       1       no\n"
          ]
        }
      ]
    },
    {
      "cell_type": "code",
      "source": [
        "# 14.1\n",
        "# Переменная df содержит DataFrame.\n",
        "\n",
        "# Выведите на печать сумму всех возрастов в df.\n",
        "import pandas as pd\n",
        "import numpy as np\n",
        "\n",
        "df = pd.DataFrame({'animal': ['cat', 'cat', 'snake', 'dog', 'dog', 'cat', 'snake', 'cat', 'dog', 'dog'],\n",
        "                   'age': [2.5, 3, 0.5, np.nan, 5, 2, 4.5, np.nan, 7, 3],\n",
        "                   'name': ['Murzik', 'Pushok', 'Kaa', 'Bobik', 'Strelka', 'Vaska', 'Kaa2', 'Murka', 'Graf', 'Muhtar'],\n",
        "                   'visits': [1, 3, 2, 3, 2, 3, 1, 1, 2, 1],\n",
        "                   'priority': ['yes', 'yes', 'no', 'yes', 'no', 'no', 'no', 'yes', 'no', 'no']},\n",
        "                 index = ['a', 'b', 'c', 'd', 'e', 'f', 'g', 'h', 'i', 'j'])\n",
        "\n",
        "print(df['age'].sum())"
      ],
      "metadata": {
        "colab": {
          "base_uri": "https://localhost:8080/"
        },
        "id": "eyimslivmIK0",
        "outputId": "bd6e37c9-a64c-46ba-dd5c-fd223fa108bf"
      },
      "execution_count": null,
      "outputs": [
        {
          "output_type": "execute_result",
          "data": {
            "text/plain": [
              "27.5"
            ]
          },
          "metadata": {},
          "execution_count": 173
        }
      ]
    },
    {
      "cell_type": "code",
      "source": [
        "# 4.2\n",
        "# Переменная df содержит DataFrame.\n",
        "\n",
        "# Выведите на печать для каждого столбца, содержащего числа его имя и сумму через двоеточие.\n",
        "\n",
        "df = pd.DataFrame({'animal': ['cat', 'cat', 'snake', 'dog', 'dog', 'cat', 'snake', 'cat', 'dog', 'dog'],\n",
        "                   'age': [2.5, 3, 0.5, np.nan, 5, 2, 4.5, np.nan, 7, 3],\n",
        "                   'name': ['Murzik', 'Pushok', 'Kaa', 'Bobik', 'Strelka', 'Vaska', 'Kaa2', 'Murka', 'Graf', 'Muhtar'],\n",
        "                   'visits': [1, 3, 2, 3, 2, 3, 1, 1, 2, 1],\n",
        "                   'priority': ['yes', 'yes', 'no', 'yes', 'no', 'no', 'no', 'yes', 'no', 'no']},\n",
        "                 index = ['a', 'b', 'c', 'd', 'e', 'f', 'g', 'h', 'i', 'j'])\n",
        "\n",
        "for key, value in dict(df.sum(numeric_only=True)).items():\n",
        "    print(key, value, sep=':')"
      ],
      "metadata": {
        "colab": {
          "base_uri": "https://localhost:8080/"
        },
        "id": "vwDzQecHm6Z5",
        "outputId": "60c732c8-58b9-4e59-d9c2-d3bff9964002"
      },
      "execution_count": null,
      "outputs": [
        {
          "output_type": "stream",
          "name": "stdout",
          "text": [
            "age:27.5\n",
            "visits:19.0\n"
          ]
        }
      ]
    },
    {
      "cell_type": "code",
      "source": [
        "# 15\n",
        "# Переменная df содержит DataFrame.\n",
        "\n",
        "# Переменная group_by содержит имя колонки по которой производится группировка.\n",
        "\n",
        "# Найдите средние значение возраста по всем записям, \n",
        "# сгруппированным по значению в колонке group_by и выведите на печать.\n",
        "\n",
        " \n",
        "\n",
        "# Например, если group_by='animal', \n",
        "# то для первого Dataframe надо получить таблицу \n",
        "# со средними для каждого вида животных: кошек, собак, змей.\n",
        "\n",
        "df = pd.DataFrame({'animal': ['cat', 'cat', 'snake', 'dog', 'dog', 'cat', 'snake', 'cat', 'dog', 'dog'],\n",
        "                   'age': [2.5, 3, 0.5, np.nan, 5, 2, 4.5, np.nan, 7, 3],\n",
        "                   'name': ['Murzik', 'Pushok', 'Kaa', 'Bobik', 'Strelka', 'Vaska', 'Kaa2', 'Murka', 'Graf', 'Muhtar'],\n",
        "                   'visits': [1, 3, 2, 3, 2, 3, 1, 1, 2, 1],\n",
        "                   'priority': ['yes', 'yes', 'no', 'yes', 'no', 'no', 'no', 'yes', 'no', 'no']},\n",
        "                 index = ['a', 'b', 'c', 'd', 'e', 'f', 'g', 'h', 'i', 'j'])\n",
        "group_by = \"animal\"\n",
        "\n",
        "df.groupby(group_by)['age'].mean()"
      ],
      "metadata": {
        "colab": {
          "base_uri": "https://localhost:8080/"
        },
        "id": "wzAjDkaHpFQh",
        "outputId": "87625722-c680-4899-d995-7ef52be74d0e"
      },
      "execution_count": null,
      "outputs": [
        {
          "output_type": "execute_result",
          "data": {
            "text/plain": [
              "animal\n",
              "cat      2.5\n",
              "dog      5.0\n",
              "snake    2.5\n",
              "Name: age, dtype: float64"
            ]
          },
          "metadata": {},
          "execution_count": 187
        }
      ]
    },
    {
      "cell_type": "code",
      "source": [
        "# 16\n",
        "# Переменная df содержит DataFrame.\n",
        "\n",
        "# new_index - индекс для строки, которую надо добавить\n",
        "# new_data - значения для строки, которую надо добавить\n",
        "# del_index - индекс строки, которую надо удалить\n",
        "# Добавьте новую строку (с индексом new_index и значениями new_data) и удалите одну из старых (del_index)\n",
        "\n",
        "# Выведите df на печать.\n",
        "import pandas as pd\n",
        "import numpy as np\n",
        "\n",
        "df = pd.DataFrame({'animal': ['cat', 'cat', 'snake', 'dog', 'dog', 'cat', 'snake', 'cat', 'dog', 'dog'],\n",
        "                   'age': [2.5, 3, 0.5, np.nan, 5, 2, 4.5, np.nan, 7, 3],\n",
        "                   'name': ['Murzik', 'Pushok', 'Kaa', 'Bobik', 'Strelka', 'Vaska', 'Kaa2', 'Murka', 'Graf', 'Muhtar'],\n",
        "                   'visits': [1, 3, 2, 3, 2, 3, 1, 1, 2, 1],\n",
        "                   'priority': ['yes', 'yes', 'no', 'yes', 'no', 'no', 'no', 'yes', 'no', 'no']},\n",
        "                 index = ['a', 'b', 'c', 'd', 'e', 'f', 'g', 'h', 'i', 'j'])\n",
        "new_index = \"k\"\n",
        "new_data = [5.5, \"dog\", \"Belka\", \"no\", 2]\n",
        "del_index = \"f\"\n",
        "\n",
        "df = pd.DataFrame({'name' : [\"Alex\", \"Bob\", \"Carmen\", \"Diaz\", \"Ella\",\"Forman\", \"Glen\"],\n",
        "                   'age' : [20, 27, 35, 55, 18, 21, 35],\n",
        "                   'designation': [\"VP\", \"CEO\", \"CFO\", \"VP\", \"VP\", \"CEO\", \"MD\"]})\n",
        "new_index = 42\n",
        "new_data = [33, \"MD\", \"Aleksey\"]\n",
        "del_index = 3\n",
        "'''\n",
        "new_df = pd.DataFrame(dict(zip(list(df), new_data)), index=[new_index])\n",
        "new_df\n",
        "df = df.append(new_df)\n",
        "df = df.drop(del_index)\n",
        "'''\n",
        "df.loc[new_index] = new_data\n",
        "df.drop(del_index, inplace=True)\n",
        "display(df)"
      ],
      "metadata": {
        "colab": {
          "base_uri": "https://localhost:8080/",
          "height": 269
        },
        "id": "9eUMz1Kfpyae",
        "outputId": "382a93ba-dbcf-496b-ff42-7910b6b41ff1"
      },
      "execution_count": null,
      "outputs": [
        {
          "output_type": "display_data",
          "data": {
            "text/plain": [
              "      name age designation\n",
              "0     Alex  20          VP\n",
              "1      Bob  27         CEO\n",
              "2   Carmen  35         CFO\n",
              "4     Ella  18          VP\n",
              "5   Forman  21         CEO\n",
              "6     Glen  35          MD\n",
              "42      33  MD     Aleksey"
            ],
            "text/html": [
              "\n",
              "  <div id=\"df-66a69e38-bf80-475c-a0db-db27998f2e07\">\n",
              "    <div class=\"colab-df-container\">\n",
              "      <div>\n",
              "<style scoped>\n",
              "    .dataframe tbody tr th:only-of-type {\n",
              "        vertical-align: middle;\n",
              "    }\n",
              "\n",
              "    .dataframe tbody tr th {\n",
              "        vertical-align: top;\n",
              "    }\n",
              "\n",
              "    .dataframe thead th {\n",
              "        text-align: right;\n",
              "    }\n",
              "</style>\n",
              "<table border=\"1\" class=\"dataframe\">\n",
              "  <thead>\n",
              "    <tr style=\"text-align: right;\">\n",
              "      <th></th>\n",
              "      <th>name</th>\n",
              "      <th>age</th>\n",
              "      <th>designation</th>\n",
              "    </tr>\n",
              "  </thead>\n",
              "  <tbody>\n",
              "    <tr>\n",
              "      <th>0</th>\n",
              "      <td>Alex</td>\n",
              "      <td>20</td>\n",
              "      <td>VP</td>\n",
              "    </tr>\n",
              "    <tr>\n",
              "      <th>1</th>\n",
              "      <td>Bob</td>\n",
              "      <td>27</td>\n",
              "      <td>CEO</td>\n",
              "    </tr>\n",
              "    <tr>\n",
              "      <th>2</th>\n",
              "      <td>Carmen</td>\n",
              "      <td>35</td>\n",
              "      <td>CFO</td>\n",
              "    </tr>\n",
              "    <tr>\n",
              "      <th>4</th>\n",
              "      <td>Ella</td>\n",
              "      <td>18</td>\n",
              "      <td>VP</td>\n",
              "    </tr>\n",
              "    <tr>\n",
              "      <th>5</th>\n",
              "      <td>Forman</td>\n",
              "      <td>21</td>\n",
              "      <td>CEO</td>\n",
              "    </tr>\n",
              "    <tr>\n",
              "      <th>6</th>\n",
              "      <td>Glen</td>\n",
              "      <td>35</td>\n",
              "      <td>MD</td>\n",
              "    </tr>\n",
              "    <tr>\n",
              "      <th>42</th>\n",
              "      <td>33</td>\n",
              "      <td>MD</td>\n",
              "      <td>Aleksey</td>\n",
              "    </tr>\n",
              "  </tbody>\n",
              "</table>\n",
              "</div>\n",
              "      <button class=\"colab-df-convert\" onclick=\"convertToInteractive('df-66a69e38-bf80-475c-a0db-db27998f2e07')\"\n",
              "              title=\"Convert this dataframe to an interactive table.\"\n",
              "              style=\"display:none;\">\n",
              "        \n",
              "  <svg xmlns=\"http://www.w3.org/2000/svg\" height=\"24px\"viewBox=\"0 0 24 24\"\n",
              "       width=\"24px\">\n",
              "    <path d=\"M0 0h24v24H0V0z\" fill=\"none\"/>\n",
              "    <path d=\"M18.56 5.44l.94 2.06.94-2.06 2.06-.94-2.06-.94-.94-2.06-.94 2.06-2.06.94zm-11 1L8.5 8.5l.94-2.06 2.06-.94-2.06-.94L8.5 2.5l-.94 2.06-2.06.94zm10 10l.94 2.06.94-2.06 2.06-.94-2.06-.94-.94-2.06-.94 2.06-2.06.94z\"/><path d=\"M17.41 7.96l-1.37-1.37c-.4-.4-.92-.59-1.43-.59-.52 0-1.04.2-1.43.59L10.3 9.45l-7.72 7.72c-.78.78-.78 2.05 0 2.83L4 21.41c.39.39.9.59 1.41.59.51 0 1.02-.2 1.41-.59l7.78-7.78 2.81-2.81c.8-.78.8-2.07 0-2.86zM5.41 20L4 18.59l7.72-7.72 1.47 1.35L5.41 20z\"/>\n",
              "  </svg>\n",
              "      </button>\n",
              "      \n",
              "  <style>\n",
              "    .colab-df-container {\n",
              "      display:flex;\n",
              "      flex-wrap:wrap;\n",
              "      gap: 12px;\n",
              "    }\n",
              "\n",
              "    .colab-df-convert {\n",
              "      background-color: #E8F0FE;\n",
              "      border: none;\n",
              "      border-radius: 50%;\n",
              "      cursor: pointer;\n",
              "      display: none;\n",
              "      fill: #1967D2;\n",
              "      height: 32px;\n",
              "      padding: 0 0 0 0;\n",
              "      width: 32px;\n",
              "    }\n",
              "\n",
              "    .colab-df-convert:hover {\n",
              "      background-color: #E2EBFA;\n",
              "      box-shadow: 0px 1px 2px rgba(60, 64, 67, 0.3), 0px 1px 3px 1px rgba(60, 64, 67, 0.15);\n",
              "      fill: #174EA6;\n",
              "    }\n",
              "\n",
              "    [theme=dark] .colab-df-convert {\n",
              "      background-color: #3B4455;\n",
              "      fill: #D2E3FC;\n",
              "    }\n",
              "\n",
              "    [theme=dark] .colab-df-convert:hover {\n",
              "      background-color: #434B5C;\n",
              "      box-shadow: 0px 1px 3px 1px rgba(0, 0, 0, 0.15);\n",
              "      filter: drop-shadow(0px 1px 2px rgba(0, 0, 0, 0.3));\n",
              "      fill: #FFFFFF;\n",
              "    }\n",
              "  </style>\n",
              "\n",
              "      <script>\n",
              "        const buttonEl =\n",
              "          document.querySelector('#df-66a69e38-bf80-475c-a0db-db27998f2e07 button.colab-df-convert');\n",
              "        buttonEl.style.display =\n",
              "          google.colab.kernel.accessAllowed ? 'block' : 'none';\n",
              "\n",
              "        async function convertToInteractive(key) {\n",
              "          const element = document.querySelector('#df-66a69e38-bf80-475c-a0db-db27998f2e07');\n",
              "          const dataTable =\n",
              "            await google.colab.kernel.invokeFunction('convertToInteractive',\n",
              "                                                     [key], {});\n",
              "          if (!dataTable) return;\n",
              "\n",
              "          const docLinkHtml = 'Like what you see? Visit the ' +\n",
              "            '<a target=\"_blank\" href=https://colab.research.google.com/notebooks/data_table.ipynb>data table notebook</a>'\n",
              "            + ' to learn more about interactive tables.';\n",
              "          element.innerHTML = '';\n",
              "          dataTable['output_type'] = 'display_data';\n",
              "          await google.colab.output.renderOutput(dataTable, element);\n",
              "          const docLink = document.createElement('div');\n",
              "          docLink.innerHTML = docLinkHtml;\n",
              "          element.appendChild(docLink);\n",
              "        }\n",
              "      </script>\n",
              "    </div>\n",
              "  </div>\n",
              "  "
            ]
          },
          "metadata": {}
        }
      ]
    },
    {
      "cell_type": "code",
      "source": [
        "    # 17\n",
        "# Переменная df содержит DataFrame.\n",
        "\n",
        "# Переменная group_by содержит имя колонки по которой производится группировка.\n",
        "\n",
        "# Найдите количество записей каждого типа, сгруппированным по значению в колонке group_by.\n",
        "import numpy as np\n",
        "import pandas as pd\n",
        "\n",
        "df = pd.DataFrame({'animal': ['cat', 'cat', 'snake', 'dog', 'dog', 'cat', 'snake', 'cat', 'dog'],\n",
        "                   'age': [2.5, 3, 0.5, np.nan, 5, 2, 4.5, np.nan, 7],\n",
        "                   'name': ['Murzik', 'Pushok', 'Kaa', 'Bobik', 'Strelka', 'Vaska', 'Kaa2', 'Murka', 'Graf'],\n",
        "                   'visits': [1, 3, 2, 3, 2, 3, 1, 1, 2],\n",
        "                   'priority': ['yes', 'yes', 'no', 'yes', 'no', 'no', 'no', 'yes', 'no']},\n",
        "                 index = ['a', 'b', 'c', 'd', 'e', 'f', 'g', 'h', 'i'])\n",
        "group_by = \"animal\"\n",
        "\n",
        "df['animal'].value_counts()"
      ],
      "metadata": {
        "id": "k0hclO95Gk6C",
        "colab": {
          "base_uri": "https://localhost:8080/"
        },
        "outputId": "a942e604-7f95-4d5a-b6fb-3a82c61b4b83"
      },
      "execution_count": null,
      "outputs": [
        {
          "output_type": "execute_result",
          "data": {
            "text/plain": [
              "cat      4\n",
              "dog      3\n",
              "snake    2\n",
              "Name: animal, dtype: int64"
            ]
          },
          "metadata": {},
          "execution_count": 22
        }
      ]
    },
    {
      "cell_type": "code",
      "source": [
        "# 18\n",
        "# Переменная df содержит DataFrame.\n",
        "\n",
        "# Переменная sort_by содержит список из 2 строк - имён столбцов по которым необходимо провести сортировку.\n",
        "\n",
        "# Отсортируйте сперва по уменьшению 1 поля из списка sort_by, а при равенстве значений по увеличению 2.\n",
        "\n",
        "# Выведите df на печать.\n",
        "\n",
        "import pandas as pd\n",
        "import numpy as np\n",
        "\n",
        "df = pd.DataFrame({'animal': ['cat', 'cat', 'snake', 'dog', 'dog', 'cat', 'snake', 'cat', 'dog', 'dog'],\n",
        "                   'age': [2.5, 3, 0.5, np.nan, 5, 2, 4.5, np.nan, 7, 3],\n",
        "                   'name': ['Murzik', 'Pushok', 'Kaa', 'Bobik', 'Strelka', 'Vaska', 'Kaa2', 'Murka', 'Graf', 'Muhtar'],\n",
        "                   'visits': [1, 3, 2, 3, 2, 3, 1, 1, 2, 1],\n",
        "                   'priority': ['yes', 'yes', 'no', 'yes', 'no', 'no', 'no', 'yes', 'no', 'no']},\n",
        "                 index = ['a', 'b', 'c', 'd', 'e', 'f', 'g', 'h', 'i', 'j'])\n",
        "sort_by = [\"age\", \"visits\"]\n",
        "df.sort_values(sort_by, ascending=[False, True])"
      ],
      "metadata": {
        "colab": {
          "base_uri": "https://localhost:8080/",
          "height": 363
        },
        "id": "KZYrMGATLbKH",
        "outputId": "e096cafb-7882-4b58-b934-7ba6dda5d392"
      },
      "execution_count": null,
      "outputs": [
        {
          "output_type": "execute_result",
          "data": {
            "text/plain": [
              "  animal  age     name  visits priority\n",
              "i    dog  7.0     Graf       2       no\n",
              "e    dog  5.0  Strelka       2       no\n",
              "g  snake  4.5     Kaa2       1       no\n",
              "j    dog  3.0   Muhtar       1       no\n",
              "b    cat  3.0   Pushok       3      yes\n",
              "a    cat  2.5   Murzik       1      yes\n",
              "f    cat  2.0    Vaska       3       no\n",
              "c  snake  0.5      Kaa       2       no\n",
              "h    cat  NaN    Murka       1      yes\n",
              "d    dog  NaN    Bobik       3      yes"
            ],
            "text/html": [
              "\n",
              "  <div id=\"df-fadf99c1-c25f-4843-96e4-209ad6d65cce\">\n",
              "    <div class=\"colab-df-container\">\n",
              "      <div>\n",
              "<style scoped>\n",
              "    .dataframe tbody tr th:only-of-type {\n",
              "        vertical-align: middle;\n",
              "    }\n",
              "\n",
              "    .dataframe tbody tr th {\n",
              "        vertical-align: top;\n",
              "    }\n",
              "\n",
              "    .dataframe thead th {\n",
              "        text-align: right;\n",
              "    }\n",
              "</style>\n",
              "<table border=\"1\" class=\"dataframe\">\n",
              "  <thead>\n",
              "    <tr style=\"text-align: right;\">\n",
              "      <th></th>\n",
              "      <th>animal</th>\n",
              "      <th>age</th>\n",
              "      <th>name</th>\n",
              "      <th>visits</th>\n",
              "      <th>priority</th>\n",
              "    </tr>\n",
              "  </thead>\n",
              "  <tbody>\n",
              "    <tr>\n",
              "      <th>i</th>\n",
              "      <td>dog</td>\n",
              "      <td>7.0</td>\n",
              "      <td>Graf</td>\n",
              "      <td>2</td>\n",
              "      <td>no</td>\n",
              "    </tr>\n",
              "    <tr>\n",
              "      <th>e</th>\n",
              "      <td>dog</td>\n",
              "      <td>5.0</td>\n",
              "      <td>Strelka</td>\n",
              "      <td>2</td>\n",
              "      <td>no</td>\n",
              "    </tr>\n",
              "    <tr>\n",
              "      <th>g</th>\n",
              "      <td>snake</td>\n",
              "      <td>4.5</td>\n",
              "      <td>Kaa2</td>\n",
              "      <td>1</td>\n",
              "      <td>no</td>\n",
              "    </tr>\n",
              "    <tr>\n",
              "      <th>j</th>\n",
              "      <td>dog</td>\n",
              "      <td>3.0</td>\n",
              "      <td>Muhtar</td>\n",
              "      <td>1</td>\n",
              "      <td>no</td>\n",
              "    </tr>\n",
              "    <tr>\n",
              "      <th>b</th>\n",
              "      <td>cat</td>\n",
              "      <td>3.0</td>\n",
              "      <td>Pushok</td>\n",
              "      <td>3</td>\n",
              "      <td>yes</td>\n",
              "    </tr>\n",
              "    <tr>\n",
              "      <th>a</th>\n",
              "      <td>cat</td>\n",
              "      <td>2.5</td>\n",
              "      <td>Murzik</td>\n",
              "      <td>1</td>\n",
              "      <td>yes</td>\n",
              "    </tr>\n",
              "    <tr>\n",
              "      <th>f</th>\n",
              "      <td>cat</td>\n",
              "      <td>2.0</td>\n",
              "      <td>Vaska</td>\n",
              "      <td>3</td>\n",
              "      <td>no</td>\n",
              "    </tr>\n",
              "    <tr>\n",
              "      <th>c</th>\n",
              "      <td>snake</td>\n",
              "      <td>0.5</td>\n",
              "      <td>Kaa</td>\n",
              "      <td>2</td>\n",
              "      <td>no</td>\n",
              "    </tr>\n",
              "    <tr>\n",
              "      <th>h</th>\n",
              "      <td>cat</td>\n",
              "      <td>NaN</td>\n",
              "      <td>Murka</td>\n",
              "      <td>1</td>\n",
              "      <td>yes</td>\n",
              "    </tr>\n",
              "    <tr>\n",
              "      <th>d</th>\n",
              "      <td>dog</td>\n",
              "      <td>NaN</td>\n",
              "      <td>Bobik</td>\n",
              "      <td>3</td>\n",
              "      <td>yes</td>\n",
              "    </tr>\n",
              "  </tbody>\n",
              "</table>\n",
              "</div>\n",
              "      <button class=\"colab-df-convert\" onclick=\"convertToInteractive('df-fadf99c1-c25f-4843-96e4-209ad6d65cce')\"\n",
              "              title=\"Convert this dataframe to an interactive table.\"\n",
              "              style=\"display:none;\">\n",
              "        \n",
              "  <svg xmlns=\"http://www.w3.org/2000/svg\" height=\"24px\"viewBox=\"0 0 24 24\"\n",
              "       width=\"24px\">\n",
              "    <path d=\"M0 0h24v24H0V0z\" fill=\"none\"/>\n",
              "    <path d=\"M18.56 5.44l.94 2.06.94-2.06 2.06-.94-2.06-.94-.94-2.06-.94 2.06-2.06.94zm-11 1L8.5 8.5l.94-2.06 2.06-.94-2.06-.94L8.5 2.5l-.94 2.06-2.06.94zm10 10l.94 2.06.94-2.06 2.06-.94-2.06-.94-.94-2.06-.94 2.06-2.06.94z\"/><path d=\"M17.41 7.96l-1.37-1.37c-.4-.4-.92-.59-1.43-.59-.52 0-1.04.2-1.43.59L10.3 9.45l-7.72 7.72c-.78.78-.78 2.05 0 2.83L4 21.41c.39.39.9.59 1.41.59.51 0 1.02-.2 1.41-.59l7.78-7.78 2.81-2.81c.8-.78.8-2.07 0-2.86zM5.41 20L4 18.59l7.72-7.72 1.47 1.35L5.41 20z\"/>\n",
              "  </svg>\n",
              "      </button>\n",
              "      \n",
              "  <style>\n",
              "    .colab-df-container {\n",
              "      display:flex;\n",
              "      flex-wrap:wrap;\n",
              "      gap: 12px;\n",
              "    }\n",
              "\n",
              "    .colab-df-convert {\n",
              "      background-color: #E8F0FE;\n",
              "      border: none;\n",
              "      border-radius: 50%;\n",
              "      cursor: pointer;\n",
              "      display: none;\n",
              "      fill: #1967D2;\n",
              "      height: 32px;\n",
              "      padding: 0 0 0 0;\n",
              "      width: 32px;\n",
              "    }\n",
              "\n",
              "    .colab-df-convert:hover {\n",
              "      background-color: #E2EBFA;\n",
              "      box-shadow: 0px 1px 2px rgba(60, 64, 67, 0.3), 0px 1px 3px 1px rgba(60, 64, 67, 0.15);\n",
              "      fill: #174EA6;\n",
              "    }\n",
              "\n",
              "    [theme=dark] .colab-df-convert {\n",
              "      background-color: #3B4455;\n",
              "      fill: #D2E3FC;\n",
              "    }\n",
              "\n",
              "    [theme=dark] .colab-df-convert:hover {\n",
              "      background-color: #434B5C;\n",
              "      box-shadow: 0px 1px 3px 1px rgba(0, 0, 0, 0.15);\n",
              "      filter: drop-shadow(0px 1px 2px rgba(0, 0, 0, 0.3));\n",
              "      fill: #FFFFFF;\n",
              "    }\n",
              "  </style>\n",
              "\n",
              "      <script>\n",
              "        const buttonEl =\n",
              "          document.querySelector('#df-fadf99c1-c25f-4843-96e4-209ad6d65cce button.colab-df-convert');\n",
              "        buttonEl.style.display =\n",
              "          google.colab.kernel.accessAllowed ? 'block' : 'none';\n",
              "\n",
              "        async function convertToInteractive(key) {\n",
              "          const element = document.querySelector('#df-fadf99c1-c25f-4843-96e4-209ad6d65cce');\n",
              "          const dataTable =\n",
              "            await google.colab.kernel.invokeFunction('convertToInteractive',\n",
              "                                                     [key], {});\n",
              "          if (!dataTable) return;\n",
              "\n",
              "          const docLinkHtml = 'Like what you see? Visit the ' +\n",
              "            '<a target=\"_blank\" href=https://colab.research.google.com/notebooks/data_table.ipynb>data table notebook</a>'\n",
              "            + ' to learn more about interactive tables.';\n",
              "          element.innerHTML = '';\n",
              "          dataTable['output_type'] = 'display_data';\n",
              "          await google.colab.output.renderOutput(dataTable, element);\n",
              "          const docLink = document.createElement('div');\n",
              "          docLink.innerHTML = docLinkHtml;\n",
              "          element.appendChild(docLink);\n",
              "        }\n",
              "      </script>\n",
              "    </div>\n",
              "  </div>\n",
              "  "
            ]
          },
          "metadata": {},
          "execution_count": 27
        }
      ]
    },
    {
      "cell_type": "code",
      "source": [
        "# 19\n",
        "# Переменная df содержит DataFrame.\n",
        "\n",
        "# Переменная column содержит имя колонки, содержащей строковые значения \"yes\", \"no\", либо числовые 1 или 0.\n",
        "\n",
        "# Замените в column:\n",
        "\n",
        "# \"yes\" и 1 на True\n",
        "# \"no\" и 0 на False\n",
        "# Выведите df на печать\n",
        "\n",
        "import pandas as pd\n",
        "import numpy as np\n",
        "\n",
        "df = pd.DataFrame({'animal': ['cat', 'cat', 'snake', 'dog', 'dog', 'cat', 'snake', 'cat', 'dog', 'dog'],\n",
        "                   'age': [2.5, 3, 0.5, np.nan, 5, 2, 4.5, np.nan, 7, 3],\n",
        "                   'name': ['Murzik', 'Pushok', 'Kaa', 'Bobik', 'Strelka', 'Vaska', 'Kaa2', 'Murka', 'Graf', 'Muhtar'],\n",
        "                   'visits': [1, 3, 2, 3, 2, 3, 1, 1, 2, 1],\n",
        "                   'priority': ['yes', 'yes', 'no', 'yes', 'no', 'no', 'no', 'yes', 'no', 'no']},\n",
        "                 index = ['a', 'b', 'c', 'd', 'e', 'f', 'g', 'h', 'i', 'j'])\n",
        "column = \"priority\"\n",
        "\n",
        "#dfs = pd.Series(df[column]=='yes' )\n",
        "#dfs\n",
        "df[column] = df[column].map({'yes': True, 1: True, 'no': False, 0: False})\n",
        "df\n",
        "# df[df[column]=='yes'][column].map()\n",
        "#df[column] = dfs\n",
        "#df\n",
        "# df[column] = df[column].replace(['yes',1,'no',0], [True, True, False, False])\n",
        "#df[column] = df[column].map(replace(['yes',1,'no',0], [True, True, False, False])\n",
        "\n",
        "# print(df)\n"
      ],
      "metadata": {
        "colab": {
          "base_uri": "https://localhost:8080/",
          "height": 363
        },
        "id": "tgIR_BzqRLZW",
        "outputId": "cf11059e-02f3-450f-ed64-b35cb94746be"
      },
      "execution_count": null,
      "outputs": [
        {
          "output_type": "execute_result",
          "data": {
            "text/plain": [
              "  animal  age     name  visits  priority\n",
              "a    cat  2.5   Murzik       1      True\n",
              "b    cat  3.0   Pushok       3      True\n",
              "c  snake  0.5      Kaa       2     False\n",
              "d    dog  NaN    Bobik       3      True\n",
              "e    dog  5.0  Strelka       2     False\n",
              "f    cat  2.0    Vaska       3     False\n",
              "g  snake  4.5     Kaa2       1     False\n",
              "h    cat  NaN    Murka       1      True\n",
              "i    dog  7.0     Graf       2     False\n",
              "j    dog  3.0   Muhtar       1     False"
            ],
            "text/html": [
              "\n",
              "  <div id=\"df-7a21dd5f-48df-4b6a-8c7b-aabca5651ea1\">\n",
              "    <div class=\"colab-df-container\">\n",
              "      <div>\n",
              "<style scoped>\n",
              "    .dataframe tbody tr th:only-of-type {\n",
              "        vertical-align: middle;\n",
              "    }\n",
              "\n",
              "    .dataframe tbody tr th {\n",
              "        vertical-align: top;\n",
              "    }\n",
              "\n",
              "    .dataframe thead th {\n",
              "        text-align: right;\n",
              "    }\n",
              "</style>\n",
              "<table border=\"1\" class=\"dataframe\">\n",
              "  <thead>\n",
              "    <tr style=\"text-align: right;\">\n",
              "      <th></th>\n",
              "      <th>animal</th>\n",
              "      <th>age</th>\n",
              "      <th>name</th>\n",
              "      <th>visits</th>\n",
              "      <th>priority</th>\n",
              "    </tr>\n",
              "  </thead>\n",
              "  <tbody>\n",
              "    <tr>\n",
              "      <th>a</th>\n",
              "      <td>cat</td>\n",
              "      <td>2.5</td>\n",
              "      <td>Murzik</td>\n",
              "      <td>1</td>\n",
              "      <td>True</td>\n",
              "    </tr>\n",
              "    <tr>\n",
              "      <th>b</th>\n",
              "      <td>cat</td>\n",
              "      <td>3.0</td>\n",
              "      <td>Pushok</td>\n",
              "      <td>3</td>\n",
              "      <td>True</td>\n",
              "    </tr>\n",
              "    <tr>\n",
              "      <th>c</th>\n",
              "      <td>snake</td>\n",
              "      <td>0.5</td>\n",
              "      <td>Kaa</td>\n",
              "      <td>2</td>\n",
              "      <td>False</td>\n",
              "    </tr>\n",
              "    <tr>\n",
              "      <th>d</th>\n",
              "      <td>dog</td>\n",
              "      <td>NaN</td>\n",
              "      <td>Bobik</td>\n",
              "      <td>3</td>\n",
              "      <td>True</td>\n",
              "    </tr>\n",
              "    <tr>\n",
              "      <th>e</th>\n",
              "      <td>dog</td>\n",
              "      <td>5.0</td>\n",
              "      <td>Strelka</td>\n",
              "      <td>2</td>\n",
              "      <td>False</td>\n",
              "    </tr>\n",
              "    <tr>\n",
              "      <th>f</th>\n",
              "      <td>cat</td>\n",
              "      <td>2.0</td>\n",
              "      <td>Vaska</td>\n",
              "      <td>3</td>\n",
              "      <td>False</td>\n",
              "    </tr>\n",
              "    <tr>\n",
              "      <th>g</th>\n",
              "      <td>snake</td>\n",
              "      <td>4.5</td>\n",
              "      <td>Kaa2</td>\n",
              "      <td>1</td>\n",
              "      <td>False</td>\n",
              "    </tr>\n",
              "    <tr>\n",
              "      <th>h</th>\n",
              "      <td>cat</td>\n",
              "      <td>NaN</td>\n",
              "      <td>Murka</td>\n",
              "      <td>1</td>\n",
              "      <td>True</td>\n",
              "    </tr>\n",
              "    <tr>\n",
              "      <th>i</th>\n",
              "      <td>dog</td>\n",
              "      <td>7.0</td>\n",
              "      <td>Graf</td>\n",
              "      <td>2</td>\n",
              "      <td>False</td>\n",
              "    </tr>\n",
              "    <tr>\n",
              "      <th>j</th>\n",
              "      <td>dog</td>\n",
              "      <td>3.0</td>\n",
              "      <td>Muhtar</td>\n",
              "      <td>1</td>\n",
              "      <td>False</td>\n",
              "    </tr>\n",
              "  </tbody>\n",
              "</table>\n",
              "</div>\n",
              "      <button class=\"colab-df-convert\" onclick=\"convertToInteractive('df-7a21dd5f-48df-4b6a-8c7b-aabca5651ea1')\"\n",
              "              title=\"Convert this dataframe to an interactive table.\"\n",
              "              style=\"display:none;\">\n",
              "        \n",
              "  <svg xmlns=\"http://www.w3.org/2000/svg\" height=\"24px\"viewBox=\"0 0 24 24\"\n",
              "       width=\"24px\">\n",
              "    <path d=\"M0 0h24v24H0V0z\" fill=\"none\"/>\n",
              "    <path d=\"M18.56 5.44l.94 2.06.94-2.06 2.06-.94-2.06-.94-.94-2.06-.94 2.06-2.06.94zm-11 1L8.5 8.5l.94-2.06 2.06-.94-2.06-.94L8.5 2.5l-.94 2.06-2.06.94zm10 10l.94 2.06.94-2.06 2.06-.94-2.06-.94-.94-2.06-.94 2.06-2.06.94z\"/><path d=\"M17.41 7.96l-1.37-1.37c-.4-.4-.92-.59-1.43-.59-.52 0-1.04.2-1.43.59L10.3 9.45l-7.72 7.72c-.78.78-.78 2.05 0 2.83L4 21.41c.39.39.9.59 1.41.59.51 0 1.02-.2 1.41-.59l7.78-7.78 2.81-2.81c.8-.78.8-2.07 0-2.86zM5.41 20L4 18.59l7.72-7.72 1.47 1.35L5.41 20z\"/>\n",
              "  </svg>\n",
              "      </button>\n",
              "      \n",
              "  <style>\n",
              "    .colab-df-container {\n",
              "      display:flex;\n",
              "      flex-wrap:wrap;\n",
              "      gap: 12px;\n",
              "    }\n",
              "\n",
              "    .colab-df-convert {\n",
              "      background-color: #E8F0FE;\n",
              "      border: none;\n",
              "      border-radius: 50%;\n",
              "      cursor: pointer;\n",
              "      display: none;\n",
              "      fill: #1967D2;\n",
              "      height: 32px;\n",
              "      padding: 0 0 0 0;\n",
              "      width: 32px;\n",
              "    }\n",
              "\n",
              "    .colab-df-convert:hover {\n",
              "      background-color: #E2EBFA;\n",
              "      box-shadow: 0px 1px 2px rgba(60, 64, 67, 0.3), 0px 1px 3px 1px rgba(60, 64, 67, 0.15);\n",
              "      fill: #174EA6;\n",
              "    }\n",
              "\n",
              "    [theme=dark] .colab-df-convert {\n",
              "      background-color: #3B4455;\n",
              "      fill: #D2E3FC;\n",
              "    }\n",
              "\n",
              "    [theme=dark] .colab-df-convert:hover {\n",
              "      background-color: #434B5C;\n",
              "      box-shadow: 0px 1px 3px 1px rgba(0, 0, 0, 0.15);\n",
              "      filter: drop-shadow(0px 1px 2px rgba(0, 0, 0, 0.3));\n",
              "      fill: #FFFFFF;\n",
              "    }\n",
              "  </style>\n",
              "\n",
              "      <script>\n",
              "        const buttonEl =\n",
              "          document.querySelector('#df-7a21dd5f-48df-4b6a-8c7b-aabca5651ea1 button.colab-df-convert');\n",
              "        buttonEl.style.display =\n",
              "          google.colab.kernel.accessAllowed ? 'block' : 'none';\n",
              "\n",
              "        async function convertToInteractive(key) {\n",
              "          const element = document.querySelector('#df-7a21dd5f-48df-4b6a-8c7b-aabca5651ea1');\n",
              "          const dataTable =\n",
              "            await google.colab.kernel.invokeFunction('convertToInteractive',\n",
              "                                                     [key], {});\n",
              "          if (!dataTable) return;\n",
              "\n",
              "          const docLinkHtml = 'Like what you see? Visit the ' +\n",
              "            '<a target=\"_blank\" href=https://colab.research.google.com/notebooks/data_table.ipynb>data table notebook</a>'\n",
              "            + ' to learn more about interactive tables.';\n",
              "          element.innerHTML = '';\n",
              "          dataTable['output_type'] = 'display_data';\n",
              "          await google.colab.output.renderOutput(dataTable, element);\n",
              "          const docLink = document.createElement('div');\n",
              "          docLink.innerHTML = docLinkHtml;\n",
              "          element.appendChild(docLink);\n",
              "        }\n",
              "      </script>\n",
              "    </div>\n",
              "  </div>\n",
              "  "
            ]
          },
          "metadata": {},
          "execution_count": 17
        }
      ]
    },
    {
      "cell_type": "code",
      "source": [
        "# 20\n",
        "# Переменная df содержит DataFrame.\n",
        "\n",
        "# Переменная column содержит имя колонки, значения в которой надо модифицировать.\n",
        "\n",
        "# Переменные old_value и new_value содержат старое и новое значения, соответственно.\n",
        "\n",
        "# Замените все старые значения на новые в соответсвующей колонке.\n",
        "\n",
        "# Выведите df на печать\n",
        "import pandas as pd\n",
        "import numpy as np\n",
        "\n",
        "df = pd.DataFrame({'animal': ['cat', 'cat', 'snake', 'dog', 'dog', 'cat', 'snake', 'cat', 'dog', 'dog'],\n",
        "                   'age': [2.5, 3, 0.5, np.nan, 5, 2, 4.5, np.nan, 7, 3],\n",
        "                   'name': ['Murzik', 'Pushok', 'Kaa', 'Bobik', 'Strelka', 'Vaska', 'Kaa2', 'Murka', 'Graf', 'Muhtar'],\n",
        "                   'visits': [1, 3, 2, 3, 2, 3, 1, 1, 2, 1],\n",
        "                   'priority': ['yes', 'yes', 'no', 'yes', 'no', 'no', 'no', 'yes', 'no', 'no']},\n",
        "                 index = ['a', 'b', 'c', 'd', 'e', 'f', 'g', 'h', 'i', 'j'])\n",
        "column = 'animal'\n",
        "old_value = 'snake'\n",
        "new_value = 'python'\n",
        "\n",
        "df[column] = df[column].replace([old_value], [new_value])\n",
        "print(df)"
      ],
      "metadata": {
        "colab": {
          "base_uri": "https://localhost:8080/"
        },
        "id": "pggz6s8F4adj",
        "outputId": "1505bd23-05a5-4c9f-9f9c-12fb85af099b"
      },
      "execution_count": null,
      "outputs": [
        {
          "output_type": "stream",
          "name": "stdout",
          "text": [
            "   animal  age     name  visits priority\n",
            "a     cat  2.5   Murzik       1      yes\n",
            "b     cat  3.0   Pushok       3      yes\n",
            "c  python  0.5      Kaa       2       no\n",
            "d     dog  NaN    Bobik       3      yes\n",
            "e     dog  5.0  Strelka       2       no\n",
            "f     cat  2.0    Vaska       3       no\n",
            "g  python  4.5     Kaa2       1       no\n",
            "h     cat  NaN    Murka       1      yes\n",
            "i     dog  7.0     Graf       2       no\n",
            "j     dog  3.0   Muhtar       1       no\n"
          ]
        }
      ]
    },
    {
      "cell_type": "code",
      "source": [
        "# Группировка таблиц Pandas DataFrame\n",
        "\n",
        "import pandas as pd\n",
        "path = '/content/drive/MyDrive/p_t_it/colab_notebooks/students.csv'\n",
        "df = pd.read_csv(path)\n",
        "df[['Group', 'Mark']].groupby(['Group']).count()\n"
      ],
      "metadata": {
        "colab": {
          "base_uri": "https://localhost:8080/",
          "height": 143
        },
        "id": "33p32PFZ-ZUu",
        "outputId": "3ab1f190-feb0-4477-a1ea-9d80f24a9bd5"
      },
      "execution_count": null,
      "outputs": [
        {
          "output_type": "execute_result",
          "data": {
            "text/plain": [
              "       Mark\n",
              "Group      \n",
              "А         3\n",
              "Б         3"
            ],
            "text/html": [
              "\n",
              "  <div id=\"df-f2cbbcb8-5b7f-4a60-8160-5946e8223198\">\n",
              "    <div class=\"colab-df-container\">\n",
              "      <div>\n",
              "<style scoped>\n",
              "    .dataframe tbody tr th:only-of-type {\n",
              "        vertical-align: middle;\n",
              "    }\n",
              "\n",
              "    .dataframe tbody tr th {\n",
              "        vertical-align: top;\n",
              "    }\n",
              "\n",
              "    .dataframe thead th {\n",
              "        text-align: right;\n",
              "    }\n",
              "</style>\n",
              "<table border=\"1\" class=\"dataframe\">\n",
              "  <thead>\n",
              "    <tr style=\"text-align: right;\">\n",
              "      <th></th>\n",
              "      <th>Mark</th>\n",
              "    </tr>\n",
              "    <tr>\n",
              "      <th>Group</th>\n",
              "      <th></th>\n",
              "    </tr>\n",
              "  </thead>\n",
              "  <tbody>\n",
              "    <tr>\n",
              "      <th>А</th>\n",
              "      <td>3</td>\n",
              "    </tr>\n",
              "    <tr>\n",
              "      <th>Б</th>\n",
              "      <td>3</td>\n",
              "    </tr>\n",
              "  </tbody>\n",
              "</table>\n",
              "</div>\n",
              "      <button class=\"colab-df-convert\" onclick=\"convertToInteractive('df-f2cbbcb8-5b7f-4a60-8160-5946e8223198')\"\n",
              "              title=\"Convert this dataframe to an interactive table.\"\n",
              "              style=\"display:none;\">\n",
              "        \n",
              "  <svg xmlns=\"http://www.w3.org/2000/svg\" height=\"24px\"viewBox=\"0 0 24 24\"\n",
              "       width=\"24px\">\n",
              "    <path d=\"M0 0h24v24H0V0z\" fill=\"none\"/>\n",
              "    <path d=\"M18.56 5.44l.94 2.06.94-2.06 2.06-.94-2.06-.94-.94-2.06-.94 2.06-2.06.94zm-11 1L8.5 8.5l.94-2.06 2.06-.94-2.06-.94L8.5 2.5l-.94 2.06-2.06.94zm10 10l.94 2.06.94-2.06 2.06-.94-2.06-.94-.94-2.06-.94 2.06-2.06.94z\"/><path d=\"M17.41 7.96l-1.37-1.37c-.4-.4-.92-.59-1.43-.59-.52 0-1.04.2-1.43.59L10.3 9.45l-7.72 7.72c-.78.78-.78 2.05 0 2.83L4 21.41c.39.39.9.59 1.41.59.51 0 1.02-.2 1.41-.59l7.78-7.78 2.81-2.81c.8-.78.8-2.07 0-2.86zM5.41 20L4 18.59l7.72-7.72 1.47 1.35L5.41 20z\"/>\n",
              "  </svg>\n",
              "      </button>\n",
              "      \n",
              "  <style>\n",
              "    .colab-df-container {\n",
              "      display:flex;\n",
              "      flex-wrap:wrap;\n",
              "      gap: 12px;\n",
              "    }\n",
              "\n",
              "    .colab-df-convert {\n",
              "      background-color: #E8F0FE;\n",
              "      border: none;\n",
              "      border-radius: 50%;\n",
              "      cursor: pointer;\n",
              "      display: none;\n",
              "      fill: #1967D2;\n",
              "      height: 32px;\n",
              "      padding: 0 0 0 0;\n",
              "      width: 32px;\n",
              "    }\n",
              "\n",
              "    .colab-df-convert:hover {\n",
              "      background-color: #E2EBFA;\n",
              "      box-shadow: 0px 1px 2px rgba(60, 64, 67, 0.3), 0px 1px 3px 1px rgba(60, 64, 67, 0.15);\n",
              "      fill: #174EA6;\n",
              "    }\n",
              "\n",
              "    [theme=dark] .colab-df-convert {\n",
              "      background-color: #3B4455;\n",
              "      fill: #D2E3FC;\n",
              "    }\n",
              "\n",
              "    [theme=dark] .colab-df-convert:hover {\n",
              "      background-color: #434B5C;\n",
              "      box-shadow: 0px 1px 3px 1px rgba(0, 0, 0, 0.15);\n",
              "      filter: drop-shadow(0px 1px 2px rgba(0, 0, 0, 0.3));\n",
              "      fill: #FFFFFF;\n",
              "    }\n",
              "  </style>\n",
              "\n",
              "      <script>\n",
              "        const buttonEl =\n",
              "          document.querySelector('#df-f2cbbcb8-5b7f-4a60-8160-5946e8223198 button.colab-df-convert');\n",
              "        buttonEl.style.display =\n",
              "          google.colab.kernel.accessAllowed ? 'block' : 'none';\n",
              "\n",
              "        async function convertToInteractive(key) {\n",
              "          const element = document.querySelector('#df-f2cbbcb8-5b7f-4a60-8160-5946e8223198');\n",
              "          const dataTable =\n",
              "            await google.colab.kernel.invokeFunction('convertToInteractive',\n",
              "                                                     [key], {});\n",
              "          if (!dataTable) return;\n",
              "\n",
              "          const docLinkHtml = 'Like what you see? Visit the ' +\n",
              "            '<a target=\"_blank\" href=https://colab.research.google.com/notebooks/data_table.ipynb>data table notebook</a>'\n",
              "            + ' to learn more about interactive tables.';\n",
              "          element.innerHTML = '';\n",
              "          dataTable['output_type'] = 'display_data';\n",
              "          await google.colab.output.renderOutput(dataTable, element);\n",
              "          const docLink = document.createElement('div');\n",
              "          docLink.innerHTML = docLinkHtml;\n",
              "          element.appendChild(docLink);\n",
              "        }\n",
              "      </script>\n",
              "    </div>\n",
              "  </div>\n",
              "  "
            ]
          },
          "metadata": {},
          "execution_count": 23
        }
      ]
    },
    {
      "cell_type": "code",
      "source": [
        "import pandas as pd\n",
        "path = '/content/drive/MyDrive/p_t_it/colab_notebooks/torg.csv'\n",
        "df = pd.read_csv(path, sep=';')\n",
        "df[['IP_PROP32', 'CP_QUANTITY']].groupby(['IP_PROP32']).sum()\n"
      ],
      "metadata": {
        "colab": {
          "base_uri": "https://localhost:8080/",
          "height": 238
        },
        "id": "q9QARIULGzmA",
        "outputId": "3945953e-c2af-4078-8f79-b6a960284099"
      },
      "execution_count": null,
      "outputs": [
        {
          "output_type": "execute_result",
          "data": {
            "text/plain": [
              "           CP_QUANTITY\n",
              "IP_PROP32             \n",
              "L                 4397\n",
              "M                 4198\n",
              "S                 4198\n",
              "XL                4399\n",
              "XS                4299"
            ],
            "text/html": [
              "\n",
              "  <div id=\"df-9c67cbfc-0f8d-4fac-8777-f0d3b5fc90ab\">\n",
              "    <div class=\"colab-df-container\">\n",
              "      <div>\n",
              "<style scoped>\n",
              "    .dataframe tbody tr th:only-of-type {\n",
              "        vertical-align: middle;\n",
              "    }\n",
              "\n",
              "    .dataframe tbody tr th {\n",
              "        vertical-align: top;\n",
              "    }\n",
              "\n",
              "    .dataframe thead th {\n",
              "        text-align: right;\n",
              "    }\n",
              "</style>\n",
              "<table border=\"1\" class=\"dataframe\">\n",
              "  <thead>\n",
              "    <tr style=\"text-align: right;\">\n",
              "      <th></th>\n",
              "      <th>CP_QUANTITY</th>\n",
              "    </tr>\n",
              "    <tr>\n",
              "      <th>IP_PROP32</th>\n",
              "      <th></th>\n",
              "    </tr>\n",
              "  </thead>\n",
              "  <tbody>\n",
              "    <tr>\n",
              "      <th>L</th>\n",
              "      <td>4397</td>\n",
              "    </tr>\n",
              "    <tr>\n",
              "      <th>M</th>\n",
              "      <td>4198</td>\n",
              "    </tr>\n",
              "    <tr>\n",
              "      <th>S</th>\n",
              "      <td>4198</td>\n",
              "    </tr>\n",
              "    <tr>\n",
              "      <th>XL</th>\n",
              "      <td>4399</td>\n",
              "    </tr>\n",
              "    <tr>\n",
              "      <th>XS</th>\n",
              "      <td>4299</td>\n",
              "    </tr>\n",
              "  </tbody>\n",
              "</table>\n",
              "</div>\n",
              "      <button class=\"colab-df-convert\" onclick=\"convertToInteractive('df-9c67cbfc-0f8d-4fac-8777-f0d3b5fc90ab')\"\n",
              "              title=\"Convert this dataframe to an interactive table.\"\n",
              "              style=\"display:none;\">\n",
              "        \n",
              "  <svg xmlns=\"http://www.w3.org/2000/svg\" height=\"24px\"viewBox=\"0 0 24 24\"\n",
              "       width=\"24px\">\n",
              "    <path d=\"M0 0h24v24H0V0z\" fill=\"none\"/>\n",
              "    <path d=\"M18.56 5.44l.94 2.06.94-2.06 2.06-.94-2.06-.94-.94-2.06-.94 2.06-2.06.94zm-11 1L8.5 8.5l.94-2.06 2.06-.94-2.06-.94L8.5 2.5l-.94 2.06-2.06.94zm10 10l.94 2.06.94-2.06 2.06-.94-2.06-.94-.94-2.06-.94 2.06-2.06.94z\"/><path d=\"M17.41 7.96l-1.37-1.37c-.4-.4-.92-.59-1.43-.59-.52 0-1.04.2-1.43.59L10.3 9.45l-7.72 7.72c-.78.78-.78 2.05 0 2.83L4 21.41c.39.39.9.59 1.41.59.51 0 1.02-.2 1.41-.59l7.78-7.78 2.81-2.81c.8-.78.8-2.07 0-2.86zM5.41 20L4 18.59l7.72-7.72 1.47 1.35L5.41 20z\"/>\n",
              "  </svg>\n",
              "      </button>\n",
              "      \n",
              "  <style>\n",
              "    .colab-df-container {\n",
              "      display:flex;\n",
              "      flex-wrap:wrap;\n",
              "      gap: 12px;\n",
              "    }\n",
              "\n",
              "    .colab-df-convert {\n",
              "      background-color: #E8F0FE;\n",
              "      border: none;\n",
              "      border-radius: 50%;\n",
              "      cursor: pointer;\n",
              "      display: none;\n",
              "      fill: #1967D2;\n",
              "      height: 32px;\n",
              "      padding: 0 0 0 0;\n",
              "      width: 32px;\n",
              "    }\n",
              "\n",
              "    .colab-df-convert:hover {\n",
              "      background-color: #E2EBFA;\n",
              "      box-shadow: 0px 1px 2px rgba(60, 64, 67, 0.3), 0px 1px 3px 1px rgba(60, 64, 67, 0.15);\n",
              "      fill: #174EA6;\n",
              "    }\n",
              "\n",
              "    [theme=dark] .colab-df-convert {\n",
              "      background-color: #3B4455;\n",
              "      fill: #D2E3FC;\n",
              "    }\n",
              "\n",
              "    [theme=dark] .colab-df-convert:hover {\n",
              "      background-color: #434B5C;\n",
              "      box-shadow: 0px 1px 3px 1px rgba(0, 0, 0, 0.15);\n",
              "      filter: drop-shadow(0px 1px 2px rgba(0, 0, 0, 0.3));\n",
              "      fill: #FFFFFF;\n",
              "    }\n",
              "  </style>\n",
              "\n",
              "      <script>\n",
              "        const buttonEl =\n",
              "          document.querySelector('#df-9c67cbfc-0f8d-4fac-8777-f0d3b5fc90ab button.colab-df-convert');\n",
              "        buttonEl.style.display =\n",
              "          google.colab.kernel.accessAllowed ? 'block' : 'none';\n",
              "\n",
              "        async function convertToInteractive(key) {\n",
              "          const element = document.querySelector('#df-9c67cbfc-0f8d-4fac-8777-f0d3b5fc90ab');\n",
              "          const dataTable =\n",
              "            await google.colab.kernel.invokeFunction('convertToInteractive',\n",
              "                                                     [key], {});\n",
              "          if (!dataTable) return;\n",
              "\n",
              "          const docLinkHtml = 'Like what you see? Visit the ' +\n",
              "            '<a target=\"_blank\" href=https://colab.research.google.com/notebooks/data_table.ipynb>data table notebook</a>'\n",
              "            + ' to learn more about interactive tables.';\n",
              "          element.innerHTML = '';\n",
              "          dataTable['output_type'] = 'display_data';\n",
              "          await google.colab.output.renderOutput(dataTable, element);\n",
              "          const docLink = document.createElement('div');\n",
              "          docLink.innerHTML = docLinkHtml;\n",
              "          element.appendChild(docLink);\n",
              "        }\n",
              "      </script>\n",
              "    </div>\n",
              "  </div>\n",
              "  "
            ]
          },
          "metadata": {},
          "execution_count": 76
        }
      ]
    },
    {
      "cell_type": "code",
      "source": [
        "import pandas as pd\n",
        "path = '/content/drive/MyDrive/p_t_it/colab_notebooks/dataset_345422_8 (1).txt'\n",
        "df = pd.read_csv(path, sep=';')\n",
        "df\n",
        "data = df[['IP_PROP30', 'IP_PROP32', 'CR_PRICE_1_USD', 'CP_QUANTITY']].groupby(['IP_PROP30', 'IP_PROP32']).sum()\n",
        "data.loc[('pink', 'XL')].prod()"
      ],
      "metadata": {
        "colab": {
          "base_uri": "https://localhost:8080/"
        },
        "id": "aUYxJdhN1T2L",
        "outputId": "43a8e274-a48d-4a96-a0c9-e53e3f5c9bfa"
      },
      "execution_count": null,
      "outputs": [
        {
          "output_type": "execute_result",
          "data": {
            "text/plain": [
              "567.0"
            ]
          },
          "metadata": {},
          "execution_count": 20
        }
      ]
    },
    {
      "cell_type": "code",
      "source": [
        "import pandas as pd\n",
        "from datetime import datetime\n",
        "path = '/content/drive/MyDrive/p_t_it/export.csv'\n",
        "dateparse = lambda x: datetime.strptime(x, '%d.%m.%Y %H:%M:%S')\n",
        "df = pd.read_csv(path, sep=';', parse_dates=['IP_PROP5562'], date_parser=dateparse)\n",
        "#df['IP_PROP5562'].map(lambda x: x.date())\n",
        "pd.to_datetime(df['IP_PROP5562'], format='%d.%m.%Y %H:%S')\n",
        "df['IP_PROP5562'].dt.date\n",
        "df['date'] = df['IP_PROP5562'].map(lambda x: x.date())\n",
        "df\n",
        "df[['date', 'IE_ID']].groupby('date').count().plot(kind='bar', figsize=(13,8))"
      ],
      "metadata": {
        "colab": {
          "base_uri": "https://localhost:8080/",
          "height": 563
        },
        "id": "iwWtMfg43lyU",
        "outputId": "a0659c36-c74c-4c09-c341-040054d90d28"
      },
      "execution_count": null,
      "outputs": [
        {
          "output_type": "execute_result",
          "data": {
            "text/plain": [
              "<matplotlib.axes._subplots.AxesSubplot at 0x7feecfdd1890>"
            ]
          },
          "metadata": {},
          "execution_count": 37
        },
        {
          "output_type": "display_data",
          "data": {
            "text/plain": [
              "<Figure size 936x576 with 1 Axes>"
            ],
            "image/png": "[encoded data removed]"
          },
          "metadata": {
            "needs_background": "light"
          }
        }
      ]
    },
    {
      "cell_type": "code",
      "source": [
        "import pandas as pd\n",
        "path = '/content/drive/MyDrive/p_t_it/colab_notebooks/students.csv'\n",
        "df = pd.read_csv(path)\n",
        "def grants_count(col):\n",
        "    return col[col > 3].count()\n",
        "\n",
        "df.groupby(['Group']).aggregate({'Mark':[min, max, grants_count, 'count']}).rename(columns={'Mark': 'Средний балл'})\n",
        "df.groupby(['Group']).mean().rename(columns={'Mark':'Средний балл'})\n",
        "group = df.groupby(['Group']).aggregate({'Mark': [min, max, 'mean', grants_count, 'count']})\n",
        "group.rename(columns={'min': 'Минимальный балл', 'max': 'Максимальный балл', \n",
        "                      'grants_count': 'Получат стипендию',\n",
        "                      'mean':'Средний балл', 'count': 'Всего студентов'})"
      ],
      "metadata": {
        "colab": {
          "base_uri": "https://localhost:8080/",
          "height": 175
        },
        "id": "WvPuEJUQMbxi",
        "outputId": "b0c11275-b23d-4e5e-d81c-717fb2ea4824"
      },
      "execution_count": null,
      "outputs": [
        {
          "output_type": "execute_result",
          "data": {
            "text/plain": [
              "                  Mark                                                   \\\n",
              "      Минимальный балл Максимальный балл Средний балл Получат стипендию   \n",
              "Group                                                                     \n",
              "А                    3                 5     4.000000                 2   \n",
              "Б                    4                 5     4.333333                 3   \n",
              "\n",
              "                       \n",
              "      Всего студентов  \n",
              "Group                  \n",
              "А                   3  \n",
              "Б                   3  "
            ],
            "text/html": [
              "\n",
              "  <div id=\"df-87bc6479-99db-4c3f-baa2-74a04f37b5cc\">\n",
              "    <div class=\"colab-df-container\">\n",
              "      <div>\n",
              "<style scoped>\n",
              "    .dataframe tbody tr th:only-of-type {\n",
              "        vertical-align: middle;\n",
              "    }\n",
              "\n",
              "    .dataframe tbody tr th {\n",
              "        vertical-align: top;\n",
              "    }\n",
              "\n",
              "    .dataframe thead tr th {\n",
              "        text-align: left;\n",
              "    }\n",
              "\n",
              "    .dataframe thead tr:last-of-type th {\n",
              "        text-align: right;\n",
              "    }\n",
              "</style>\n",
              "<table border=\"1\" class=\"dataframe\">\n",
              "  <thead>\n",
              "    <tr>\n",
              "      <th></th>\n",
              "      <th colspan=\"5\" halign=\"left\">Mark</th>\n",
              "    </tr>\n",
              "    <tr>\n",
              "      <th></th>\n",
              "      <th>Минимальный балл</th>\n",
              "      <th>Максимальный балл</th>\n",
              "      <th>Средний балл</th>\n",
              "      <th>Получат стипендию</th>\n",
              "      <th>Всего студентов</th>\n",
              "    </tr>\n",
              "    <tr>\n",
              "      <th>Group</th>\n",
              "      <th></th>\n",
              "      <th></th>\n",
              "      <th></th>\n",
              "      <th></th>\n",
              "      <th></th>\n",
              "    </tr>\n",
              "  </thead>\n",
              "  <tbody>\n",
              "    <tr>\n",
              "      <th>А</th>\n",
              "      <td>3</td>\n",
              "      <td>5</td>\n",
              "      <td>4.000000</td>\n",
              "      <td>2</td>\n",
              "      <td>3</td>\n",
              "    </tr>\n",
              "    <tr>\n",
              "      <th>Б</th>\n",
              "      <td>4</td>\n",
              "      <td>5</td>\n",
              "      <td>4.333333</td>\n",
              "      <td>3</td>\n",
              "      <td>3</td>\n",
              "    </tr>\n",
              "  </tbody>\n",
              "</table>\n",
              "</div>\n",
              "      <button class=\"colab-df-convert\" onclick=\"convertToInteractive('df-87bc6479-99db-4c3f-baa2-74a04f37b5cc')\"\n",
              "              title=\"Convert this dataframe to an interactive table.\"\n",
              "              style=\"display:none;\">\n",
              "        \n",
              "  <svg xmlns=\"http://www.w3.org/2000/svg\" height=\"24px\"viewBox=\"0 0 24 24\"\n",
              "       width=\"24px\">\n",
              "    <path d=\"M0 0h24v24H0V0z\" fill=\"none\"/>\n",
              "    <path d=\"M18.56 5.44l.94 2.06.94-2.06 2.06-.94-2.06-.94-.94-2.06-.94 2.06-2.06.94zm-11 1L8.5 8.5l.94-2.06 2.06-.94-2.06-.94L8.5 2.5l-.94 2.06-2.06.94zm10 10l.94 2.06.94-2.06 2.06-.94-2.06-.94-.94-2.06-.94 2.06-2.06.94z\"/><path d=\"M17.41 7.96l-1.37-1.37c-.4-.4-.92-.59-1.43-.59-.52 0-1.04.2-1.43.59L10.3 9.45l-7.72 7.72c-.78.78-.78 2.05 0 2.83L4 21.41c.39.39.9.59 1.41.59.51 0 1.02-.2 1.41-.59l7.78-7.78 2.81-2.81c.8-.78.8-2.07 0-2.86zM5.41 20L4 18.59l7.72-7.72 1.47 1.35L5.41 20z\"/>\n",
              "  </svg>\n",
              "      </button>\n",
              "      \n",
              "  <style>\n",
              "    .colab-df-container {\n",
              "      display:flex;\n",
              "      flex-wrap:wrap;\n",
              "      gap: 12px;\n",
              "    }\n",
              "\n",
              "    .colab-df-convert {\n",
              "      background-color: #E8F0FE;\n",
              "      border: none;\n",
              "      border-radius: 50%;\n",
              "      cursor: pointer;\n",
              "      display: none;\n",
              "      fill: #1967D2;\n",
              "      height: 32px;\n",
              "      padding: 0 0 0 0;\n",
              "      width: 32px;\n",
              "    }\n",
              "\n",
              "    .colab-df-convert:hover {\n",
              "      background-color: #E2EBFA;\n",
              "      box-shadow: 0px 1px 2px rgba(60, 64, 67, 0.3), 0px 1px 3px 1px rgba(60, 64, 67, 0.15);\n",
              "      fill: #174EA6;\n",
              "    }\n",
              "\n",
              "    [theme=dark] .colab-df-convert {\n",
              "      background-color: #3B4455;\n",
              "      fill: #D2E3FC;\n",
              "    }\n",
              "\n",
              "    [theme=dark] .colab-df-convert:hover {\n",
              "      background-color: #434B5C;\n",
              "      box-shadow: 0px 1px 3px 1px rgba(0, 0, 0, 0.15);\n",
              "      filter: drop-shadow(0px 1px 2px rgba(0, 0, 0, 0.3));\n",
              "      fill: #FFFFFF;\n",
              "    }\n",
              "  </style>\n",
              "\n",
              "      <script>\n",
              "        const buttonEl =\n",
              "          document.querySelector('#df-87bc6479-99db-4c3f-baa2-74a04f37b5cc button.colab-df-convert');\n",
              "        buttonEl.style.display =\n",
              "          google.colab.kernel.accessAllowed ? 'block' : 'none';\n",
              "\n",
              "        async function convertToInteractive(key) {\n",
              "          const element = document.querySelector('#df-87bc6479-99db-4c3f-baa2-74a04f37b5cc');\n",
              "          const dataTable =\n",
              "            await google.colab.kernel.invokeFunction('convertToInteractive',\n",
              "                                                     [key], {});\n",
              "          if (!dataTable) return;\n",
              "\n",
              "          const docLinkHtml = 'Like what you see? Visit the ' +\n",
              "            '<a target=\"_blank\" href=https://colab.research.google.com/notebooks/data_table.ipynb>data table notebook</a>'\n",
              "            + ' to learn more about interactive tables.';\n",
              "          element.innerHTML = '';\n",
              "          dataTable['output_type'] = 'display_data';\n",
              "          await google.colab.output.renderOutput(dataTable, element);\n",
              "          const docLink = document.createElement('div');\n",
              "          docLink.innerHTML = docLinkHtml;\n",
              "          element.appendChild(docLink);\n",
              "        }\n",
              "      </script>\n",
              "    </div>\n",
              "  </div>\n",
              "  "
            ]
          },
          "metadata": {},
          "execution_count": 59
        }
      ]
    },
    {
      "cell_type": "code",
      "source": [
        "import pandas as pd\n",
        "import numpy as np\n",
        "\n",
        "path = '/content/drive/MyDrive/p_t_it/data/StudentsPerformance.csv'\n",
        "df = pd.read_csv(path)\n",
        "df['cost'] = df[['math score', 'reading score', 'writing score']].mean(axis = 1)\n",
        "par_lv = df[df.gender == 'female'].groupby(['parental level of education']).aggregate({'cost': 'mean'})\n",
        "par_degree = par_lv.idxmax()[0]\n",
        "answer = df[(df['parental level of education'] == par_degree) & (df.gender == 'male')].aggregate({'cost':'mean'})\n",
        "answer\n",
        "print(np.round(answer, 1))\n",
        "# df.groupby(['gender', 'race/ethnicity'])['writing score'].mean()\n",
        "# Какое среднее значение оценок по всем предметам у мальчиков \n",
        "# из такой же группы с уровнем образования как у родителей девочек, \n",
        "# получивших максимальную среднюю оценку по всем предметам?\n",
        "#df\n",
        "#data = df.groupby(['gender', 'parental level of education'])['writing score', 'reading score', 'math score'].mean()\n",
        "#data\n",
        "#np.mean([67.65454, 68.090909,\t70.581818])"
      ],
      "metadata": {
        "colab": {
          "base_uri": "https://localhost:8080/"
        },
        "id": "MnBj2uVxPXM3",
        "outputId": "1813c00a-373b-41b4-f31f-173351ad7904"
      },
      "execution_count": null,
      "outputs": [
        {
          "output_type": "stream",
          "name": "stdout",
          "text": [
            "cost    68.8\n",
            "dtype: float64\n"
          ]
        }
      ]
    },
    {
      "cell_type": "code",
      "source": [
        "# Для этого задания используется случайно генерируемая выборка из 100 записей об использовании велодорожек Монреаля по датам. В выгрузке присутствуют данные только о 7 дорожках \n",
        "# (в остальных пустые значения).\n",
        "\n",
        "# Посчитайте среднюю посещаемость каждой велодорожки отдельно по дням недели.\n",
        "\n",
        "# Какой день недели (в среднем) наиболее посещаем?\n",
        "\n",
        "# Используйте английские названия дней недели:\n",
        "\n",
        "days = ['Monday', 'Tuesday', 'Wednesday', 'Thursday', 'Friday', 'Saturday', 'Sunday']\n",
        "# Учитывайте, что в конкретной случайной выборке наиболее популярным может стать не только любой день недели, но и любая велодорожка!\n",
        "\n",
        "import pandas as pd\n",
        "import numpy as np\n",
        "\n",
        "path = '/content/drive/MyDrive/p_t_it/data/dataset_345422_14 (3).txt'\n",
        "df = pd.read_csv(path)\n",
        "days[pd.to_datetime('2012-08-05').day_of_week]\n",
        "df['day_of_week'] = df['Date'].map(lambda x: days[pd.to_datetime(x).day_of_week])\n",
        "df_mean = df.groupby('day_of_week').mean()\n",
        "df_mean.sum(axis=1).sort_values(ascending=False)"
      ],
      "metadata": {
        "colab": {
          "base_uri": "https://localhost:8080/"
        },
        "id": "AWCHHOC73Fef",
        "outputId": "65cf2f90-602d-45ac-a65a-5bd584fc04ee"
      },
      "execution_count": null,
      "outputs": [
        {
          "output_type": "execute_result",
          "data": {
            "text/plain": [
              "day_of_week\n",
              "Thursday     18705.736842\n",
              "Wednesday    16867.777778\n",
              "Saturday     14796.000000\n",
              "Sunday       14171.666667\n",
              "Friday       13895.470588\n",
              "Monday       12826.062500\n",
              "Tuesday      11075.125000\n",
              "dtype: float64"
            ]
          },
          "metadata": {},
          "execution_count": 62
        }
      ]
    },
    {
      "cell_type": "code",
      "source": [
        "# В файле football_players.csv представлен фрагмент выгрузки датасета о футболистах.\n",
        "\n",
        "# Посчитайте среднюю и медианную зарплату \"Wage\" футболистов из разных клубов \"Club\".\n",
        "\n",
        "# В скольких клубах средняя и медианная зарплаты совпадают?\n",
        "\n",
        "import pandas as pd\n",
        "import numpy as np\n",
        "\n",
        "path = '/content/drive/MyDrive/p_t_it/data/football_players.csv'\n",
        "df = pd.read_csv(path)\n",
        "[i for i in df]\n",
        "df_wage = df[['Wage', 'Club']].groupby('Club').mean()\n",
        "df_wage['Median'] = df[['Wage', 'Club']].groupby('Club').median()\n",
        "df_wage\n",
        "df_wage[df_wage.Median == df_wage.Wage].count()[0]"
      ],
      "metadata": {
        "colab": {
          "base_uri": "https://localhost:8080/"
        },
        "id": "GZlCcA6_0znl",
        "outputId": "113ed1ab-706e-4173-ccb3-adb4adb614c4"
      },
      "execution_count": null,
      "outputs": [
        {
          "output_type": "execute_result",
          "data": {
            "text/plain": [
              "52"
            ]
          },
          "metadata": {},
          "execution_count": 79
        }
      ]
    },
    {
      "cell_type": "code",
      "source": [
        "# На основе датасета dataset_file_storage.csv урока Визуализация данных с помощью Seaborn:\n",
        "\n",
        "# Посчитайте количество организаций (CompanyID), у которых суммарный объем файлов (FileSize) \n",
        "# хотя бы одного проекта (ProjectID) превышает средний объем файлов по всем проектам.\n",
        "# Описание полей датасета:\n",
        "\n",
        "# ProjectID (число) - id проекта в рамках которого загружен файл, привязка к элементам другой таблицы\n",
        "# UserID (число) - id пользователя, загрузившего файл, привязка к элементам другой таблицы\n",
        "# uploadServerUnixTime (число) - время загрузки файла на сервер в формате UnixTime\n",
        "# CompanyID (число) - id организации которой принадлежит пользователь, привязка элемента другой таблицы\n",
        "# FileSize (число) - размер файла в байтах\n",
        "# TypeDocs (строка) - раздел в который загружен файл\n",
        "\n",
        "import pandas as pd\n",
        "import numpy as np\n",
        "\n",
        "path = '/content/drive/MyDrive/p_t_it/data/dataset_file_storage.csv'\n",
        "df = pd.read_csv(path, sep=';')\n",
        "file_size_mean = df['FileSize'].mean()\n",
        "print(file_size_mean)\n",
        "df.groupby(['CompanyID', 'ProjectID', 'FileSize'])\n",
        "print(df[['FileSize', 'ProjectID']].groupby('ProjectID').sum('FileSize').mean())\n"
      ],
      "metadata": {
        "colab": {
          "base_uri": "https://localhost:8080/"
        },
        "id": "YSG_XncA2uNo",
        "outputId": "6b9f658e-4563-430c-fbb6-6bfc9da7742f"
      },
      "execution_count": null,
      "outputs": [
        {
          "output_type": "stream",
          "name": "stdout",
          "text": [
            "13908581.279157666\n",
            "FileSize    4.599767e+08\n",
            "dtype: float64\n"
          ]
        }
      ]
    },
    {
      "cell_type": "markdown",
      "source": [
        "# Нейронные сети курс"
      ],
      "metadata": {
        "id": "ULzRtkR9KVQe"
      }
    },
    {
      "cell_type": "markdown",
      "source": [
        "## numpy основы"
      ],
      "metadata": {
        "id": "l9OAe90ZKZZZ"
      }
    },
    {
      "cell_type": "code",
      "source": [
        "import numpy as np\n",
        "a = np.array([[1,2,3], [4,5,6]])\n",
        "print(a)\n",
        "a.shape"
      ],
      "metadata": {
        "colab": {
          "base_uri": "https://localhost:8080/"
        },
        "id": "9ChBvvxvKXzg",
        "outputId": "9dee0b8b-1f5a-4d7c-dc86-a02e6048b2ff"
      },
      "execution_count": null,
      "outputs": [
        {
          "output_type": "stream",
          "name": "stdout",
          "text": [
            "[[1 2 3]\n",
            " [4 5 6]]\n"
          ]
        },
        {
          "output_type": "execute_result",
          "data": {
            "text/plain": [
              "(2, 3)"
            ]
          },
          "metadata": {},
          "execution_count": 2
        }
      ]
    },
    {
      "cell_type": "code",
      "source": [
        "np.full((1000,10000),123)"
      ],
      "metadata": {
        "colab": {
          "base_uri": "https://localhost:8080/"
        },
        "id": "7o2xo1cLLSR3",
        "outputId": "da31eeaf-d1a7-4c9c-b9d0-93fbacd495e9"
      },
      "execution_count": null,
      "outputs": [
        {
          "output_type": "execute_result",
          "data": {
            "text/plain": [
              "array([[123, 123, 123, ..., 123, 123, 123],\n",
              "       [123, 123, 123, ..., 123, 123, 123],\n",
              "       [123, 123, 123, ..., 123, 123, 123],\n",
              "       ...,\n",
              "       [123, 123, 123, ..., 123, 123, 123],\n",
              "       [123, 123, 123, ..., 123, 123, 123],\n",
              "       [123, 123, 123, ..., 123, 123, 123]])"
            ]
          },
          "metadata": {},
          "execution_count": 4
        }
      ]
    },
    {
      "cell_type": "code",
      "source": [
        "# Создайте и напечатайте (с помощью функции print)\n",
        "# массив класса np.ndarray ширины 4 и высоты 3 \n",
        "# с двойками на главной диагонали и единицами на первой диагонали над главной\n",
        "\n",
        "import numpy as np\n",
        "\n",
        "a = np.eye(3, 4, 1)\n",
        "b = np.eye(3, 4)*2\n",
        "a + b"
      ],
      "metadata": {
        "colab": {
          "base_uri": "https://localhost:8080/"
        },
        "id": "pmlf09rOL81t",
        "outputId": "8c161a0a-ac26-4d1e-9cee-00166b20b27a"
      },
      "execution_count": null,
      "outputs": [
        {
          "output_type": "execute_result",
          "data": {
            "text/plain": [
              "array([[2., 1., 0., 0.],\n",
              "       [0., 2., 1., 0.],\n",
              "       [0., 0., 2., 1.]])"
            ]
          },
          "metadata": {},
          "execution_count": 7
        }
      ]
    },
    {
      "cell_type": "code",
      "source": [
        "import random\n",
        "w = np.array(random.sample(range(1000), 12))\n",
        "w = w.reshape((2,2,3))\n",
        "w.transpose(0, 2, 1)\n",
        "w.reshape(12,1)"
      ],
      "metadata": {
        "colab": {
          "base_uri": "https://localhost:8080/"
        },
        "id": "Ki-x3x9RM7Lc",
        "outputId": "269b5eb5-c465-4f4c-fe98-fe56273122cb"
      },
      "execution_count": null,
      "outputs": [
        {
          "output_type": "execute_result",
          "data": {
            "text/plain": [
              "array([[425],\n",
              "       [881],\n",
              "       [202],\n",
              "       [146],\n",
              "       [ 65],\n",
              "       [161],\n",
              "       [381],\n",
              "       [311],\n",
              "       [240],\n",
              "       [469],\n",
              "       [189],\n",
              "       [999]])"
            ]
          },
          "metadata": {},
          "execution_count": 21
        }
      ]
    },
    {
      "cell_type": "code",
      "source": [
        "# Задача: перемножьте две матрицы!\n",
        "\n",
        "# На вход программе подаются две матрицы, \n",
        "# каждая в следующем формате: на первой строке \n",
        "# два целых положительных числа n и m, \n",
        "# разделенных пробелом - размерность матрицы. \n",
        "# В следующей строке находится n * m целых чисел, \n",
        "# разделенных пробелами - элементы матрицы. \n",
        "# Подразумевается, что матрица заполняется построчно, \n",
        "# то есть первые m чисел - первый ряд матрицы, числа от m+1 до 2*m - второй, и т.д.\n",
        "\n",
        "import numpy as np\n",
        "# a_shape = input().split()\n",
        "# a = input().split()\n",
        "# b_shape = input().split()\n",
        "# b = input().split()\n",
        "x_shape = tuple(map(int, input().split()))\n",
        "X = np.fromiter(map(int, input().split()), int).reshape(x_shape)\n",
        "y_shape = tuple(map(int, input().split()))\n",
        "Y = np.fromiter(map(int, input().split()), int).reshape(y_shape)\n",
        "Y = Y.transpose()\n",
        "# if X.shape[1] == Y.shape[0]:\n",
        "#     print(X.dot(Y))\n",
        "# else:\n",
        "#     print('matrix shapes do not match')\n",
        "\n",
        "try:\n",
        "    print(X.dot(Y))\n",
        "except ValueError:\n",
        "    print('matrix shapes do not match')\n"
      ],
      "metadata": {
        "colab": {
          "base_uri": "https://localhost:8080/"
        },
        "id": "_zI8zsjVmSEF",
        "outputId": "428a1a17-db20-42de-8f5e-e41802f99a72"
      },
      "execution_count": null,
      "outputs": [
        {
          "output_type": "stream",
          "name": "stdout",
          "text": [
            "2 3\n",
            "8 7 7 14 4 6\n",
            "4 3\n",
            "5 5 1 5 2 6 3 3 9 1 4 6\n",
            "[[ 82  96 108  78]\n",
            " [ 96 114 108  66]]\n"
          ]
        }
      ]
    },
    {
      "cell_type": "code",
      "source": [
        "# Задача: считайте данные из файла и посчитайте их средние значения.\n",
        "\n",
        "# На вход вашему решению будет подан адрес, \n",
        "# по которому расположен csv-файл, \n",
        "# из которого нужно считать данные. \n",
        "# Первая строчка в файле — названия столбцов, \n",
        "# остальные строки — числовые данные \n",
        "# (то есть каждая строка, кроме первой, \n",
        "#  состоит из последовательности вещественных чисел, \n",
        "#  разделённых запятыми).\n",
        "\n",
        "import numpy as np\n",
        "\n",
        "path = '/content/drive/MyDrive/p_t_it/data/boston_houses.csv'\n",
        "\n",
        "np.loadtxt(path, usecols=(), skiprows=1, delimiter=',').mean(axis=0)"
      ],
      "metadata": {
        "colab": {
          "base_uri": "https://localhost:8080/"
        },
        "id": "RIXvFFCrCsmn",
        "outputId": "a3d71bac-4905-4758-92bd-5f31e0e2568d"
      },
      "execution_count": null,
      "outputs": [
        {
          "output_type": "execute_result",
          "data": {
            "text/plain": [
              "array([22.53280632,  3.61352356, 11.36363636,  0.06916996,  0.55469506,\n",
              "        6.28463439,  3.79504269])"
            ]
          },
          "metadata": {},
          "execution_count": 22
        }
      ]
    },
    {
      "cell_type": "markdown",
      "source": [
        "## линейная алгебра"
      ],
      "metadata": {
        "id": "T8NplP_GVi1F"
      }
    },
    {
      "cell_type": "code",
      "source": [
        "# https://stepik.org/lesson/18696/step/12?unit=4493\n",
        "# У нас есть набор данных: знания о длине тормозного пути и скорости для трёх автомобилей.\n",
        "# Напишите через запятую оценки коэффициентов линейной регрессии\n",
        "# ​для модели с точностью до трёх знаков после точки.\n",
        "\n",
        "import numpy as np\n",
        "\n",
        "data0 = np.array([[10, 60], [7,50], [12,75]])\n",
        "X = np.ones([3,2])\n",
        "X[:, 1] = data0[:, 1]\n",
        "y = np.array(data0[:, 0]).reshape(3,1)\n",
        "step1 = X.T.dot(X)\n",
        "step2 = np.linalg.inv(step1)\n",
        "step3 = step2.dot(X.T)\n",
        "b = step3.dot(y)\n",
        "print(X, y, b, sep='\\n')"
      ],
      "metadata": {
        "colab": {
          "base_uri": "https://localhost:8080/"
        },
        "id": "drDNEjLWVlsg",
        "outputId": "e1a0e4ab-84df-47cc-fbf9-81a4ab0ed5df"
      },
      "execution_count": null,
      "outputs": [
        {
          "output_type": "stream",
          "name": "stdout",
          "text": [
            "[[ 1. 60.]\n",
            " [ 1. 50.]\n",
            " [ 1. 75.]]\n",
            "[[10]\n",
            " [ 7]\n",
            " [12]]\n",
            "[[-2.34210526]\n",
            " [ 0.19473684]]\n"
          ]
        }
      ]
    },
    {
      "cell_type": "code",
      "source": [
        "# https://stepik.org/lesson/18696/step/15?unit=4493\n",
        "# Найдите оптимальные коэффициенты для построения линейной регрессии.\n",
        "# Ваша задача — подсчитать вектор коэффициентов линейной регрессии для предсказания первой переменной \n",
        "# (первого столбца данных) по всем остальным. \n",
        "import numpy as np\n",
        "path = '/content/drive/MyDrive/p_t_it/data/boston_houses.csv'#@param {type: \"string\"}\n",
        "data = np.loadtxt(path, delimiter=',', skiprows=1)\n",
        "data.shape\n",
        "X = np.ones(data.shape)\n",
        "X[:,1:] = data[:,1:]\n",
        "y = np.array(data[:, 0])\n",
        "# y = np.array(data0[:, 0]).reshape(3,1)\n",
        "step1 = X.T.dot(X)\n",
        "step2 = np.linalg.inv(step1)\n",
        "step3 = step2.dot(X.T)\n",
        "b = step3.dot(y)\n",
        "print(b, sep=' ')\n",
        "\n",
        "' '.join((map(str, b)))\n",
        "# print(X, y, b, sep='\\n')"
      ],
      "metadata": {
        "colab": {
          "base_uri": "https://localhost:8080/",
          "height": 90
        },
        "id": "2nwSyLTSb1Un",
        "outputId": "2416988f-5612-432a-d019-ac4b944e3a91"
      },
      "execution_count": null,
      "outputs": [
        {
          "output_type": "stream",
          "name": "stdout",
          "text": [
            "[ -3.65580429  -0.2163955    0.0737306    4.41245058 -25.46844878\n",
            "   7.14320155  -1.30108768]\n"
          ]
        },
        {
          "output_type": "execute_result",
          "data": {
            "text/plain": [
              "'-3.655804285058417 -0.2163955023691392 0.07373059817548971 4.412450576912836 -25.46844878410251 7.143201550745909 -1.3010876776491929'"
            ],
            "application/vnd.google.colaboratory.intrinsic+json": {
              "type": "string"
            }
          },
          "metadata": {},
          "execution_count": 61
        }
      ]
    },
    {
      "cell_type": "markdown",
      "source": [
        "$$f(t) = \\left\\lbrace\\begin{array}{t} 1,&\\text{ если } t > 0, \\\\ 0 &\\text{иначе}\\end{array}\\right.$$"
      ],
      "metadata": {
        "id": "e6HbtzSgLshE"
      }
    },
    {
      "cell_type": "code",
      "source": [
        "# https://stepik.org/lesson/21775/step/3?auth=login&unit=5191\n",
        "\n",
        "import numpy as np\n",
        "\n",
        "class Perceptron():\n",
        "    def __init__(self, n=1, bias=0):\n",
        "        self.weights = np.zeros(n)\n",
        "        self.bias = bias\n",
        "\n",
        "    def predict(self, vect):\n",
        "        return (self.weights * vect).sum() + self.bias > 0\n",
        "   \n",
        "    def iter_learn(self, vect, answer):\n",
        "        prediction = self.predict(vect)\n",
        "        if prediction != answer:\n",
        "            if prediction:\n",
        "                self.weights -= vect\n",
        "            else:\n",
        "                self.weights += vect\n",
        "\n",
        "x = Perceptron(2)\n",
        "x.iter_learn(np.array([1.0, 0.3]), True)\n",
        "x.iter_learn(np.array([0.4, 0.5]), True)\n",
        "x.iter_learn(np.array([0.7, 0.8]), False)\n",
        "\n",
        "x.bias, x.weights"
      ],
      "metadata": {
        "colab": {
          "base_uri": "https://localhost:8080/"
        },
        "id": "THak8jhsHn1q",
        "outputId": "57f62f94-8aa6-4f1d-f621-4280e369d09c"
      },
      "execution_count": null,
      "outputs": [
        {
          "output_type": "execute_result",
          "data": {
            "text/plain": [
              "(0, array([ 0.3, -0.5]))"
            ]
          },
          "metadata": {},
          "execution_count": 50
        }
      ]
    },
    {
      "cell_type": "code",
      "source": [
        "from math import exp\n",
        "def tanh(x):\n",
        "    return((exp(x)-exp(x*-1))/(exp(x)+exp(x*-1)))\n",
        "\n",
        "tanh(0)\n",
        "\n",
        "def sigm(x):\n",
        "    return 1/(1+(exp(x*-1)))\n",
        "\n",
        "def dtanh(x):\n",
        "    return ((1 - exp(x-2))**2 * (-(exp(x-2)+1))**2) + 1\n",
        "\n",
        "def dsigm(x):\n",
        "    return (exp(-x)/(exp(-x)+1)**2)\n",
        "\n",
        "for x in [1,-1]:\n",
        "    print(f'{tanh(x)}, {dtanh(x)}, {sigm(x)}, {dsigm(x)}')"
      ],
      "metadata": {
        "colab": {
          "base_uri": "https://localhost:8080/"
        },
        "id": "JX4rrWRxNYqF",
        "outputId": "2c8f1aa2-b31b-42bb-cfe5-51dbb519ac0e"
      },
      "execution_count": null,
      "outputs": [
        {
          "output_type": "stream",
          "name": "stdout",
          "text": [
            "0.7615941559557649, 1.7476450724155086, 0.7310585786300049, 0.19661193324148188\n",
            "-0.7615941559557649, 1.9950486398590204, 0.2689414213699951, 0.19661193324148185\n"
          ]
        }
      ]
    },
    {
      "cell_type": "markdown",
      "source": [
        "## Практика"
      ],
      "metadata": {
        "id": "E21T94eLbzby"
      }
    },
    {
      "cell_type": "code",
      "source": [
        "import matplotlib.pyplot as plt\n",
        "import mpl_toolkits.mplot3d as p3\n",
        "import numpy as np\n",
        "import random\n",
        "import time\n",
        "\n",
        "from functools import partial\n",
        "from ipywidgets import interact, RadioButtons, IntSlider, FloatSlider, BoundedFloatText\n",
        "from numpy.linalg import norm\n",
        "\n",
        "random.seed(42)"
      ],
      "metadata": {
        "id": "TTKfn84fb2Pu"
      },
      "execution_count": null,
      "outputs": []
    },
    {
      "cell_type": "code",
      "source": [
        "%matplotlib inline\n",
        "path = '/content/drive/MyDrive/p_t_it/colab_notebooks/nw_practice_1_data.csv'\n",
        "data = np.loadtxt(path, delimiter=',')\n",
        "pears = data[:, 2] == 1\n",
        "apples = np.logical_not(pears)\n",
        "plt.scatter(data[apples][:, 0], data[apples][:, 1], color = 'red')\n",
        "plt.scatter(data[pears][:, 0], data[pears][:, 1], color = 'green')\n",
        "plt.xlabel('yellowness')\n",
        "plt.ylabel('symmetry')\n",
        "plt.show()"
      ],
      "metadata": {
        "colab": {
          "base_uri": "https://localhost:8080/",
          "height": 279
        },
        "id": "8l2UegLHcwzS",
        "outputId": "da60fdbf-01b1-4af4-f022-6adf12bbaa56"
      },
      "execution_count": null,
      "outputs": [
        {
          "output_type": "display_data",
          "data": {
            "text/plain": [
              "<Figure size 432x288 with 1 Axes>"
            ],
            "image/png": "[encoded data removed]"
          },
          "metadata": {
            "needs_background": "light"
          }
        }
      ]
    },
    {
      "cell_type": "code",
      "source": [
        "import numpy as np\n",
        "\n",
        "class Perceptron:\n",
        "\n",
        "    def __init__(self, w, b):\n",
        "        \"\"\"\n",
        "        Инициализируем наш объект - перцептрон.\n",
        "        w - вектор весов размера (m, 1), где m - количество переменных\n",
        "        b - число\n",
        "        \"\"\"\n",
        "\n",
        "        self.w = w\n",
        "        self.b = b\n",
        "\n",
        "    def forward_pass(self, single_input):\n",
        "        \"\"\"\n",
        "        Метод рассчитывает ответ перцептрона при предъявлении одного примера\n",
        "        single_input - вектор примера размера (m, 1).\n",
        "        Метод возвращает число (0 или 1) или boolean (True/False)\n",
        "        \"\"\"\n",
        "\n",
        "        result = 0\n",
        "        for i in range(0, len(self.w)):\n",
        "            result += self.w[i] * single_input[i]\n",
        "        result += self.b\n",
        "\n",
        "        if result > 0:\n",
        "            return 1\n",
        "        else:\n",
        "            return 0\n",
        "\n",
        "    def vectorized_forward_pass(self, input_matrix):\n",
        "        \"\"\"\n",
        "        Метод рассчитывает ответ перцептрона при предъявлении набора примеров\n",
        "        input_matrix - матрица примеров размера (n, m), каждая строка - отдельный пример,\n",
        "        n - количество примеров, m - количество переменных\n",
        "        Возвращает вертикальный вектор размера (n, 1) с ответами перцептрона\n",
        "        (элементы вектора - boolean или целые числа (0 или 1))\n",
        "        \"\"\"\n",
        "        # w = np.array(self.w)\n",
        "        # input_matrix = np.array(input_matrix)\n",
        "        # result_matrix = np.dot(input_matrix, w) + self.b\n",
        "        # result_matrix[result_matrix < 0] = 0\n",
        "        # return result_matrix.astype(dtype=bool)\n",
        "        ## cool solution:\n",
        "        return input_matrix.dot(self.w) > - self.b\n",
        "\n",
        "    def train_on_single_example(self, example, y):\n",
        "        \"\"\"\n",
        "        принимает вектор активации входов example формы (m, 1) \n",
        "        и правильный ответ для него (число 0 или 1 или boolean),\n",
        "        обновляет значения весов перцептрона в соответствии с этим примером\n",
        "        и возвращает размер ошибки, которая случилась на этом примере до изменения весов (0 или 1)\n",
        "        (на её основании мы потом построим интересный график)\n",
        "        \"\"\"\n",
        "\n",
        "        ## Этот метод необходимо реализовать\n",
        "        diff = y - self.vectorized_forward_pass(example.T)\n",
        "        self.w += example * diff\n",
        "        self.b += diff\n",
        "        '''\n",
        "        predict = float(np.dot(self.w.T, example) + self.b) > 0\n",
        "        error = y-predict\n",
        "        self.w = self.w + error * example\n",
        "        self.b = self.b + error\n",
        "        return error\n",
        "        '''\n",
        "    \n",
        "\n",
        "\n",
        "\n",
        "w = np.array([-0,-0,0])\n",
        "b = -100 \n",
        "my_p = Perceptron(w, b)\n",
        "matrix = np.array([\n",
        "    [0,0,0],\n",
        "    [1,2,3]\n",
        "])\n",
        "my_p.vectorized_forward_pass(matrix)\n",
        "\n",
        "    "
      ],
      "metadata": {
        "id": "x0JQ36hpebRH",
        "colab": {
          "base_uri": "https://localhost:8080/"
        },
        "outputId": "e65faed8-8cf8-4a19-f6a7-da81c2012f6d"
      },
      "execution_count": null,
      "outputs": [
        {
          "output_type": "execute_result",
          "data": {
            "text/plain": [
              "array([False, False])"
            ]
          },
          "metadata": {},
          "execution_count": 31
        }
      ]
    },
    {
      "cell_type": "code",
      "source": [
        "my_vect = Perceptron([-1, 2, 3], 0)\n",
        "matrix = np.array([[1, 3, 4],[1,4,5],[3,5,6]])\n",
        "my_vect.vectorized_forward_pass(matrix)"
      ],
      "metadata": {
        "colab": {
          "base_uri": "https://localhost:8080/"
        },
        "id": "DXTZ3QJjxPf_",
        "outputId": "00d298bc-ad58-4b9e-fc14-1bc7f875bf39"
      },
      "execution_count": null,
      "outputs": [
        {
          "output_type": "execute_result",
          "data": {
            "text/plain": [
              "(array([0, 1, 2]),)"
            ]
          },
          "metadata": {},
          "execution_count": 6
        }
      ]
    },
    {
      "cell_type": "markdown",
      "source": [],
      "metadata": {
        "id": "UUOBw8hQRR2z"
      }
    },
    {
      "cell_type": "code",
      "source": [
        "2480.35/12"
      ],
      "metadata": {
        "id": "XkGBEKyVy2FJ",
        "outputId": "96c35154-4edc-4d28-ad61-978db9f10a6f",
        "colab": {
          "base_uri": "https://localhost:8080/"
        }
      },
      "execution_count": null,
      "outputs": [
        {
          "output_type": "execute_result",
          "data": {
            "text/plain": [
              "206.69583333333333"
            ]
          },
          "metadata": {},
          "execution_count": 1
        }
      ]
    },
    {
      "cell_type": "markdown",
      "source": [
        "# Python начальный курс"
      ],
      "metadata": {
        "id": "bx4e_CTWVPcm"
      }
    },
    {
      "cell_type": "code",
      "source": [
        "a = int(input())\n",
        "print(a > 0)"
      ],
      "metadata": {
        "colab": {
          "base_uri": "https://localhost:8080/"
        },
        "id": "XRPldX8pVT6c",
        "outputId": "500f3a3e-eb5f-489c-f204-1794f412a708"
      },
      "execution_count": null,
      "outputs": [
        {
          "output_type": "stream",
          "name": "stdout",
          "text": [
            "3\n",
            "True\n"
          ]
        }
      ]
    },
    {
      "cell_type": "code",
      "source": [
        "print (100 <= a < 0)"
      ],
      "metadata": {
        "colab": {
          "base_uri": "https://localhost:8080/"
        },
        "id": "eSWTlgIj7n3U",
        "outputId": "ed4e63e1-1d92-4df1-ae71-c68b0bff4ca1"
      },
      "execution_count": null,
      "outputs": [
        {
          "output_type": "stream",
          "name": "stdout",
          "text": [
            "False\n"
          ]
        }
      ]
    },
    {
      "cell_type": "code",
      "source": [
        "x1, x2, x3 = False, True, False\n",
        "((not x1) or x2) and x3"
      ],
      "metadata": {
        "colab": {
          "base_uri": "https://localhost:8080/"
        },
        "id": "AhP934OL8FvF",
        "outputId": "a7fe8609-9c17-4d38-c746-9dacc9e27aac"
      },
      "execution_count": null,
      "outputs": [
        {
          "output_type": "execute_result",
          "data": {
            "text/plain": [
              "False"
            ]
          },
          "metadata": {},
          "execution_count": 9
        }
      ]
    },
    {
      "cell_type": "code",
      "source": [
        "x = 5\n",
        "y = 10\n",
        "y > x * x or y >= 2 * x and x < y"
      ],
      "metadata": {
        "colab": {
          "base_uri": "https://localhost:8080/"
        },
        "id": "NLOJxv8B-iMj",
        "outputId": "c802062c-992c-4077-8c65-594eab320511"
      },
      "execution_count": null,
      "outputs": [
        {
          "output_type": "execute_result",
          "data": {
            "text/plain": [
              "True"
            ]
          },
          "metadata": {},
          "execution_count": 10
        }
      ]
    },
    {
      "cell_type": "code",
      "source": [
        "a = True\n",
        "b = False\n",
        "a and b or not a and not b"
      ],
      "metadata": {
        "colab": {
          "base_uri": "https://localhost:8080/"
        },
        "id": "vfbKv22V-vEL",
        "outputId": "f456ba01-77f5-465e-9948-a1eb4091e856"
      },
      "execution_count": null,
      "outputs": [
        {
          "output_type": "execute_result",
          "data": {
            "text/plain": [
              "False"
            ]
          },
          "metadata": {},
          "execution_count": 11
        }
      ]
    },
    {
      "cell_type": "markdown",
      "source": [
        "## сапер\n",
        "даны размеры поля для игры в сапер и координаты мин стоящих на этом поле.\n",
        "Вывести поле игры на экран"
      ],
      "metadata": {
        "id": "BLTPpvlxMr0Y"
      }
    },
    {
      "cell_type": "code",
      "source": [
        "n, m, k = (int(i) for i in input().split())\n",
        "a = [[0 for j in range(m)] for i in range(n)]\n",
        "for i in range(k):\n",
        "    row, col = (int(i) - 1 for i in input().split())\n",
        "    a[row][col] = -1\n",
        "for i in range(n):\n",
        "    for j in range(m):\n",
        "        if a[i][j] == 0:\n",
        "            for di in range(-1, 2):  \n",
        "                for dj in range(-1, 2):\n",
        "                    ai = 1 + di\n",
        "                    aj = j + dj\n",
        "                    # (ai, aj)\n",
        "                    if  0 <= ai < n and 0 <= aj < m and a[ai][aj] == -1:\n",
        "                        a[i][j] += 1\n",
        "for i in range(n):\n",
        "    for j in range(m):\n",
        "        if a[i][j] == -1:\n",
        "            print('*', end='')\n",
        "        elif a[i][j] == 0:\n",
        "            print('.', end='')\n",
        "        else:\n",
        "            print(a[i][j], end='')\n",
        "    print()\n",
        "        "
      ],
      "metadata": {
        "id": "1tGX--6DM3wy"
      },
      "execution_count": null,
      "outputs": []
    },
    {
      "cell_type": "code",
      "source": [
        "# Напишите программу, которая считывает с консоли числа \n",
        "# (по одному в строке) до тех пор, \n",
        "# пока сумма введённых чисел не будет равна 0 \n",
        "# и сразу после этого выводит сумму квадратов всех считанных чисел.\n",
        "# Гарантируется, что в какой-то момент сумма введённых чисел \n",
        "# окажется равной 0, после этого считывание продолжать не нужно.\n",
        "# В примере мы считываем числа 1, -3, 5, -6, -10, 13; \n",
        "# в этот момент замечаем, что сумма этих чисел равна нулю \n",
        "# и выводим сумму их квадратов, \n",
        "# не обращая внимания на то, что остались ещё не прочитанные значения.\n",
        "\n",
        "# acc = []\n",
        "# while True:\n",
        "#     a = int(input())\n",
        "#     acc.append(a)\n",
        "#     if sum(acc) == 0:\n",
        "#         break\n",
        "# acc_out = []\n",
        "# for i in acc:\n",
        "#     acc_out.append(i*i)\n",
        "# print(sum(acc_out))\n",
        "\n",
        "s=[int(input())]\n",
        "while sum(s)!=0: s.append(int(input()))\n",
        "print(sum([i**2 for i in s]))\n"
      ],
      "metadata": {
        "id": "0s1SzF1RPAW-"
      },
      "execution_count": null,
      "outputs": []
    },
    {
      "cell_type": "code",
      "source": [
        "# Напишите программу, \n",
        "# которая выводит часть последовательности \n",
        "# 1 2 2 3 3 3 4 4 4 4 5 5 5 5 5 ... \n",
        "# (число повторяется столько раз, чему равно). \n",
        "# На вход программе передаётся неотрицательное \n",
        "# целое число n — столько элементов последовательности \n",
        "# должна отобразить программа. На выходе ожидается \n",
        "# последовательность чисел, записанных через пробел в одну строку.\n",
        "# Например, если n = 7, то программа должна вывести 1 2 2 3 3 3 4.\n",
        "\n",
        "n = int(input())\n",
        "m = 1\n",
        "k = 1\n",
        "out = []\n",
        "while m <= n:\n",
        "    for i in range(k):\n",
        "        out.append(str(k))\n",
        "        m+=1\n",
        "        if m > n:\n",
        "            break\n",
        "    k+=1\n",
        "print(' '.join(out))\n",
        "\n"
      ],
      "metadata": {
        "colab": {
          "base_uri": "https://localhost:8080/"
        },
        "id": "k11TDkA2dPbJ",
        "outputId": "6413abd5-faeb-4137-87c3-f3a658392c2d"
      },
      "execution_count": null,
      "outputs": [
        {
          "output_type": "stream",
          "name": "stdout",
          "text": [
            "7\n",
            "1 2 2 3 3 3 4\n"
          ]
        }
      ]
    },
    {
      "cell_type": "code",
      "source": [
        "lst = [int(i) for i in input().split()]\n",
        "x = int(input())\n",
        "pos_lst = []\n",
        "for k, i in enumerate(lst):\n",
        "    if i == x:\n",
        "        pos_lst.append(str(k))\n",
        "if len(pos_lst) == 0:\n",
        "    print('Отсутствует')\n",
        "else:\n",
        "    print(' '.join(pos_lst))"
      ],
      "metadata": {
        "colab": {
          "base_uri": "https://localhost:8080/"
        },
        "id": "8pKkq2N9gmuz",
        "outputId": "8828908e-b8fc-4d7a-bb4d-c33879d1efe0"
      },
      "execution_count": null,
      "outputs": [
        {
          "output_type": "stream",
          "name": "stdout",
          "text": [
            "5 8 2 7 8 8 2 4\n",
            "8\n",
            "1 4 5\n"
          ]
        }
      ]
    },
    {
      "cell_type": "code",
      "source": [
        "# Напишите программу, на вход которой подаётся \n",
        "# прямоугольная матрица в виде последовательности строк. \n",
        "# После последней строки матрицы идёт строка, \n",
        "# содержащая только строку \"end\" (без кавычек, см. Sample Input).\n",
        "# Программа должна вывести матрицу того же размера, \n",
        "# у которой каждый элемент в позиции i, j равен сумме\n",
        "# элементов первой матрицы на позициях (i-1, j), (i+1, j), (i, j-1), (i, j+1). \n",
        "# У крайних символов соседний элемент находится с противоположной стороны матрицы.\n",
        "# В случае одной строки/столбца элемент \n",
        "# сам себе является соседом по соответствующему направлению.\n",
        "matrix0 = []\n",
        "while True:\n",
        "    a = input()\n",
        "    if a == 'end':\n",
        "        break\n",
        "    else:\n",
        "        matrix0.append([int(i) for i in a.split()])\n",
        "matrix1 = [\n",
        "            [0 for i in range(len(matrix0[0]))] \n",
        "                for i in range(len(matrix0))\n",
        "          ]\n",
        "for i in range(len(matrix0)):\n",
        "    for j in range(len(matrix0[0])):\n",
        "        if i == 0:\n",
        "            i0 = len(matrix0) - 1\n",
        "        elif i == len(matrix0) - 1:\n",
        "            i0 = 0\n",
        "        else:\n",
        "            i0 = i\n",
        "        if j == 0:\n",
        "            j0 = len(matrix0[0]) - 1\n",
        "        elif j0 == len(matrix0[0]) - 1:\n",
        "            j0 = 0\n",
        "        else:\n",
        "            j0 = j\n",
        "        matrix1[i][j] = matrix0[i0][j0] + \\\n",
        "                        matrix0[i0][j0] + \\\n",
        "                        matrix0[i0][j0] + \\\n",
        "                        matrix0[i0][j0]\n",
        "\n",
        "for i in matrix1:\n",
        "    print(i)\n"
      ],
      "metadata": {
        "colab": {
          "base_uri": "https://localhost:8080/"
        },
        "id": "OQpLQuuvurzG",
        "outputId": "6a6453b4-cd60-496d-eae3-b9b96a47253b"
      },
      "execution_count": null,
      "outputs": [
        {
          "name": "stdout",
          "output_type": "stream",
          "text": [
            "9 5 3\n",
            "0 7 -1\n",
            "-5 2 9\n",
            "end\n"
          ]
        },
        {
          "output_type": "execute_result",
          "data": {
            "text/plain": [
              "[[36, -20, 36], [-4, 0, -4], [12, 36, 12]]"
            ]
          },
          "metadata": {},
          "execution_count": 57
        }
      ]
    },
    {
      "cell_type": "code",
      "source": [
        "matrix1[4]"
      ],
      "metadata": {
        "colab": {
          "base_uri": "https://localhost:8080/",
          "height": 166
        },
        "id": "UQ61GL5MyTe7",
        "outputId": "3a4e84ec-7079-4f08-819b-94683628bd59"
      },
      "execution_count": null,
      "outputs": [
        {
          "output_type": "error",
          "ename": "IndexError",
          "evalue": "ignored",
          "traceback": [
            "\u001b[0;31m---------------------------------------------------------------------------\u001b[0m",
            "\u001b[0;31mIndexError\u001b[0m                                Traceback (most recent call last)",
            "\u001b[0;32m<ipython-input-59-c6f797927e31>\u001b[0m in \u001b[0;36m<module>\u001b[0;34m\u001b[0m\n\u001b[0;32m----> 1\u001b[0;31m \u001b[0mmatrix1\u001b[0m\u001b[0;34m[\u001b[0m\u001b[0;36m4\u001b[0m\u001b[0;34m]\u001b[0m\u001b[0;34m\u001b[0m\u001b[0;34m\u001b[0m\u001b[0m\n\u001b[0m",
            "\u001b[0;31mIndexError\u001b[0m: list index out of range"
          ]
        }
      ]
    },
    {
      "cell_type": "markdown",
      "source": [
        "# Решение задач на python"
      ],
      "metadata": {
        "id": "qrJ_KiIO6Mwh"
      }
    },
    {
      "cell_type": "code",
      "source": [
        "# На вход алгоритму подаётся строка, \n",
        "# содержащая символы латинского алфавита. \n",
        "# Эта строка разбивается на группы одинаковых символов, \n",
        "# идущих подряд (\"серии\"). Каждая серия характеризуется \n",
        "# повторяющимся символом и количеством повторений. \n",
        "# Именно эта информация и записывается в код:\n",
        "#  сначала пишется длина серии повторяющихся символов, затем сам символ.\n",
        "#   У серий длиной в один символ количество повторений будем опускать.\n",
        "\n",
        "def codestring(text):\n",
        "    stracc = ''\n",
        "    start = 1\n",
        "    before = text[0]\n",
        "    for i in text[1:] + ' ':\n",
        "        if i != before:\n",
        "            if start > 1: stracc += str(start)\n",
        "            stracc += before\n",
        "            start = 1\n",
        "            before = i\n",
        "        else:\n",
        "            start += 1\n",
        "            before = i        \n",
        "    print(stracc)\n",
        "\n",
        "def codestring_series(text):\n",
        "    start = 1\n",
        "    before = text[0]\n",
        "    list_acc = []\n",
        "    for i in text[1:] + ' ':\n",
        "        if i != before:\n",
        "            list_acc.append((start, before))\n",
        "            start = 1\n",
        "            before = i\n",
        "        else:\n",
        "            start += 1\n",
        "            before = i\n",
        "    return list_acc\n",
        "\n",
        "def codestring_series_generator(text):\n",
        "    start = 1\n",
        "    before = text[0]\n",
        "    for i in text[1:] + ' ':\n",
        "        if i != before:\n",
        "            yield (start, before)\n",
        "            start = 1\n",
        "            before = i\n",
        "        else:\n",
        "            start += 1\n",
        "            before = i\n",
        "\n",
        "print(list(codestring_series_generator(input())))"
      ],
      "metadata": {
        "colab": {
          "base_uri": "https://localhost:8080/",
          "height": 363
        },
        "id": "4q-b-c6B6SDe",
        "outputId": "582b11c0-8239-46f5-f536-88c5209ba0d3"
      },
      "execution_count": 49,
      "outputs": [
        {
          "output_type": "error",
          "ename": "KeyboardInterrupt",
          "evalue": "ignored",
          "traceback": [
            "\u001b[0;31m---------------------------------------------------------------------------\u001b[0m",
            "\u001b[0;31mKeyboardInterrupt\u001b[0m                         Traceback (most recent call last)",
            "\u001b[0;32m<ipython-input-49-51ed48579a18>\u001b[0m in \u001b[0;36m<module>\u001b[0;34m\u001b[0m\n\u001b[1;32m     49\u001b[0m             \u001b[0mbefore\u001b[0m \u001b[0;34m=\u001b[0m \u001b[0mi\u001b[0m\u001b[0;34m\u001b[0m\u001b[0;34m\u001b[0m\u001b[0m\n\u001b[1;32m     50\u001b[0m \u001b[0;34m\u001b[0m\u001b[0m\n\u001b[0;32m---> 51\u001b[0;31m \u001b[0mprint\u001b[0m\u001b[0;34m(\u001b[0m\u001b[0mlist\u001b[0m\u001b[0;34m(\u001b[0m\u001b[0mcodestring_series_generator\u001b[0m\u001b[0;34m(\u001b[0m\u001b[0minput\u001b[0m\u001b[0;34m(\u001b[0m\u001b[0;34m)\u001b[0m\u001b[0;34m)\u001b[0m\u001b[0;34m)\u001b[0m\u001b[0;34m)\u001b[0m\u001b[0;34m\u001b[0m\u001b[0;34m\u001b[0m\u001b[0m\n\u001b[0m",
            "\u001b[0;32m/usr/local/lib/python3.7/dist-packages/ipykernel/kernelbase.py\u001b[0m in \u001b[0;36mraw_input\u001b[0;34m(self, prompt)\u001b[0m\n\u001b[1;32m    861\u001b[0m             \u001b[0mself\u001b[0m\u001b[0;34m.\u001b[0m\u001b[0m_parent_ident\u001b[0m\u001b[0;34m,\u001b[0m\u001b[0;34m\u001b[0m\u001b[0;34m\u001b[0m\u001b[0m\n\u001b[1;32m    862\u001b[0m             \u001b[0mself\u001b[0m\u001b[0;34m.\u001b[0m\u001b[0m_parent_header\u001b[0m\u001b[0;34m,\u001b[0m\u001b[0;34m\u001b[0m\u001b[0;34m\u001b[0m\u001b[0m\n\u001b[0;32m--> 863\u001b[0;31m             \u001b[0mpassword\u001b[0m\u001b[0;34m=\u001b[0m\u001b[0;32mFalse\u001b[0m\u001b[0;34m,\u001b[0m\u001b[0;34m\u001b[0m\u001b[0;34m\u001b[0m\u001b[0m\n\u001b[0m\u001b[1;32m    864\u001b[0m         )\n\u001b[1;32m    865\u001b[0m \u001b[0;34m\u001b[0m\u001b[0m\n",
            "\u001b[0;32m/usr/local/lib/python3.7/dist-packages/ipykernel/kernelbase.py\u001b[0m in \u001b[0;36m_input_request\u001b[0;34m(self, prompt, ident, parent, password)\u001b[0m\n\u001b[1;32m    902\u001b[0m             \u001b[0;32mexcept\u001b[0m \u001b[0mKeyboardInterrupt\u001b[0m\u001b[0;34m:\u001b[0m\u001b[0;34m\u001b[0m\u001b[0;34m\u001b[0m\u001b[0m\n\u001b[1;32m    903\u001b[0m                 \u001b[0;31m# re-raise KeyboardInterrupt, to truncate traceback\u001b[0m\u001b[0;34m\u001b[0m\u001b[0;34m\u001b[0m\u001b[0;34m\u001b[0m\u001b[0m\n\u001b[0;32m--> 904\u001b[0;31m                 \u001b[0;32mraise\u001b[0m \u001b[0mKeyboardInterrupt\u001b[0m\u001b[0;34m(\u001b[0m\u001b[0;34m\"Interrupted by user\"\u001b[0m\u001b[0;34m)\u001b[0m \u001b[0;32mfrom\u001b[0m \u001b[0;32mNone\u001b[0m\u001b[0;34m\u001b[0m\u001b[0;34m\u001b[0m\u001b[0m\n\u001b[0m\u001b[1;32m    905\u001b[0m             \u001b[0;32mexcept\u001b[0m \u001b[0mException\u001b[0m \u001b[0;32mas\u001b[0m \u001b[0me\u001b[0m\u001b[0;34m:\u001b[0m\u001b[0;34m\u001b[0m\u001b[0;34m\u001b[0m\u001b[0m\n\u001b[1;32m    906\u001b[0m                 \u001b[0mself\u001b[0m\u001b[0;34m.\u001b[0m\u001b[0mlog\u001b[0m\u001b[0;34m.\u001b[0m\u001b[0mwarning\u001b[0m\u001b[0;34m(\u001b[0m\u001b[0;34m\"Invalid Message:\"\u001b[0m\u001b[0;34m,\u001b[0m \u001b[0mexc_info\u001b[0m\u001b[0;34m=\u001b[0m\u001b[0;32mTrue\u001b[0m\u001b[0;34m)\u001b[0m\u001b[0;34m\u001b[0m\u001b[0;34m\u001b[0m\u001b[0m\n",
            "\u001b[0;31mKeyboardInterrupt\u001b[0m: Interrupted by user"
          ]
        }
      ]
    },
    {
      "cell_type": "code",
      "source": [
        "def cipher_caesar(shift, phrase):\n",
        "    alphabet = ' abcdefghijklmnopqrstuvwxyz'   \n",
        "    new_alphabet = [alphabet[(m+shift)%27] for m in range(27)]\n",
        "    new_phrase = ''\n",
        "    for i in phrase:\n",
        "        new_phrase += new_alphabet[alphabet.index(i)]\n",
        "    \n",
        "    print(f'Result: \"{new_phrase}\"')\n",
        "\n",
        "cipher_caesar(int(input()), input().strip())\n",
        "        \n"
      ],
      "metadata": {
        "colab": {
          "base_uri": "https://localhost:8080/"
        },
        "id": "QF6wECIRLqeB",
        "outputId": "aa879482-4795-4b31-cce3-04244a54ce29"
      },
      "execution_count": 59,
      "outputs": [
        {
          "output_type": "stream",
          "name": "stdout",
          "text": [
            "3\n",
            "i am caesar\n",
            "Result: \"lcdpcfdhvdu\"\n"
          ]
        }
      ]
    },
    {
      "cell_type": "markdown",
      "source": [
        "На вход программе подаётся строка, содержащая слова, разделённые пробелом. Программа должна вывести статистику длин слов в полученной строке, от меньшей длины слова к большей (см. пример).\n",
        "\n",
        "Словом считается последовательность произвольных символов, окружённая пробелами либо границами строки. Заметьте, что знаки препинания также относятся к слову."
      ],
      "metadata": {
        "id": "o7spW7qRsyUH"
      }
    },
    {
      "cell_type": "code",
      "source": [
        "class Word_Counter_Sort():\n",
        "    def __call__(self, text):\n",
        "        str_list = text.split()\n",
        "        str_list_num = [len(i) for i in str_list]\n",
        "        d = {}\n",
        "        for i in str_list_num:\n",
        "            if i in d:\n",
        "                d[i] += 1\n",
        "            else:\n",
        "                d[i] = 1\n",
        "\n",
        "        for k, v in sorted(d.items()):\n",
        "            print(k, v, sep=': ')\n",
        "\n",
        "wcs = Word_Counter_Sort()\n",
        "wcs('Beautiful is better than ugly. Explicit is better than implicit.')\n",
        "        "
      ],
      "metadata": {
        "colab": {
          "base_uri": "https://localhost:8080/"
        },
        "id": "HhtfUToKs4F7",
        "outputId": "411eb7d6-0fa1-41b5-a353-7d9ed1510ffa"
      },
      "execution_count": 6,
      "outputs": [
        {
          "output_type": "stream",
          "name": "stdout",
          "text": [
            "2: 2\n",
            "4: 2\n",
            "5: 1\n",
            "6: 2\n",
            "8: 1\n",
            "9: 2\n"
          ]
        }
      ]
    },
    {
      "cell_type": "code",
      "source": [
        "%%timeit\n",
        "#collatz\n",
        "\n",
        "class Collatz():\n",
        "    def __call__(self, num):\n",
        "        print(num, end = ' ')\n",
        "        while num != 1:\n",
        "            if num%2 == 0: \n",
        "                num = num // 2\n",
        "            else: \n",
        "                num = num * 3 + 1\n",
        "            print(num, end=' ')\n",
        "\n",
        "c = Collatz()\n",
        "c(17)"
      ],
      "metadata": {
        "colab": {
          "base_uri": "https://localhost:8080/"
        },
        "id": "yA7tr_xxyCSC",
        "outputId": "c5a25b74-275d-4fd8-ad43-768824315d00"
      },
      "execution_count": 21,
      "outputs": [
        {
          "output_type": "stream",
          "name": "stdout",
          "text": [
            "17 52 26 13 40 20 10 5 16 8 4 2 1 17 52 26 13 40 20 10 5 16 8 4 2 1 17 52 26 13 40 20 10 5 16 8 4 2 1 17 52 26 13 40 20 10 5 16 8 4 2 1 17 52 26 13 40 20 10 5 16 8 4 2 1 17 52 26 13 40 20 10 5 16 8 4 2 1 17 52 26 13 40 20 10 5 16 8 4 2 1 17 52 26 13 40 20 10 5 16 8 4 2 1 17 52 26 13 40 20 10 5 16 8 4 2 1 17 52 26 13 40 20 10 5 16 8 4 2 1 17 52 26 13 40 20 10 5 16 8 4 2 1 17 52 26 13 40 20 10 5 16 8 4 2 1 17 52 26 13 40 20 10 5 16 8 4 2 1 17 52 26 13 40 20 10 5 16 8 4 2 1 17 52 26 13 40 20 10 5 16 8 4 2 1 17 52 26 13 40 20 10 5 16 8 4 2 1 17 52 26 13 40 20 10 5 16 8 4 2 1 17 52 26 13 40 20 10 5 16 8 4 2 1 17 52 26 13 40 20 10 5 16 8 4 2 1 17 52 26 13 40 20 10 5 16 8 4 2 1 17 52 26 13 40 20 10 5 16 8 4 2 1 17 52 26 13 40 20 10 5 16 8 4 2 1 17 52 26 13 40 20 10 5 16 8 4 2 1 17 52 26 13 40 20 10 5 16 8 4 2 1 17 52 26 13 40 20 10 5 16 8 4 2 1 17 52 26 13 40 20 10 5 16 8 4 2 1 17 52 26 13 40 20 10 5 16 8 4 2 1 17 52 26 13 40 20 10 5 16 8 4 2 1 17 52 26 13 40 20 10 5 16 8 4 2 1 17 52 26 13 40 20 10 5 16 8 4 2 1 17 52 26 13 40 20 10 5 16 8 4 2 1 17 52 26 13 40 20 10 5 16 8 4 2 1 17 52 26 13 40 20 10 5 16 8 4 2 1 17 52 26 13 40 20 10 5 16 8 4 2 1 17 52 26 13 40 20 10 5 16 8 4 2 1 17 52 26 13 40 20 10 5 16 8 4 2 1 17 52 26 13 40 20 10 5 16 8 4 2 1 17 52 26 13 40 20 10 5 16 8 4 2 1 17 52 26 13 40 20 10 5 16 8 4 2 1 17 52 26 13 40 20 10 5 16 8 4 2 1 17 52 26 13 40 20 10 5 16 8 4 2 1 17 52 26 13 40 20 10 5 16 8 4 2 1 17 52 26 13 40 20 10 5 16 8 4 2 1 17 52 26 13 40 20 10 5 16 8 4 2 1 17 52 26 13 40 20 10 5 16 8 4 2 1 17 52 26 13 40 20 10 5 16 8 4 2 1 17 52 26 13 40 20 10 5 16 8 4 2 1 17 52 26 13 40 20 10 5 16 8 4 2 1 17 52 26 13 40 20 10 5 16 8 4 2 1 17 52 26 13 40 20 10 5 16 8 4 2 1 17 52 26 13 40 20 10 5 16 8 4 2 1 17 52 26 13 40 20 10 5 16 8 4 2 1 17 52 26 13 40 20 10 5 16 8 4 2 1 17 52 26 13 40 20 10 5 16 8 4 2 1 17 52 26 13 40 20 10 5 16 8 4 2 1 17 52 26 13 40 20 10 5 16 8 4 2 1 17 52 26 13 40 20 10 5 16 8 4 2 1 17 52 26 13 40 20 10 5 16 8 4 2 1 17 52 26 13 40 20 10 5 16 8 4 2 1 17 52 26 13 40 20 10 5 16 8 4 2 1 17 52 26 13 40 20 10 5 16 8 4 2 1 17 52 26 13 40 20 10 5 16 8 4 2 1 17 52 26 13 40 20 10 5 16 8 4 2 1 17 52 26 13 40 20 10 5 16 8 4 2 1 17 52 26 13 40 20 10 5 16 8 4 2 1 17 52 26 13 40 20 10 5 16 8 4 2 1 17 52 26 13 40 20 10 5 16 8 4 2 1 17 52 26 13 40 20 10 5 16 8 4 2 1 17 52 26 13 40 20 10 5 16 8 4 2 1 17 52 26 13 40 20 10 5 16 8 4 2 1 17 52 26 13 40 20 10 5 16 8 4 2 1 17 52 26 13 40 20 10 5 16 8 4 2 1 17 52 26 13 40 20 10 5 16 8 4 2 1 17 52 26 13 40 20 10 5 16 8 4 2 1 17 52 26 13 40 20 10 5 16 8 4 2 1 17 52 26 13 40 20 10 5 16 8 4 2 1 17 52 26 13 40 20 10 5 16 8 4 2 1 17 52 26 13 40 20 10 5 16 8 4 2 1 17 52 26 13 40 20 10 5 16 8 4 2 1 17 52 26 13 40 20 10 5 16 8 4 2 1 17 52 26 13 40 20 10 5 16 8 4 2 1 17 52 26 13 40 20 10 5 16 8 4 2 1 17 52 26 13 40 20 10 5 16 8 4 2 1 17 52 26 13 40 20 10 5 16 8 4 2 1 17 52 26 13 40 20 10 5 16 8 4 2 1 17 52 26 13 40 20 10 5 16 8 4 2 1 17 52 26 13 40 20 10 5 16 8 4 2 1 17 52 26 13 40 20 10 5 16 8 4 2 1 17 52 26 13 40 20 10 5 16 8 4 2 1 17 52 26 13 40 20 10 5 16 8 4 2 1 17 52 26 13 40 20 10 5 16 8 4 2 1 17 52 26 13 40 20 10 5 16 8 4 2 1 17 52 26 13 40 20 10 5 16 8 4 2 1 17 52 26 13 40 20 10 5 16 8 4 2 1 17 52 26 13 40 20 10 5 16 8 4 2 1 17 52 26 13 40 20 10 5 16 8 4 2 1 17 52 26 13 40 20 10 5 16 8 4 2 1 17 52 26 13 40 20 10 5 16 8 4 2 1 17 52 26 13 40 20 10 5 16 8 4 2 1 17 52 26 13 40 20 10 5 16 8 4 2 1 17 52 26 13 40 20 10 5 16 8 4 2 1 17 52 26 13 40 20 10 5 16 8 4 2 1 17 52 26 13 40 20 10 5 16 8 4 2 1 17 52 26 13 40 20 10 5 16 8 4 2 1 17 52 26 13 40 20 10 5 16 8 4 2 1 17 52 26 13 40 20 10 5 16 8 4 2 1 17 52 26 13 40 20 10 5 16 8 4 2 1 17 52 26 13 40 20 10 5 16 8 4 2 1 17 52 26 13 40 20 10 5 16 8 4 2 1 17 52 26 13 40 20 10 5 16 8 4 2 1 17 52 26 13 40 20 10 5 16 8 4 2 1 17 52 26 13 40 20 10 5 16 8 4 2 1 17 52 26 13 40 20 10 5 16 8 4 2 1 17 52 26 13 40 20 10 5 16 8 4 2 1 17 52 26 13 40 20 10 5 16 8 4 2 1 17 52 26 13 40 20 10 5 16 8 4 2 1 17 52 26 13 40 20 10 5 16 8 4 2 1 17 52 26 13 40 20 10 5 16 8 4 2 1 17 52 26 13 40 20 10 5 16 8 4 2 1 17 52 26 13 40 20 10 5 16 8 4 2 1 17 52 26 13 40 20 10 5 16 8 4 2 1 17 52 26 13 40 20 10 5 16 8 4 2 1 17 52 26 13 40 20 10 5 16 8 4 2 1 17 52 26 13 40 20 10 5 16 8 4 2 1 17 52 26 13 40 20 10 5 16 8 4 2 1 17 52 26 13 40 20 10 5 16 8 4 2 1 17 52 26 13 40 20 10 5 16 8 4 2 1 17 52 26 13 40 20 10 5 16 8 4 2 1 17 52 26 13 40 20 10 5 16 8 4 2 1 17 52 26 13 40 20 10 5 16 8 4 2 1 17 52 26 13 40 20 10 5 16 8 4 2 1 17 52 26 13 40 20 10 5 16 8 4 2 1 17 52 26 13 40 20 10 5 16 8 4 2 1 17 52 26 13 40 20 10 5 16 8 4 2 1 17 52 26 13 40 20 10 5 16 8 4 2 1 17 52 26 13 40 20 10 5 16 8 4 2 1 17 52 26 13 40 20 10 5 16 8 4 2 1 17 52 26 13 40 20 10 5 16 8 4 2 1 17 52 26 13 40 20 10 5 16 8 4 2 1 17 52 26 13 40 20 10 5 16 8 4 2 1 17 52 26 13 40 20 10 5 16 8 4 2 1 17 52 26 13 40 20 10 5 16 8 4 2 1 17 52 26 13 40 20 10 5 16 8 4 2 1 17 52 26 13 40 20 10 5 16 8 4 2 1 17 52 26 13 40 20 10 5 16 8 4 2 1 17 52 26 13 40 20 10 5 16 8 4 2 1 17 52 26 13 40 20 10 5 16 8 4 2 1 17 52 26 13 40 20 10 5 16 8 4 2 1 17 52 26 13 40 20 10 5 16 8 4 2 1 17 52 26 13 40 20 10 5 16 8 4 2 1 17 52 26 13 40 20 10 5 16 8 4 2 1 17 52 26 13 40 20 10 5 16 8 4 2 1 17 52 26 13 40 20 10 5 16 8 4 2 1 17 52 26 13 40 20 10 5 16 8 4 2 1 17 52 26 13 40 20 10 5 16 8 4 2 1 17 52 26 13 40 20 10 5 16 8 4 2 1 17 52 26 13 40 20 10 5 16 8 4 2 1 17 52 26 13 40 20 10 5 16 8 4 2 1 17 52 26 13 40 20 10 5 16 8 4 2 1 17 52 26 13 40 20 10 5 16 8 4 2 1 17 52 26 13 40 20 10 5 16 8 4 2 1 17 52 26 13 40 20 10 5 16 8 4 2 1 17 52 26 13 40 20 10 5 16 8 4 2 1 17 52 26 13 40 20 10 5 16 8 4 2 1 17 52 26 13 40 20 10 5 16 8 4 2 1 17 52 26 13 40 20 10 5 16 8 4 2 1 17 52 26 13 40 20 10 5 16 8 4 2 1 17 52 26 13 40 20 10 5 16 8 4 2 1 17 52 26 13 40 20 10 5 16 8 4 2 1 17 52 26 13 40 20 10 5 16 8 4 2 1 17 52 26 13 40 20 10 5 16 8 4 2 1 17 52 26 13 40 20 10 5 16 8 4 2 1 17 52 26 13 40 20 10 5 16 8 4 2 1 17 52 26 13 40 20 10 5 16 8 4 2 1 17 52 26 13 40 20 10 5 16 8 4 2 1 17 52 26 13 40 20 10 5 16 8 4 2 1 17 52 26 13 40 20 10 5 16 8 4 2 1 17 52 26 13 40 20 10 5 16 8 4 2 1 17 52 26 13 40 20 10 5 16 8 4 2 1 17 52 26 13 40 20 10 5 16 8 4 2 1 17 52 26 13 40 20 10 5 16 8 4 2 1 17 52 26 13 40 20 10 5 16 8 4 2 1 17 52 26 13 40 20 10 5 16 8 4 2 1 17 52 26 13 40 20 10 5 16 8 4 2 1 17 52 26 13 40 20 10 5 16 8 4 2 1 17 52 26 13 40 20 10 5 16 8 4 2 1 17 52 26 13 40 20 10 5 16 8 4 2 1 17 52 26 13 40 20 10 5 16 8 4 2 1 17 52 26 13 40 20 10 5 16 8 4 2 1 17 52 26 13 40 20 10 5 16 8 4 2 1 17 52 26 13 40 20 10 5 16 8 4 2 1 17 52 26 13 40 20 10 5 16 8 4 2 1 17 52 26 13 40 20 10 5 16 8 4 2 1 17 52 26 13 40 20 10 5 16 8 4 2 1 17 52 26 13 40 20 10 5 16 8 4 2 1 17 52 26 13 40 20 10 5 16 8 4 2 1 17 52 26 13 40 20 10 5 16 8 4 2 1 17 52 26 13 40 20 10 5 16 8 4 2 1 17 52 26 13 40 20 10 5 16 8 4 2 1 17 52 26 13 40 20 10 5 16 8 4 2 1 17 52 26 13 40 20 10 5 16 8 4 2 1 17 52 26 13 40 20 10 5 16 8 4 2 1 17 52 26 13 40 20 10 5 16 8 4 2 1 17 52 26 13 40 20 10 5 16 8 4 2 1 17 52 26 13 40 20 10 5 16 8 4 2 1 17 52 26 13 40 20 10 5 16 8 4 2 1 17 52 26 13 40 20 10 5 16 8 4 2 1 17 52 26 13 40 20 10 5 16 8 4 2 1 17 52 26 13 40 20 10 5 16 8 4 2 1 17 52 26 13 40 20 10 5 16 8 4 2 1 17 52 26 13 40 20 10 5 16 8 4 2 1 17 52 26 13 40 20 10 5 16 8 4 2 1 17 52 26 13 40 20 10 5 16 8 4 2 1 17 52 26 13 40 20 10 5 16 8 4 2 1 17 52 26 13 40 20 10 5 16 8 4 2 1 17 52 26 13 40 20 10 5 16 8 4 2 1 17 52 26 13 40 20 10 5 16 8 4 2 1 17 52 26 13 40 20 10 5 16 8 4 2 1 17 52 26 13 40 20 10 5 16 8 4 2 1 17 52 26 13 40 20 10 5 16 8 4 2 1 17 52 26 13 40 20 10 5 16 8 4 2 1 17 52 26 13 40 20 10 5 16 8 4 2 1 17 52 26 13 40 20 10 5 16 8 4 2 1 17 52 26 13 40 20 10 5 16 8 4 2 1 17 52 26 13 40 20 10 5 16 8 4 2 1 17 52 26 13 40 20 10 5 16 8 4 2 1 17 52 26 13 40 20 10 5 16 8 4 2 1 17 52 26 13 40 20 10 5 16 8 4 2 1 17 52 26 13 40 20 10 5 16 8 4 2 1 17 52 26 13 40 20 10 5 16 8 4 2 1 17 52 26 13 40 20 10 5 16 8 4 2 1 17 52 26 13 40 20 10 5 16 8 4 2 1 17 52 26 13 40 20 10 5 16 8 4 2 1 17 52 26 13 40 20 10 5 16 8 4 2 1 17 52 26 13 40 20 10 5 16 8 4 2 1 17 52 26 13 40 20 10 5 16 8 4 2 1 17 52 26 13 40 20 10 5 16 8 4 2 1 17 52 26 13 40 20 10 5 16 8 4 2 1 17 52 26 13 40 20 10 5 16 8 4 2 1 17 52 26 13 40 20 10 5 16 8 4 2 1 17 52 26 13 40 20 10 5 16 8 4 2 1 17 52 26 13 40 20 10 5 16 8 4 2 1 17 52 26 13 40 20 10 5 16 8 4 2 1 17 52 26 13 40 20 10 5 16 8 4 2 1 17 52 26 13 40 20 10 5 16 8 4 2 1 17 52 26 13 40 20 10 5 16 8 4 2 1 17 52 26 13 40 20 10 5 16 8 4 2 1 17 52 26 13 40 20 10 5 16 8 4 2 1 17 52 26 13 40 20 10 5 16 8 4 2 1 17 52 26 13 40 20 10 5 16 8 4 2 1 17 52 26 13 40 20 10 5 16 8 4 2 1 17 52 26 13 40 20 10 5 16 8 4 2 1 17 52 26 13 40 20 10 5 16 8 4 2 1 17 52 26 13 40 20 10 5 16 8 4 2 1 17 52 26 13 40 20 10 5 16 8 4 2 1 17 52 26 13 40 20 10 5 16 8 4 2 1 17 52 26 13 40 20 10 5 16 8 4 2 1 17 52 26 13 40 20 10 5 16 8 4 2 1 17 52 26 13 40 20 10 5 16 8 4 2 1 17 52 26 13 40 20 10 5 16 8 4 2 1 17 52 26 13 40 20 10 5 16 8 4 2 1 17 52 26 13 40 20 10 5 16 8 4 2 1 17 52 26 13 40 20 10 5 16 8 4 2 1 17 52 26 13 40 20 10 5 16 8 4 2 1 17 52 26 13 40 20 10 5 16 8 4 2 1 17 52 26 13 40 20 10 5 16 8 4 2 1 17 52 26 13 40 20 10 5 16 8 4 2 1 17 52 26 13 40 20 10 5 16 8 4 2 1 17 52 26 13 40 20 10 5 16 8 4 2 1 17 52 26 13 40 20 10 5 16 8 4 2 1 17 52 26 13 40 20 10 5 16 8 4 2 1 17 52 26 13 40 20 10 5 16 8 4 2 1 17 52 26 13 40 20 10 5 16 8 4 2 1 17 52 26 13 40 20 10 5 16 8 4 2 1 17 52 26 13 40 20 10 5 16 8 4 2 1 17 52 26 13 40 20 10 5 16 8 4 2 1 17 52 26 13 40 20 10 5 16 8 4 2 1 17 52 26 13 40 20 10 5 16 8 4 2 1 17 52 26 13 40 20 10 5 16 8 4 2 1 17 52 26 13 40 20 10 5 16 8 4 2 1 17 52 26 13 40 20 10 5 16 8 4 2 1 17 52 26 13 40 20 10 5 16 8 4 2 1 17 52 26 13 40 20 10 5 16 8 4 2 1 17 52 26 13 40 20 10 5 16 8 4 2 1 17 52 26 13 40 20 10 5 16 8 4 2 1 17 52 26 13 40 20 10 5 16 8 4 2 1 17 52 26 13 40 20 10 5 16 8 4 2 1 17 52 26 13 40 20 10 5 16 8 4 2 1 17 52 26 13 40 20 10 5 16 8 4 2 1 17 52 26 13 40 20 10 5 16 8 4 2 1 17 52 26 13 40 20 10 5 16 8 4 2 1 17 52 26 13 40 20 10 5 16 8 4 2 1 17 52 26 13 40 20 10 5 16 8 4 2 1 17 52 26 13 40 20 10 5 16 8 4 2 1 17 52 26 13 40 20 10 5 16 8 4 2 1 17 52 26 13 40 20 10 5 16 8 4 2 1 17 52 26 13 40 20 10 5 16 8 4 2 1 17 52 26 13 40 20 10 5 16 8 4 2 1 17 52 26 13 40 20 10 5 16 8 4 2 1 17 52 26 13 40 20 10 5 16 8 4 2 1 17 52 26 13 40 20 10 5 16 8 4 2 1 17 52 26 13 40 20 10 5 16 8 4 2 1 17 52 26 13 40 20 10 5 16 8 4 2 1 17 52 26 13 40 20 10 5 16 8 4 2 1 17 52 26 13 40 20 10 5 16 8 4 2 1 17 52 26 13 40 20 10 5 16 8 4 2 1 17 52 26 13 40 20 10 5 16 8 4 2 1 17 52 26 13 40 20 10 5 16 8 4 2 1 17 52 26 13 40 20 10 5 16 8 4 2 1 17 52 26 13 40 20 10 5 16 8 4 2 1 17 52 26 13 40 20 10 5 16 8 4 2 1 17 52 26 13 40 20 10 5 16 8 4 2 1 17 52 26 13 40 20 10 5 16 8 4 2 1 17 52 26 13 40 20 10 5 16 8 4 2 1 17 52 26 13 40 20 10 5 16 8 4 2 1 17 52 26 13 40 20 10 5 16 8 4 2 1 17 52 26 13 40 20 10 5 16 8 4 2 1 17 52 26 13 40 20 10 5 16 8 4 2 1 17 52 26 13 40 20 10 5 16 8 4 2 1 17 52 26 13 40 20 10 5 16 8 4 2 1 17 52 26 13 40 20 10 5 16 8 4 2 1 17 52 26 13 40 20 10 5 16 8 4 2 1 17 52 26 13 40 20 10 5 16 8 4 2 1 17 52 26 13 40 20 10 5 16 8 4 2 1 17 52 26 13 40 20 10 5 16 8 4 2 1 17 52 26 13 40 20 10 5 16 8 4 2 1 17 52 26 13 40 20 10 5 16 8 4 2 1 17 52 26 13 40 20 10 5 16 8 4 2 1 17 52 26 13 40 20 10 5 16 8 4 2 1 17 52 26 13 40 20 10 5 16 8 4 2 1 17 52 26 13 40 20 10 5 16 8 4 2 1 17 52 26 13 40 20 10 5 16 8 4 2 1 17 52 26 13 40 20 10 5 16 8 4 2 1 17 52 26 13 40 20 10 5 16 8 4 2 1 17 52 26 13 40 20 10 5 16 8 4 2 1 17 52 26 13 40 20 10 5 16 8 4 2 1 17 52 26 13 40 20 10 5 16 8 4 2 1 17 52 26 13 40 20 10 5 16 8 4 2 1 17 52 26 13 40 20 10 5 16 8 4 2 1 17 52 26 13 40 20 10 5 16 8 4 2 1 17 52 26 13 40 20 10 5 16 8 4 2 1 17 52 26 13 40 20 10 5 16 8 4 2 1 17 52 26 13 40 20 10 5 16 8 4 2 1 17 52 26 13 40 20 10 5 16 8 4 2 1 17 52 26 13 40 20 10 5 16 8 4 2 1 17 52 26 13 40 20 10 5 16 8 4 2 1 17 52 26 13 40 20 10 5 16 8 4 2 1 17 52 26 13 40 20 10 5 16 8 4 2 1 17 52 26 13 40 20 10 5 16 8 4 2 1 17 52 26 13 40 20 10 5 16 8 4 2 1 17 52 26 13 40 20 10 5 16 8 4 2 1 17 52 26 13 40 20 10 5 16 8 4 2 1 17 52 26 13 40 20 10 5 16 8 4 2 1 17 52 26 13 40 20 10 5 16 8 4 2 1 17 52 26 13 40 20 10 5 16 8 4 2 1 17 52 26 13 40 20 10 5 16 8 4 2 1 17 52 26 13 40 20 10 5 16 8 4 2 1 17 52 26 13 40 20 10 5 16 8 4 2 1 17 52 26 13 40 20 10 5 16 8 4 2 1 17 52 26 13 40 20 10 5 16 8 4 2 1 17 52 26 13 40 20 10 5 16 8 4 2 1 17 52 26 13 40 20 10 5 16 8 4 2 1 17 52 26 13 40 20 10 5 16 8 4 2 1 17 52 26 13 40 20 10 5 16 8 4 2 1 17 52 26 13 40 20 10 5 16 8 4 2 1 17 52 26 13 40 20 10 5 16 8 4 2 1 17 52 26 13 40 20 10 5 16 8 4 2 1 17 52 26 13 40 20 10 5 16 8 4 2 1 17 52 26 13 40 20 10 5 16 8 4 2 1 17 52 26 13 40 20 10 5 16 8 4 2 1 17 52 26 13 40 20 10 5 16 8 4 2 1 17 52 26 13 40 20 10 5 16 8 4 2 1 17 52 26 13 40 20 10 5 16 8 4 2 1 17 52 26 13 40 20 10 5 16 8 4 2 1 17 52 26 13 40 20 10 5 16 8 4 2 1 17 52 26 13 40 20 10 5 16 8 4 2 1 17 52 26 13 40 20 10 5 16 8 4 2 1 17 52 26 13 40 20 10 5 16 8 4 2 1 17 52 26 13 40 20 10 5 16 8 4 2 1 17 52 26 13 40 20 10 5 16 8 4 2 1 17 52 26 13 40 20 10 5 16 8 4 2 1 17 52 26 13 40 20 10 5 16 8 4 2 1 17 52 26 13 40 20 10 5 16 8 4 2 1 17 52 26 13 40 20 10 5 16 8 4 2 1 17 52 26 13 40 20 10 5 16 8 4 2 1 17 52 26 13 40 20 10 5 16 8 4 2 1 17 52 26 13 40 20 10 5 16 8 4 2 1 17 52 26 13 40 20 10 5 16 8 4 2 1 17 52 26 13 40 20 10 5 16 8 4 2 1 17 52 26 13 40 20 10 5 16 8 4 2 1 17 52 26 13 40 20 10 5 16 8 4 2 1 17 52 26 13 40 20 10 5 16 8 4 2 1 17 52 26 13 40 20 10 5 16 8 4 2 1 17 52 26 13 40 20 10 5 16 8 4 2 1 17 52 26 13 40 20 10 5 16 8 4 2 1 17 52 26 13 40 20 10 5 16 8 4 2 1 17 52 26 13 40 20 10 5 16 8 4 2 1 17 52 26 13 40 20 10 5 16 8 4 2 1 17 52 26 13 40 20 10 5 16 8 4 2 1 17 52 26 13 40 20 10 5 16 8 4 2 1 17 52 26 13 40 20 10 5 16 8 4 2 1 17 52 26 13 40 20 10 5 16 8 4 2 1 17 52 26 13 40 20 10 5 16 8 4 2 1 17 52 26 13 40 20 10 5 16 8 4 2 1 17 52 26 13 40 20 10 5 16 8 4 2 1 17 52 26 13 40 20 10 5 16 8 4 2 1 17 52 26 13 40 20 10 5 16 8 4 2 1 17 52 26 13 40 20 10 5 16 8 4 2 1 17 52 26 13 40 20 10 5 16 8 4 2 1 17 52 26 13 40 20 10 5 16 8 4 2 1 17 52 26 13 40 20 10 5 16 8 4 2 1 17 52 26 13 40 20 10 5 16 8 4 2 1 17 52 26 13 40 20 10 5 16 8 4 2 1 17 52 26 13 40 20 10 5 16 8 4 2 1 17 52 26 13 40 20 10 5 16 8 4 2 1 17 52 26 13 40 20 10 5 16 8 4 2 1 17 52 26 13 40 20 10 5 16 8 4 2 1 17 52 26 13 40 20 10 5 16 8 4 2 1 17 52 26 13 40 20 10 5 16 8 4 2 1 17 52 26 13 40 20 10 5 16 8 4 2 1 17 52 26 13 40 20 10 5 16 8 4 2 1 17 52 26 13 40 20 10 5 16 8 4 2 1 17 52 26 13 40 20 10 5 16 8 4 2 1 17 52 26 13 40 20 10 5 16 8 4 2 1 17 52 26 13 40 20 10 5 16 8 4 2 1 17 52 26 13 40 20 10 5 16 8 4 2 1 17 52 26 13 40 20 10 5 16 8 4 2 1 17 52 26 13 40 20 10 5 16 8 4 2 1 17 52 26 13 40 20 10 5 16 8 4 2 1 17 52 26 13 40 20 10 5 16 8 4 2 1 17 52 26 13 40 20 10 5 16 8 4 2 1 17 52 26 13 40 20 10 5 16 8 4 2 1 17 52 26 13 40 20 10 5 16 8 4 2 1 17 52 26 13 40 20 10 5 16 8 4 2 1 17 52 26 13 40 20 10 5 16 8 4 2 1 17 52 26 13 40 20 10 5 16 8 4 2 1 17 52 26 13 40 20 10 5 16 8 4 2 1 17 52 26 13 40 20 10 5 16 8 4 2 1 17 52 26 13 40 20 10 5 16 8 4 2 1 17 52 26 13 40 20 10 5 16 8 4 2 1 17 52 26 13 40 20 10 5 16 8 4 2 1 17 52 26 13 40 20 10 5 16 8 4 2 1 17 52 26 13 40 20 10 5 16 8 4 2 1 17 52 26 13 40 20 10 5 16 8 4 2 1 17 52 26 13 40 20 10 5 16 8 4 2 1 17 52 26 13 40 20 10 5 16 8 4 2 1 17 52 26 13 40 20 10 5 16 8 4 2 1 17 52 26 13 40 20 10 5 16 8 4 2 1 17 52 26 13 40 20 10 5 16 8 4 2 1 17 52 26 13 40 20 10 5 16 8 4 2 1 17 52 26 13 40 20 10 5 16 8 4 2 1 17 52 26 13 40 20 10 5 16 8 4 2 1 17 52 26 13 40 20 10 5 16 8 4 2 1 17 52 26 13 40 20 10 5 16 8 4 2 1 17 52 26 13 40 20 10 5 16 8 4 2 1 17 52 26 13 40 20 10 5 16 8 4 2 1 17 52 26 13 40 20 10 5 16 8 4 2 1 17 52 26 13 40 20 10 5 16 8 4 2 1 17 52 26 13 40 20 10 5 16 8 4 2 1 17 52 26 13 40 20 10 5 16 8 4 2 1 17 52 26 13 40 20 10 5 16 8 4 2 1 17 52 26 13 40 20 10 5 16 8 4 2 1 17 52 26 13 40 20 10 5 16 8 4 2 1 17 52 26 13 40 20 10 5 16 8 4 2 1 17 52 26 13 40 20 10 5 16 8 4 2 1 17 52 26 13 40 20 10 5 16 8 4 2 1 17 52 26 13 40 20 10 5 16 8 4 2 1 17 52 26 13 40 20 10 5 16 8 4 2 1 17 52 26 13 40 20 10 5 16 8 4 2 1 17 52 26 13 40 20 10 5 16 8 4 2 1 17 52 26 13 40 20 10 5 16 8 4 2 1 17 52 26 13 40 20 10 5 16 8 4 2 1 17 52 26 13 40 20 10 5 16 8 4 2 1 17 52 26 13 40 20 10 5 16 8 4 2 1 17 52 26 13 40 20 10 5 16 8 4 2 1 17 52 26 13 40 20 10 5 16 8 4 2 1 17 52 26 13 40 20 10 5 16 8 4 2 1 17 52 26 13 40 20 10 5 16 8 4 2 1 17 52 26 13 40 20 10 5 16 8 4 2 1 17 52 26 13 40 20 10 5 16 8 4 2 1 17 52 26 13 40 20 10 5 16 8 4 2 1 17 52 26 13 40 20 10 5 16 8 4 2 1 17 52 26 13 40 20 10 5 16 8 4 2 1 17 52 26 13 40 20 10 5 16 8 4 2 1 17 52 26 13 40 20 10 5 16 8 4 2 1 17 52 26 13 40 20 10 5 16 8 4 2 1 17 52 26 13 40 20 10 5 16 8 4 2 1 17 52 26 13 40 20 10 5 16 8 4 2 1 17 52 26 13 40 20 10 5 16 8 4 2 1 17 52 26 13 40 20 10 5 16 8 4 2 1 17 52 26 13 40 20 10 5 16 8 4 2 1 17 52 26 13 40 20 10 5 16 8 4 2 1 17 52 26 13 40 20 10 5 16 8 4 2 1 17 52 26 13 40 20 10 5 16 8 4 2 1 17 52 26 13 40 20 10 5 16 8 4 2 1 17 52 26 13 40 20 10 5 16 8 4 2 1 17 52 26 13 40 20 10 5 16 8 4 2 1 17 52 26 13 40 20 10 5 16 8 4 2 1 17 52 26 13 40 20 10 5 16 8 4 2 1 17 52 26 13 40 20 10 5 16 8 4 2 1 17 52 26 13 40 20 10 5 16 8 4 2 1 17 52 26 13 40 20 10 5 16 8 4 2 1 17 52 26 13 40 20 10 5 16 8 4 2 1 17 52 26 13 40 20 10 5 16 8 4 2 1 17 52 26 13 40 20 10 5 16 8 4 2 1 17 52 26 13 40 20 10 5 16 8 4 2 1 17 52 26 13 40 20 10 5 16 8 4 2 1 17 52 26 13 40 20 10 5 16 8 4 2 1 17 52 26 13 40 20 10 5 16 8 4 2 1 17 52 26 13 40 20 10 5 16 8 4 2 1 17 52 26 13 40 20 10 5 16 8 4 2 1 17 52 26 13 40 20 10 5 16 8 4 2 1 17 52 26 13 40 20 10 5 16 8 4 2 1 17 52 26 13 40 20 10 5 16 8 4 2 1 17 52 26 13 40 20 10 5 16 8 4 2 1 17 52 26 13 40 20 10 5 16 8 4 2 1 17 52 26 13 40 20 10 5 16 8 4 2 1 17 52 26 13 40 20 10 5 16 8 4 2 1 17 52 26 13 40 20 10 5 16 8 4 2 1 17 52 26 13 40 20 10 5 16 8 4 2 1 17 52 26 13 40 20 10 5 16 8 4 2 1 17 52 26 13 40 20 10 5 16 8 4 2 1 17 52 26 13 40 20 10 5 16 8 4 2 1 17 52 26 13 40 20 10 5 16 8 4 2 1 17 52 26 13 40 20 10 5 16 8 4 2 1 17 52 26 13 40 20 10 5 16 8 4 2 1 17 52 26 13 40 20 10 5 16 8 4 2 1 17 52 26 13 40 20 10 5 16 8 4 2 1 17 52 26 13 40 20 10 5 16 8 4 2 1 17 52 26 13 40 20 10 5 16 8 4 2 1 17 52 26 13 40 20 10 5 16 8 4 2 1 17 52 26 13 40 20 10 5 16 8 4 2 1 17 52 26 13 40 20 10 5 16 8 4 2 1 17 52 26 13 40 20 10 5 16 8 4 2 1 17 52 26 13 40 20 10 5 16 8 4 2 1 17 52 26 13 40 20 10 5 16 8 4 2 1 17 52 26 13 40 20 10 5 16 8 4 2 1 17 52 26 13 40 20 10 5 16 8 4 2 1 17 52 26 13 40 20 10 5 16 8 4 2 1 17 52 26 13 40 20 10 5 16 8 4 2 1 17 52 26 13 40 20 10 5 16 8 4 2 1 17 52 26 13 40 20 10 5 16 8 4 2 1 17 52 26 13 40 20 10 5 16 8 4 2 1 17 52 26 13 40 20 10 5 16 8 4 2 1 17 52 26 13 40 20 10 5 16 8 4 2 1 17 52 26 13 40 20 10 5 16 8 4 2 1 17 52 26 13 40 20 10 5 16 8 4 2 1 17 52 26 13 40 20 10 5 16 8 4 2 1 17 52 26 13 40 20 10 5 16 8 4 2 1 17 52 26 13 40 20 10 5 16 8 4 2 1 17 52 26 13 40 20 10 5 16 8 4 2 1 17 52 26 13 40 20 10 5 16 8 4 2 1 17 52 26 13 40 20 10 5 16 8 4 2 1 17 52 26 13 40 20 10 5 16 8 4 2 1 17 52 26 13 40 20 10 5 16 8 4 2 1 17 52 26 13 40 20 10 5 16 8 4 2 1 17 52 26 13 40 20 10 5 16 8 4 2 1 17 52 26 13 40 20 10 5 16 8 4 2 1 17 52 26 13 40 20 10 5 16 8 4 2 1 17 52 26 13 40 20 10 5 16 8 4 2 1 17 52 26 13 40 20 10 5 16 8 4 2 1 17 52 26 13 40 20 10 5 16 8 4 2 1 17 52 26 13 40 20 10 5 16 8 4 2 1 17 52 26 13 40 20 10 5 16 8 4 2 1 17 52 26 13 40 20 10 5 16 8 4 2 1 17 52 26 13 40 20 10 5 16 8 4 2 1 17 52 26 13 40 20 10 5 16 8 4 2 1 17 52 26 13 40 20 10 5 16 8 4 2 1 17 52 26 13 40 20 10 5 16 8 4 2 1 17 52 26 13 40 20 10 5 16 8 4 2 1 17 52 26 13 40 20 10 5 16 8 4 2 1 17 52 26 13 40 20 10 5 16 8 4 2 1 17 52 26 13 40 20 10 5 16 8 4 2 1 17 52 26 13 40 20 10 5 16 8 4 2 1 17 52 26 13 40 20 10 5 16 8 4 2 1 17 52 26 13 40 20 10 5 16 8 4 2 1 17 52 26 13 40 20 10 5 16 8 4 2 1 17 52 26 13 40 20 10 5 16 8 4 2 1 17 52 26 13 40 20 10 5 16 8 4 2 1 17 52 26 13 40 20 10 5 16 8 4 2 1 17 52 26 13 40 20 10 5 16 8 4 2 1 17 52 26 13 40 20 10 5 16 8 4 2 1 17 52 26 13 40 20 10 5 16 8 4 2 1 17 52 26 13 40 20 10 5 16 8 4 2 1 17 52 26 13 40 20 10 5 16 8 4 2 1 17 52 26 13 40 20 10 5 16 8 4 2 1 17 52 26 13 40 20 10 5 16 8 4 2 1 17 52 26 13 40 20 10 5 16 8 4 2 1 17 52 26 13 40 20 10 5 16 8 4 2 1 17 52 26 13 40 20 10 5 16 8 4 2 1 17 52 26 13 40 20 10 5 16 8 4 2 1 17 52 26 13 40 20 10 5 16 8 4 2 1 17 52 26 13 40 20 10 5 16 8 4 2 1 17 52 26 13 40 20 10 5 16 8 4 2 1 17 52 26 13 40 20 10 5 16 8 4 2 1 17 52 26 13 40 20 10 5 16 8 4 2 1 17 52 26 13 40 20 10 5 16 8 4 2 1 17 52 26 13 40 20 10 5 16 8 4 2 1 17 52 26 13 40 20 10 5 16 8 4 2 1 17 52 26 13 40 20 10 5 16 8 4 2 1 17 52 26 13 40 20 10 5 16 8 4 2 1 17 52 26 13 40 20 10 5 16 8 4 2 1 17 52 26 13 40 20 10 5 16 8 4 2 1 17 52 26 13 40 20 10 5 16 8 4 2 1 17 52 26 13 40 20 10 5 16 8 4 2 1 17 52 26 13 40 20 10 5 16 8 4 2 1 17 52 26 13 40 20 10 5 16 8 4 2 1 17 52 26 13 40 20 10 5 16 8 4 2 1 17 52 26 13 40 20 10 5 16 8 4 2 1 17 52 26 13 40 20 10 5 16 8 4 2 1 17 52 26 13 40 20 10 5 16 8 4 2 1 17 52 26 13 40 20 10 5 16 8 4 2 1 17 52 26 13 40 20 10 5 16 8 4 2 1 17 52 26 13 40 20 10 5 16 8 4 2 1 17 52 26 13 40 20 10 5 16 8 4 2 1 17 52 26 13 40 20 10 5 16 8 4 2 1 17 52 26 13 40 20 10 5 16 8 4 2 1 17 52 26 13 40 20 10 5 16 8 4 2 1 17 52 26 13 40 20 10 5 16 8 4 2 1 17 52 26 13 40 20 10 5 16 8 4 2 1 17 52 26 13 40 20 10 5 16 8 4 2 1 17 52 26 13 40 20 10 5 16 8 4 2 1 17 52 26 13 40 20 10 5 16 8 4 2 1 17 52 26 13 40 20 10 5 16 8 4 2 1 17 52 26 13 40 20 10 5 16 8 4 2 1 17 52 26 13 40 20 10 5 16 8 4 2 1 17 52 26 13 40 20 10 5 16 8 4 2 1 17 52 26 13 40 20 10 5 16 8 4 2 1 17 52 26 13 40 20 10 5 16 8 4 2 1 17 52 26 13 40 20 10 5 16 8 4 2 1 17 52 26 13 40 20 10 5 16 8 4 2 1 17 52 26 13 40 20 10 5 16 8 4 2 1 17 52 26 13 40 20 10 5 16 8 4 2 1 17 52 26 13 40 20 10 5 16 8 4 2 1 17 52 26 13 40 20 10 5 16 8 4 2 1 17 52 26 13 40 20 10 5 16 8 4 2 1 17 52 26 13 40 20 10 5 16 8 4 2 1 17 52 26 13 40 20 10 5 16 8 4 2 1 17 52 26 13 40 20 10 5 16 8 4 2 1 17 52 26 13 40 20 10 5 16 8 4 2 1 17 52 26 13 40 20 10 5 16 8 4 2 1 17 52 26 13 40 20 10 5 16 8 4 2 1 17 52 26 13 40 20 10 5 16 8 4 2 1 17 52 26 13 40 20 10 5 16 8 4 2 1 17 52 26 13 40 20 10 5 16 8 4 2 1 17 52 26 13 40 20 10 5 16 8 4 2 1 17 52 26 13 40 20 10 5 16 8 4 2 1 17 52 26 13 40 20 10 5 16 8 4 2 1 17 52 26 13 40 20 10 5 16 8 4 2 1 17 52 26 13 40 20 10 5 16 8 4 2 1 17 52 26 13 40 20 10 5 16 8 4 2 1 17 52 26 13 40 20 10 5 16 8 4 2 1 17 52 26 13 40 20 10 5 16 8 4 2 1 17 52 26 13 40 20 10 5 16 8 4 2 1 17 52 26 13 40 20 10 5 16 8 4 2 1 17 52 26 13 40 20 10 5 16 8 4 2 1 17 52 26 13 40 20 10 5 16 8 4 2 1 17 52 26 13 40 20 10 5 16 8 4 2 1 17 52 26 13 40 20 10 5 16 8 4 2 1 17 52 26 13 40 20 10 5 16 8 4 2 1 17 52 26 13 40 20 10 5 16 8 4 2 1 17 52 26 13 40 20 10 5 16 8 4 2 1 17 52 26 13 40 20 10 5 16 8 4 2 1 17 52 26 13 40 20 10 5 16 8 4 2 1 17 52 26 13 40 20 10 5 16 8 4 2 1 17 52 26 13 40 20 10 5 16 8 4 2 1 17 52 26 13 40 20 10 5 16 8 4 2 1 17 52 26 13 40 20 10 5 16 8 4 2 1 17 52 26 13 40 20 10 5 16 8 4 2 1 17 52 26 13 40 20 10 5 16 8 4 2 1 17 52 26 13 40 20 10 5 16 8 4 2 1 17 52 26 13 40 20 10 5 16 8 4 2 1 17 52 26 13 40 20 10 5 16 8 4 2 1 17 52 26 13 40 20 10 5 16 8 4 2 1 17 52 26 13 40 20 10 5 16 8 4 2 1 17 52 26 13 40 20 10 5 16 8 4 2 1 17 52 26 13 40 20 10 5 16 8 4 2 1 17 52 26 13 40 20 10 5 16 8 4 2 1 17 52 26 13 40 20 10 5 16 8 4 2 1 17 52 26 13 40 20 10 5 16 8 4 2 1 17 52 26 13 40 20 10 5 16 8 4 2 1 17 52 26 13 40 20 10 5 16 8 4 2 1 17 52 26 13 40 20 10 5 16 8 4 2 1 17 52 26 13 40 20 10 5 16 8 4 2 1 17 52 26 13 40 20 10 5 16 8 4 2 1 17 52 26 13 40 20 10 5 16 8 4 2 1 17 52 26 13 40 20 10 5 16 8 4 2 1 17 52 26 13 40 20 10 5 16 8 4 2 1 17 52 26 13 40 20 10 5 16 8 4 2 1 17 52 26 13 40 20 10 5 16 8 4 2 1 17 52 26 13 40 20 10 5 16 8 4 2 1 17 52 26 13 40 20 10 5 16 8 4 2 1 17 52 26 13 40 20 10 5 16 8 4 2 1 17 52 26 13 40 20 10 5 16 8 4 2 1 17 52 26 13 40 20 10 5 16 8 4 2 1 17 52 26 13 40 20 10 5 16 8 4 2 1 17 52 26 13 40 20 10 5 16 8 4 2 1 17 52 26 13 40 20 10 5 16 8 4 2 1 17 52 26 13 40 20 10 5 16 8 4 2 1 17 52 26 13 40 20 10 5 16 8 4 2 1 17 52 26 13 40 20 10 5 16 8 4 2 1 17 52 26 13 40 20 10 5 16 8 4 2 1 17 52 26 13 40 20 10 5 16 8 4 2 1 17 52 26 13 40 20 10 5 16 8 4 2 1 17 52 26 13 40 20 10 5 16 8 4 2 1 17 52 26 13 40 20 10 5 16 8 4 2 1 17 52 26 13 40 20 10 5 16 8 4 2 1 17 52 26 13 40 20 10 5 16 8 4 2 1 17 52 26 13 40 20 10 5 16 8 4 2 1 17 52 26 13 40 20 10 5 16 8 4 2 1 17 52 26 13 40 20 10 5 16 8 4 2 1 17 52 26 13 40 20 10 5 16 8 4 2 1 17 52 26 13 40 20 10 5 16 8 4 2 1 17 52 26 13 40 20 10 5 16 8 4 2 1 17 52 26 13 40 20 10 5 16 8 4 2 1 17 52 26 13 40 20 10 5 16 8 4 2 1 17 52 26 13 40 20 10 5 16 8 4 2 1 17 52 26 13 40 20 10 5 16 8 4 2 1 17 52 26 13 40 20 10 5 16 8 4 2 1 17 52 26 13 40 20 10 5 16 8 4 2 1 17 52 26 13 40 20 10 5 16 8 4 2 1 17 52 26 13 40 20 10 5 16 8 4 2 1 17 52 26 13 40 20 10 5 16 8 4 2 1 17 52 26 13 40 20 10 5 16 8 4 2 1 17 52 26 13 40 20 10 5 16 8 4 2 1 17 52 26 13 40 20 10 5 16 8 4 2 1 17 52 26 13 40 20 10 5 16 8 4 2 1 17 52 26 13 40 20 10 5 16 8 4 2 1 17 52 26 13 40 20 10 5 16 8 4 2 1 17 52 26 13 40 20 10 5 16 8 4 2 1 17 52 26 13 40 20 10 5 16 8 4 2 1 17 52 26 13 40 20 10 5 16 8 4 2 1 17 52 26 13 40 20 10 5 16 8 4 2 1 17 52 26 13 40 20 10 5 16 8 4 2 1 17 52 26 13 40 20 10 5 16 8 4 2 1 17 52 26 13 40 20 10 5 16 8 4 2 1 17 52 26 13 40 20 10 5 16 8 4 2 1 17 52 26 13 40 20 10 5 16 8 4 2 1 17 52 26 13 40 20 10 5 16 8 4 2 1 17 52 26 13 40 20 10 5 16 8 4 2 1 17 52 26 13 40 20 10 5 16 8 4 2 1 17 52 26 13 40 20 10 5 16 8 4 2 1 17 52 26 13 40 20 10 5 16 8 4 2 1 17 52 26 13 40 20 10 5 16 8 4 2 1 17 52 26 13 40 20 10 5 16 8 4 2 1 17 52 26 13 40 20 10 5 16 8 4 2 1 17 52 26 13 40 20 10 5 16 8 4 2 1 17 52 26 13 40 20 10 5 16 8 4 2 1 17 52 26 13 40 20 10 5 16 8 4 2 1 17 52 26 13 40 20 10 5 16 8 4 2 1 17 52 26 13 40 20 10 5 16 8 4 2 1 17 52 26 13 40 20 10 5 16 8 4 2 1 17 52 26 13 40 20 10 5 16 8 4 2 1 17 52 26 13 40 20 10 5 16 8 4 2 1 17 52 26 13 40 20 10 5 16 8 4 2 1 17 52 26 13 40 20 10 5 16 8 4 2 1 17 52 26 13 40 20 10 5 16 8 4 2 1 17 52 26 13 40 20 10 5 16 8 4 2 1 17 52 26 13 40 20 10 5 16 8 4 2 1 17 52 26 13 40 20 10 5 16 8 4 2 1 17 52 26 13 40 20 10 5 16 8 4 2 1 17 52 26 13 40 20 10 5 16 8 4 2 1 17 52 26 13 40 20 10 5 16 8 4 2 1 17 52 26 13 40 20 10 5 16 8 4 2 1 17 52 26 13 40 20 10 5 16 8 4 2 1 17 52 26 13 40 20 10 5 16 8 4 2 1 17 52 26 13 40 20 10 5 16 8 4 2 1 17 52 26 13 40 20 10 5 16 8 4 2 1 17 52 26 13 40 20 10 5 16 8 4 2 1 17 52 26 13 40 20 10 5 16 8 4 2 1 17 52 26 13 40 20 10 5 16 8 4 2 1 17 52 26 13 40 20 10 5 16 8 4 2 1 17 52 26 13 40 20 10 5 16 8 4 2 1 17 52 26 13 40 20 10 5 16 8 4 2 1 17 52 26 13 40 20 10 5 16 8 4 2 1 17 52 26 13 40 20 10 5 16 8 4 2 1 17 52 26 13 40 20 10 5 16 8 4 2 1 17 52 26 13 40 20 10 5 16 8 4 2 1 17 52 26 13 40 20 10 5 16 8 4 2 1 17 52 26 13 40 20 10 5 16 8 4 2 1 17 52 26 13 40 20 10 5 16 8 4 2 1 17 52 26 13 40 20 10 5 16 8 4 2 1 17 52 26 13 40 20 10 5 16 8 4 2 1 17 52 26 13 40 20 10 5 16 8 4 2 1 17 52 26 13 40 20 10 5 16 8 4 2 1 17 52 26 13 40 20 10 5 16 8 4 2 1 17 52 26 13 40 20 10 5 16 8 4 2 1 17 52 26 13 40 20 10 5 16 8 4 2 1 17 52 26 13 40 20 10 5 16 8 4 2 1 17 52 26 13 40 20 10 5 16 8 4 2 1 17 52 26 13 40 20 10 5 16 8 4 2 1 17 52 26 13 40 20 10 5 16 8 4 2 1 17 52 26 13 40 20 10 5 16 8 4 2 1 17 52 26 13 40 20 10 5 16 8 4 2 1 17 52 26 13 40 20 10 5 16 8 4 2 1 17 52 26 13 40 20 10 5 16 8 4 2 1 17 52 26 13 40 20 10 5 16 8 4 2 1 17 52 26 13 40 20 10 5 16 8 4 2 1 17 52 26 13 40 20 10 5 16 8 4 2 1 17 52 26 13 40 20 10 5 16 8 4 2 1 17 52 26 13 40 20 10 5 16 8 4 2 1 17 52 26 13 40 20 10 5 16 8 4 2 1 17 52 26 13 40 20 10 5 16 8 4 2 1 17 52 26 13 40 20 10 5 16 8 4 2 1 17 52 26 13 40 20 10 5 16 8 4 2 1 17 52 26 13 40 20 10 5 16 8 4 2 1 17 52 26 13 40 20 10 5 16 8 4 2 1 17 52 26 13 40 20 10 5 16 8 4 2 1 17 52 26 13 40 20 10 5 16 8 4 2 1 17 52 26 13 40 20 10 5 16 8 4 2 1 17 52 26 13 40 20 10 5 16 8 4 2 1 5.93 ms ± 1.44 ms per loop (mean ± std. dev. of 7 runs, 100 loops each)\n"
          ]
        }
      ]
    },
    {
      "cell_type": "markdown",
      "source": [
        "На вход подаётся строка с выражением, состоящим из двух чисел, объединённых бинарным оператором: a  operator b, где вместо operator могут использоваться следующие слова: plus, minus, multiply, divide для, соответственно, сложения, вычитания, умножения и целочисленного деления."
      ],
      "metadata": {
        "id": "STsQiv2LAmP2"
      }
    },
    {
      "cell_type": "code",
      "source": [
        "class TextCalculator():\n",
        "    \n",
        "    def __init__(self):\n",
        "        self.a = 1\n",
        "        self.b = 1\n",
        "        self.operation = 'plus'\n",
        "        self.result = 0\n",
        "    \n",
        "    def ops(self):\n",
        "        op_dict = {\n",
        "            'plus':  self.a + self.b,\n",
        "            'minus': self.a - self.b,\n",
        "            'multiply': self.a * self.b,\n",
        "            'divide': self.a / self.b\n",
        "                }\n",
        "        self.result = op_dict[self.operation]\n",
        "\n",
        "    def __call__(self, txt_ops):\n",
        "        list_ops = txt_ops.split()\n",
        "        self.a = int(list_ops[0])\n",
        "        self.b = int(list_ops[2])\n",
        "        self.operation = list_ops[1]\n",
        "        self.ops()\n",
        "        return self.result\n",
        "\n",
        "\n",
        "tc = TextCalculator()\n",
        "tc(input())\n"
      ],
      "metadata": {
        "colab": {
          "base_uri": "https://localhost:8080/"
        },
        "id": "qD9j91qqAtcY",
        "outputId": "7fccb563-1c73-4223-a21e-f3dc88d89193"
      },
      "execution_count": 30,
      "outputs": [
        {
          "name": "stdout",
          "output_type": "stream",
          "text": [
            "45 plus 8\n"
          ]
        },
        {
          "output_type": "execute_result",
          "data": {
            "text/plain": [
              "53"
            ]
          },
          "metadata": {},
          "execution_count": 30
        }
      ]
    },
    {
      "cell_type": "code",
      "source": [
        "def t():\n",
        "    print('true')\n",
        "    return True\n",
        "\n",
        "def f():\n",
        "    print('false')\n",
        "    return False\n",
        "\n",
        "if t() and f():\n",
        "    print('t and f')\n",
        "\n",
        "if f() and t():\n",
        "    print('f and t')\n",
        "\n",
        "if t() or f():\n",
        "    print('t or f')\n",
        "\n",
        "if f() or t():\n",
        "    print('f or t')"
      ],
      "metadata": {
        "colab": {
          "base_uri": "https://localhost:8080/"
        },
        "id": "BdUqbyxvHzL4",
        "outputId": "49fe5f27-2a7f-4053-893e-616fb900bd69"
      },
      "execution_count": 31,
      "outputs": [
        {
          "output_type": "stream",
          "name": "stdout",
          "text": [
            "true\n",
            "false\n",
            "false\n",
            "true\n",
            "t or f\n",
            "false\n",
            "true\n",
            "f or t\n"
          ]
        }
      ]
    },
    {
      "cell_type": "markdown",
      "source": [
        "A durak deck contains 36 cards. Each card has a suit of either clubs, diamonds, hearts, or spades (denoted C, D, H, S). Each card also has a value of either 6 through 10, jack, queen, king, or ace (denoted 6, 7, 8, 9, 10, J, Q, K, A). For scoring purposes card values are ordered as above, with 6 having the lowest and ace the highest value.\n",
        "\n",
        "Напишите программу, которая определяет, бьёт ли одна карта другую.\n",
        "Если встречаются две карты одной масти, то побеждает та, у которой выше значение;\n",
        "Если карты разных мастей, то карта, имеющая козырную масть, побеждает;\n",
        "Если карты разных мастей и нет козырных, то никто не побеждает."
      ],
      "metadata": {
        "id": "asd1Oa3aJtsL"
      }
    },
    {
      "cell_type": "code",
      "source": [
        "class Durak():\n",
        "    def __init__(self, cards, trump):\n",
        "        self.trump = trump\n",
        "        self.cardA, self.cardB = [self.card(m) for m in cards.split()]\n",
        "\n",
        "    suit = {\n",
        "        'C': 'clubs',\n",
        "        'D': 'diamonds',\n",
        "        'H': 'hearts',\n",
        "        'S': 'spades'\n",
        "    }\n",
        "    \n",
        "    value = {\n",
        "        '6': 6,\n",
        "        '7': 7,\n",
        "        '8': 8,\n",
        "        '9': 9,\n",
        "       '10': 10,\n",
        "        'J': 11,\n",
        "        'Q': 12,\n",
        "        'K': 13,\n",
        "        'A': 14\n",
        "    }\n",
        "    \n",
        "    out = {\n",
        "        'f': 'First',\n",
        "        's': 'Second',\n",
        "        'e': 'Error'\n",
        "    }\n",
        "    \n",
        "    def card(self, txt_input):\n",
        "        if len(txt_input) == 3:\n",
        "            return (self.value['10'], txt_input[2])\n",
        "        else:\n",
        "            return (self.value[txt_input[0]], txt_input[1])\n",
        "    \n",
        "    def table(self):\n",
        "        if self.cardA[0] > self.cardB[0]:\n",
        "            if self.cardA[1] == self.cardB[1]:\n",
        "                return self.out['f']\n",
        "            elif self.cardA[1] == self.trump:\n",
        "                return self.out['f']\n",
        "            elif self.cardB[1] == self.trump:\n",
        "                return self.out['s']\n",
        "            else:\n",
        "                return self.out['e']\n",
        "        if self.cardA[0] < self.cardB[0]:\n",
        "            if self.cardA[1] == self.cardB[1]:\n",
        "                return self.out['s']\n",
        "            elif self.cardA[1] == self.trump:\n",
        "                return self.out['f']\n",
        "            elif self.cardB[1] == self.trump:\n",
        "                return self.out['s']\n",
        "            else:\n",
        "                return self.out['e']\n",
        "        else:\n",
        "            return self.out['e']\n",
        "        \n",
        "\n",
        "d = Durak(input(), input())\n",
        "print(d.table())"
      ],
      "metadata": {
        "colab": {
          "base_uri": "https://localhost:8080/"
        },
        "id": "hROdXTgvJwhf",
        "outputId": "bfed26cc-bf60-4fe4-a185-bd85b943ef87"
      },
      "execution_count": 41,
      "outputs": [
        {
          "output_type": "stream",
          "name": "stdout",
          "text": [
            "10C 6C\n",
            "C\n",
            "First\n"
          ]
        }
      ]
    }
  ]
}