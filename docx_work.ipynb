{
 "cells": [
  {
   "cell_type": "code",
   "execution_count": 1,
   "id": "2788edca-c8b2-4f73-bc49-e6914d44e0af",
   "metadata": {},
   "outputs": [
    {
     "name": "stdin",
     "output_type": "stream",
     "text": [
      "Введите ФИО пациента \n",
      "Диагноз: \n",
      "Номер медицинской карты: \n",
      "Аллергоанамнез: \n",
      "Дата: \n",
      "Препараты для инъекций или q для выхода: sol.Amiodaroni 5% - 6,0 ml + \\n sol.Glucosae 5% - 250 ml в/в кап 1р/сут\n",
      "Препараты для инъекций или q для выхода: q\n"
     ]
    },
    {
     "name": "stdout",
     "output_type": "stream",
     "text": [
      "all OK!\n"
     ]
    },
    {
     "data": {
      "text/plain": [
       "CompletedProcess(args=['libreoffice', 'new.docx'], returncode=0)"
      ]
     },
     "execution_count": 1,
     "metadata": {},
     "output_type": "execute_result"
    }
   ],
   "source": [
    "import docx\n",
    "import docxtpl\n",
    "from docx.shared import Pt\n",
    "from datetime import datetime\n",
    "import subprocess\n",
    "\n",
    "cur_date = datetime.now().strftime(\"%d.%m.%Y\")\n",
    "\n",
    "context = {\n",
    "    'fio': input('Введите ФИО пациента') or 'Иванов Иван Иванович',\n",
    "    'diagnoz': input('Диагноз:') or 'ИБС: атеросклеротичекий кардиосклероз',\n",
    "    'med_card': input('Номер медицинской карты:') or '666',\n",
    "    'allergia': input('Аллергоанамнез:') or 'нет',\n",
    "    'date': input('Дата:') or cur_date,\n",
    "}\n",
    "\n",
    "injections = []\n",
    "for i in range(17):\n",
    "    s = input('Препараты для инъекций или q для выхода:')\n",
    "    if s == 'q':\n",
    "        break\n",
    "    injections.append(s)\n",
    "\n",
    "inj_list = [f'i_{ i }' for i in range(1, 18)]\n",
    "\n",
    "inj_dict = {k: v for k, v in zip(inj_list, injections)}\n",
    "\n",
    "context.update(inj_dict)\n",
    "\n",
    "\n",
    "doc = docxtpl.DocxTemplate('list_tmpl.docx')\n",
    "doc.render(context)\n",
    "# doc.render(inj_dict)\n",
    "# all_tables = doc.tables\n",
    "# count = 0\n",
    "# for table in all_tables:\n",
    "#     for row in table.rows:\n",
    "#         for cell in row.cells:\n",
    "#             rc = cell.paragraphs[0].runs[0]\n",
    "#             rc.text = f\"--{ rc.text } { count_dict.get(count, '') } { str(count) }\"\n",
    "#             # if count == 82:\n",
    "#             #     rc = cell.paragraphs[0].runs[0]\n",
    "#             #     rc.font.size = Pt(8)\n",
    "#             #     rc.text = 'sol.NaCl 0.9% 250ml \\nsol.Emoxypini 3% - 10ml'\n",
    "#             # cell.text = str(count) + '   ' + cell.text\n",
    "#             count += 1\n",
    "\n",
    "doc.save('new.docx')\n",
    "print('all OK!')\n",
    "subprocess.run(['libreoffice', 'new.docx'])"
   ]
  }
 ],
 "metadata": {
  "kernelspec": {
   "display_name": "Python 3 (ipykernel)",
   "language": "python",
   "name": "python3"
  },
  "language_info": {
   "codemirror_mode": {
    "name": "ipython",
    "version": 3
   },
   "file_extension": ".py",
   "mimetype": "text/x-python",
   "name": "python",
   "nbconvert_exporter": "python",
   "pygments_lexer": "ipython3",
   "version": "3.10.12"
  }
 },
 "nbformat": 4,
 "nbformat_minor": 5
}
