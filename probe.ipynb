{
 "cells": [
  {
   "cell_type": "code",
   "execution_count": 24,
   "id": "bb564cf0-8679-4fe5-bc5e-b52cc638d197",
   "metadata": {
    "collapsed": true,
    "jupyter": {
     "outputs_hidden": true
    }
   },
   "outputs": [
    {
     "name": "stdout",
     "output_type": "stream",
     "text": [
      "hello world\n",
      "4.77469\n"
     ]
    }
   ],
   "source": [
    "import time\n",
    "t0 = time.time()\n",
    "print('hello world')\n",
    "a = 0\n",
    "while a < 100000000:\n",
    "    a += 1\n",
    "print('{:.5f}'.format(time.time() - t0))"
   ]
  },
  {
   "cell_type": "code",
   "execution_count": null,
   "id": "24a5569d-e04e-4295-aaf9-fd5c1ed41e89",
   "metadata": {},
   "outputs": [],
   "source": []
  },
  {
   "cell_type": "code",
   "execution_count": 14,
   "id": "f754fd39-403f-4f83-8d46-b2220068ef73",
   "metadata": {
    "collapsed": true,
    "jupyter": {
     "outputs_hidden": true
    }
   },
   "outputs": [
    {
     "data": {
      "text/plain": [
       "60"
      ]
     },
     "execution_count": 14,
     "metadata": {},
     "output_type": "execute_result"
    }
   ],
   "source": [
    "6300\n"
   ]
  },
  {
   "cell_type": "code",
   "execution_count": 96,
   "id": "278b175d-a298-4457-9039-917df7a96d66",
   "metadata": {},
   "outputs": [],
   "source": [
    "import turtle\n",
    "t = turtle.Turtle()"
   ]
  },
  {
   "cell_type": "code",
   "execution_count": 11,
   "id": "29d17841-d5c5-4b64-861a-282c195ae2bc",
   "metadata": {
    "collapsed": true,
    "jupyter": {
     "outputs_hidden": true
    }
   },
   "outputs": [
    {
     "name": "stdout",
     "output_type": "stream",
     "text": [
      " *\n",
      "  *\n",
      "   *\n",
      "    *\n",
      "     *\n",
      "      *\n",
      "       *\n",
      "        *\n",
      "         *\n",
      "          *\n",
      "           *\n",
      "            *\n",
      "             *\n",
      "              *\n",
      "               *\n",
      "                *\n",
      "                 *\n",
      "                  *\n",
      "                   *\n",
      "                    *\n"
     ]
    }
   ],
   "source": [
    "for i in range(20):\n",
    "    print(i*' ', '*')"
   ]
  },
  {
   "cell_type": "code",
   "execution_count": null,
   "id": "caa9067f-3cdb-45e6-b02b-65672fbb774d",
   "metadata": {
    "collapsed": true,
    "jupyter": {
     "outputs_hidden": true
    }
   },
   "outputs": [],
   "source": []
  },
  {
   "cell_type": "code",
   "execution_count": null,
   "id": "5c5cf061-2f8d-481e-8646-c26ef8990c54",
   "metadata": {
    "collapsed": true,
    "jupyter": {
     "outputs_hidden": true
    }
   },
   "outputs": [],
   "source": []
  },
  {
   "cell_type": "code",
   "execution_count": 13,
   "id": "800bcbb7-3279-4f9b-b6c2-cc7570343825",
   "metadata": {
    "collapsed": true,
    "jupyter": {
     "outputs_hidden": true
    }
   },
   "outputs": [
    {
     "name": "stdout",
     "output_type": "stream",
     "text": [
      "Defaulting to user installation because normal site-packages is not writeable\n",
      "Collecting arcade\n",
      "  Using cached arcade-2.6.17-py3-none-any.whl (39.4 MB)\n",
      "Collecting pyglet==2.0.dev23\n",
      "  Using cached pyglet-2.0.dev23-py3-none-any.whl (965 kB)\n",
      "Collecting pillow~=9.3.0\n",
      "  Using cached Pillow-9.3.0-cp310-cp310-manylinux_2_28_x86_64.whl (3.3 MB)\n",
      "Collecting pytiled-parser==2.2.0\n",
      "  Using cached pytiled_parser-2.2.0-py3-none-any.whl (42 kB)\n",
      "Collecting pymunk~=6.4.0\n",
      "  Using cached pymunk-6.4.0-cp310-cp310-manylinux_2_17_x86_64.manylinux2014_x86_64.whl (996 kB)\n",
      "Requirement already satisfied: typing-extensions in /home/pteroz/.local/lib/python3.10/site-packages (from pytiled-parser==2.2.0->arcade) (4.8.0)\n",
      "Requirement already satisfied: attrs>=18.2.0 in /home/pteroz/.local/lib/python3.10/site-packages (from pytiled-parser==2.2.0->arcade) (23.1.0)\n",
      "Requirement already satisfied: cffi>=1.15.0 in /home/pteroz/.local/lib/python3.10/site-packages (from pymunk~=6.4.0->arcade) (1.16.0)\n",
      "Requirement already satisfied: pycparser in /home/pteroz/.local/lib/python3.10/site-packages (from cffi>=1.15.0->pymunk~=6.4.0->arcade) (2.21)\n",
      "Installing collected packages: pyglet, pytiled-parser, pillow, pymunk, arcade\n",
      "Successfully installed arcade-2.6.17 pillow-9.3.0 pyglet-2.0.dev23 pymunk-6.4.0 pytiled-parser-2.2.0\n"
     ]
    }
   ],
   "source": [
    "!pip install arcade\n"
   ]
  },
  {
   "cell_type": "code",
   "execution_count": null,
   "id": "192adad6-45bc-4150-acdb-7cbfb1c55a0a",
   "metadata": {
    "collapsed": true,
    "jupyter": {
     "outputs_hidden": true
    }
   },
   "outputs": [],
   "source": [
    "import arcade\n",
    "dir(arcade)"
   ]
  },
  {
   "cell_type": "code",
   "execution_count": 71,
   "id": "71d0bb45-cd09-4ced-8192-07cbc6177912",
   "metadata": {
    "collapsed": true,
    "jupyter": {
     "outputs_hidden": true
    }
   },
   "outputs": [
    {
     "name": "stdout",
     "output_type": "stream",
     "text": [
      "41 41\n",
      "41 41\n",
      "41 41\n",
      "41 41\n",
      "41 41\n",
      "41 41\n",
      "41 41\n",
      "41 41\n",
      "41 41\n"
     ]
    },
    {
     "name": "stdin",
     "output_type": "stream",
     "text": [
      "INPUT blyad! a\n"
     ]
    },
    {
     "name": "stdout",
     "output_type": "stream",
     "text": [
      "HUETAAAA!\n"
     ]
    },
    {
     "name": "stdin",
     "output_type": "stream",
     "text": [
      "INPUT blyad! ff\n"
     ]
    },
    {
     "name": "stdout",
     "output_type": "stream",
     "text": [
      "HUETAAAA!\n"
     ]
    },
    {
     "name": "stdin",
     "output_type": "stream",
     "text": [
      "INPUT blyad! 100\n"
     ]
    },
    {
     "name": "stdout",
     "output_type": "stream",
     "text": [
      "naher\n"
     ]
    },
    {
     "name": "stdin",
     "output_type": "stream",
     "text": [
      "INPUT blyad! 101\n"
     ]
    },
    {
     "name": "stdout",
     "output_type": "stream",
     "text": [
      "poher\n"
     ]
    },
    {
     "name": "stdin",
     "output_type": "stream",
     "text": [
      "INPUT blyad! x\n"
     ]
    },
    {
     "name": "stdout",
     "output_type": "stream",
     "text": [
      "HUETAAAA!\n"
     ]
    }
   ],
   "source": [
    "x: int = 42\n",
    "a = 0.22\n",
    "divmod(2,4)\n",
    "for i in range(1,10):\n",
    "    j = i - 0.5\n",
    "    j = 0b101001\n",
    "    print(j, round(j))\n",
    "while x != 'x':\n",
    "    x = input('INPUT blyad!')\n",
    "    if x == '100':\n",
    "        print('naher')\n",
    "    elif x == '101':\n",
    "        print('poher')\n",
    "    else:\n",
    "        print('HUETAAAA!')"
   ]
  },
  {
   "cell_type": "code",
   "execution_count": 91,
   "id": "5e1a4344-c276-4737-a69b-e19b0216a094",
   "metadata": {
    "collapsed": true,
    "jupyter": {
     "outputs_hidden": true
    }
   },
   "outputs": [
    {
     "data": {
      "text/plain": [
       "'202.0000000000'"
      ]
     },
     "execution_count": 91,
     "metadata": {},
     "output_type": "execute_result"
    }
   ],
   "source": [
    "a = 'hello world!'\n",
    "a[:-5]\n",
    "a[::-1]\n",
    "a[::-2]\n",
    "a[-8::]\n",
    "a.replace(' ', ' fucking ')\n",
    "format(202, '0.10f')"
   ]
  },
  {
   "cell_type": "code",
   "execution_count": 95,
   "id": "51488e3b-b7a7-4f4b-9e5d-b3077bccb00b",
   "metadata": {
    "collapsed": true,
    "jupyter": {
     "outputs_hidden": true
    }
   },
   "outputs": [
    {
     "name": "stdout",
     "output_type": "stream",
     "text": [
      "True\n"
     ]
    },
    {
     "data": {
      "text/plain": [
       "True"
      ]
     },
     "execution_count": 95,
     "metadata": {},
     "output_type": "execute_result"
    }
   ],
   "source": [
    "def hoo():\n",
    "    return True\n",
    "while(a := hoo()):\n",
    "    print(a)\n",
    "    break\n",
    "(b := hoo())\n"
   ]
  },
  {
   "cell_type": "code",
   "execution_count": 96,
   "id": "ad87dbda-7bb2-40dc-810d-6c70db8be9a2",
   "metadata": {
    "collapsed": true,
    "jupyter": {
     "outputs_hidden": true
    }
   },
   "outputs": [
    {
     "data": {
      "text/plain": [
       "'/home/pteroz/python/jupyter'"
      ]
     },
     "execution_count": 96,
     "metadata": {},
     "output_type": "execute_result"
    }
   ],
   "source": [
    "import os\n",
    "os.getcwd()"
   ]
  },
  {
   "cell_type": "code",
   "execution_count": 106,
   "id": "82844849-c360-45d8-bd57-91205735070c",
   "metadata": {
    "collapsed": true,
    "jupyter": {
     "outputs_hidden": true
    }
   },
   "outputs": [
    {
     "data": {
      "text/plain": [
       "'ello'"
      ]
     },
     "execution_count": 106,
     "metadata": {},
     "output_type": "execute_result"
    }
   ],
   "source": [
    "'hello'[1:100]\n"
   ]
  },
  {
   "cell_type": "code",
   "execution_count": 5,
   "id": "ecb902f1-6119-4e4f-8360-cc3d8b946c50",
   "metadata": {
    "collapsed": true,
    "jupyter": {
     "outputs_hidden": true
    }
   },
   "outputs": [
    {
     "name": "stdout",
     "output_type": "stream",
     "text": [
      "('hello', 'world')\n"
     ]
    }
   ],
   "source": [
    "dict = {\n",
    "    'hello': 'world'\n",
    "}\n",
    "for i in dict.items():\n",
    "    print(i)"
   ]
  },
  {
   "cell_type": "code",
   "execution_count": 1,
   "id": "7a09035b-0790-49ca-80fb-4ebb745c97d2",
   "metadata": {
    "collapsed": true,
    "jupyter": {
     "outputs_hidden": true
    }
   },
   "outputs": [
    {
     "name": "stdout",
     "output_type": "stream",
     "text": [
      "Defaulting to user installation because normal site-packages is not writeable\n",
      "Collecting moviepy\n",
      "  Using cached moviepy-1.0.3-py3-none-any.whl\n",
      "Collecting decorator<5.0,>=4.0.2\n",
      "  Using cached decorator-4.4.2-py2.py3-none-any.whl (9.2 kB)\n",
      "Collecting proglog<=1.0.0\n",
      "  Using cached proglog-0.1.10-py3-none-any.whl (6.1 kB)\n",
      "Collecting imageio-ffmpeg>=0.2.0\n",
      "  Using cached imageio_ffmpeg-0.4.9-py3-none-manylinux2010_x86_64.whl (26.9 MB)\n",
      "Requirement already satisfied: numpy>=1.17.3 in /usr/lib/python3/dist-packages (from moviepy) (1.21.5)\n",
      "Collecting tqdm<5.0,>=4.11.2\n",
      "  Using cached tqdm-4.66.1-py3-none-any.whl (78 kB)\n",
      "Requirement already satisfied: requests<3.0,>=2.8.1 in /home/pteroz/.local/lib/python3.10/site-packages (from moviepy) (2.31.0)\n",
      "Collecting imageio<3.0,>=2.5\n",
      "  Downloading imageio-2.32.0-py3-none-any.whl (313 kB)\n",
      "\u001b[2K     \u001b[38;2;114;156;31m━━━━━━━━━━━━━━━━━━━━━━━━━━━━━━━━━━━━━\u001b[0m \u001b[32m313.3/313.3 KB\u001b[0m \u001b[31m869.7 kB/s\u001b[0m eta \u001b[36m0:00:00\u001b[0m1m909.4 kB/s\u001b[0m eta \u001b[36m0:00:01\u001b[0m\n",
      "\u001b[?25hRequirement already satisfied: pillow<10.1.0,>=8.3.2 in /home/pteroz/.local/lib/python3.10/site-packages (from imageio<3.0,>=2.5->moviepy) (9.3.0)\n",
      "Requirement already satisfied: setuptools in /usr/lib/python3/dist-packages (from imageio-ffmpeg>=0.2.0->moviepy) (59.6.0)\n",
      "Requirement already satisfied: urllib3<3,>=1.21.1 in /usr/lib/python3/dist-packages (from requests<3.0,>=2.8.1->moviepy) (1.26.5)\n",
      "Requirement already satisfied: certifi>=2017.4.17 in /usr/lib/python3/dist-packages (from requests<3.0,>=2.8.1->moviepy) (2020.6.20)\n",
      "Requirement already satisfied: charset-normalizer<4,>=2 in /home/pteroz/.local/lib/python3.10/site-packages (from requests<3.0,>=2.8.1->moviepy) (3.3.1)\n",
      "Requirement already satisfied: idna<4,>=2.5 in /usr/lib/python3/dist-packages (from requests<3.0,>=2.8.1->moviepy) (3.3)\n",
      "Installing collected packages: tqdm, imageio-ffmpeg, imageio, decorator, proglog, moviepy\n",
      "  Attempting uninstall: decorator\n",
      "    Found existing installation: decorator 5.1.1\n",
      "    Uninstalling decorator-5.1.1:\n",
      "      Successfully uninstalled decorator-5.1.1\n",
      "Successfully installed decorator-4.4.2 imageio-2.32.0 imageio-ffmpeg-0.4.9 moviepy-1.0.3 proglog-0.1.10 tqdm-4.66.1\n"
     ]
    }
   ],
   "source": [
    "!pip install moviepy"
   ]
  },
  {
   "cell_type": "code",
   "execution_count": 2,
   "id": "dba5e5c5-1bad-4935-9465-167bdf2c8cf7",
   "metadata": {
    "collapsed": true,
    "jupyter": {
     "outputs_hidden": true
    }
   },
   "outputs": [],
   "source": [
    "import moviepy"
   ]
  },
  {
   "cell_type": "code",
   "execution_count": 3,
   "id": "5563b97c-f8f3-4107-96da-ba99c7af1f97",
   "metadata": {
    "collapsed": true,
    "jupyter": {
     "outputs_hidden": true
    }
   },
   "outputs": [
    {
     "ename": "Exception",
     "evalue": "File `'moviepy/make'` not found.",
     "output_type": "error",
     "traceback": [
      "\u001b[0;31m---------------------------------------------------------------------------\u001b[0m",
      "\u001b[0;31mOSError\u001b[0m                                   Traceback (most recent call last)",
      "File \u001b[0;32m~/.local/lib/python3.10/site-packages/IPython/core/magics/execution.py:716\u001b[0m, in \u001b[0;36mExecutionMagics.run\u001b[0;34m(self, parameter_s, runner, file_finder)\u001b[0m\n\u001b[1;32m    715\u001b[0m     fpath \u001b[38;5;241m=\u001b[39m arg_lst[\u001b[38;5;241m0\u001b[39m]\n\u001b[0;32m--> 716\u001b[0m     filename \u001b[38;5;241m=\u001b[39m \u001b[43mfile_finder\u001b[49m\u001b[43m(\u001b[49m\u001b[43mfpath\u001b[49m\u001b[43m)\u001b[49m\n\u001b[1;32m    717\u001b[0m \u001b[38;5;28;01mexcept\u001b[39;00m \u001b[38;5;167;01mIndexError\u001b[39;00m \u001b[38;5;28;01mas\u001b[39;00m e:\n",
      "File \u001b[0;32m~/.local/lib/python3.10/site-packages/IPython/utils/path.py:90\u001b[0m, in \u001b[0;36mget_py_filename\u001b[0;34m(name)\u001b[0m\n\u001b[1;32m     89\u001b[0m         \u001b[38;5;28;01mreturn\u001b[39;00m py_name\n\u001b[0;32m---> 90\u001b[0m \u001b[38;5;28;01mraise\u001b[39;00m \u001b[38;5;167;01mIOError\u001b[39;00m(\u001b[38;5;124m\"\u001b[39m\u001b[38;5;124mFile `\u001b[39m\u001b[38;5;132;01m%r\u001b[39;00m\u001b[38;5;124m` not found.\u001b[39m\u001b[38;5;124m\"\u001b[39m \u001b[38;5;241m%\u001b[39m name)\n",
      "\u001b[0;31mOSError\u001b[0m: File `'moviepy/make'` not found.",
      "\nThe above exception was the direct cause of the following exception:\n",
      "\u001b[0;31mException\u001b[0m                                 Traceback (most recent call last)",
      "Cell \u001b[0;32mIn[3], line 1\u001b[0m\n\u001b[0;32m----> 1\u001b[0m \u001b[43mget_ipython\u001b[49m\u001b[43m(\u001b[49m\u001b[43m)\u001b[49m\u001b[38;5;241;43m.\u001b[39;49m\u001b[43mrun_line_magic\u001b[49m\u001b[43m(\u001b[49m\u001b[38;5;124;43m'\u001b[39;49m\u001b[38;5;124;43mrun\u001b[39;49m\u001b[38;5;124;43m'\u001b[39;49m\u001b[43m,\u001b[49m\u001b[43m \u001b[49m\u001b[38;5;124;43m'\u001b[39;49m\u001b[38;5;124;43mmoviepy/make masked_clip.py\u001b[39;49m\u001b[38;5;124;43m'\u001b[39;49m\u001b[43m)\u001b[49m\n",
      "File \u001b[0;32m~/.local/lib/python3.10/site-packages/IPython/core/interactiveshell.py:2432\u001b[0m, in \u001b[0;36mInteractiveShell.run_line_magic\u001b[0;34m(self, magic_name, line, _stack_depth)\u001b[0m\n\u001b[1;32m   2430\u001b[0m     kwargs[\u001b[38;5;124m'\u001b[39m\u001b[38;5;124mlocal_ns\u001b[39m\u001b[38;5;124m'\u001b[39m] \u001b[38;5;241m=\u001b[39m \u001b[38;5;28mself\u001b[39m\u001b[38;5;241m.\u001b[39mget_local_scope(stack_depth)\n\u001b[1;32m   2431\u001b[0m \u001b[38;5;28;01mwith\u001b[39;00m \u001b[38;5;28mself\u001b[39m\u001b[38;5;241m.\u001b[39mbuiltin_trap:\n\u001b[0;32m-> 2432\u001b[0m     result \u001b[38;5;241m=\u001b[39m \u001b[43mfn\u001b[49m\u001b[43m(\u001b[49m\u001b[38;5;241;43m*\u001b[39;49m\u001b[43margs\u001b[49m\u001b[43m,\u001b[49m\u001b[43m \u001b[49m\u001b[38;5;241;43m*\u001b[39;49m\u001b[38;5;241;43m*\u001b[39;49m\u001b[43mkwargs\u001b[49m\u001b[43m)\u001b[49m\n\u001b[1;32m   2434\u001b[0m \u001b[38;5;66;03m# The code below prevents the output from being displayed\u001b[39;00m\n\u001b[1;32m   2435\u001b[0m \u001b[38;5;66;03m# when using magics with decorator @output_can_be_silenced\u001b[39;00m\n\u001b[1;32m   2436\u001b[0m \u001b[38;5;66;03m# when the last Python token in the expression is a ';'.\u001b[39;00m\n\u001b[1;32m   2437\u001b[0m \u001b[38;5;28;01mif\u001b[39;00m \u001b[38;5;28mgetattr\u001b[39m(fn, magic\u001b[38;5;241m.\u001b[39mMAGIC_OUTPUT_CAN_BE_SILENCED, \u001b[38;5;28;01mFalse\u001b[39;00m):\n",
      "File \u001b[0;32m~/.local/lib/python3.10/site-packages/IPython/core/magics/execution.py:727\u001b[0m, in \u001b[0;36mExecutionMagics.run\u001b[0;34m(self, parameter_s, runner, file_finder)\u001b[0m\n\u001b[1;32m    725\u001b[0m     \u001b[38;5;28;01mif\u001b[39;00m os\u001b[38;5;241m.\u001b[39mname \u001b[38;5;241m==\u001b[39m \u001b[38;5;124m'\u001b[39m\u001b[38;5;124mnt\u001b[39m\u001b[38;5;124m'\u001b[39m \u001b[38;5;129;01mand\u001b[39;00m re\u001b[38;5;241m.\u001b[39mmatch(\u001b[38;5;124mr\u001b[39m\u001b[38;5;124m\"\u001b[39m\u001b[38;5;124m^\u001b[39m\u001b[38;5;124m'\u001b[39m\u001b[38;5;124m.*\u001b[39m\u001b[38;5;124m'\u001b[39m\u001b[38;5;124m$\u001b[39m\u001b[38;5;124m\"\u001b[39m,fpath):\n\u001b[1;32m    726\u001b[0m         warn(\u001b[38;5;124m'\u001b[39m\u001b[38;5;124mFor Windows, use double quotes to wrap a filename: \u001b[39m\u001b[38;5;132;01m%r\u001b[39;00m\u001b[38;5;124mun \u001b[39m\u001b[38;5;124m\"\u001b[39m\u001b[38;5;124mmypath\u001b[39m\u001b[38;5;130;01m\\\\\u001b[39;00m\u001b[38;5;124mmyfile.py\u001b[39m\u001b[38;5;124m\"\u001b[39m\u001b[38;5;124m'\u001b[39m)\n\u001b[0;32m--> 727\u001b[0m     \u001b[38;5;28;01mraise\u001b[39;00m \u001b[38;5;167;01mException\u001b[39;00m(msg) \u001b[38;5;28;01mfrom\u001b[39;00m \u001b[38;5;21;01me\u001b[39;00m\n\u001b[1;32m    728\u001b[0m \u001b[38;5;28;01mexcept\u001b[39;00m \u001b[38;5;167;01mTypeError\u001b[39;00m:\n\u001b[1;32m    729\u001b[0m     \u001b[38;5;28;01mif\u001b[39;00m fpath \u001b[38;5;129;01min\u001b[39;00m sys\u001b[38;5;241m.\u001b[39mmeta_path:\n",
      "\u001b[0;31mException\u001b[0m: File `'moviepy/make'` not found."
     ]
    }
   ],
   "source": [
    "%run moviepy/make masked_clip.py"
   ]
  },
  {
   "cell_type": "code",
   "execution_count": 4,
   "id": "acc4c819-6bf5-4ad0-8222-597636abcee9",
   "metadata": {
    "collapsed": true,
    "jupyter": {
     "outputs_hidden": true
    }
   },
   "outputs": [
    {
     "name": "stdin",
     "output_type": "stream",
     "text": [
      "Исходный файл:  m\n",
      "Файл маски:  j\n",
      "Итоговый файл:  j\n"
     ]
    },
    {
     "ename": "OSError",
     "evalue": "MoviePy error: the file m could not be found!\nPlease check that you entered the correct path.",
     "output_type": "error",
     "traceback": [
      "\u001b[0;31m---------------------------------------------------------------------------\u001b[0m",
      "\u001b[0;31mOSError\u001b[0m                                   Traceback (most recent call last)",
      "Cell \u001b[0;32mIn[4], line 7\u001b[0m\n\u001b[1;32m      5\u001b[0m file_out \u001b[38;5;241m=\u001b[39m \u001b[38;5;28minput\u001b[39m(\u001b[38;5;124m'\u001b[39m\u001b[38;5;124mИтоговый файл: \u001b[39m\u001b[38;5;124m'\u001b[39m) \u001b[38;5;129;01mor\u001b[39;00m \u001b[38;5;124m'\u001b[39m\u001b[38;5;124m3.mp4\u001b[39m\u001b[38;5;124m'\u001b[39m\n\u001b[1;32m      6\u001b[0m \u001b[38;5;167;01mPermissionError\u001b[39;00m\n\u001b[0;32m----> 7\u001b[0m clip \u001b[38;5;241m=\u001b[39m \u001b[43mVideoFileClip\u001b[49m\u001b[43m(\u001b[49m\u001b[43mfile_in\u001b[49m\u001b[43m)\u001b[49m\n\u001b[1;32m      8\u001b[0m clip_mask \u001b[38;5;241m=\u001b[39m ImageClip(file_mask, duration\u001b[38;5;241m=\u001b[39mclip\u001b[38;5;241m.\u001b[39mduration)\n\u001b[1;32m      9\u001b[0m clip_mask \u001b[38;5;241m=\u001b[39m clip_mask\u001b[38;5;241m.\u001b[39mset_position(\u001b[38;5;124m'\u001b[39m\u001b[38;5;124mcenter\u001b[39m\u001b[38;5;124m'\u001b[39m)\n",
      "File \u001b[0;32m~/.local/lib/python3.10/site-packages/moviepy/video/io/VideoFileClip.py:88\u001b[0m, in \u001b[0;36mVideoFileClip.__init__\u001b[0;34m(self, filename, has_mask, audio, audio_buffersize, target_resolution, resize_algorithm, audio_fps, audio_nbytes, verbose, fps_source)\u001b[0m\n\u001b[1;32m     86\u001b[0m \u001b[38;5;66;03m# Make a reader\u001b[39;00m\n\u001b[1;32m     87\u001b[0m pix_fmt \u001b[38;5;241m=\u001b[39m \u001b[38;5;124m\"\u001b[39m\u001b[38;5;124mrgba\u001b[39m\u001b[38;5;124m\"\u001b[39m \u001b[38;5;28;01mif\u001b[39;00m has_mask \u001b[38;5;28;01melse\u001b[39;00m \u001b[38;5;124m\"\u001b[39m\u001b[38;5;124mrgb24\u001b[39m\u001b[38;5;124m\"\u001b[39m\n\u001b[0;32m---> 88\u001b[0m \u001b[38;5;28mself\u001b[39m\u001b[38;5;241m.\u001b[39mreader \u001b[38;5;241m=\u001b[39m \u001b[43mFFMPEG_VideoReader\u001b[49m\u001b[43m(\u001b[49m\u001b[43mfilename\u001b[49m\u001b[43m,\u001b[49m\u001b[43m \u001b[49m\u001b[43mpix_fmt\u001b[49m\u001b[38;5;241;43m=\u001b[39;49m\u001b[43mpix_fmt\u001b[49m\u001b[43m,\u001b[49m\n\u001b[1;32m     89\u001b[0m \u001b[43m                                 \u001b[49m\u001b[43mtarget_resolution\u001b[49m\u001b[38;5;241;43m=\u001b[39;49m\u001b[43mtarget_resolution\u001b[49m\u001b[43m,\u001b[49m\n\u001b[1;32m     90\u001b[0m \u001b[43m                                 \u001b[49m\u001b[43mresize_algo\u001b[49m\u001b[38;5;241;43m=\u001b[39;49m\u001b[43mresize_algorithm\u001b[49m\u001b[43m,\u001b[49m\n\u001b[1;32m     91\u001b[0m \u001b[43m                                 \u001b[49m\u001b[43mfps_source\u001b[49m\u001b[38;5;241;43m=\u001b[39;49m\u001b[43mfps_source\u001b[49m\u001b[43m)\u001b[49m\n\u001b[1;32m     93\u001b[0m \u001b[38;5;66;03m# Make some of the reader's attributes accessible from the clip\u001b[39;00m\n\u001b[1;32m     94\u001b[0m \u001b[38;5;28mself\u001b[39m\u001b[38;5;241m.\u001b[39mduration \u001b[38;5;241m=\u001b[39m \u001b[38;5;28mself\u001b[39m\u001b[38;5;241m.\u001b[39mreader\u001b[38;5;241m.\u001b[39mduration\n",
      "File \u001b[0;32m~/.local/lib/python3.10/site-packages/moviepy/video/io/ffmpeg_reader.py:35\u001b[0m, in \u001b[0;36mFFMPEG_VideoReader.__init__\u001b[0;34m(self, filename, print_infos, bufsize, pix_fmt, check_duration, target_resolution, resize_algo, fps_source)\u001b[0m\n\u001b[1;32m     33\u001b[0m \u001b[38;5;28mself\u001b[39m\u001b[38;5;241m.\u001b[39mfilename \u001b[38;5;241m=\u001b[39m filename\n\u001b[1;32m     34\u001b[0m \u001b[38;5;28mself\u001b[39m\u001b[38;5;241m.\u001b[39mproc \u001b[38;5;241m=\u001b[39m \u001b[38;5;28;01mNone\u001b[39;00m\n\u001b[0;32m---> 35\u001b[0m infos \u001b[38;5;241m=\u001b[39m \u001b[43mffmpeg_parse_infos\u001b[49m\u001b[43m(\u001b[49m\u001b[43mfilename\u001b[49m\u001b[43m,\u001b[49m\u001b[43m \u001b[49m\u001b[43mprint_infos\u001b[49m\u001b[43m,\u001b[49m\u001b[43m \u001b[49m\u001b[43mcheck_duration\u001b[49m\u001b[43m,\u001b[49m\n\u001b[1;32m     36\u001b[0m \u001b[43m                           \u001b[49m\u001b[43mfps_source\u001b[49m\u001b[43m)\u001b[49m\n\u001b[1;32m     37\u001b[0m \u001b[38;5;28mself\u001b[39m\u001b[38;5;241m.\u001b[39mfps \u001b[38;5;241m=\u001b[39m infos[\u001b[38;5;124m'\u001b[39m\u001b[38;5;124mvideo_fps\u001b[39m\u001b[38;5;124m'\u001b[39m]\n\u001b[1;32m     38\u001b[0m \u001b[38;5;28mself\u001b[39m\u001b[38;5;241m.\u001b[39msize \u001b[38;5;241m=\u001b[39m infos[\u001b[38;5;124m'\u001b[39m\u001b[38;5;124mvideo_size\u001b[39m\u001b[38;5;124m'\u001b[39m]\n",
      "File \u001b[0;32m~/.local/lib/python3.10/site-packages/moviepy/video/io/ffmpeg_reader.py:270\u001b[0m, in \u001b[0;36mffmpeg_parse_infos\u001b[0;34m(filename, print_infos, check_duration, fps_source)\u001b[0m\n\u001b[1;32m    268\u001b[0m lines \u001b[38;5;241m=\u001b[39m infos\u001b[38;5;241m.\u001b[39msplitlines()\n\u001b[1;32m    269\u001b[0m \u001b[38;5;28;01mif\u001b[39;00m \u001b[38;5;124m\"\u001b[39m\u001b[38;5;124mNo such file or directory\u001b[39m\u001b[38;5;124m\"\u001b[39m \u001b[38;5;129;01min\u001b[39;00m lines[\u001b[38;5;241m-\u001b[39m\u001b[38;5;241m1\u001b[39m]:\n\u001b[0;32m--> 270\u001b[0m     \u001b[38;5;28;01mraise\u001b[39;00m \u001b[38;5;167;01mIOError\u001b[39;00m((\u001b[38;5;124m\"\u001b[39m\u001b[38;5;124mMoviePy error: the file \u001b[39m\u001b[38;5;132;01m%s\u001b[39;00m\u001b[38;5;124m could not be found!\u001b[39m\u001b[38;5;130;01m\\n\u001b[39;00m\u001b[38;5;124m\"\u001b[39m\n\u001b[1;32m    271\u001b[0m                   \u001b[38;5;124m\"\u001b[39m\u001b[38;5;124mPlease check that you entered the correct \u001b[39m\u001b[38;5;124m\"\u001b[39m\n\u001b[1;32m    272\u001b[0m                   \u001b[38;5;124m\"\u001b[39m\u001b[38;5;124mpath.\u001b[39m\u001b[38;5;124m\"\u001b[39m)\u001b[38;5;241m%\u001b[39mfilename)\n\u001b[1;32m    274\u001b[0m result \u001b[38;5;241m=\u001b[39m \u001b[38;5;28mdict\u001b[39m()\n\u001b[1;32m    277\u001b[0m \u001b[38;5;66;03m# get duration (in seconds)\u001b[39;00m\n",
      "\u001b[0;31mOSError\u001b[0m: MoviePy error: the file m could not be found!\nPlease check that you entered the correct path."
     ]
    }
   ],
   "source": [
    "from moviepy.editor import *\n",
    "\n",
    "file_in = input('Исходный файл: ') or 'bd_out.mp4'\n",
    "file_mask = input('Файл маски: ') or '3.png'\n",
    "file_out = input('Итоговый файл: ') or '3.mp4'\n",
    "PermissionError\n",
    "clip = VideoFileClip(file_in)\n",
    "clip_mask = ImageClip(file_mask, duration=clip.duration)\n",
    "clip_mask = clip_mask.set_position('center')\n",
    "#VideoFileClip(file_mask, has_mask=True)\n",
    "clip_mask = clip_mask.set_fps(24)\n",
    "clip_out = CompositeVideoClip([clip, clip_mask])\n",
    "#clip_out = concatenate_videoclips([clip_out])\n",
    "clip_out.write_videofile(file_out, logger=None, fps=25)\n",
    "\n"
   ]
  },
  {
   "cell_type": "code",
   "execution_count": 6,
   "id": "027efa2a-3d34-4259-867a-7fe22bbd27d3",
   "metadata": {},
   "outputs": [],
   "source": [
    "superrange = range(1000000)"
   ]
  },
  {
   "cell_type": "code",
   "execution_count": 7,
   "id": "4e1d009f-4775-46e1-a8c6-d6afbd4c3c17",
   "metadata": {},
   "outputs": [
    {
     "name": "stdout",
     "output_type": "stream",
     "text": [
      "CPU times: user 51.6 ms, sys: 851 µs, total: 52.5 ms\n",
      "Wall time: 51.1 ms\n"
     ]
    }
   ],
   "source": [
    "%%time\n",
    "# superrange = range(100000)\n",
    "for i in superrange:\n",
    "    pass"
   ]
  },
  {
   "cell_type": "code",
   "execution_count": 9,
   "id": "6316386d-fd3b-4b24-87ba-939a13617e6e",
   "metadata": {},
   "outputs": [
    {
     "ename": "FileNotFoundError",
     "evalue": "[Errno 2] No such file or directory: 'music_source//'",
     "output_type": "error",
     "traceback": [
      "\u001b[0;31m---------------------------------------------------------------------------\u001b[0m",
      "\u001b[0;31mFileNotFoundError\u001b[0m                         Traceback (most recent call last)",
      "File \u001b[0;32m~/python/jupyter/moviepy/musicFromMovie.py:14\u001b[0m\n\u001b[1;32m     11\u001b[0m     clip \u001b[38;5;241m=\u001b[39m VideoFileClip(MUSIC_SOURCE\u001b[38;5;241m+\u001b[39msource_video)\n\u001b[1;32m     12\u001b[0m     clip_audio \u001b[38;5;241m=\u001b[39m clip\u001b[38;5;241m.\u001b[39mwrite_videofile(MUSIC_OUT\u001b[38;5;241m+\u001b[39mout_music, logger\u001b[38;5;241m=\u001b[39m\u001b[38;5;28;01mNone\u001b[39;00m,)\n\u001b[0;32m---> 14\u001b[0m source_list \u001b[38;5;241m=\u001b[39m \u001b[43mos\u001b[49m\u001b[38;5;241;43m.\u001b[39;49m\u001b[43mlistdir\u001b[49m\u001b[43m(\u001b[49m\u001b[43mMUSIC_SOURCE\u001b[49m\u001b[43m)\u001b[49m\n\u001b[1;32m     15\u001b[0m \u001b[38;5;28;01mfor\u001b[39;00m element \u001b[38;5;129;01min\u001b[39;00m source_list:\n\u001b[1;32m     16\u001b[0m     \u001b[38;5;28mprint\u001b[39m(\u001b[38;5;124mf\u001b[39m\u001b[38;5;124m'\u001b[39m\u001b[38;5;124mbegin work with \u001b[39m\u001b[38;5;132;01m{\u001b[39;00melement\u001b[38;5;132;01m}\u001b[39;00m\u001b[38;5;124m'\u001b[39m)\n",
      "\u001b[0;31mFileNotFoundError\u001b[0m: [Errno 2] No such file or directory: 'music_source//'"
     ]
    }
   ],
   "source": [
    "%run moviepy/musicFromMovie.py"
   ]
  },
  {
   "cell_type": "code",
   "execution_count": 11,
   "id": "936faa7f-5ec4-43b2-b662-ba886b083053",
   "metadata": {},
   "outputs": [
    {
     "data": {
      "text/plain": [
       "'/home/pteroz/.local/lib/python3.10/site-packages/moviepy/__init__.py'"
      ]
     },
     "execution_count": 11,
     "metadata": {},
     "output_type": "execute_result"
    }
   ],
   "source": [
    "import moviepy\n",
    "moviepy.__file__"
   ]
  },
  {
   "cell_type": "code",
   "execution_count": 14,
   "id": "cd5f7446-9536-4e19-9144-5b3495283c71",
   "metadata": {},
   "outputs": [
    {
     "name": "stdout",
     "output_type": "stream",
     "text": [
      "        *\n",
      "       **\n",
      "      ***\n",
      "     ****\n",
      "    *****\n",
      "   ******\n",
      "  *******\n",
      " ********\n",
      "*********\n"
     ]
    }
   ],
   "source": [
    "print(*[' '*(9-x) + '*'*x for x in range(1, 10)], sep='\\n')"
   ]
  },
  {
   "cell_type": "code",
   "execution_count": 16,
   "id": "307ba4a8-d079-40a3-9660-82ea227691b6",
   "metadata": {},
   "outputs": [
    {
     "name": "stdout",
     "output_type": "stream",
     "text": [
      "[3, 2, 1]\n"
     ]
    }
   ],
   "source": [
    "i = [1,2,3]\n",
    "i.reverse()\n",
    "print(i)"
   ]
  },
  {
   "cell_type": "code",
   "execution_count": 26,
   "id": "5a0720c9-2a17-4f3c-9515-1058bed677b2",
   "metadata": {},
   "outputs": [
    {
     "name": "stdin",
     "output_type": "stream",
     "text": [
      " 1\n",
      " 2\n",
      " 2\n"
     ]
    },
    {
     "name": "stdout",
     "output_type": "stream",
     "text": [
      "2 2 1\n"
     ]
    }
   ],
   "source": [
    "inp = [input() for x in range(3)]\n",
    "inp.reverse()\n",
    "print(*inp)"
   ]
  },
  {
   "cell_type": "code",
   "execution_count": 67,
   "id": "92f1f72f-983f-4065-915a-306b1b601e43",
   "metadata": {},
   "outputs": [
    {
     "data": {
      "text/plain": [
       "55635907749862844386400314505595567251599107970324256757699365672051224279213746123593285972818168186054976565058958882713758619825090273161853126012111375244844087293096829495879918865468337950597431398150794978444367339375618514511840231288885210728891671216376189100265098001821619027681346619050105186012557968665159098583926964225"
      ]
     },
     "execution_count": 67,
     "metadata": {},
     "output_type": "execute_result"
    }
   ],
   "source": [
    "0b01011010\n",
    "0o1235\n",
    "12\n",
    "0xfffffffffffffffffffffffffffffffffffffffffffffffffffffffffffffffffffffffffffffffffffffffffffffffffffffffffffffffffffffffffffffffffffffffffff**2"
   ]
  },
  {
   "cell_type": "code",
   "execution_count": 74,
   "id": "6593ff35-6fd9-410e-945a-34e1b4dcca2c",
   "metadata": {},
   "outputs": [
    {
     "data": {
      "text/plain": [
       "100000000000000.0"
      ]
     },
     "execution_count": 74,
     "metadata": {},
     "output_type": "execute_result"
    }
   ],
   "source": [
    "1/3*3*100000000000000b"
   ]
  },
  {
   "cell_type": "code",
   "execution_count": 86,
   "id": "1d7f17c9-5928-4590-b1a0-64ef222ddabe",
   "metadata": {},
   "outputs": [
    {
     "name": "stdin",
     "output_type": "stream",
     "text": [
      " 3\n"
     ]
    },
    {
     "name": "stdout",
     "output_type": "stream",
     "text": [
      "3\n"
     ]
    }
   ],
   "source": [
    "digit = input()\n",
    "d_l = list(digit)\n",
    "for i in range(len(d_l), 0, -1):\n",
    "    print(int(d_l[-i]) * 10**(i-1))"
   ]
  },
  {
   "cell_type": "code",
   "execution_count": 90,
   "id": "dc29802d-c4b7-42bf-b284-085f716420b3",
   "metadata": {},
   "outputs": [
    {
     "name": "stdin",
     "output_type": "stream",
     "text": [
      " 1\n",
      " 2\n",
      " 3\n"
     ]
    },
    {
     "name": "stdout",
     "output_type": "stream",
     "text": [
      "6\n"
     ]
    }
   ],
   "source": [
    "print(sum([int(input()) for x in range(3)]))"
   ]
  },
  {
   "cell_type": "code",
   "execution_count": 129,
   "id": "c65f964a-30e9-4d3a-9014-4a10d8234c03",
   "metadata": {},
   "outputs": [
    {
     "name": "stdin",
     "output_type": "stream",
     "text": [
      " 1\n",
      " 2\n",
      " 3\n"
     ]
    },
    {
     "name": "stdout",
     "output_type": "stream",
     "text": [
      "1 2 3\n"
     ]
    }
   ],
   "source": [
    "x = lambda:int(input())\n",
    "a, b, c = x(), x(), x()\n",
    "print(a, b, c)"
   ]
  },
  {
   "cell_type": "code",
   "execution_count": 200,
   "id": "d56e04ab-ebff-4479-b9b0-a709125761f1",
   "metadata": {},
   "outputs": [
    {
     "data": {
      "text/plain": [
       "[1,\n",
       " 1,\n",
       " 1,\n",
       " 1,\n",
       " 2,\n",
       " 2,\n",
       " 2,\n",
       " 2,\n",
       " 3,\n",
       " 3,\n",
       " 3,\n",
       " 3,\n",
       " 4,\n",
       " 4,\n",
       " 4,\n",
       " 4,\n",
       " 5,\n",
       " 5,\n",
       " 5,\n",
       " 5,\n",
       " 6,\n",
       " 6,\n",
       " 6,\n",
       " 6,\n",
       " 7,\n",
       " 7,\n",
       " 7,\n",
       " 7,\n",
       " 8,\n",
       " 8,\n",
       " 8,\n",
       " 8,\n",
       " 9,\n",
       " 9,\n",
       " 9,\n",
       " 9]"
      ]
     },
     "execution_count": 200,
     "metadata": {},
     "output_type": "execute_result"
    }
   ],
   "source": [
    "l = [(x+3)//4 for x in range(1,37)]\n",
    "l\n",
    "# n = int(input())\n",
    "# print((n+4)//4)"
   ]
  },
  {
   "cell_type": "code",
   "execution_count": 203,
   "id": "4868afb7-2b1c-477f-9e37-10540ecef04d",
   "metadata": {},
   "outputs": [
    {
     "name": "stdin",
     "output_type": "stream",
     "text": [
      " 11\n"
     ]
    },
    {
     "ename": "ValueError",
     "evalue": "not enough values to unpack (expected 3, got 2)",
     "output_type": "error",
     "traceback": [
      "\u001b[0;31m---------------------------------------------------------------------------\u001b[0m",
      "\u001b[0;31mValueError\u001b[0m                                Traceback (most recent call last)",
      "Cell \u001b[0;32mIn[203], line 1\u001b[0m\n\u001b[0;32m----> 1\u001b[0m a,b,c \u001b[38;5;241m=\u001b[39m \u001b[38;5;28minput\u001b[39m()\n\u001b[1;32m      2\u001b[0m \u001b[38;5;28mprint\u001b[39m(a,b,c)\n",
      "\u001b[0;31mValueError\u001b[0m: not enough values to unpack (expected 3, got 2)"
     ]
    }
   ],
   "source": [
    "a,b,c = input()\n",
    "print(a,b,c)"
   ]
  },
  {
   "cell_type": "code",
   "execution_count": 236,
   "id": "d78ac05c-a23a-43c3-995f-6045a905526b",
   "metadata": {},
   "outputs": [
    {
     "name": "stdin",
     "output_type": "stream",
     "text": [
      " blue\n",
      " b\n"
     ]
    },
    {
     "name": "stdout",
     "output_type": "stream",
     "text": [
      "GO\n"
     ]
    }
   ],
   "source": [
    "col1, col2 = input(), input()\n",
    "if col1 != 'blue' or 'yellow':\n",
    "    print('GO')\n",
    "else:\n",
    "    print('OK')"
   ]
  },
  {
   "cell_type": "code",
   "execution_count": 250,
   "id": "55847bc3-ac9a-41e0-be9d-240ba69993ef",
   "metadata": {},
   "outputs": [
    {
     "name": "stdin",
     "output_type": "stream",
     "text": [
      " -80\n",
      " -60\n",
      " -100\n",
      " -50\n"
     ]
    },
    {
     "name": "stdout",
     "output_type": "stream",
     "text": [
      "-80 -60\n"
     ]
    }
   ],
   "source": [
    "a1, b1, a2, b2 = (int(input()) for _ in range(4))\n",
    "# if a1 > a2 and b1 > b2:\n",
    "#      a1, b1, a2, b2 = a2, b2, a1, b1\n",
    "if b1 == a2:\n",
    "    print(b1)\n",
    "elif b1 < a2:\n",
    "    print('пустое множество')\n",
    "elif a1 <= a2 and b1 <= b2:\n",
    "    print(a2, b1)\n",
    "elif a1 <= a2 and b1 >= b2:\n",
    "    print(a2, b2)\n",
    "elif a1 >= a2 and b1 <= b2:\n",
    "    print(a1, b1)"
   ]
  },
  {
   "cell_type": "code",
   "execution_count": 255,
   "id": "1a9d9dac-677c-45b1-af5a-a1ff1361cb09",
   "metadata": {},
   "outputs": [
    {
     "name": "stdin",
     "output_type": "stream",
     "text": [
      " 2100\n"
     ]
    },
    {
     "name": "stdout",
     "output_type": "stream",
     "text": [
      "YES\n"
     ]
    }
   ],
   "source": [
    "year = int(input())\n",
    "if year%1000%100 == 0:\n",
    "    print('YES')\n",
    "else:\n",
    "    print('NO')"
   ]
  },
  {
   "cell_type": "code",
   "execution_count": 270,
   "id": "52777333-9035-4510-94bc-972f721c8565",
   "metadata": {},
   "outputs": [
    {
     "name": "stdin",
     "output_type": "stream",
     "text": [
      " 5\n",
      " 7\n",
      " 5\n",
      " 7\n"
     ]
    },
    {
     "name": "stdout",
     "output_type": "stream",
     "text": [
      "YES\n"
     ]
    }
   ],
   "source": [
    "x1, y1, x2, y2 = [int(input()) for _ in range(4)]\n",
    "if (x1 + y1) % 2 == 0 and (x2 + y2) % 2 == 0:\n",
    "    print('YES')\n",
    "elif x1 + y1 == x2 + y2:\n",
    "    print('YES')\n",
    "elif (x1 + y1) % 2 != 0 and (x2 + y2) % 2 != 0:\n",
    "    print('YES')\n",
    "else:\n",
    "    print('NO')"
   ]
  },
  {
   "cell_type": "code",
   "execution_count": 273,
   "id": "e7f88175-c767-4734-ba09-274c96186676",
   "metadata": {},
   "outputs": [
    {
     "name": "stdin",
     "output_type": "stream",
     "text": [
      " 11\n",
      " m\n"
     ]
    },
    {
     "name": "stdout",
     "output_type": "stream",
     "text": [
      "NO\n"
     ]
    }
   ],
   "source": [
    "age, sex = int(input()), input()\n",
    "if 10 <= age <= 15 and sex == 'f':\n",
    "    print('YES')\n",
    "else:\n",
    "    print('NO')"
   ]
  },
  {
   "cell_type": "code",
   "execution_count": 276,
   "id": "00cd6e61-7b79-44d3-bfd0-fb566bab451a",
   "metadata": {},
   "outputs": [
    {
     "name": "stdin",
     "output_type": "stream",
     "text": [
      " a\n"
     ]
    },
    {
     "name": "stdout",
     "output_type": "stream",
     "text": [
      "ошибка\n"
     ]
    }
   ],
   "source": [
    "n = input()\n",
    "if n == '1':\n",
    "    r = 'I'\n",
    "elif n == '2':\n",
    "    r = 'II'\n",
    "elif n == '3':\n",
    "    r = 'III'\n",
    "elif n == '4':\n",
    "    r = 'IV'\n",
    "elif n == '5':\n",
    "    r = 'V'\n",
    "elif n == '6':\n",
    "    r = 'VI'\n",
    "elif n == '7':\n",
    "    r = 'VII'\n",
    "elif n == '8':\n",
    "    r = 'VIII'\n",
    "elif n == '9':\n",
    "    r = 'IX'\n",
    "elif n == '10':\n",
    "    r = 'X'\n",
    "else:\n",
    "    r = 'ошибка'\n",
    "print(r)"
   ]
  },
  {
   "cell_type": "code",
   "execution_count": 278,
   "id": "a2b3b407-15ae-4869-b47f-40a71a570e3e",
   "metadata": {},
   "outputs": [
    {
     "name": "stdin",
     "output_type": "stream",
     "text": [
      " 2\n"
     ]
    },
    {
     "name": "stdout",
     "output_type": "stream",
     "text": [
      "NO\n"
     ]
    }
   ],
   "source": [
    "num = int(input())\n",
    "if num % 2 != 0 or num % 2 == 0 and 6 <= num <= 20:\n",
    "    print('YES')\n",
    "elif num % 2 == 0 and 2 <= num <= 5 or num % 2 == 0 and num > 20:\n",
    "    print('NO')"
   ]
  },
  {
   "cell_type": "code",
   "execution_count": 282,
   "id": "c017e826-3d7b-4a73-8b31-541849ac9d31",
   "metadata": {},
   "outputs": [
    {
     "name": "stdin",
     "output_type": "stream",
     "text": [
      " 8\n",
      " 7\n",
      " 7\n",
      " 6\n"
     ]
    },
    {
     "name": "stdout",
     "output_type": "stream",
     "text": [
      "YES\n"
     ]
    }
   ],
   "source": [
    "x1, y1, x2, y2 = [int(input()) for _ in range(4)]\n",
    "if (x1-x2)**2 == (y1-y2)**2:\n",
    "    print('YES')\n",
    "else:\n",
    "    print('NO')"
   ]
  },
  {
   "cell_type": "code",
   "execution_count": 283,
   "id": "26f8e02d-d9b0-4729-beae-b608555f49fe",
   "metadata": {},
   "outputs": [
    {
     "name": "stdin",
     "output_type": "stream",
     "text": [
      " 4\n",
      " 5\n",
      " 2\n",
      " 4\n"
     ]
    },
    {
     "name": "stdout",
     "output_type": "stream",
     "text": [
      "NO\n"
     ]
    }
   ],
   "source": [
    "x1, y1, x2, y2 = [int(input()) for _ in range(4)]\n",
    "if x1 + 1 == x2 and y1 + 2 == y2:\n",
    "    res = 'YES'\n",
    "elif x1 + 2 == x2 and y1 + 1 == y2:\n",
    "    res = 'YES'\n",
    "elif x1 - 1 == x2 and y1 + 2 == y2:\n",
    "    res = 'YES'\n",
    "elif x1 - 1 == x2 and y1 - 2 == y2:\n",
    "    res = 'YES'\n",
    "elif x1 + 2 == x2 and y1 - 1 == y2:\n",
    "    res = 'YES'\n",
    "elif x1 + 1 == x2 and y1 - 2 == y2:\n",
    "    res = 'YES'\n",
    "elif x1 - 2 == x2 and y1 - 1 == y2:\n",
    "    res = 'YES'\n",
    "elif x1 - 2 == x2 and y1 + 1 == y2:\n",
    "    res = 'YES'\n",
    "else:\n",
    "    res = 'NO'\n",
    "print(res)"
   ]
  },
  {
   "cell_type": "code",
   "execution_count": 290,
   "id": "b470307b-307e-429e-8733-74c4435a56a2",
   "metadata": {},
   "outputs": [
    {
     "name": "stdin",
     "output_type": "stream",
     "text": [
      " 1\n",
      " 1\n",
      " 2\n",
      " 3\n"
     ]
    },
    {
     "name": "stdout",
     "output_type": "stream",
     "text": [
      "NO\n"
     ]
    }
   ],
   "source": [
    "x1, y1, x2, y2 = [int(input()) for _ in range(4)]\n",
    "res = ''\n",
    "if (x1-x2)**2 == (y1-y2)**2:\n",
    "    res = 'YES'\n",
    "elif x1 == x2 or y1 == y2:\n",
    "    res = 'YES'\n",
    "else:\n",
    "    res = 'NO'\n",
    "print(res)"
   ]
  },
  {
   "cell_type": "code",
   "execution_count": 292,
   "id": "6f709381-1f44-46f6-ac41-a6ab15a02d26",
   "metadata": {},
   "outputs": [
    {
     "name": "stdin",
     "output_type": "stream",
     "text": [
      " 234\n"
     ]
    },
    {
     "name": "stdout",
     "output_type": "stream",
     "text": [
      "2\n",
      "3\n",
      "4\n"
     ]
    }
   ],
   "source": [
    "num = int(input())\n",
    "a = num // 100\n",
    "b = num % 100 // 10\n",
    "c = num % 10\n",
    "print(a, b, c, sep='\\n')"
   ]
  },
  {
   "cell_type": "code",
   "execution_count": 294,
   "id": "aa6dcbcf-621d-429d-9ab6-3567dddf8f52",
   "metadata": {},
   "outputs": [
    {
     "data": {
      "text/plain": [
       "3"
      ]
     },
     "execution_count": 294,
     "metadata": {},
     "output_type": "execute_result"
    }
   ],
   "source": [
    "min(1,2,3)\n",
    "max(1,2,3)"
   ]
  },
  {
   "cell_type": "code",
   "execution_count": 303,
   "id": "fa038413-b14b-4bec-ac54-0bead334dc54",
   "metadata": {},
   "outputs": [
    {
     "name": "stdin",
     "output_type": "stream",
     "text": [
      " 123\n"
     ]
    },
    {
     "name": "stdout",
     "output_type": "stream",
     "text": [
      "<class 'int'>\n",
      "2\n",
      "3\n"
     ]
    }
   ],
   "source": [
    "a, b, c = [int(_) for _ in input()]\n",
    "print(type(a), b, c, sep='\\n')"
   ]
  },
  {
   "cell_type": "code",
   "execution_count": 308,
   "id": "d99792dc-1b00-43ae-8a44-f74ab5f20c6c",
   "metadata": {},
   "outputs": [
    {
     "name": "stdout",
     "output_type": "stream",
     "text": [
      "1\n",
      "121\n",
      "1213121\n",
      "121312141213121\n"
     ]
    }
   ],
   "source": [
    "str1 = '1'\n",
    "str2 = str1 + '2' + str1\n",
    "str3 = str2 + '3' + str2\n",
    "str4 = str3 + '4' + str3\n",
    "print(str1, str2, str3, str4, sep='\\n')"
   ]
  },
  {
   "cell_type": "code",
   "execution_count": 318,
   "id": "32fae9e8-6650-4d58-ab2b-5245a82cc77d",
   "metadata": {},
   "outputs": [
    {
     "name": "stdin",
     "output_type": "stream",
     "text": [
      " a\n",
      " 123\n",
      " 1234a\n"
     ]
    },
    {
     "name": "stdout",
     "output_type": "stream",
     "text": [
      "YES\n"
     ]
    }
   ],
   "source": [
    "a,b,c = [len(input()) for _ in range(3)]\n",
    "mid = a + b + c - max(a, b, c) - min(a, b, c)\n",
    "if max(a, b, c) - mid == mid - min(a, b, c):\n",
    "    print('YES')\n",
    "else:\n",
    "    print('NO')"
   ]
  },
  {
   "cell_type": "code",
   "execution_count": 336,
   "id": "a7847083-7ce0-4afc-be26-95a33f42a026",
   "metadata": {},
   "outputs": [
    {
     "data": {
      "text/plain": [
       "5"
      ]
     },
     "execution_count": 336,
     "metadata": {},
     "output_type": "execute_result"
    }
   ],
   "source": [
    "import math\n",
    "round(3.2)\n",
    "round(4.6)\n"
   ]
  },
  {
   "cell_type": "code",
   "execution_count": 337,
   "id": "7c692856-80ba-4090-9cbd-07af39d4ca19",
   "metadata": {},
   "outputs": [
    {
     "name": "stdout",
     "output_type": "stream",
     "text": [
      "Defaulting to user installation because normal site-packages is not writeable\n",
      "Collecting kivy\n",
      "  Downloading Kivy-2.2.1-cp310-cp310-manylinux_2_17_x86_64.manylinux2014_x86_64.whl.metadata (13 kB)\n",
      "Collecting Kivy-Garden>=0.1.4 (from kivy)\n",
      "  Downloading Kivy_Garden-0.1.5-py3-none-any.whl (4.6 kB)\n",
      "Collecting docutils (from kivy)\n",
      "  Downloading docutils-0.20.1-py3-none-any.whl.metadata (2.8 kB)\n",
      "Requirement already satisfied: pygments in /home/pteroz/.local/lib/python3.10/site-packages (from kivy) (2.16.1)\n",
      "Requirement already satisfied: requests in /home/pteroz/.local/lib/python3.10/site-packages (from Kivy-Garden>=0.1.4->kivy) (2.31.0)\n",
      "Requirement already satisfied: charset-normalizer<4,>=2 in /home/pteroz/.local/lib/python3.10/site-packages (from requests->Kivy-Garden>=0.1.4->kivy) (3.3.1)\n",
      "Requirement already satisfied: idna<4,>=2.5 in /usr/lib/python3/dist-packages (from requests->Kivy-Garden>=0.1.4->kivy) (3.3)\n",
      "Requirement already satisfied: urllib3<3,>=1.21.1 in /usr/lib/python3/dist-packages (from requests->Kivy-Garden>=0.1.4->kivy) (1.26.5)\n",
      "Requirement already satisfied: certifi>=2017.4.17 in /usr/lib/python3/dist-packages (from requests->Kivy-Garden>=0.1.4->kivy) (2020.6.20)\n",
      "Downloading Kivy-2.2.1-cp310-cp310-manylinux_2_17_x86_64.manylinux2014_x86_64.whl (18.9 MB)\n",
      "\u001b[2K   \u001b[38;2;114;156;31m━━━━━━━━━━━━━━━━━━━━━━━━━━━━━━━━━━━━━━━━\u001b[0m \u001b[32m18.9/18.9 MB\u001b[0m \u001b[31m2.9 MB/s\u001b[0m eta \u001b[36m0:00:00\u001b[0mm eta \u001b[36m0:00:01\u001b[0m[36m0:00:01\u001b[0m\n",
      "\u001b[?25hDownloading docutils-0.20.1-py3-none-any.whl (572 kB)\n",
      "\u001b[2K   \u001b[38;2;114;156;31m━━━━━━━━━━━━━━━━━━━━━━━━━━━━━━━━━━━━━━━━\u001b[0m \u001b[32m572.7/572.7 kB\u001b[0m \u001b[31m3.1 MB/s\u001b[0m eta \u001b[36m0:00:00\u001b[0m[36m0:00:01\u001b[0m[36m0:00:01\u001b[0m:01\u001b[0m\n",
      "\u001b[?25hInstalling collected packages: docutils, Kivy-Garden, kivy\n",
      "Successfully installed Kivy-Garden-0.1.5 docutils-0.20.1 kivy-2.2.1\n",
      "Note: you may need to restart the kernel to use updated packages.\n"
     ]
    }
   ],
   "source": [
    "%pip install kivy"
   ]
  },
  {
   "cell_type": "code",
   "execution_count": null,
   "id": "3ae14cc4-ca6a-4209-b9bd-77151f82de80",
   "metadata": {},
   "outputs": [],
   "source": [
    "from kivy.app import App\n",
    "from kivy.uix.label import Label\n",
    "\n",
    "class MainApp(App):\n",
    "    def build(self):\n",
    "        label = Label(text='Hello from Kivy',\n",
    "                      size_hint=(.5, .5),\n",
    "                      pos_hint={'center_x': .5, 'center_y': .5})\n",
    "\n",
    "        return label\n",
    "\n",
    "app = MainApp()\n",
    "app.run()"
   ]
  },
  {
   "cell_type": "code",
   "execution_count": 1,
   "id": "d31ae070-06f9-41ac-91bd-0be0e0312ea0",
   "metadata": {},
   "outputs": [
    {
     "name": "stderr",
     "output_type": "stream",
     "text": [
      "[\u001b[1;32mINFO\u001b[0m   ] [Logger      ] Record log in /home/pteroz/.kivy/logs/kivy_23-11-16_8.txt\n",
      "[\u001b[1;32mINFO\u001b[0m   ] [Kivy        ] v2.2.1\n",
      "[\u001b[1;32mINFO\u001b[0m   ] [Kivy        ] Installed at \"/home/pteroz/.local/lib/python3.10/site-packages/kivy/__init__.py\"\n",
      "[\u001b[1;32mINFO\u001b[0m   ] [Python      ] v3.10.12 (main, Jun 11 2023, 05:26:28) [GCC 11.4.0]\n",
      "[\u001b[1;32mINFO\u001b[0m   ] [Python      ] Interpreter at \"/usr/bin/python3\"\n",
      "[\u001b[1;32mINFO\u001b[0m   ] [Logger      ] Purge log fired. Processing...\n",
      "[\u001b[1;32mINFO\u001b[0m   ] [Logger      ] Purge finished!\n",
      "[\u001b[1;32mINFO\u001b[0m   ] [Factory     ] 190 symbols loaded\n",
      "[\u001b[1;32mINFO\u001b[0m   ] [Image       ] Providers: img_tex, img_dds, img_sdl2, img_pil (img_ffpyplayer ignored)\n",
      "[\u001b[1;32mINFO\u001b[0m   ] [Text        ] Provider: sdl2\n",
      "[\u001b[1;32mINFO\u001b[0m   ] [Window      ] Provider: sdl2\n",
      "[\u001b[1;32mINFO\u001b[0m   ] [GL          ] Using the \"OpenGL\" graphics system\n",
      "[\u001b[1;32mINFO\u001b[0m   ] [GL          ] Backend used <sdl2>\n",
      "[\u001b[1;32mINFO\u001b[0m   ] [GL          ] OpenGL version <b'4.6 (Compatibility Profile) Mesa 23.0.4-0ubuntu1~22.04.1'>\n",
      "[\u001b[1;32mINFO\u001b[0m   ] [GL          ] OpenGL vendor <b'AMD'>\n",
      "[\u001b[1;32mINFO\u001b[0m   ] [GL          ] OpenGL renderer <b'RENOIR (renoir, LLVM 15.0.7, DRM 3.49, 6.2.0-36-generic)'>\n",
      "[\u001b[1;32mINFO\u001b[0m   ] [GL          ] OpenGL parsed version: 4, 6\n",
      "[\u001b[1;32mINFO\u001b[0m   ] [GL          ] Shading version <b'4.60'>\n",
      "[\u001b[1;32mINFO\u001b[0m   ] [GL          ] Texture max size <16384>\n",
      "[\u001b[1;32mINFO\u001b[0m   ] [GL          ] Texture max units <32>\n",
      "[\u001b[1;32mINFO\u001b[0m   ] [Window      ] auto add sdl2 input provider\n",
      "[\u001b[1;32mINFO\u001b[0m   ] [Window      ] virtual keyboard not allowed, single mode, not docked\n",
      "WARNING: running xinput against an Xwayland server. See the xinput man page for details.\n",
      "WARNING: running xinput against an Xwayland server. See the xinput man page for details.\n",
      "WARNING: running xinput against an Xwayland server. See the xinput man page for details.\n",
      "WARNING: running xinput against an Xwayland server. See the xinput man page for details.\n",
      "WARNING: running xinput against an Xwayland server. See the xinput man page for details.\n",
      "WARNING: running xinput against an Xwayland server. See the xinput man page for details.\n",
      "WARNING: running xinput against an Xwayland server. See the xinput man page for details.\n",
      "WARNING: running xinput against an Xwayland server. See the xinput man page for details.\n",
      "WARNING: running xinput against an Xwayland server. See the xinput man page for details.\n",
      "[\u001b[1;32mINFO\u001b[0m   ] [ProbeSysfs  ] device match: /dev/input/event6\n",
      "[\u001b[1;32mINFO\u001b[0m   ] [MTD         ] Read event from </dev/input/event6>\n",
      "[\u001b[1;32mINFO\u001b[0m   ] [Base        ] Start application main loop\n",
      "[\u001b[1;32mINFO\u001b[0m   ] [GL          ] NPOT texture support is available\n",
      "[\u001b[1;33mWARNING\u001b[0m] [MTD         ] Unable to open device \"/dev/input/event6\". Please ensure you have the appropriate permissions.\n",
      "[\u001b[1;32mINFO\u001b[0m   ] [Base        ] Leaving application in progress...\n"
     ]
    }
   ],
   "source": [
    "%run kivy/hello.py"
   ]
  },
  {
   "cell_type": "code",
   "execution_count": 2,
   "id": "dda6d347-8782-42ea-9799-ae0116cfdbc2",
   "metadata": {},
   "outputs": [
    {
     "name": "stdout",
     "output_type": "stream",
     "text": [
      "Defaulting to user installation because normal site-packages is not writeable\n",
      "Requirement already satisfied: cython in /usr/lib/python3/dist-packages (0.29.28)\n"
     ]
    }
   ],
   "source": [
    "!pip install cython"
   ]
  },
  {
   "cell_type": "code",
   "execution_count": 5,
   "id": "285464da-f236-4361-b43f-97249348ed01",
   "metadata": {},
   "outputs": [],
   "source": [
    "import cython\n"
   ]
  },
  {
   "cell_type": "code",
   "execution_count": 11,
   "id": "572e04b3-ccc6-410a-88a3-6582db988ae4",
   "metadata": {},
   "outputs": [
    {
     "data": {
      "text/plain": [
       "1009"
      ]
     },
     "execution_count": 11,
     "metadata": {},
     "output_type": "execute_result"
    }
   ],
   "source": [
    "488 + 301 + 220"
   ]
  },
  {
   "cell_type": "code",
   "execution_count": 15,
   "id": "03baba52-8e56-4fd9-9f40-d5733ad9d0c5",
   "metadata": {},
   "outputs": [
    {
     "data": {
      "text/plain": [
       "1.0"
      ]
     },
     "execution_count": 15,
     "metadata": {},
     "output_type": "execute_result"
    }
   ],
   "source": [
    "import math\n",
    "x = math.sqrt(1)\n",
    "x"
   ]
  },
  {
   "cell_type": "code",
   "execution_count": 19,
   "id": "577cd553-194d-433c-a544-196ddf15e153",
   "metadata": {},
   "outputs": [
    {
     "name": "stdin",
     "output_type": "stream",
     "text": [
      " 1\n",
      " 2\n",
      " 3\n"
     ]
    },
    {
     "name": "stdout",
     "output_type": "stream",
     "text": [
      "Нет корней\n"
     ]
    }
   ],
   "source": [
    "# put your python code here\n",
    "import math\n",
    "a, b, c = [float(input()) for _ in range(3)]\n",
    "D = b**2 - 4 * a * c\n",
    "if D > 0:\n",
    "    x1 = (-b + math.sqrt(D)) / (2 * a)\n",
    "    x2 = (-b - math.sqrt(D)) / (2 * a)\n",
    "    print(min(x1, x2), max(x1, x2))\n",
    "elif D == 0:\n",
    "    x = -b / 2*a\n",
    "    print(x)\n",
    "elif D < 0:\n",
    "    print('Нет корней')"
   ]
  },
  {
   "cell_type": "code",
   "execution_count": 27,
   "id": "392b1a9f-7ffa-4a65-81ce-2b4d9d0d57d3",
   "metadata": {},
   "outputs": [
    {
     "name": "stdin",
     "output_type": "stream",
     "text": [
      " 3\n",
      " 2\n"
     ]
    },
    {
     "name": "stdout",
     "output_type": "stream",
     "text": [
      "1.7320508075688779\n"
     ]
    }
   ],
   "source": [
    "import math\n",
    "n, a = int(input()), float(input())\n",
    "\n",
    "S = n * a**2 / (4 * math.tan(math.pi / n))\n",
    "print(S)"
   ]
  },
  {
   "cell_type": "code",
   "execution_count": 35,
   "id": "e26e0a7a-c0ea-44e8-b555-f2c2a7aec41f",
   "metadata": {},
   "outputs": [
    {
     "name": "stdin",
     "output_type": "stream",
     "text": [
      " 1\n",
      " 10\n"
     ]
    },
    {
     "name": "stdout",
     "output_type": "stream",
     "text": [
      "2\n"
     ]
    }
   ],
   "source": [
    "# put your python code here\n",
    "a, b = int(input()), int(input())\n",
    "counter = 0\n",
    "for i in range(a, b + 1):\n",
    "    i3 = i**3\n",
    "    if i3 % 10 == 4 or i3 % 10 == 9:\n",
    "        counter += 1\n",
    "        \n",
    "print(counter)"
   ]
  },
  {
   "cell_type": "code",
   "execution_count": 15,
   "id": "9603c6f5-f75a-4130-9fd2-c0aa30ba8632",
   "metadata": {},
   "outputs": [
    {
     "name": "stdin",
     "output_type": "stream",
     "text": [
      " 1\n"
     ]
    },
    {
     "name": "stdout",
     "output_type": "stream",
     "text": [
      "225851433717\n",
      "139583862445\n",
      "[4, 53316291173, 86267571272, 139583862445, 225851433717]\n"
     ]
    }
   ],
   "source": [
    "# put your python code here\n",
    "s = [4,\n",
    "53316291173,\n",
    "225851433717,\n",
    "86267571272,\n",
    "139583862445]\n",
    "n = int(input())\n",
    "mx1 = -10000000000000000000\n",
    "mx2 = -10000000000000000000\n",
    "for m in s:\n",
    "    if m > mx1:\n",
    "        mx1, mx2 = m, mx1\n",
    "    elif mx2 < m:\n",
    "        mx2 = m\n",
    "print(mx1, mx2, sep='\\n')\n",
    "print(sorted(s))"
   ]
  },
  {
   "cell_type": "code",
   "execution_count": 1,
   "id": "6c778f19-4a41-4fef-b55e-0df901a47960",
   "metadata": {},
   "outputs": [
    {
     "name": "stdout",
     "output_type": "stream",
     "text": [
      "5\n"
     ]
    }
   ],
   "source": [
    "a = (2, 3)\n",
    "\n",
    "print(sum(a))\n"
   ]
  },
  {
   "cell_type": "code",
   "execution_count": 34,
   "id": "1e884eaa-c9a1-4a1f-851a-96d82af24586",
   "metadata": {},
   "outputs": [
    {
     "name": "stdin",
     "output_type": "stream",
     "text": [
      " 22\n"
     ]
    },
    {
     "name": "stdout",
     "output_type": "stream",
     "text": [
      "1\n",
      "1\n",
      "2\n",
      "3\n",
      "5\n",
      "8\n",
      "13\n",
      "21\n",
      "34\n",
      "55\n",
      "89\n",
      "144\n",
      "233\n",
      "377\n",
      "610\n",
      "987\n",
      "1597\n",
      "2584\n",
      "4181\n",
      "6765\n",
      "10946\n",
      "17711\n"
     ]
    }
   ],
   "source": [
    "# put your python code here\n",
    "n = int(input())\n",
    "m, k = 0, 1\n",
    "for i in range(1, n+1):\n",
    "    m, k = k, m + k  \n",
    "    # k = m + k\n",
    "    print(m)"
   ]
  },
  {
   "cell_type": "code",
   "execution_count": 36,
   "id": "ea63dc3a-a436-4727-976e-7ea657ce850c",
   "metadata": {},
   "outputs": [
    {
     "data": {
      "text/plain": [
       "1497.72"
      ]
     },
     "execution_count": 36,
     "metadata": {},
     "output_type": "execute_result"
    }
   ],
   "source": [
    "486.75 + 808.97 + 202"
   ]
  },
  {
   "cell_type": "code",
   "execution_count": 38,
   "id": "58613276-55c4-4bc4-acd0-780f8012400b",
   "metadata": {},
   "outputs": [
    {
     "name": "stdin",
     "output_type": "stream",
     "text": [
      " a\n"
     ]
    },
    {
     "name": "stdout",
     "output_type": "stream",
     "text": [
      "a\n"
     ]
    },
    {
     "name": "stdin",
     "output_type": "stream",
     "text": [
      " конец\n"
     ]
    }
   ],
   "source": [
    "# put your python code here\n",
    "end = input()\n",
    "while end != 'конец' and end != 'КОНЕЦ':\n",
    "    print(end)\n",
    "    end = input()"
   ]
  },
  {
   "cell_type": "code",
   "execution_count": 1,
   "id": "6a1a422c-30b8-4a3a-9272-db61f3bd07fa",
   "metadata": {},
   "outputs": [
    {
     "name": "stdin",
     "output_type": "stream",
     "text": [
      " 49\n"
     ]
    },
    {
     "name": "stdout",
     "output_type": "stream",
     "text": [
      "n: 49\n",
      "1 24\n",
      "n: 24\n",
      "3 4\n",
      "n: 4\n",
      "7 0\n",
      "7\n"
     ]
    }
   ],
   "source": [
    "n = int(input())\n",
    "coins = 0\n",
    "while n > 0:\n",
    "    if n >= 25:\n",
    "        coins += n//25\n",
    "        n %= 25\n",
    "    elif 10 <= n < 25:\n",
    "        coins += n//10\n",
    "        n %= 10\n",
    "    elif 5 <= n < 10:\n",
    "        coins += n//5\n",
    "        n %= 5\n",
    "    elif 1<= n < 5:\n",
    "        coins += n//1\n",
    "        n %= 1\n",
    "print(coins)"
   ]
  },
  {
   "cell_type": "code",
   "execution_count": 2,
   "id": "1599fdb9-164b-43df-b146-7fe492e5b1cb",
   "metadata": {},
   "outputs": [
    {
     "data": {
      "text/plain": [
       "32"
      ]
     },
     "execution_count": 2,
     "metadata": {},
     "output_type": "execute_result"
    }
   ],
   "source": [
    "323 // 10"
   ]
  },
  {
   "cell_type": "code",
   "execution_count": 4,
   "id": "24fb6746-7f8b-49bd-b73d-f1bb0bbc259a",
   "metadata": {},
   "outputs": [
    {
     "name": "stdin",
     "output_type": "stream",
     "text": [
      " 123\n"
     ]
    },
    {
     "name": "stdout",
     "output_type": "stream",
     "text": [
      "Максимальная цифра равна 3\n",
      "Минимальная цифра равна 1\n"
     ]
    }
   ],
   "source": [
    "# put your python code here\n",
    "mx = -1\n",
    "mn = 10\n",
    "n = int(input())\n",
    "while n > 0:\n",
    "    d = n % 10\n",
    "    n //= 10\n",
    "    if d < mn:\n",
    "        mn = d\n",
    "    if d > mx:\n",
    "        mx = d\n",
    "\n",
    "print('Максимальная цифра равна', mx)\n",
    "print('Минимальная цифра равна', mn)"
   ]
  },
  {
   "cell_type": "code",
   "execution_count": 6,
   "id": "747d6249-6e71-4b97-bbb7-627ce3c7fa32",
   "metadata": {},
   "outputs": [
    {
     "data": {
      "text/plain": [
       "-77"
      ]
     },
     "execution_count": 6,
     "metadata": {},
     "output_type": "execute_result"
    }
   ],
   "source": [
    "1946 - 2023"
   ]
  },
  {
   "cell_type": "code",
   "execution_count": 8,
   "id": "9f86dfc5-ce9a-413e-a944-1144a4075e6f",
   "metadata": {},
   "outputs": [
    {
     "data": {
      "text/plain": [
       "461"
      ]
     },
     "execution_count": 8,
     "metadata": {},
     "output_type": "execute_result"
    }
   ],
   "source": [
    "106 * 4 + 37"
   ]
  },
  {
   "cell_type": "code",
   "execution_count": 15,
   "id": "c4851ce2-acd0-4e2f-9f45-06aeecc969e8",
   "metadata": {},
   "outputs": [
    {
     "data": {
      "text/plain": [
       "1231231"
      ]
     },
     "execution_count": 15,
     "metadata": {},
     "output_type": "execute_result"
    }
   ],
   "source": [
    "123123123//100"
   ]
  },
  {
   "cell_type": "code",
   "execution_count": 17,
   "id": "e48d96ac-c776-4bb9-ade2-08fdfa2ff6b8",
   "metadata": {},
   "outputs": [
    {
     "data": {
      "text/plain": [
       "111"
      ]
     },
     "execution_count": 17,
     "metadata": {},
     "output_type": "execute_result"
    }
   ],
   "source": [
    "1111 // 10"
   ]
  },
  {
   "cell_type": "code",
   "execution_count": 6,
   "id": "6c55003f-cec4-49b6-89e7-91e1501dc206",
   "metadata": {},
   "outputs": [
    {
     "name": "stdin",
     "output_type": "stream",
     "text": [
      " 00003300\n"
     ]
    },
    {
     "name": "stdout",
     "output_type": "stream",
     "text": [
      "0 0\n",
      "0 0\n",
      "0 3\n",
      "NO\n"
     ]
    }
   ],
   "source": [
    "# put your python code here\n",
    "n = int(input())\n",
    "d = n%10\n",
    "flag = True\n",
    "\n",
    "while n > 0 and flag:\n",
    "    out = 'YES'\n",
    "    if n%10 != d and n > 0:\n",
    "        out = 'NO'\n",
    "        flag = False\n",
    "    n //= 10\n",
    "\n",
    "print(out)"
   ]
  },
  {
   "cell_type": "code",
   "execution_count": 2,
   "id": "9977ef40-ca10-4231-87f7-f8c49b54432a",
   "metadata": {},
   "outputs": [
    {
     "data": {
      "text/plain": [
       "False"
      ]
     },
     "execution_count": 2,
     "metadata": {},
     "output_type": "execute_result"
    }
   ],
   "source": [
    "True and False"
   ]
  },
  {
   "cell_type": "code",
   "execution_count": 7,
   "id": "cc447c49-152a-4a77-a913-b026963e4fc4",
   "metadata": {},
   "outputs": [
    {
     "name": "stdin",
     "output_type": "stream",
     "text": [
      " 1231\n"
     ]
    },
    {
     "name": "stdout",
     "output_type": "stream",
     "text": [
      "NO\n"
     ]
    }
   ],
   "source": [
    "n = int(input())\n",
    "flag = 'YES'\n",
    "last_digit = n % 10\n",
    "\n",
    "while n > 0:\n",
    "    cur_digit = n % 10\n",
    "\n",
    "    if last_digit != cur_digit:\n",
    "        flag = 'NO'\n",
    "\n",
    "    n //= 10\n",
    "\n",
    "print(flag)"
   ]
  },
  {
   "cell_type": "code",
   "execution_count": 20,
   "id": "4cbdb9d3-92a8-4b38-9c47-b8f5354ca8ea",
   "metadata": {},
   "outputs": [
    {
     "name": "stdin",
     "output_type": "stream",
     "text": [
      " 7820\n"
     ]
    },
    {
     "name": "stdout",
     "output_type": "stream",
     "text": [
      "-1 0\n",
      "0 2\n",
      "2 8\n",
      "8 7\n",
      "NO\n"
     ]
    }
   ],
   "source": [
    "n = int(input())\n",
    "\n",
    "f = -1\n",
    "flag = 'YES'\n",
    "while n > 0:\n",
    "    print(f, n%10)\n",
    "    if f > n%10 and n > 0:\n",
    "        flag = 'NO'\n",
    "    f = n%10\n",
    "    n //= 10\n",
    "\n",
    "print(flag)"
   ]
  },
  {
   "cell_type": "code",
   "execution_count": 21,
   "id": "cd4cfd86-65b5-4250-bb4b-777526b6a71a",
   "metadata": {},
   "outputs": [
    {
     "data": {
      "text/plain": [
       "25"
      ]
     },
     "execution_count": 21,
     "metadata": {},
     "output_type": "execute_result"
    }
   ],
   "source": [
    "sum((1,3,5,7,9))"
   ]
  },
  {
   "cell_type": "code",
   "execution_count": 26,
   "id": "8951ce94-5c1f-4475-9116-a29944205be5",
   "metadata": {},
   "outputs": [
    {
     "data": {
      "text/plain": [
       "105"
      ]
     },
     "execution_count": 26,
     "metadata": {},
     "output_type": "execute_result"
    }
   ],
   "source": [
    "import numpy as np\n",
    "np.prod((1, 3, 5, 7))"
   ]
  },
  {
   "cell_type": "code",
   "execution_count": 1,
   "id": "14d5faac-38b4-4b0a-9c78-5169d8dd76b3",
   "metadata": {},
   "outputs": [
    {
     "name": "stdin",
     "output_type": "stream",
     "text": [
      " 1\n"
     ]
    },
    {
     "name": "stdout",
     "output_type": "stream",
     "text": [
      "1\n"
     ]
    }
   ],
   "source": [
    "n = int(input())\n",
    "for i in range(1, n+1):\n",
    "    if (5 <= i <= 9) or (17 <= i <= 37) or (78 <= i <= 87):\n",
    "        continue\n",
    "    print(i)"
   ]
  },
  {
   "cell_type": "code",
   "execution_count": 4,
   "id": "a0ff931c-96a8-4100-a7a3-4157b9e5e2e4",
   "metadata": {},
   "outputs": [
    {
     "name": "stdin",
     "output_type": "stream",
     "text": [
      " 1934234249\n"
     ]
    },
    {
     "name": "stdout",
     "output_type": "stream",
     "text": [
      "prime\n",
      "CPU times: user 70.9 ms, sys: 4.01 ms, total: 74.9 ms\n",
      "Wall time: 2.21 s\n"
     ]
    }
   ],
   "source": [
    "%%time\n",
    "\n",
    "num = int(input())\n",
    "flag = True\n",
    "\n",
    "for i in range(2, int(num ** 0.5) + 1):\n",
    "    if num % i == 0:\n",
    "        flag = False\n",
    "\n",
    "if num > 1 and flag == True:\n",
    "    print('prime')\n",
    "else:\n",
    "    print('not prime')"
   ]
  },
  {
   "cell_type": "code",
   "execution_count": 8,
   "id": "75e5a75f-dd28-40da-a230-a9eff4c99b7f",
   "metadata": {},
   "outputs": [
    {
     "name": "stdin",
     "output_type": "stream",
     "text": [
      " 1234\n"
     ]
    },
    {
     "name": "stdout",
     "output_type": "stream",
     "text": [
      "123 4\n",
      "12 3\n",
      "1 2\n",
      "0 1\n",
      "3\n"
     ]
    }
   ],
   "source": [
    "n = int(input())\n",
    "max_digit = -1\n",
    "while n > 0:\n",
    "    digit = n % 10\n",
    "    if digit % 3 == 0:\n",
    "        if digit > max_digit:\n",
    "            max_digit = digit\n",
    "    n = n // 10\n",
    "    print(n, digit)\n",
    "if max_digit == -1:\n",
    "    print('NO')\n",
    "else:\n",
    "    print(max_digit)"
   ]
  },
  {
   "cell_type": "code",
   "execution_count": null,
   "id": "6545565c-25f6-4197-bb44-136cf39e1a3b",
   "metadata": {},
   "outputs": [],
   "source": [
    "4 + 5 + 6 + 5 + 6 + 7 + 6 + "
   ]
  },
  {
   "cell_type": "code",
   "execution_count": 15,
   "id": "3ac6acb7-640b-4189-8b00-59dfa9c3c41e",
   "metadata": {},
   "outputs": [
    {
     "name": "stdin",
     "output_type": "stream",
     "text": [
      " 3\n"
     ]
    },
    {
     "data": {
      "text/plain": [
       "2"
      ]
     },
     "execution_count": 15,
     "metadata": {},
     "output_type": "execute_result"
    }
   ],
   "source": [
    "n = int(input())\n",
    "n//2 + 1\n"
   ]
  },
  {
   "cell_type": "code",
   "execution_count": 18,
   "id": "9890551d-62f6-42e0-aa0f-c2d3d5626d98",
   "metadata": {},
   "outputs": [
    {
     "name": "stdout",
     "output_type": "stream",
     "text": [
      "1 4 7\n",
      "2 1 9\n"
     ]
    }
   ],
   "source": [
    "n = (365 - 30 - 31)//28\n",
    "k = (365 - 28 - 31)//30\n",
    "m = (365 - 28 - 30)//31\n",
    "for i in range(1, n + 1):\n",
    "    for j in range(1, k + 1):\n",
    "        for jj in range(1, m + 1):\n",
    "            if 28 * i + 30 * j + 31 * jj == 365:\n",
    "                print(i, j, jj)"
   ]
  },
  {
   "cell_type": "code",
   "execution_count": 23,
   "id": "03891603-464e-4391-8ad4-57002244d296",
   "metadata": {},
   "outputs": [
    {
     "name": "stdout",
     "output_type": "stream",
     "text": [
      " 1 1 170 172 \n",
      " 1 2 160 163 \n",
      " 1 3 150 154 \n",
      " 1 4 140 145 \n",
      " 1 5 130 136 \n",
      " 1 6 120 127 \n",
      " 1 7 110 118 \n",
      " 1 8 100 109 \n",
      "****** 1 9 90 100 ******\n",
      " 1 10 80 91 \n",
      " 1 11 70 82 \n",
      " 1 12 60 73 \n",
      " 1 13 50 64 \n",
      " 1 14 40 55 \n",
      " 1 15 30 46 \n",
      " 1 16 20 37 \n",
      " 1 17 10 28 \n",
      " 2 1 150 153 \n",
      " 2 2 140 144 \n",
      " 2 3 130 135 \n",
      " 2 4 120 126 \n",
      " 2 5 110 117 \n",
      " 2 6 100 108 \n",
      " 2 7 90 99 \n",
      " 2 8 80 90 \n",
      " 2 9 70 81 \n",
      " 2 10 60 72 \n",
      " 2 11 50 63 \n",
      " 2 12 40 54 \n",
      " 2 13 30 45 \n",
      " 2 14 20 36 \n",
      " 2 15 10 27 \n",
      " 3 1 130 134 \n",
      " 3 2 120 125 \n",
      " 3 3 110 116 \n",
      " 3 4 100 107 \n",
      " 3 5 90 98 \n",
      " 3 6 80 89 \n",
      " 3 7 70 80 \n",
      " 3 8 60 71 \n",
      " 3 9 50 62 \n",
      " 3 10 40 53 \n",
      " 3 11 30 44 \n",
      " 3 12 20 35 \n",
      " 3 13 10 26 \n",
      " 4 1 110 115 \n",
      " 4 2 100 106 \n",
      " 4 3 90 97 \n",
      " 4 4 80 88 \n",
      " 4 5 70 79 \n",
      " 4 6 60 70 \n",
      " 4 7 50 61 \n",
      " 4 8 40 52 \n",
      " 4 9 30 43 \n",
      " 4 10 20 34 \n",
      " 4 11 10 25 \n",
      " 5 1 90 96 \n",
      " 5 2 80 87 \n",
      " 5 3 70 78 \n",
      " 5 4 60 69 \n",
      " 5 5 50 60 \n",
      " 5 6 40 51 \n",
      " 5 7 30 42 \n",
      " 5 8 20 33 \n",
      " 5 9 10 24 \n",
      " 6 1 70 77 \n",
      " 6 2 60 68 \n",
      " 6 3 50 59 \n",
      " 6 4 40 50 \n",
      " 6 5 30 41 \n",
      " 6 6 20 32 \n",
      " 6 7 10 23 \n",
      " 7 1 50 58 \n",
      " 7 2 40 49 \n",
      " 7 3 30 40 \n",
      " 7 4 20 31 \n",
      " 7 5 10 22 \n",
      " 8 1 30 39 \n",
      " 8 2 20 30 \n",
      " 8 3 10 21 \n",
      " 9 1 10 20 \n"
     ]
    }
   ],
   "source": [
    "# 10 * b + 5 * c + 0.5 * t = 100\n",
    "b = int((100 - 5 - 0.5) // 10)\n",
    "c = int((100 - 10 - 0.5) // 5)\n",
    "t = int((100 - 10 - 5) // 0.5)\n",
    "for i0 in range(1, b + 1):\n",
    "    for i1 in range(1, c + 1):\n",
    "        for i2 in range(1, t + 1):\n",
    "            if 10 * i0 + 5 * i1 + 0.5 * i2 == 100:\n",
    "                sm = sum((i0, i1, i2))\n",
    "                ee = ''\n",
    "                if sm == 100:\n",
    "                    ee = '******'\n",
    "                print(ee, i0, i1, i2, sm, ee)"
   ]
  },
  {
   "cell_type": "code",
   "execution_count": 7,
   "id": "4179d831-c56a-482a-8859-4f378422da83",
   "metadata": {},
   "outputs": [
    {
     "name": "stdout",
     "output_type": "stream",
     "text": [
      "1\n",
      "32\n",
      "243\n",
      "1024\n",
      "3125\n",
      "7776\n",
      "16807\n",
      "32768\n",
      "59049\n",
      "100000\n",
      "161051\n",
      "248832\n",
      "371293\n",
      "537824\n",
      "759375\n",
      "1048576\n",
      "1419857\n",
      "1889568\n",
      "2476099\n",
      "3200000\n",
      "4084101\n",
      "5153632\n",
      "6436343\n",
      "7962624\n",
      "9765625\n",
      "11881376\n",
      "14348907 4182119424 16105100000 41615795893 61917364224\n",
      "14348907 4182119424 41615795893 16105100000 61917364224\n",
      "14348907 16105100000 4182119424 41615795893 61917364224\n",
      "14348907 16105100000 41615795893 4182119424 61917364224\n",
      "14348907 41615795893 4182119424 16105100000 61917364224\n",
      "14348907 41615795893 16105100000 4182119424 61917364224\n",
      "14348907\n"
     ]
    },
    {
     "ename": "KeyboardInterrupt",
     "evalue": "",
     "output_type": "error",
     "traceback": [
      "\u001b[0;31m---------------------------------------------------------------------------\u001b[0m",
      "\u001b[0;31mKeyboardInterrupt\u001b[0m                         Traceback (most recent call last)",
      "File \u001b[0;32m<timed exec>:7\u001b[0m\n",
      "\u001b[0;31mKeyboardInterrupt\u001b[0m: "
     ]
    }
   ],
   "source": [
    "%%time\n",
    "l = [x**5 for x in range(1, 151)]\n",
    "for a in l:\n",
    "    for b in l:\n",
    "        for c in l:\n",
    "            for d in l:\n",
    "                for e in l:\n",
    "                    if a + b + c + d == e:\n",
    "                        print(a, b, c, d, e)\n",
    "                        break\n",
    "    print(a)\n",
    "                    "
   ]
  },
  {
   "cell_type": "code",
   "execution_count": 25,
   "id": "c12999f9-3272-4757-a103-1080c8c2635c",
   "metadata": {},
   "outputs": [
    {
     "name": "stdout",
     "output_type": "stream",
     "text": [
      "CPU times: user 40 µs, sys: 1 µs, total: 41 µs\n",
      "Wall time: 48.2 µs\n"
     ]
    },
    {
     "data": {
      "text/plain": [
       "75937500000"
      ]
     },
     "execution_count": 25,
     "metadata": {},
     "output_type": "execute_result"
    }
   ],
   "source": []
  },
  {
   "cell_type": "code",
   "execution_count": 6,
   "id": "113e6ca3-a098-4cfc-b00d-12c71d307200",
   "metadata": {},
   "outputs": [
    {
     "name": "stdout",
     "output_type": "stream",
     "text": [
      "9\n",
      "CPU times: user 21.9 ms, sys: 5.44 ms, total: 27.3 ms\n",
      "Wall time: 21.1 ms\n"
     ]
    }
   ],
   "source": [
    "%%time\n",
    "from IPython.display import clear_output\n",
    "l = [x**5 for x in range(1, 151)]\n",
    "for i in range(10):\n",
    "    clear_output()\n",
    "    print(i)"
   ]
  },
  {
   "cell_type": "code",
   "execution_count": 6,
   "id": "ec8ea8a9-9b73-4001-80ec-470a9705f236",
   "metadata": {},
   "outputs": [
    {
     "name": "stdout",
     "output_type": "stream",
     "text": [
      "[27.000000000000004, 84.00000000000001, 110.00000000000003, 133.00000000000003, 144.00000000000003]\n"
     ]
    },
    {
     "data": {
      "text/plain": [
       "498.0000000000001"
      ]
     },
     "execution_count": 6,
     "metadata": {},
     "output_type": "execute_result"
    }
   ],
   "source": [
    "ll = [14348907, 4182119424, 16105100000, 41615795893, 61917364224]\n",
    "ll\n",
    "ll0 = [x**(1/5) for x in ll]\n",
    "print(ll0)\n",
    "sum(ll0)"
   ]
  },
  {
   "cell_type": "code",
   "execution_count": 7,
   "id": "4f5d4baa-8894-4ee3-a334-2453c6cf1477",
   "metadata": {},
   "outputs": [
    {
     "name": "stdin",
     "output_type": "stream",
     "text": [
      " 3\n"
     ]
    },
    {
     "name": "stdout",
     "output_type": "stream",
     "text": [
      "1 \n",
      "2 3 \n"
     ]
    }
   ],
   "source": [
    "# put your python code here\n",
    "n = int(input())\n",
    "begin = 0\n",
    "end = 1\n",
    "count = 1\n",
    "while count < n + 1:\n",
    "    while begin < end:\n",
    "        print(count, end=' ')\n",
    "        count += 1\n",
    "        begin += 1\n",
    "    print()\n",
    "    begin = 0\n",
    "    end += 1\n",
    "    "
   ]
  },
  {
   "cell_type": "code",
   "execution_count": 16,
   "id": "9617cc08-d8d2-4ed9-9d9f-49b377118002",
   "metadata": {},
   "outputs": [
    {
     "name": "stdin",
     "output_type": "stream",
     "text": [
      " 8\n"
     ]
    },
    {
     "name": "stdout",
     "output_type": "stream",
     "text": [
      "1 \n",
      "2 3 \n",
      "4 5 6 \n",
      "7 8 9 10 \n",
      "11 12 13 14 15 \n",
      "16 17 18 19 20 21 \n",
      "22 23 24 25 26 27 28 \n",
      "29 30 31 32 33 34 35 36 \n"
     ]
    }
   ],
   "source": [
    "n = int(input())\n",
    "count = 1\n",
    "for i in range(1, n + 1):\n",
    "    for j in range(i):\n",
    "        print(count, end=' ')\n",
    "        count += 1\n",
    "    print()"
   ]
  },
  {
   "cell_type": "code",
   "execution_count": 23,
   "id": "ae637277-a783-49c0-9125-a2a61bab4977",
   "metadata": {},
   "outputs": [
    {
     "name": "stdin",
     "output_type": "stream",
     "text": [
      " 3\n"
     ]
    },
    {
     "name": "stdout",
     "output_type": "stream",
     "text": [
      "1\n",
      "121\n",
      "12321\n"
     ]
    }
   ],
   "source": [
    "n = int(input())\n",
    "for i in range(1, n + 1):\n",
    "    for j in range(1, i + 1):\n",
    "        print(j, end='')\n",
    "        \n",
    "    for j in range(i-1, 0, -1):\n",
    "        print(j, end='')\n",
    "    print()"
   ]
  },
  {
   "cell_type": "code",
   "execution_count": 2,
   "id": "4c799f22-b33b-4d70-b1bd-fccdccdc2241",
   "metadata": {},
   "outputs": [
    {
     "name": "stdin",
     "output_type": "stream",
     "text": [
      " 192\n"
     ]
    },
    {
     "name": "stdout",
     "output_type": "stream",
     "text": [
      "3\n"
     ]
    }
   ],
   "source": [
    "n = int(input())\n",
    "d_root = 0\n",
    "\n",
    "while True:\n",
    "    while n > 0:\n",
    "        d_root += n%10\n",
    "        n //= 10\n",
    "        \n",
    "    if d_root//10 == 0:\n",
    "        break\n",
    "    else:\n",
    "        n = d_root\n",
    "        d_root = 0\n",
    "\n",
    "print(d_root)"
   ]
  },
  {
   "cell_type": "code",
   "execution_count": 5,
   "id": "4895ecbc-9f4d-462e-b2b2-5b25bc3f4f2e",
   "metadata": {},
   "outputs": [
    {
     "name": "stdin",
     "output_type": "stream",
     "text": [
      " 2\n"
     ]
    },
    {
     "name": "stdout",
     "output_type": "stream",
     "text": [
      "3\n"
     ]
    }
   ],
   "source": [
    "n = int(input())\n",
    "f_sum = 0\n",
    "\n",
    "for i in range(1, n+1):\n",
    "    fact = 1\n",
    "    for j in range(1, i+1):\n",
    "        fact *= j\n",
    "    f_sum += fact\n",
    "\n",
    "print(f_sum)"
   ]
  },
  {
   "cell_type": "code",
   "execution_count": 36,
   "id": "288813f2-b551-419a-833e-98843d3ff43e",
   "metadata": {},
   "outputs": [
    {
     "data": {
      "text/plain": [
       "0"
      ]
     },
     "execution_count": 36,
     "metadata": {},
     "output_type": "execute_result"
    }
   ],
   "source": [
    "5//10"
   ]
  },
  {
   "cell_type": "code",
   "execution_count": 13,
   "id": "fdc2c5de-c037-40e9-8de6-78771f59292b",
   "metadata": {},
   "outputs": [
    {
     "name": "stdin",
     "output_type": "stream",
     "text": [
      " 1\n",
      " 15\n"
     ]
    },
    {
     "name": "stdout",
     "output_type": "stream",
     "text": [
      "2\n",
      "3\n",
      "5\n",
      "7\n",
      "11\n",
      "13\n"
     ]
    }
   ],
   "source": [
    "a, b = int(input()), int(input())\n",
    "for i in range(a, b + 1):\n",
    "    is_prime = True\n",
    "    if i == 1:\n",
    "        is_prime = False\n",
    "        continue\n",
    "    for j in range(2, i):\n",
    "        if i % j == 0 or i == 1:\n",
    "            is_prime = False\n",
    "            break\n",
    "    if is_prime:\n",
    "        print(i)"
   ]
  },
  {
   "cell_type": "code",
   "execution_count": 14,
   "id": "29941dc8-6806-4b28-8fb6-f229b97a2b2e",
   "metadata": {},
   "outputs": [
    {
     "name": "stdin",
     "output_type": "stream",
     "text": [
      " 1\n",
      " 15\n"
     ]
    },
    {
     "name": "stdout",
     "output_type": "stream",
     "text": [
      "2\n",
      "3\n",
      "5\n",
      "7\n",
      "11\n",
      "13\n"
     ]
    }
   ],
   "source": [
    "a, b = int(input()), int(input())\n",
    "\n",
    "for cur_num in range(a, b + 1):\n",
    "    if cur_num == 1:\n",
    "        continue\n",
    "        \n",
    "    for i in range(2, int(cur_num ** 0.5 + 1)):\n",
    "        if cur_num % i == 0:\n",
    "            break\n",
    "    else:\n",
    "        print(cur_num)"
   ]
  },
  {
   "cell_type": "code",
   "execution_count": 24,
   "id": "d7f64295-14e8-4d38-8810-e668d2109be7",
   "metadata": {},
   "outputs": [
    {
     "name": "stdin",
     "output_type": "stream",
     "text": [
      " 49\n",
      " 56\n"
     ]
    },
    {
     "name": "stdout",
     "output_type": "stream",
     "text": [
      "56 120\n"
     ]
    }
   ],
   "source": [
    "a, b = int(input()), int(input())\n",
    "\n",
    "div_s = 0\n",
    "div_s_max = 0\n",
    "d = 0\n",
    "for i in range(a, b + 1):\n",
    "    div_s = 0\n",
    "    for j in range(1, i + 1):\n",
    "        if i % j == 0:\n",
    "            div_s += j\n",
    "    if div_s >= div_s_max:\n",
    "        div_s_max = div_s\n",
    "        d = i\n",
    "            \n",
    "print(d, div_s_max)"
   ]
  },
  {
   "cell_type": "code",
   "execution_count": 26,
   "id": "9227c102-6c41-4ea2-a472-01a3c5f01491",
   "metadata": {},
   "outputs": [
    {
     "name": "stdin",
     "output_type": "stream",
     "text": [
      " 12\n"
     ]
    },
    {
     "name": "stdout",
     "output_type": "stream",
     "text": [
      "1+\n",
      "2++\n",
      "3++\n",
      "4+++\n",
      "5++\n",
      "6++++\n",
      "7++\n",
      "8++++\n",
      "9+++\n",
      "10++++\n",
      "11++\n",
      "12++++++\n"
     ]
    }
   ],
   "source": [
    "n = int(input())\n",
    "\n",
    "for i in range(1, n + 1):\n",
    "    div_count = 0\n",
    "    \n",
    "    for j in range(1, i + 1):\n",
    "        if i % j == 0:\n",
    "            div_count += 1\n",
    "            \n",
    "    print(i,'+' * div_count, sep='')\n",
    "\n"
   ]
  },
  {
   "cell_type": "code",
   "execution_count": 27,
   "id": "3ada4689-85b4-4817-be37-862abb80ef00",
   "metadata": {},
   "outputs": [
    {
     "data": {
      "text/plain": [
       "2005"
      ]
     },
     "execution_count": 27,
     "metadata": {},
     "output_type": "execute_result"
    }
   ],
   "source": [
    "2023 - 18"
   ]
  },
  {
   "cell_type": "code",
   "execution_count": 28,
   "id": "bab500c5-2241-469a-865b-09c19a46229f",
   "metadata": {},
   "outputs": [
    {
     "name": "stdout",
     "output_type": "stream",
     "text": [
      "<class '_frozen_importlib.BuiltinImporter'>\n",
      "<class 'bool'>\n",
      "<class 'memoryview'>\n",
      "<class 'bytearray'>\n",
      "<class 'bytes'>\n",
      "<class 'classmethod'>\n",
      "<class 'complex'>\n",
      "<class 'dict'>\n",
      "<class 'enumerate'>\n",
      "<class 'filter'>\n",
      "<class 'float'>\n",
      "<class 'frozenset'>\n",
      "<class 'property'>\n",
      "<class 'int'>\n",
      "<class 'list'>\n",
      "<class 'map'>\n",
      "<class 'object'>\n",
      "<class 'range'>\n",
      "<class 'reversed'>\n",
      "<class 'set'>\n",
      "<class 'slice'>\n",
      "<class 'staticmethod'>\n",
      "<class 'str'>\n",
      "<class 'super'>\n",
      "<class 'tuple'>\n",
      "<class 'type'>\n",
      "<class 'zip'>\n",
      "<class 'BaseException'>\n",
      "<class 'Exception'>\n",
      "<class 'TypeError'>\n",
      "<class 'StopAsyncIteration'>\n",
      "<class 'StopIteration'>\n",
      "<class 'GeneratorExit'>\n",
      "<class 'SystemExit'>\n",
      "<class 'KeyboardInterrupt'>\n",
      "<class 'ImportError'>\n",
      "<class 'ModuleNotFoundError'>\n",
      "<class 'OSError'>\n",
      "<class 'OSError'>\n",
      "<class 'OSError'>\n",
      "<class 'EOFError'>\n",
      "<class 'RuntimeError'>\n",
      "<class 'RecursionError'>\n",
      "<class 'NotImplementedError'>\n",
      "<class 'NameError'>\n",
      "<class 'UnboundLocalError'>\n",
      "<class 'AttributeError'>\n",
      "<class 'SyntaxError'>\n",
      "<class 'IndentationError'>\n",
      "<class 'TabError'>\n",
      "<class 'LookupError'>\n",
      "<class 'IndexError'>\n",
      "<class 'KeyError'>\n",
      "<class 'ValueError'>\n",
      "<class 'UnicodeError'>\n",
      "<class 'UnicodeEncodeError'>\n",
      "<class 'UnicodeDecodeError'>\n",
      "<class 'UnicodeTranslateError'>\n",
      "<class 'AssertionError'>\n",
      "<class 'ArithmeticError'>\n",
      "<class 'FloatingPointError'>\n",
      "<class 'OverflowError'>\n",
      "<class 'ZeroDivisionError'>\n",
      "<class 'SystemError'>\n",
      "<class 'ReferenceError'>\n",
      "<class 'MemoryError'>\n",
      "<class 'BufferError'>\n",
      "<class 'Warning'>\n",
      "<class 'UserWarning'>\n",
      "<class 'EncodingWarning'>\n",
      "<class 'DeprecationWarning'>\n",
      "<class 'PendingDeprecationWarning'>\n",
      "<class 'SyntaxWarning'>\n",
      "<class 'RuntimeWarning'>\n",
      "<class 'FutureWarning'>\n",
      "<class 'ImportWarning'>\n",
      "<class 'UnicodeWarning'>\n",
      "<class 'BytesWarning'>\n",
      "<class 'ResourceWarning'>\n",
      "<class 'ConnectionError'>\n",
      "<class 'BlockingIOError'>\n",
      "<class 'BrokenPipeError'>\n",
      "<class 'ChildProcessError'>\n",
      "<class 'ConnectionAbortedError'>\n",
      "<class 'ConnectionRefusedError'>\n",
      "<class 'ConnectionResetError'>\n",
      "<class 'FileExistsError'>\n",
      "<class 'FileNotFoundError'>\n",
      "<class 'IsADirectoryError'>\n",
      "<class 'NotADirectoryError'>\n",
      "<class 'InterruptedError'>\n",
      "<class 'PermissionError'>\n",
      "<class 'ProcessLookupError'>\n",
      "<class 'TimeoutError'>\n"
     ]
    }
   ],
   "source": [
    "import builtins as b\n",
    "print(*[x for x in b.__dict__.values() if isinstance(x, type)], sep=\"\\n\")"
   ]
  },
  {
   "cell_type": "code",
   "execution_count": 33,
   "id": "54df64f3-f155-4739-8df7-db453e84b93f",
   "metadata": {},
   "outputs": [
    {
     "name": "stdout",
     "output_type": "stream",
     "text": [
      "140650105274576\n",
      "140650105274608\n",
      "140650105274640\n",
      "140650105274672\n",
      "140650105274704\n",
      "140650105274736\n",
      "140650105274768\n",
      "140650105274800\n",
      "140650105274832\n",
      "140650105274864\n"
     ]
    }
   ],
   "source": [
    "a = 12\n",
    "for i in range (10):\n",
    "    a = i\n",
    "    print(id(a))"
   ]
  },
  {
   "cell_type": "code",
   "execution_count": 34,
   "id": "0e884405-d9f5-4fce-9fa1-4556def7f61d",
   "metadata": {},
   "outputs": [
    {
     "ename": "TypeError",
     "evalue": "'tuple' object does not support item assignment",
     "output_type": "error",
     "traceback": [
      "\u001b[0;31m---------------------------------------------------------------------------\u001b[0m",
      "\u001b[0;31mTypeError\u001b[0m                                 Traceback (most recent call last)",
      "Cell \u001b[0;32mIn[34], line 3\u001b[0m\n\u001b[1;32m      1\u001b[0m a \u001b[38;5;241m=\u001b[39m (\u001b[38;5;241m1\u001b[39m, \u001b[38;5;241m1\u001b[39m)\n\u001b[1;32m      2\u001b[0m \u001b[38;5;28;01mfor\u001b[39;00m i \u001b[38;5;129;01min\u001b[39;00m \u001b[38;5;28mrange\u001b[39m(\u001b[38;5;241m10\u001b[39m):\n\u001b[0;32m----> 3\u001b[0m     \u001b[43ma\u001b[49m\u001b[43m[\u001b[49m\u001b[38;5;241;43m1\u001b[39;49m\u001b[43m]\u001b[49m \u001b[38;5;241m=\u001b[39m i\n\u001b[1;32m      4\u001b[0m     \u001b[38;5;28mprint\u001b[39m(a)\n",
      "\u001b[0;31mTypeError\u001b[0m: 'tuple' object does not support item assignment"
     ]
    }
   ],
   "source": [
    "a = (1, 1)\n",
    "for i in range(10):\n",
    "    a[1] = i\n",
    "    print(a)"
   ]
  },
  {
   "cell_type": "code",
   "execution_count": 40,
   "id": "6e1bca71-793f-45be-a712-7405a71f0e2a",
   "metadata": {},
   "outputs": [
    {
     "name": "stdout",
     "output_type": "stream",
     "text": [
      "(12+14j)\n"
     ]
    }
   ],
   "source": [
    "a = 12 + 6j\n",
    "b =  + 8j\n",
    "print(a + b)"
   ]
  },
  {
   "cell_type": "code",
   "execution_count": 51,
   "id": "f7be87eb-a180-4353-b151-be23894c9ed2",
   "metadata": {},
   "outputs": [
    {
     "data": {
      "text/plain": [
       "-2"
      ]
     },
     "execution_count": 51,
     "metadata": {},
     "output_type": "execute_result"
    }
   ],
   "source": [
    "-5 % 3\n",
    "-5 // 3"
   ]
  },
  {
   "cell_type": "code",
   "execution_count": 52,
   "id": "1d37eb74-b0c1-4d6c-b776-8c942433cdf1",
   "metadata": {},
   "outputs": [
    {
     "name": "stdout",
     "output_type": "stream",
     "text": [
      "YES!\n"
     ]
    }
   ],
   "source": [
    "l = 'ru'\n",
    "\n",
    "match l:\n",
    "    case 'ru':\n",
    "        print('YES!')\n",
    "    case 'kk':\n",
    "        print('NO')\n",
    "    case _:\n",
    "        pass"
   ]
  },
  {
   "cell_type": "code",
   "execution_count": 56,
   "id": "caf15b2c-6ee9-4f30-81c8-984401ac8a13",
   "metadata": {},
   "outputs": [
    {
     "name": "stdout",
     "output_type": "stream",
     "text": [
      "H,He\n",
      "Hel,Hell\n",
      "Hello,"
     ]
    }
   ],
   "source": [
    "string = \"Hello!\"\n",
    "for i in range(1, len(string)):\n",
    "    if i % 2 == 0:\n",
    "        print(string[0:i])\n",
    "    else:\n",
    "        print(string[0:i], end=\",\")"
   ]
  },
  {
   "cell_type": "code",
   "execution_count": 61,
   "id": "be3a388e-441b-4ec4-b980-db149ca5d61e",
   "metadata": {},
   "outputs": [
    {
     "ename": "SyntaxError",
     "evalue": "invalid syntax (293014239.py, line 2)",
     "output_type": "error",
     "traceback": [
      "\u001b[0;36m  Cell \u001b[0;32mIn[61], line 2\u001b[0;36m\u001b[0m\n\u001b[0;31m    lambda x = x: x*10 for x in range(1, 11)\u001b[0m\n\u001b[0m                       ^\u001b[0m\n\u001b[0;31mSyntaxError\u001b[0m\u001b[0;31m:\u001b[0m invalid syntax\n"
     ]
    }
   ],
   "source": [
    "lambda x, y: x + y\n",
    "lambda x = x: x*10 for x in range(1, 11)"
   ]
  },
  {
   "cell_type": "code",
   "execution_count": 64,
   "id": "0a1c9439-e3e0-417a-8327-142b9e412e4e",
   "metadata": {},
   "outputs": [
    {
     "name": "stdout",
     "output_type": "stream",
     "text": [
      "Time before calling 2023-11-21 08:39:13.401806\n",
      "Some text before calling function\n",
      "Your text is: Hello\n",
      "Result is:  2\n",
      "Some text after calling function\n",
      "Time after calling 2023-11-21 08:39:13.401944\n",
      "0:00:00.000138\n"
     ]
    }
   ],
   "source": [
    "from datetime import datetime\n",
    "\n",
    "def decorator_function(func_to_be_called):\n",
    "\n",
    "    def wrapper(*args, **kwargs):\n",
    "        print(\"Some text before calling function\")\n",
    "        a = func_to_be_called(*args, **kwargs)\n",
    "        print(\"Result is: \", a)\n",
    "        print(\"Some text after calling function\")\n",
    "\n",
    "    return wrapper\n",
    "\n",
    "def time_sum(func):\n",
    "\n",
    "    def gaunyapper(text):\n",
    "        d1 = datetime.now()\n",
    "        print(\"Time before calling\", d1)\n",
    "        func(text)\n",
    "        d2 = datetime.now()\n",
    "        print(\"Time after calling\", d2)\n",
    "        print(d2 - d1)\n",
    "\n",
    "    return gaunyapper\n",
    "\n",
    "@time_sum\n",
    "@decorator_function\n",
    "def print_function(text):\n",
    "    print(\"Your text is:\", text)\n",
    "    return 2\n",
    "\n",
    "print_function(\"Hello\")"
   ]
  },
  {
   "cell_type": "code",
   "execution_count": 78,
   "id": "03030d81-dedf-4acb-884c-852b8a2ab2ee",
   "metadata": {},
   "outputs": [
    {
     "name": "stdin",
     "output_type": "stream",
     "text": [
      " 1 -2\n"
     ]
    },
    {
     "name": "stdout",
     "output_type": "stream",
     "text": [
      "YES\n",
      "-1\n"
     ]
    }
   ],
   "source": [
    "def decorator(func):\n",
    "    def wrapper(a, b):\n",
    "        if a < 0 or b < 0:\n",
    "            print(\"YES\")\n",
    "        return func(a, b)\n",
    "\n",
    "    return wrapper\n",
    "    \n",
    "# Connect decorator please\n",
    "@decorator\n",
    "def main(a, b):\n",
    "    return a + b\n",
    "\n",
    "x, y = [int(x) for x in input().split()]\n",
    "print(main(x, y))"
   ]
  },
  {
   "cell_type": "code",
   "execution_count": 79,
   "id": "e5dd728f-1db2-44ac-ae5f-41eba9b63c43",
   "metadata": {},
   "outputs": [
    {
     "name": "stdout",
     "output_type": "stream",
     "text": [
      "[2, 3, 5, 7, 11, 13, 17, 19]\n"
     ]
    }
   ],
   "source": [
    "import math\n",
    "\n",
    "def is_prime(n):\n",
    "    if n < 2:\n",
    "        return False\n",
    "    for i in range(2, int(math.sqrt(n))+1):\n",
    "        if n % i == 0:\n",
    "            return False\n",
    "    return True\n",
    "\n",
    "primes = [i for i in range(1, 20) if is_prime(i)]\n",
    "print(primes)"
   ]
  },
  {
   "cell_type": "code",
   "execution_count": 107,
   "id": "bb084ab3-047a-4e7c-9b58-c9b33aba86de",
   "metadata": {},
   "outputs": [
    {
     "data": {
      "text/plain": [
       "True"
      ]
     },
     "execution_count": 107,
     "metadata": {},
     "output_type": "execute_result"
    }
   ],
   "source": [
    "str0 = list('hello')\n",
    "str1 = list('ho')\n",
    "flag = True\n",
    "for s in str1:\n",
    "    if s not in str0:\n",
    "        flag = False\n",
    "flag"
   ]
  },
  {
   "cell_type": "code",
   "execution_count": 108,
   "id": "0a4baad2-9804-4fbf-ac2a-fd5b21c2ec75",
   "metadata": {},
   "outputs": [
    {
     "name": "stdin",
     "output_type": "stream",
     "text": [
      " 1290402398327598217359102750819275\n"
     ]
    },
    {
     "name": "stdout",
     "output_type": "stream",
     "text": [
      "9\n"
     ]
    }
   ],
   "source": [
    "n = int(input())\n",
    "while n > 999:\n",
    "    n //= 10\n",
    "\n",
    "print(n%10)"
   ]
  },
  {
   "cell_type": "code",
   "execution_count": 112,
   "id": "027f01b2-fec5-474a-9801-9542270f646e",
   "metadata": {},
   "outputs": [
    {
     "name": "stdin",
     "output_type": "stream",
     "text": [
      " 56689932106\n"
     ]
    },
    {
     "name": "stdout",
     "output_type": "stream",
     "text": [
      "1\n",
      "3\n",
      "6\n",
      "44\n",
      "648\n",
      "2\n"
     ]
    }
   ],
   "source": [
    "n = int(input())\n",
    "\n",
    "count3 = 0\n",
    "count_last = 0\n",
    "count_even = 0\n",
    "count_more5 = 0\n",
    "prod_more7 = 1\n",
    "count0_5 = 0\n",
    "\n",
    "last_d = n % 10\n",
    "\n",
    "while n > 0:\n",
    "    d = n % 10\n",
    "    \n",
    "    if d == 3:\n",
    "        count3 += 1\n",
    "    if d == last_d:\n",
    "        count_last += 1\n",
    "    if d % 2 == 0:\n",
    "        count_even += 1\n",
    "    if d > 5:\n",
    "        count_more5 += d\n",
    "    if d > 7:\n",
    "        prod_more7 *= d\n",
    "    if d == 0 or d == 5:\n",
    "        count0_5 += 1\n",
    "\n",
    "    n //= 10\n",
    "\n",
    "print(count3)\n",
    "print(count_last)\n",
    "print(count_even)\n",
    "print(count_more5)\n",
    "print(prod_more7)\n",
    "print(count0_5)\n"
   ]
  },
  {
   "cell_type": "code",
   "execution_count": 151,
   "id": "b503b306-b17b-40d4-a1d4-6c385cd8cbf3",
   "metadata": {},
   "outputs": [
    {
     "name": "stdout",
     "output_type": "stream",
     "text": [
      "[1729, 4104, 13832, 20683, 32832, 39312, 40033, 46683, 64232]\n"
     ]
    }
   ],
   "source": [
    "res = []\n",
    "v = 40\n",
    "for a in range(v):\n",
    "    for b in range(v):\n",
    "        for c in range(v):\n",
    "            for d in range(v):\n",
    "                e = a**3 + b**3\n",
    "                f = c**3 + d**3\n",
    "                if e == f and a != b and len(set((a, b, c, d))) == 4:\n",
    "                    res.append(e)\n",
    "\n",
    "res.sort()\n",
    "print(sorted(set(res)))"
   ]
  },
  {
   "cell_type": "code",
   "execution_count": 123,
   "id": "e8dfd645-af37-4f5b-ae02-83da988e7b4a",
   "metadata": {},
   "outputs": [
    {
     "data": {
      "text/plain": [
       "True"
      ]
     },
     "execution_count": 123,
     "metadata": {},
     "output_type": "execute_result"
    }
   ],
   "source": [
    "1 not in (2,4)\n"
   ]
  },
  {
   "cell_type": "code",
   "execution_count": 150,
   "id": "bef00757-7ead-420e-a7ad-837917d206b0",
   "metadata": {},
   "outputs": [
    {
     "data": {
      "text/plain": [
       "[3, 6, 9]"
      ]
     },
     "execution_count": 150,
     "metadata": {},
     "output_type": "execute_result"
    }
   ],
   "source": [
    "sorted(set((6, 3, 9)))"
   ]
  },
  {
   "cell_type": "code",
   "execution_count": 155,
   "id": "66345091-baa3-41c9-961c-088ab53dfbec",
   "metadata": {},
   "outputs": [
    {
     "name": "stdin",
     "output_type": "stream",
     "text": [
      " 128\n"
     ]
    },
    {
     "name": "stdout",
     "output_type": "stream",
     "text": [
      "10000000\n"
     ]
    }
   ],
   "source": [
    "# put your python code here\n",
    "n = int(input())\n",
    "b = ''\n",
    "while n > 0:\n",
    "    b = str(n%2) + b\n",
    "    n //= 2\n",
    "\n",
    "print(b)\n",
    "\n",
    "\n"
   ]
  },
  {
   "cell_type": "code",
   "execution_count": 166,
   "id": "c13abbd2-d07a-44d3-96c0-bcb23cae4de2",
   "metadata": {},
   "outputs": [
    {
     "name": "stdin",
     "output_type": "stream",
     "text": [
      " 12345\n"
     ]
    },
    {
     "name": "stdout",
     "output_type": "stream",
     "text": [
      "45123\n"
     ]
    }
   ],
   "source": [
    "s = input()\n",
    "if len(s) % 2 == 0:\n",
    "    sc = len(s) // 2\n",
    "else:\n",
    "    sc = len(s) // 2 + 1\n",
    "s1 = s[:sc]\n",
    "s2 = s[sc:]\n",
    "print(s2 + s1)"
   ]
  },
  {
   "cell_type": "code",
   "execution_count": 167,
   "id": "515545f8-258a-4d43-9554-15b7a1eb96ee",
   "metadata": {},
   "outputs": [
    {
     "data": {
      "text/plain": [
       "2"
      ]
     },
     "execution_count": 167,
     "metadata": {},
     "output_type": "execute_result"
    }
   ],
   "source": [
    "5//2"
   ]
  },
  {
   "cell_type": "code",
   "execution_count": 170,
   "id": "cfbe2ec4-8f80-45cb-bf73-0018c7d00dd6",
   "metadata": {},
   "outputs": [
    {
     "name": "stdin",
     "output_type": "stream",
     "text": [
      " 12345\n"
     ]
    },
    {
     "name": "stdout",
     "output_type": "stream",
     "text": [
      "45123\n"
     ]
    }
   ],
   "source": [
    "s = input()\n",
    "n = len(s)\n",
    "\n",
    "a = s[:(n + 1) // 2]\n",
    "b = s[(n + 1) // 2:]\n",
    "\n",
    "print(b + a)"
   ]
  },
  {
   "cell_type": "code",
   "execution_count": 171,
   "id": "9050bd37-c29f-4a48-af42-800b9b0357ad",
   "metadata": {},
   "outputs": [
    {
     "data": {
      "text/plain": [
       "'Saf'"
      ]
     },
     "execution_count": 171,
     "metadata": {},
     "output_type": "execute_result"
    }
   ],
   "source": [
    "'saf'.title()\n"
   ]
  },
  {
   "cell_type": "code",
   "execution_count": 172,
   "id": "df6eb429-b954-47b5-97eb-5bfb893f1260",
   "metadata": {},
   "outputs": [
    {
     "data": {
      "text/plain": [
       "1"
      ]
     },
     "execution_count": 172,
     "metadata": {},
     "output_type": "execute_result"
    }
   ],
   "source": [
    "'111'.count('11')"
   ]
  },
  {
   "cell_type": "code",
   "execution_count": 174,
   "id": "33f7b06e-494a-4ada-a271-8c3c30257ba0",
   "metadata": {},
   "outputs": [
    {
     "name": "stdin",
     "output_type": "stream",
     "text": [
      " l;sjdfpreuio34509348590835\n"
     ]
    },
    {
     "name": "stdout",
     "output_type": "stream",
     "text": [
      "14\n"
     ]
    }
   ],
   "source": [
    "s = input()\n",
    "\n",
    "sm = 0\n",
    "\n",
    "for i in range(10):\n",
    "    sm += s.count(str(i))\n",
    "\n",
    "print(sm)"
   ]
  },
  {
   "cell_type": "code",
   "execution_count": null,
   "id": "b993ed71-facd-4878-8dd0-20269964b917",
   "metadata": {},
   "outputs": [],
   "source": [
    "s = input()\n",
    "\n",
    "first_input = -1\n",
    "last_input = -1\n",
    "\n",
    "while s > 0:\n",
    "    first_input = s.find('f')\n",
    "    if first_input == -1:\n",
    "        print('NO')\n",
    "        break\n",
    "    else:\n",
    "        s = s[first_input::-1]\n",
    "        s.find"
   ]
  },
  {
   "cell_type": "code",
   "execution_count": 183,
   "id": "bc43f5a0-013b-493e-b70f-b256482d4f5c",
   "metadata": {},
   "outputs": [
    {
     "name": "stdin",
     "output_type": "stream",
     "text": [
      " ;aslkjkl;jf\n"
     ]
    },
    {
     "name": "stdout",
     "output_type": "stream",
     "text": [
      "10\n"
     ]
    }
   ],
   "source": [
    "s = input()\n",
    "f_i = -1\n",
    "l_i = -1\n",
    "f_i = s.find('f')\n",
    "l_i = len(s) - 1 - s[::-1].find('f')\n",
    "\n",
    "if f_i == -1:\n",
    "    print('NO')\n",
    "elif f_i == l_i:\n",
    "    print(f_i)\n",
    "else:\n",
    "    print(f_i, l_i)\n",
    "\n"
   ]
  },
  {
   "cell_type": "code",
   "execution_count": 186,
   "id": "2e1ff760-6961-437e-877b-9d888598dfb3",
   "metadata": {},
   "outputs": [
    {
     "data": {
      "text/plain": [
       "3"
      ]
     },
     "execution_count": 186,
     "metadata": {},
     "output_type": "execute_result"
    }
   ],
   "source": [
    "'asdf'.rfind('f')\n",
    "'asdf'.find('f')"
   ]
  },
  {
   "cell_type": "code",
   "execution_count": 189,
   "id": "8f6a4718-db26-45f4-9cd6-8af707b1b89c",
   "metadata": {},
   "outputs": [
    {
     "name": "stdin",
     "output_type": "stream",
     "text": [
      " hh\n"
     ]
    },
    {
     "name": "stdout",
     "output_type": "stream",
     "text": [
      "\n"
     ]
    }
   ],
   "source": [
    "s = input()\n",
    "out = s[:s.find('h')] + s[s.rfind('h') + 1:]\n",
    "print(out)"
   ]
  },
  {
   "cell_type": "code",
   "execution_count": 190,
   "id": "7e40e7b8-c75f-435c-acff-11b345b7ba1c",
   "metadata": {},
   "outputs": [
    {
     "name": "stdout",
     "output_type": "stream",
     "text": [
      "In 2010, someone paid 10k Bitcoin for two pizzas\n"
     ]
    }
   ],
   "source": [
    "age = 2010\n",
    "price = '10k'\n",
    "d = 'Bitcoin'\n",
    "s = 'In {0}, someone paid {1} {2} for two pizzas'.format(age, price, d)\n",
    "\n",
    "print(s)"
   ]
  },
  {
   "cell_type": "code",
   "execution_count": 191,
   "id": "22577a4f-ff15-44e0-b1ab-42d53a996544",
   "metadata": {},
   "outputs": [
    {
     "ename": "SyntaxError",
     "evalue": "invalid syntax (1238514309.py, line 5)",
     "output_type": "error",
     "traceback": [
      "\u001b[0;36m  Cell \u001b[0;32mIn[191], line 5\u001b[0;36m\u001b[0m\n\u001b[0;31m    print(f.'In { year }, someone paid { amount } { currency } for two pizzas.')\u001b[0m\n\u001b[0m            ^\u001b[0m\n\u001b[0;31mSyntaxError\u001b[0m\u001b[0;31m:\u001b[0m invalid syntax\n"
     ]
    }
   ],
   "source": [
    "year = 2010\n",
    "amount = '10K'\n",
    "currency = 'Bitcoin'\n",
    "\n",
    "print(f'In { year }, someone paid { amount } { currency } for two pizzas.')"
   ]
  },
  {
   "cell_type": "code",
   "execution_count": 195,
   "id": "ee4f094c-9533-4c21-8061-195061a4377d",
   "metadata": {},
   "outputs": [
    {
     "data": {
      "text/plain": [
       "1072"
      ]
     },
     "execution_count": 195,
     "metadata": {},
     "output_type": "execute_result"
    }
   ],
   "source": [
    "ord('а')"
   ]
  },
  {
   "cell_type": "code",
   "execution_count": 201,
   "id": "936bd11f-c19e-4fd7-8a8a-c494888b5c54",
   "metadata": {},
   "outputs": [
    {
     "name": "stdin",
     "output_type": "stream",
     "text": [
      " 48\n",
      " 64\n"
     ]
    },
    {
     "name": "stdout",
     "output_type": "stream",
     "text": [
      "0 1 2 3 4 5 6 7 8 9 : ; < = > ? @ "
     ]
    }
   ],
   "source": [
    "a, b = int(input()), int(input())\n",
    "for i in range(a, b + 1):\n",
    "    print(chr(i), end=' ')"
   ]
  },
  {
   "cell_type": "code",
   "execution_count": 202,
   "id": "9ec430d8-872c-4022-bc72-44cc52a9cb50",
   "metadata": {},
   "outputs": [
    {
     "name": "stdin",
     "output_type": "stream",
     "text": [
      " Hello world!\n"
     ]
    },
    {
     "name": "stdout",
     "output_type": "stream",
     "text": [
      "72 101 108 108 111 32 119 111 114 108 100 33 "
     ]
    }
   ],
   "source": [
    "s = input()\n",
    "for c in s:\n",
    "    print(ord(c), end=' ')"
   ]
  },
  {
   "cell_type": "code",
   "execution_count": 209,
   "id": "8ab21ef9-ef68-4a3c-9403-b41a077fa2c9",
   "metadata": {},
   "outputs": [
    {
     "name": "stdin",
     "output_type": "stream",
     "text": [
      " 1\n",
      " vwbtwtfqpmvdijutbofqfsfhijwbzuf\n"
     ]
    },
    {
     "name": "stdout",
     "output_type": "stream",
     "text": [
      "uvasvsepoluchitsanepereghivayte"
     ]
    }
   ],
   "source": [
    "n0, s = int(input()), input()\n",
    "for i in range(len(s)):\n",
    "    n = ord(s[i]) - n0\n",
    "    if n < 97:\n",
    "        n = 122 - (96 - n)\n",
    "    print(chr(n), end='')"
   ]
  },
  {
   "cell_type": "code",
   "execution_count": 216,
   "id": "1055e437-d727-4bbe-9bdb-c5472ffe287d",
   "metadata": {},
   "outputs": [
    {
     "name": "stdin",
     "output_type": "stream",
     "text": [
      " fuflo\n"
     ]
    },
    {
     "name": "stdout",
     "output_type": "stream",
     "text": [
      "2\n"
     ]
    }
   ],
   "source": [
    "s = input()\n",
    "\n",
    "if s.count('f') == 1:\n",
    "    res = -1\n",
    "elif s.count('f') == 0:\n",
    "    res = -2\n",
    "else:\n",
    "    res = len(s[0:s.find('f') + 1]) + s[s.find('f') + 1:].find('f')\n",
    "\n",
    "print(res)"
   ]
  },
  {
   "cell_type": "code",
   "execution_count": 230,
   "id": "69511b5e-0ca3-40a9-9115-5ae1c2be6c35",
   "metadata": {},
   "outputs": [
    {
     "name": "stdout",
     "output_type": "stream",
     "text": [
      "abchh5432h\n"
     ]
    }
   ],
   "source": [
    "# s = input()\n",
    "s = 'abch12345h'\n",
    "\n",
    "f1 = s.find('h')\n",
    "f2 = s.rfind('h')\n",
    "\n",
    "sub0 = s[0:f1 + 1]\n",
    "sub1 = s[f2: f1 + 1: -1]\n",
    "sub2 = s[f2:]\n",
    "\n",
    "print(sub0, sub1, sub2, sep='')"
   ]
  },
  {
   "cell_type": "code",
   "execution_count": 234,
   "id": "73f85d48-e96e-435b-b81f-54cd235810ae",
   "metadata": {},
   "outputs": [
    {
     "name": "stdin",
     "output_type": "stream",
     "text": [
      " 10\n"
     ]
    },
    {
     "name": "stdout",
     "output_type": "stream",
     "text": [
      "['a', 'b', 'c', 'd', 'e', 'f', 'g', 'h', 'i', 'j']\n"
     ]
    }
   ],
   "source": [
    "# put your python code here\n",
    "n = int(input())\n",
    "al = list('abcdefghijklmnopqrstuvwxyz')\n",
    "\n",
    "print(al[0: n])\n"
   ]
  },
  {
   "cell_type": "code",
   "execution_count": 235,
   "id": "791109bd-bbde-46b8-b66f-cc4a66fa10dc",
   "metadata": {},
   "outputs": [
    {
     "name": "stdout",
     "output_type": "stream",
     "text": [
      "[1, 2, 3, 1, 2, 3, 1, 2, 3, 6, 6, 6, 6, 6, 6, 6, 6, 6, 7, 8, 9, 10, 11, 12, 13]\n"
     ]
    }
   ],
   "source": [
    "numbers1 = [1, 2, 3]\n",
    "numbers2 = [6]\n",
    "numbers3 = [7, 8, 9, 10, 11, 12, 13]\n",
    "n1 = numbers1 * 3\n",
    "n2 = numbers2 * 9\n",
    "\n",
    "print(n1 + n2 + numbers3)"
   ]
  },
  {
   "cell_type": "code",
   "execution_count": 246,
   "id": "145ae328-3d75-4ad6-a635-6c5c469296c0",
   "metadata": {},
   "outputs": [
    {
     "data": {
      "text/plain": [
       "[]"
      ]
     },
     "execution_count": 246,
     "metadata": {},
     "output_type": "execute_result"
    }
   ],
   "source": [
    "# numbers1.remove(0)\n",
    "del numbers1[-1]\n",
    "numbers1"
   ]
  },
  {
   "cell_type": "code",
   "execution_count": 247,
   "id": "44b38513-b7fd-4b89-899c-93960f321744",
   "metadata": {},
   "outputs": [
    {
     "name": "stdout",
     "output_type": "stream",
     "text": [
      "['red', 'orange', 'green', 'blue', 'purple', 'brown', 'magenta']\n",
      "['red', 'orange', 'green', 'blue', 'purple', 'brown']\n"
     ]
    }
   ],
   "source": [
    "colors = ['red', 'orange', 'yellow', 'green', 'blue', 'purple', 'brown', 'magenta']\n",
    "del colors[2]\n",
    "print(colors)\n",
    "del colors[6]\n",
    "print(colors)"
   ]
  },
  {
   "cell_type": "code",
   "execution_count": 251,
   "id": "afb72e08-b4a3-435b-a28c-60e97bc4e356",
   "metadata": {},
   "outputs": [
    {
     "name": "stdout",
     "output_type": "stream",
     "text": [
      "['a', 'bb', 'ccc', 'dddd', 'eeeee', 'ffffff', 'ggggggg', 'hhhhhhhh', 'iiiiiiiii', 'jjjjjjjjjj', 'kkkkkkkkkkk', 'llllllllllll', 'mmmmmmmmmmmmm', 'nnnnnnnnnnnnnn', 'ooooooooooooooo', 'pppppppppppppppp', 'qqqqqqqqqqqqqqqqq', 'rrrrrrrrrrrrrrrrrr', 'sssssssssssssssssss', 'tttttttttttttttttttt', 'uuuuuuuuuuuuuuuuuuuuu', 'vvvvvvvvvvvvvvvvvvvvvv', 'wwwwwwwwwwwwwwwwwwwwwww', 'xxxxxxxxxxxxxxxxxxxxxxxx', 'yyyyyyyyyyyyyyyyyyyyyyyyy', 'zzzzzzzzzzzzzzzzzzzzzzzzzz']\n"
     ]
    }
   ],
   "source": [
    "# put your python code here\n",
    "\n",
    "al = list(' abcdefghijklmnopqrstuvwxyz')\n",
    "l_out = []\n",
    "\n",
    "for i in range(1, len(al)):\n",
    "    l_out.append(al[i] * i)\n",
    "    \n",
    "print(l_out)"
   ]
  },
  {
   "cell_type": "code",
   "execution_count": 2,
   "id": "c776a21e-9813-4eb4-bf23-e1ad5d3457fe",
   "metadata": {},
   "outputs": [
    {
     "name": "stdin",
     "output_type": "stream",
     "text": [
      " 5\n",
      " 1\n",
      " 2\n",
      " 3\n",
      " 4\n",
      " 5\n"
     ]
    },
    {
     "name": "stdout",
     "output_type": "stream",
     "text": [
      "[1, 8, 27, 64, 125]\n"
     ]
    }
   ],
   "source": [
    "n = int(input())\n",
    "\n",
    "l_out = []\n",
    "for i in range(n):\n",
    "    l_out.append(int(input()) ** 3)\n",
    "\n",
    "print(l_out)"
   ]
  },
  {
   "cell_type": "code",
   "execution_count": 4,
   "id": "6755e23c-bc2d-4c7c-82b7-6cba69aef7bb",
   "metadata": {},
   "outputs": [
    {
     "name": "stdin",
     "output_type": "stream",
     "text": [
      " 17\n"
     ]
    },
    {
     "name": "stdout",
     "output_type": "stream",
     "text": [
      "[1, 17]\n"
     ]
    }
   ],
   "source": [
    "n = int(input())\n",
    "l_out = []\n",
    "\n",
    "for i in range(1, n // 2 + 1):\n",
    "    if n % i == 0:\n",
    "        l_out.append(i)\n",
    "\n",
    "l_out.append(n)\n",
    "print(l_out)"
   ]
  },
  {
   "cell_type": "code",
   "execution_count": 3,
   "id": "20fa316a-9d96-4996-8ff5-6d01feaa9d2f",
   "metadata": {},
   "outputs": [
    {
     "name": "stdin",
     "output_type": "stream",
     "text": [
      " 2\n",
      " 10\n",
      " 9\n"
     ]
    },
    {
     "name": "stdout",
     "output_type": "stream",
     "text": [
      "[19]\n"
     ]
    }
   ],
   "source": [
    "n = int(input())\n",
    "l_in = [int(input())]\n",
    "l_out = []\n",
    "\n",
    "for i in range(1, n):\n",
    "    l_in.append(int(input()))\n",
    "    l_out.append(l_in[i-1] + l_in[i])\n",
    "\n",
    "print(l_out)"
   ]
  },
  {
   "cell_type": "code",
   "execution_count": 14,
   "id": "bf6c7162-deae-421b-a4ec-e2c8da46e8a7",
   "metadata": {},
   "outputs": [
    {
     "name": "stdin",
     "output_type": "stream",
     "text": [
      " 10\n",
      " 0\n",
      " 1\n",
      " 2\n",
      " 3\n",
      " 4\n",
      " 5\n",
      " 6\n",
      " 7\n",
      " 8\n",
      " 9\n"
     ]
    },
    {
     "name": "stdout",
     "output_type": "stream",
     "text": [
      "[0, 2, 4, 6, 8]\n"
     ]
    }
   ],
   "source": [
    "n = int(input())\n",
    "l_in = []\n",
    "for _ in range(n):\n",
    "    l_in.append(int(input()))\n",
    "    \n",
    "del l_in[1::2]\n",
    "print(l_in)"
   ]
  },
  {
   "cell_type": "code",
   "execution_count": 8,
   "id": "27f28384-22aa-4a8e-9f7c-b568c49de3f2",
   "metadata": {},
   "outputs": [
    {
     "data": {
      "text/plain": [
       "[2, 4]"
      ]
     },
     "execution_count": 8,
     "metadata": {},
     "output_type": "execute_result"
    }
   ],
   "source": [
    "ll = [1,2,3,4,5]\n",
    "del ll[::2]\n",
    "ll"
   ]
  },
  {
   "cell_type": "code",
   "execution_count": null,
   "id": "7c3589c7-7c65-4da1-b64f-a39415ea5807",
   "metadata": {},
   "outputs": [],
   "source": [
    "n = int(input())\n",
    "l_in = []\n",
    "\n",
    "for _ in range(n):\n",
    "    l_in.append(input())\n",
    "\n",
    "k = int(input())\n",
    "\n",
    "for i in l_in:\n",
    "    print(i[k], end='')"
   ]
  },
  {
   "cell_type": "code",
   "execution_count": 17,
   "id": "6a9354af-f96e-4f3b-b842-f53e10d7cd3e",
   "metadata": {},
   "outputs": [
    {
     "name": "stdin",
     "output_type": "stream",
     "text": [
      " 3\n",
      " abc\n",
      " def\n",
      " ghi\n"
     ]
    },
    {
     "name": "stdout",
     "output_type": "stream",
     "text": [
      "['a', 'b', 'c', 'd', 'e', 'f', 'g', 'h', 'i']\n"
     ]
    }
   ],
   "source": [
    "n = int(input())\n",
    "l_in = list()\n",
    "\n",
    "for _ in range(n):\n",
    "    l_in.append(input())\n",
    "\n",
    "l_out = list()\n",
    "\n",
    "for i in l_in:\n",
    "    l_out.extend(list(i))\n",
    "\n",
    "print(l_out)\n"
   ]
  },
  {
   "cell_type": "code",
   "execution_count": 20,
   "id": "aedab463-83e4-462a-8d61-6ff8f6242f19",
   "metadata": {},
   "outputs": [
    {
     "name": "stdout",
     "output_type": "stream",
     "text": [
      "P---y---t---h---o---n\n"
     ]
    }
   ],
   "source": [
    "s = 'Python'\n",
    "print(*s, sep='---')"
   ]
  },
  {
   "cell_type": "code",
   "execution_count": 24,
   "id": "2a9c4ed0-7e33-42f3-99c5-5e3e69055e7b",
   "metadata": {},
   "outputs": [
    {
     "name": "stdin",
     "output_type": "stream",
     "text": [
      " 5\n",
      " 1\n",
      " 2\n",
      " 3\n",
      " 4\n",
      " 5\n"
     ]
    },
    {
     "name": "stdout",
     "output_type": "stream",
     "text": [
      "1\n",
      "2\n",
      "3\n",
      "4\n",
      "5\n",
      "\n",
      "4\n",
      "9\n",
      "16\n",
      "25\n",
      "36\n"
     ]
    }
   ],
   "source": [
    "n = int(input())\n",
    "l_in = list()\n",
    "l_out = list()\n",
    "\n",
    "for _ in range(n):\n",
    "    x = int(input())\n",
    "    l_in.append(x)\n",
    "    l_out.append(x**2 + 2 * x + 1)\n",
    "print(*l_in, sep='\\n')\n",
    "print()\n",
    "print(*l_out, sep='\\n')"
   ]
  },
  {
   "cell_type": "code",
   "execution_count": 1,
   "id": "04f20ea6-933f-4d47-87b0-74056fffc826",
   "metadata": {},
   "outputs": [
    {
     "name": "stdin",
     "output_type": "stream",
     "text": [
      " 10\n",
      " 9\n",
      " 17\n",
      " 189\n",
      " 3\n",
      " 55\n",
      " 78\n",
      " 11\n",
      " 7\n",
      " 888\n",
      " 160\n"
     ]
    },
    {
     "name": "stdout",
     "output_type": "stream",
     "text": [
      "9 17 189 55 78 11 7 160\n"
     ]
    }
   ],
   "source": [
    "n = int(input())\n",
    "l_in = list()\n",
    "\n",
    "for _ in range(n):\n",
    "    l_in.append(int(input()))\n",
    "\n",
    "l_in.remove(max(l_in))\n",
    "l_in.remove(min(l_in))\n",
    "print(*l_in, sep = '\\n')\n"
   ]
  },
  {
   "cell_type": "code",
   "execution_count": 3,
   "id": "1c0f771d-6585-4278-8f89-e9b20cc873ea",
   "metadata": {},
   "outputs": [
    {
     "data": {
      "text/plain": [
       "3"
      ]
     },
     "execution_count": 3,
     "metadata": {},
     "output_type": "execute_result"
    }
   ],
   "source": [
    "l = [1,2,3,4]\n",
    "l.remove(max(l))\n",
    "l[l.index(max(l))]"
   ]
  },
  {
   "cell_type": "code",
   "execution_count": null,
   "id": "a52c23c0-e9d7-4abc-a810-845b8f0d21a3",
   "metadata": {},
   "outputs": [],
   "source": [
    "n = int(input())\n",
    "l_in = list()\n",
    "\n",
    "for _ in range(n):\n",
    "    s = input()\n",
    "    if s not in l_in:\n",
    "        l_in.append(s)\n",
    "\n",
    "print(*l_in, sep='\\n')"
   ]
  },
  {
   "cell_type": "code",
   "execution_count": 6,
   "id": "6ee0ec18-3698-4515-97a5-f97682c5c460",
   "metadata": {},
   "outputs": [
    {
     "name": "stdin",
     "output_type": "stream",
     "text": [
      " 5\n",
      " Язык Python прекрасен\n",
      " с - отличный язык\n",
      " степик - платформа\n",
      " бегиии\n",
      " язык Python появился 20.02.1991\n",
      " 2\n",
      " язык\n",
      " python\n"
     ]
    },
    {
     "name": "stdout",
     "output_type": "stream",
     "text": [
      "Язык Python прекрасен\n",
      "язык Python появился 20.02.1991\n"
     ]
    }
   ],
   "source": [
    "n = int(input())\n",
    "l_in = list()\n",
    "\n",
    "for _ in range(n):\n",
    "    l_in.append(input())\n",
    "\n",
    "l_out = list()\n",
    "k = int(input())\n",
    "l_q = list()\n",
    "\n",
    "for _ in range(k):\n",
    "    q = input()\n",
    "    l_q.append(q)\n",
    "\n",
    "    \n",
    "for s in l_in:\n",
    "    count = 0\n",
    "    for q in l_q:\n",
    "        if q.lower() in s.lower():\n",
    "            count += 1\n",
    "    if count == len(l_q):\n",
    "        l_out.append(s)\n",
    "            \n",
    "print(*l_out, sep='\\n')\n"
   ]
  },
  {
   "cell_type": "code",
   "execution_count": null,
   "id": "ff447f44-085d-49a4-88f8-e7458c957df1",
   "metadata": {},
   "outputs": [],
   "source": [
    "n = int(input())\n",
    "\n",
    "l_neg = list()\n",
    "l_zer = list()\n",
    "l_pos = list()\n",
    "\n",
    "for _ in range(n):\n",
    "    d = int(input())\n",
    "    if d < 0:\n",
    "        l_neg.append(d)\n",
    "    elif d == 0:\n",
    "        l_zer.append(d)\n",
    "    elif d > 0:\n",
    "        l_pos.append(d)\n",
    "\n",
    "print(*l_neg, sep='\\n')\n",
    "print(*l_zer, sep='\\n')\n",
    "print(*l_pos, sep='\\n')\n"
   ]
  },
  {
   "cell_type": "code",
   "execution_count": 7,
   "id": "c7361717-d9a9-4ad6-8f75-86fae41958ad",
   "metadata": {},
   "outputs": [
    {
     "name": "stdin",
     "output_type": "stream",
     "text": [
      " У лукоморья дуб зеленый\n"
     ]
    },
    {
     "name": "stdout",
     "output_type": "stream",
     "text": [
      "У\n",
      "лукоморья\n",
      "дуб\n",
      "зеленый\n"
     ]
    }
   ],
   "source": [
    "s = input()\n",
    "print(*s.split(), sep='\\n')"
   ]
  },
  {
   "cell_type": "code",
   "execution_count": 10,
   "id": "a3c082e9-d9e3-45ab-b5e9-b0f764f4b418",
   "metadata": {},
   "outputs": [
    {
     "name": "stdin",
     "output_type": "stream",
     "text": [
      " Владимир Семенович Высоцкий\n"
     ]
    },
    {
     "name": "stdout",
     "output_type": "stream",
     "text": [
      "В.С.В."
     ]
    }
   ],
   "source": [
    "s = input()\n",
    "l = s.split()\n",
    "out = list()\n",
    "\n",
    "for i in l:\n",
    "    out.append(i[0])\n",
    "\n",
    "print('.'.join(out), end='.')"
   ]
  },
  {
   "cell_type": "code",
   "execution_count": 12,
   "id": "71192302-d2ae-46f5-9189-1c50ef813249",
   "metadata": {},
   "outputs": [
    {
     "name": "stdin",
     "output_type": "stream",
     "text": [
      "  C:\\WINDOWS\\System32\\calc.exe\n"
     ]
    },
    {
     "name": "stdout",
     "output_type": "stream",
     "text": [
      " C:\n",
      "WINDOWS\n",
      "System32\n",
      "calc.exe\n"
     ]
    }
   ],
   "source": [
    "s = input()\n",
    "print(*s.split('\\\\'), sep='\\n')"
   ]
  },
  {
   "cell_type": "code",
   "execution_count": 15,
   "id": "f1068ab6-d0ba-4ade-86fc-263776f60fb1",
   "metadata": {},
   "outputs": [
    {
     "name": "stdin",
     "output_type": "stream",
     "text": [
      " 5 3 1 7 10 2\n"
     ]
    },
    {
     "name": "stdout",
     "output_type": "stream",
     "text": [
      "+++++\n",
      "+++\n",
      "+\n",
      "+++++++\n",
      "++++++++++\n",
      "++\n"
     ]
    }
   ],
   "source": [
    "s = input()\n",
    "l = s.split()\n",
    "for i in l:\n",
    "    print(int(i) * '+')"
   ]
  },
  {
   "cell_type": "code",
   "execution_count": 17,
   "id": "c38dda3a-f9f0-4ee9-8c18-5beec27f8d0d",
   "metadata": {},
   "outputs": [
    {
     "name": "stdin",
     "output_type": "stream",
     "text": [
      " 192.168.0.300\n"
     ]
    },
    {
     "name": "stdout",
     "output_type": "stream",
     "text": [
      "НЕТ\n"
     ]
    }
   ],
   "source": [
    "s = input()\n",
    "ip_d = s.split('.')\n",
    "flag = 'ДА'\n",
    "for i in ip_d:\n",
    "    if int(i) < 0 or int(i) > 255:\n",
    "        flag = 'НЕТ'\n",
    "        break\n",
    "print(flag)"
   ]
  },
  {
   "cell_type": "code",
   "execution_count": 20,
   "id": "10bd7002-3006-4dc8-824e-76da6abe22c4",
   "metadata": {},
   "outputs": [
    {
     "name": "stdin",
     "output_type": "stream",
     "text": [
      " qwerty and password\n",
      " **\n"
     ]
    },
    {
     "name": "stdout",
     "output_type": "stream",
     "text": [
      "q**w**e**r**t**y** **a**n**d** **p**a**s**s**w**o**r**d\n"
     ]
    }
   ],
   "source": [
    "s = input()\n",
    "sep = input()\n",
    "\n",
    "l = list(s)\n",
    "print(*l, sep=sep)"
   ]
  },
  {
   "cell_type": "code",
   "execution_count": 18,
   "id": "c0c5ae78-26dc-4f27-81b9-c7451d5f3bf4",
   "metadata": {},
   "outputs": [
    {
     "ename": "ValueError",
     "evalue": "empty separator",
     "output_type": "error",
     "traceback": [
      "\u001b[0;31m---------------------------------------------------------------------------\u001b[0m",
      "\u001b[0;31mValueError\u001b[0m                                Traceback (most recent call last)",
      "Cell \u001b[0;32mIn[18], line 1\u001b[0m\n\u001b[0;32m----> 1\u001b[0m \u001b[38;5;124;43m'\u001b[39;49m\u001b[38;5;124;43mafdasf\u001b[39;49m\u001b[38;5;124;43m'\u001b[39;49m\u001b[38;5;241;43m.\u001b[39;49m\u001b[43msplit\u001b[49m\u001b[43m(\u001b[49m\u001b[38;5;124;43m'\u001b[39;49m\u001b[38;5;124;43m'\u001b[39;49m\u001b[43m)\u001b[49m\n",
      "\u001b[0;31mValueError\u001b[0m: empty separator"
     ]
    }
   ],
   "source": []
  },
  {
   "cell_type": "code",
   "execution_count": 21,
   "id": "6df53a8d-749a-4bdf-a713-696428bb5acb",
   "metadata": {},
   "outputs": [
    {
     "name": "stdout",
     "output_type": "stream",
     "text": [
      "h||e||l||l||o\n"
     ]
    }
   ],
   "source": [
    "print(*'hello', sep='||')"
   ]
  },
  {
   "cell_type": "code",
   "execution_count": 22,
   "id": "d14d26fc-9ba2-4c66-87aa-bf9c50475bee",
   "metadata": {},
   "outputs": [
    {
     "name": "stdin",
     "output_type": "stream",
     "text": [
      " hello, python!\n",
      " ***\n"
     ]
    },
    {
     "name": "stdout",
     "output_type": "stream",
     "text": [
      "h***e***l***l***o***,*** ***p***y***t***h***o***n***!\n"
     ]
    }
   ],
   "source": [
    "print(*input(), sep=input())"
   ]
  },
  {
   "cell_type": "code",
   "execution_count": 43,
   "id": "7b59c91d-a4af-4d8f-84b6-03d97dc3b8b3",
   "metadata": {},
   "outputs": [
    {
     "name": "stdin",
     "output_type": "stream",
     "text": [
      " 1 7 5 7 5\n"
     ]
    },
    {
     "name": "stdout",
     "output_type": "stream",
     "text": [
      "2\n"
     ]
    }
   ],
   "source": [
    "s = input().split()\n",
    "count = 0\n",
    "l_d = list()\n",
    "\n",
    "for i in s:\n",
    "    l_d.append(int(i))\n",
    "\n",
    "for i in range(len(l_d)):\n",
    "    for j in l_d[i+1:]:\n",
    "        if l_d[i] == j:\n",
    "            count += 1\n",
    "\n",
    "print(count)"
   ]
  },
  {
   "cell_type": "code",
   "execution_count": 47,
   "id": "bf163ede-8e81-4c58-9c09-6ea40567a962",
   "metadata": {},
   "outputs": [
    {
     "name": "stdout",
     "output_type": "stream",
     "text": [
      "[8, 9, 17, 11]\n",
      "[8, 9, 17, 11, 4, 5, 6]\n",
      "[9, 17, 11, 4, 5, 6]\n",
      "[9, 17, 11, 4, 5, 6, 9, 17, 11, 4, 5, 6]\n",
      "[9, 17, 11, 25, 4, 5, 6, 9, 17, 11, 4, 5, 6]\n"
     ]
    }
   ],
   "source": [
    "numbers = [8, 9, 10, 11]\n",
    "p = lambda :print(numbers)\n",
    "numbers[2] = 17\n",
    "p()\n",
    "numbers.extend((4, 5, 6))\n",
    "p()\n",
    "numbers.pop(0)\n",
    "p()\n",
    "numbers.extend(numbers)\n",
    "p()\n",
    "numbers.insert(3, 25)\n",
    "p()"
   ]
  },
  {
   "cell_type": "code",
   "execution_count": 52,
   "id": "18be205f-16b9-4e0b-8a99-eb2d72ab2651",
   "metadata": {},
   "outputs": [
    {
     "name": "stdin",
     "output_type": "stream",
     "text": [
      " 10 9 8 7 6 5 4 3 2 1\n"
     ]
    },
    {
     "name": "stdout",
     "output_type": "stream",
     "text": [
      "[10, 9, 8, 7, 6, 5, 4, 3, 2, 1]\n",
      "10 0 1 9\n",
      "1 9 8 7 6 5 4 3 2 10\n"
     ]
    }
   ],
   "source": [
    "l = [int(x) for x in input().split()]\n",
    "print(l)\n",
    "mx = max(l)\n",
    "mn = min(l)\n",
    "i_max = l.index(mx)\n",
    "i_min = l.index(mn)\n",
    "print(mx, i_max, mn, i_min)\n",
    "l[i_max] = mn\n",
    "l[i_min] = mx\n",
    "print(*l)"
   ]
  },
  {
   "cell_type": "code",
   "execution_count": 53,
   "id": "b0a174a4-c43a-44e6-8e02-a3c6904142f9",
   "metadata": {},
   "outputs": [
    {
     "name": "stdin",
     "output_type": "stream",
     "text": [
      " William Shakespeare was born in the town of Stratford, England, in the year 1564. When he was a young man, Shakespeare moved to the city of London, where he began writing plays. His plays were soon very successful, and were enjoyed both by the common people of London and also by the rich and famous. In addition to his plays, Shakespeare wrote many short poems and a few longer poems. Like his plays, these poems are still famous today.\n"
     ]
    },
    {
     "name": "stdout",
     "output_type": "stream",
     "text": [
      "7\n"
     ]
    }
   ],
   "source": [
    "s = input().lower().split()\n",
    "ar_count = 0\n",
    "ar_count += s.count('a')\n",
    "ar_count += s.count('an')\n",
    "ar_count += s.count('the')\n",
    "print(ar_count)"
   ]
  },
  {
   "cell_type": "code",
   "execution_count": 57,
   "id": "e2c655c8-1e3a-481a-a6fd-35c8a08a9e25",
   "metadata": {},
   "outputs": [
    {
     "name": "stdin",
     "output_type": "stream",
     "text": [
      " #12 print(\"Введите своё имя\") name = input() print(\"Введите пароль, если имеется\")    # ахахахах вам не поймать меня password = input() if password == \"hoover\":     print(\"Здравствуйте, рыцарь\", name)         #долой Макнамару elif password == \"noncr\":     print(\"Здравствуйте, паладин\", name) elif password == \"gelios\":     print(\"Здравствуйте, старейшина\", name)          #Элайджа вперёд else:     print(\"Здравствуйте, послушник\", name)\n"
     ]
    },
    {
     "name": "stdout",
     "output_type": "stream",
     "text": [
      "['#12 print(\"Введите своё имя\") name = input() print(\"Введите пароль, если имеется\")    # ахахахах вам не поймать меня password = input() if password == \"hoover\":     print(\"Здравствуйте, рыцарь\", name)         #долой Макнамару elif password == \"noncr\":     print(\"Здравствуйте, паладин\", name) elif password == \"gelios\":     print(\"Здравствуйте, старейшина\", name)          #Элайджа вперёд else:     print(\"Здравствуйте, послушник\", name)']\n",
      "[]\n"
     ]
    }
   ],
   "source": [
    "n = int(input()[1:])\n",
    "l_out = list()\n",
    "\n",
    "for _ in range(n):\n",
    "    c = input()\n",
    "    if '#' in c:\n",
    "        l_out.append(c[:c.find('#')].rstrip())\n",
    "    else:\n",
    "        l_out.append(c.rstrip())\n",
    "\n",
    "print(*l_out, sep='\\n')\n",
    "        "
   ]
  },
  {
   "cell_type": "code",
   "execution_count": 62,
   "id": "89e9d3f5-6e03-478f-aa63-368638a8d028",
   "metadata": {},
   "outputs": [
    {
     "name": "stdin",
     "output_type": "stream",
     "text": [
      " 1 2 3 4\n"
     ]
    },
    {
     "name": "stdout",
     "output_type": "stream",
     "text": [
      "[1, 2, 3, 4]\n",
      "[1, 2, 3, 4]\n"
     ]
    }
   ],
   "source": [
    "# put your python code here\n",
    "l_n = [int(x) for x in input().split()]\n",
    "print(l_n)\n",
    "l_n.sort()\n",
    "print(l_n)\n",
    "l_\n"
   ]
  },
  {
   "cell_type": "code",
   "execution_count": 63,
   "id": "5f1249c2-cf8b-4357-8bd4-2186f933a7e6",
   "metadata": {},
   "outputs": [
    {
     "name": "stdout",
     "output_type": "stream",
     "text": [
      "[101, 111, 121, 131, 141, 151, 161, 171, 181, 191, 202, 212, 222, 232, 242, 252, 262, 272, 282, 292, 303, 313, 323, 333, 343, 353, 363, 373, 383, 393, 404, 414, 424, 434, 444, 454, 464, 474, 484, 494, 505, 515, 525, 535, 545, 555, 565, 575, 585, 595, 606, 616, 626, 636, 646, 656, 666, 676, 686, 696, 707, 717, 727, 737, 747, 757, 767, 777, 787, 797, 808, 818, 828, 838, 848, 858, 868, 878, 888, 898, 909, 919, 929, 939, 949, 959, 969, 979, 989, 999]\n"
     ]
    }
   ],
   "source": [
    "palindromes = [i for i in range(100, 1000) if i//100 == i%10]\n",
    "\n",
    "print(palindromes)"
   ]
  },
  {
   "cell_type": "code",
   "execution_count": 64,
   "id": "607b3af4-6637-4f03-9b23-400ef80fee60",
   "metadata": {},
   "outputs": [
    {
     "name": "stdin",
     "output_type": "stream",
     "text": [
      " 5\n",
      " 1\n",
      " 4\n",
      " 4\n",
      " 3\n",
      " 3\n"
     ]
    },
    {
     "name": "stdout",
     "output_type": "stream",
     "text": [
      "1\n",
      "16\n",
      "16\n",
      "9\n",
      "9\n"
     ]
    }
   ],
   "source": [
    "# put your python code here\n",
    "l = [int(input())**2 for _ in range(1, int(input()) + 1)]\n",
    "print(*l, sep='\\n')"
   ]
  },
  {
   "cell_type": "code",
   "execution_count": 68,
   "id": "54049471-4ab9-4699-9689-ee3b4a77e7f7",
   "metadata": {},
   "outputs": [
    {
     "name": "stdin",
     "output_type": "stream",
     "text": [
      " 2 4 3\n"
     ]
    },
    {
     "name": "stdout",
     "output_type": "stream",
     "text": [
      "8 64 27 "
     ]
    }
   ],
   "source": [
    "l = [i**3 for i in [int(x) for x in input().split()]]\n",
    "for s in l:\n",
    "    print(s, end=' ')"
   ]
  },
  {
   "cell_type": "code",
   "execution_count": 70,
   "id": "e753878a-cf1e-4e6b-bcde-7dc62735b60d",
   "metadata": {},
   "outputs": [
    {
     "name": "stdin",
     "output_type": "stream",
     "text": [
      " Умей ценить того кто без тебя не может\n"
     ]
    },
    {
     "name": "stdout",
     "output_type": "stream",
     "text": [
      "Умей\n",
      "ценить\n",
      "того\n",
      "кто\n",
      "без\n",
      "тебя\n",
      "не\n",
      "может\n"
     ]
    }
   ],
   "source": [
    "print(*input().split(), sep='\\n')"
   ]
  },
  {
   "cell_type": "code",
   "execution_count": 73,
   "id": "4624cc12-3669-4f03-93fc-4c5da17a43c4",
   "metadata": {},
   "outputs": [
    {
     "name": "stdin",
     "output_type": "stream",
     "text": [
      " 1,12\n"
     ]
    },
    {
     "name": "stdout",
     "output_type": "stream",
     "text": [
      "112\n"
     ]
    }
   ],
   "source": [
    "print(*[i for i in list(input()) if i.isdigit()], sep='')"
   ]
  },
  {
   "cell_type": "code",
   "execution_count": 75,
   "id": "ba32767d-8ca4-4f18-8c8c-9437325ef245",
   "metadata": {},
   "outputs": [
    {
     "name": "stdin",
     "output_type": "stream",
     "text": [
      " 1 2 3 4 5 6 7 8 9\n"
     ]
    },
    {
     "name": "stdout",
     "output_type": "stream",
     "text": [
      "16 36\n"
     ]
    }
   ],
   "source": [
    "print(*[int(i)**2 for i in input().split() if int(i) % 2 == 0 and int(i)**2 % 10 != 4], sep=' ') "
   ]
  },
  {
   "cell_type": "code",
   "execution_count": 76,
   "id": "99c85414-a3b1-43ec-85e9-b2bfd1e59b2e",
   "metadata": {},
   "outputs": [
    {
     "name": "stdout",
     "output_type": "stream",
     "text": [
      "[-67, -3, -2, 0, 1, 6, 7, 8, 9, 12, 34, 45, 99, 1000]\n"
     ]
    }
   ],
   "source": [
    "a = [1, 7, -3, 9, 0, -67, 34, 12, 45, 1000, 6,  8, -2, 99]\n",
    "n = len(a)\n",
    "\n",
    "for i in range(n - 1):\n",
    "    for j in range(n - i - 1):\n",
    "        if a[j] > a[j + 1]:\n",
    "            a[j], a[j + 1] = a[j + 1], a[j]\n",
    "\n",
    "print(a)"
   ]
  },
  {
   "cell_type": "code",
   "execution_count": 122,
   "id": "f8b3d3cd-6156-4f45-ad57-50beeca97a75",
   "metadata": {},
   "outputs": [
    {
     "name": "stdout",
     "output_type": "stream",
     "text": [
      "[-97, -96, -94, -94, -79, -77, -72, -72, -71, -71, -67, -67, -64, -64, -63, -62, -62, -61, -60, -58, -56, -52, -48, -47, -42, -41, -39, -36, -32, -31, -30, -26, -24, -23, -22, -21, -19, -16, -16, -14, -10, -8, -5, -3, -1, 0, 2, 2, 3, 3, 5, 9, 9, 14, 20, 22, 27, 32, 32, 35, 35, 39, 39, 41, 41, 43, 48, 53, 57, 57, 58, 59, 59, 59, 60, 60, 61, 62, 63, 63, 64, 66, 71, 72, 76, 78, 78, 80, 82, 84, 87, 87, 89, 90, 92, 92, 93, 94, 96, 98]\n"
     ]
    }
   ],
   "source": [
    "a = [78, -32, 5, 39, 58, -5, -63, 57, 72, 9, 53, -1, 63, -97, -21, -94, -47, 57, -8, 60, -23, -72, -22, -79, 90, 96, -41, -71, -48, 84, 89, -96, 41, -16, 94, -60, -64, -39, 60, -14, -62, -19, -3, 32, 98, 14, 43, 3, -56, 71, -71, -67, 80, 27, 92, 92, -64, 0, -77, 2, -26, 41, 3, -31, 48, 39, 20, -30, 35, 32, -58, 2, 63, 64, 66, 62, 82, -62, 9, -52, 35, -61, 87, 78, 93, -42, 87, -72, -10, -36, 61, -16, 59, 59, 22, -24, -67, 76, -94, 59]\n",
    "n = len(a)\n",
    "\n",
    "for i in range(n):\n",
    "    mn = 1000\n",
    "    for j in range(n-i):\n",
    "        if a[j] < mn:\n",
    "            mn = a[j]\n",
    "            mn_i = j\n",
    "    a.append(mn)\n",
    "    a.pop(mn_i)\n",
    "\n",
    "print(a)"
   ]
  },
  {
   "cell_type": "code",
   "execution_count": 123,
   "id": "aa598e19-60c8-4159-8b20-7ecfcac0b0e7",
   "metadata": {},
   "outputs": [
    {
     "name": "stdout",
     "output_type": "stream",
     "text": [
      "[-67, -3, -2, 0, 1, 6, 7, 8, 9, 12, 34, 45, 99, 1000]\n"
     ]
    }
   ],
   "source": [
    "a = [1, 7, -3, 9, 0, -67, 34, 12, 45, 1000, 6,  8, -2, 99]\n",
    "n = len(a)\n",
    "\n",
    "for i in range(1, n):\n",
    "    elem = a[i]\n",
    "    j = i\n",
    "\n",
    "    while j >= 1 and a[j - 1] > elem:\n",
    "        a[j] = a[j - 1]\n",
    "        j -= 1\n",
    "\n",
    "    a[j] = elem\n",
    "\n",
    "print(a)"
   ]
  },
  {
   "cell_type": "code",
   "execution_count": 125,
   "id": "141ffedf-9b29-4cd2-8d3b-fde0e61bcff0",
   "metadata": {},
   "outputs": [
    {
     "data": {
      "text/plain": [
       "2"
      ]
     },
     "execution_count": 125,
     "metadata": {},
     "output_type": "execute_result"
    }
   ],
   "source": [
    "def binary_search(list, key):\n",
    "    low = 0\n",
    "    high = len(list) - 1\n",
    "\n",
    "    while low <= high:\n",
    "        mid = (low + high) // 2\n",
    "        midVal = list[mid]\n",
    "        if midVal == key:\n",
    "            return mid\n",
    "        if midVal > key:\n",
    "            high = mid - 1\n",
    "        else:\n",
    "            low = mid + 1\n",
    "    return 'not found :('\n",
    "\n",
    "binary_search([1, 2, 4, 5, 6], 4)"
   ]
  },
  {
   "cell_type": "code",
   "execution_count": 144,
   "id": "abaf0e73-e5aa-4570-81cc-ac896d4e6e14",
   "metadata": {},
   "outputs": [
    {
     "data": {
      "text/plain": [
       "'http://127.0.0.1:8000/'"
      ]
     },
     "execution_count": 144,
     "metadata": {},
     "output_type": "execute_result"
    }
   ],
   "source": [
    "import requests\n",
    "resp = requests.get('http://127.0.0.1:8000')\n",
    "resp.url"
   ]
  },
  {
   "cell_type": "code",
   "execution_count": 149,
   "id": "e8e98367-4875-4abe-98fe-df8985bb048c",
   "metadata": {},
   "outputs": [
    {
     "name": "stdin",
     "output_type": "stream",
     "text": [
      " 8\n"
     ]
    },
    {
     "name": "stdout",
     "output_type": "stream",
     "text": [
      "[2, 4, 6, 8]\n"
     ]
    }
   ],
   "source": [
    "print([x for x in range(2, int(input()) + 1, 2)])"
   ]
  },
  {
   "cell_type": "code",
   "execution_count": 153,
   "id": "87fd47ff-baed-4a89-9df1-3bb3c098cc50",
   "metadata": {},
   "outputs": [
    {
     "name": "stdin",
     "output_type": "stream",
     "text": [
      " 1 1 1 1 1 1\n",
      " 9 9 9 9 9 9\n"
     ]
    },
    {
     "name": "stdout",
     "output_type": "stream",
     "text": [
      "10 10 10 10 10 10 "
     ]
    }
   ],
   "source": [
    "L = [int(x) for x in input().split()]\n",
    "M = [int(x) for x in input().split()]\n",
    "\n",
    "out = list()\n",
    "for i in range(len(L)):\n",
    "    print(L[i] + M[i], end = ' ')"
   ]
  },
  {
   "cell_type": "code",
   "execution_count": 156,
   "id": "5910bc74-6ad7-4887-a6f7-e842ce441fd3",
   "metadata": {},
   "outputs": [
    {
     "name": "stdin",
     "output_type": "stream",
     "text": [
      " 1 1 1\n"
     ]
    },
    {
     "name": "stdout",
     "output_type": "stream",
     "text": [
      "1+1+1=3\n"
     ]
    }
   ],
   "source": [
    "s = [int(x) for x in input().split()]\n",
    "print(*s, sep='+', end='')\n",
    "print('=', sum(s), sep='')"
   ]
  },
  {
   "cell_type": "code",
   "execution_count": 176,
   "id": "0d6088f2-faf0-489f-96bc-05f502ac750e",
   "metadata": {},
   "outputs": [
    {
     "name": "stdin",
     "output_type": "stream",
     "text": [
      " 301-4477-5820\n"
     ]
    },
    {
     "name": "stdout",
     "output_type": "stream",
     "text": [
      "NO\n"
     ]
    }
   ],
   "source": [
    "tel = [x for x in input().split('-')]\n",
    "flag = 'YES'\n",
    "\n",
    "if len(tel) != 3 and len(tel) != 4:\n",
    "    flag = 'NO'\n",
    "\n",
    "if flag == 'YES':\n",
    "    \n",
    "    for i in range(len(tel)):\n",
    "        if not tel[i].isdigit():\n",
    "            flag = 'NO'\n",
    "            break\n",
    "\n",
    "if flag == 'YES':\n",
    "    if tel[0] == '7':\n",
    "        if len(tel[1]) != 3 or len(tel[2]) != 3 or len(tel[3]) != 4:\n",
    "            flag = 'NO'\n",
    "    elif len(tel[0]) != 3 or len(tel[1]) != 3 or len(tel[2]) != 4:\n",
    "            flag = 'NO'\n",
    "\n",
    "print(flag)\n",
    "        "
   ]
  },
  {
   "cell_type": "code",
   "execution_count": 167,
   "id": "41df8773-a2df-44d6-a065-5ccbee2b0093",
   "metadata": {},
   "outputs": [
    {
     "data": {
      "text/plain": [
       "4"
      ]
     },
     "execution_count": 167,
     "metadata": {},
     "output_type": "execute_result"
    }
   ],
   "source": [
    "len(tel)"
   ]
  },
  {
   "cell_type": "code",
   "execution_count": 177,
   "id": "e83f8b8c-1232-4c01-8b8d-736c53018648",
   "metadata": {},
   "outputs": [
    {
     "name": "stdin",
     "output_type": "stream",
     "text": [
      " проспал почти всю ночь\n"
     ]
    },
    {
     "name": "stdout",
     "output_type": "stream",
     "text": [
      "7\n"
     ]
    }
   ],
   "source": [
    "print(max([len(x) for x in input().split()]))"
   ]
  },
  {
   "cell_type": "code",
   "execution_count": 178,
   "id": "19962c50-631a-43dc-9d14-0c6ca703715e",
   "metadata": {},
   "outputs": [
    {
     "name": "stdin",
     "output_type": "stream",
     "text": [
      " проспал почти всю ночь\n"
     ]
    },
    {
     "name": "stdout",
     "output_type": "stream",
     "text": [
      "роспалпки очтипки сювки очьнки\n"
     ]
    }
   ],
   "source": [
    "print(*[x[1:] + x[0] + 'ки' for x in input().split()])"
   ]
  },
  {
   "cell_type": "code",
   "execution_count": 181,
   "id": "5bfd53cf-6aaf-44af-a6c1-03e808b8954b",
   "metadata": {},
   "outputs": [
    {
     "name": "stdout",
     "output_type": "stream",
     "text": [
      "Ellipsis\n",
      "Ellipsis\n"
     ]
    }
   ],
   "source": [
    "print(...)\n",
    "def fff():\n",
    "    print(...)\n",
    "\n",
    "fff()"
   ]
  },
  {
   "cell_type": "code",
   "execution_count": 183,
   "id": "87c2dcfa-e015-47eb-9012-46856a99b841",
   "metadata": {},
   "outputs": [
    {
     "name": "stdout",
     "output_type": "stream",
     "text": [
      "**********\n",
      "*        *\n",
      "*        *\n",
      "*        *\n",
      "*        *\n",
      "*        *\n",
      "*        *\n",
      "*        *\n",
      "*        *\n",
      "*        *\n",
      "*        *\n",
      "*        *\n",
      "*        *\n",
      "**********\n"
     ]
    }
   ],
   "source": [
    "def draw_box():\n",
    "    print('*' * 10)\n",
    "    for _ in range(12):\n",
    "        print('*', ' ' * 6, '*')\n",
    "    print('*' * 10)\n",
    "\n",
    "draw_box()"
   ]
  },
  {
   "cell_type": "code",
   "execution_count": 185,
   "id": "8b692f09-15e8-4e48-8d02-3eb474b875d1",
   "metadata": {},
   "outputs": [
    {
     "name": "stdout",
     "output_type": "stream",
     "text": [
      "*\n",
      "**\n",
      "***\n",
      "****\n",
      "*****\n",
      "******\n",
      "*******\n",
      "********\n",
      "*********\n",
      "**********\n"
     ]
    }
   ],
   "source": [
    "def draw_triangle():\n",
    "    for i in range(1,11):\n",
    "        print('*' * i)\n",
    "\n",
    "draw_triangle()"
   ]
  },
  {
   "cell_type": "code",
   "execution_count": 190,
   "id": "7124dfa9-2edf-4d53-bccc-3a6df5339c9b",
   "metadata": {},
   "outputs": [
    {
     "name": "stdin",
     "output_type": "stream",
     "text": [
      " ?\n",
      " 7\n"
     ]
    },
    {
     "name": "stdout",
     "output_type": "stream",
     "text": [
      "?\n",
      "??\n",
      "???\n",
      "????\n",
      "???\n",
      "??\n",
      "?\n"
     ]
    }
   ],
   "source": [
    "def draw_triangle(fill, base):\n",
    "    \n",
    "    for i in range(1, base // 2 + 2):\n",
    "        print(fill * i)\n",
    "\n",
    "    for i in range(base // 2, 0, -1):\n",
    "        print(fill * i)\n",
    "\n",
    "draw_triangle(input(), int(input()))"
   ]
  },
  {
   "cell_type": "code",
   "execution_count": null,
   "id": "f0805eb0-ccab-40ca-af1e-c06e1ef7c9f4",
   "metadata": {},
   "outputs": [],
   "source": [
    "def print_fio(name, surname, patronymic):\n",
    "    print(name[0].upper(), surname[0].upper(), patronymic[0].upper())\n",
    "\n"
   ]
  },
  {
   "cell_type": "code",
   "execution_count": 191,
   "id": "19b81c63-6c4e-489f-a78f-672e094d32d1",
   "metadata": {},
   "outputs": [
    {
     "name": "stdout",
     "output_type": "stream",
     "text": [
      "15\n"
     ]
    }
   ],
   "source": [
    "def print_digit_sum(num):\n",
    "    l_num = list()\n",
    "\n",
    "    while num > 0:\n",
    "        l_num.append(num % 10)\n",
    "        num //= 10\n",
    "    print(sum(l_num))\n",
    "\n",
    "print_digit_sum(12345)"
   ]
  },
  {
   "cell_type": "code",
   "execution_count": 197,
   "id": "85425158-b8fa-448e-8788-6fe2fef2fbc6",
   "metadata": {},
   "outputs": [
    {
     "name": "stdin",
     "output_type": "stream",
     "text": [
      " 3\n"
     ]
    },
    {
     "name": "stdout",
     "output_type": "stream",
     "text": [
      "3\n",
      "1000\n"
     ]
    }
   ],
   "source": [
    "\n",
    "def foo(b):\n",
    "    global birds\n",
    "    birds = b\n",
    "    print(birds)\n",
    "\n",
    "foo(int(input()))\n",
    "birds = 1000\n",
    "print(birds)"
   ]
  },
  {
   "cell_type": "code",
   "execution_count": 218,
   "id": "063c9683-cfe9-4a8e-8783-88e123dd93a7",
   "metadata": {},
   "outputs": [
    {
     "name": "stdin",
     "output_type": "stream",
     "text": [
      "Вращайте барабан: \n",
      " \n"
     ]
    },
    {
     "data": {
      "text/plain": [
       "100"
      ]
     },
     "execution_count": 218,
     "metadata": {},
     "output_type": "execute_result"
    }
   ],
   "source": [
    "x = 3\n",
    "x = input('Вращайте барабан: \\n') or 100\n",
    "\n",
    "x"
   ]
  },
  {
   "cell_type": "code",
   "execution_count": 220,
   "id": "f0ff13be-562a-4ee7-9f5f-269ef6c4f806",
   "metadata": {},
   "outputs": [
    {
     "name": "stdin",
     "output_type": "stream",
     "text": [
      " abcdabcaaa\n",
      " a\n"
     ]
    },
    {
     "data": {
      "text/plain": [
       "[0, 4, 7, 8, 9]"
      ]
     },
     "execution_count": 220,
     "metadata": {},
     "output_type": "execute_result"
    }
   ],
   "source": [
    "def find_all(target, symbol):\n",
    "    l_res = list()\n",
    "    if target.find(symbol) == -1:\n",
    "        return l_res\n",
    "    while target.find(symbol) != -1:\n",
    "        pos = target.find(symbol)\n",
    "        l_res.append(pos)\n",
    "        target = target[:pos] + '`' + target[pos+1:]\n",
    "    return l_res\n",
    "\n",
    "find_all(input(), input())\n"
   ]
  },
  {
   "cell_type": "code",
   "execution_count": null,
   "id": "e19443f7-2b7c-4744-a95c-fcbce06a41c2",
   "metadata": {},
   "outputs": [],
   "source": [
    "def find_all(target, symbol):\n",
    "    cur = 0\n",
    "    res = []\n",
    "\n",
    "    for i in target:\n",
    "        if i == symbol:\n",
    "            res.append(cur)\n",
    "\n",
    "        cur += 1\n",
    "\n",
    "    return res"
   ]
  },
  {
   "cell_type": "code",
   "execution_count": 231,
   "id": "635de9ae-0fdc-4ead-9423-fdef7fe5140c",
   "metadata": {},
   "outputs": [
    {
     "data": {
      "text/plain": [
       "[1, 2, 4, 5, 6, 8]"
      ]
     },
     "execution_count": 231,
     "metadata": {},
     "output_type": "execute_result"
    }
   ],
   "source": [
    "def merge(list1, list2):\n",
    "    list1.extend(list2)\n",
    "    list1.sort()\n",
    "    return list1\n",
    "\n",
    "merge([1, 5, 8], [2, 4, 6])"
   ]
  },
  {
   "cell_type": "code",
   "execution_count": 230,
   "id": "eb4a2626-e6c8-4272-ae05-e14193c60852",
   "metadata": {},
   "outputs": [],
   "source": [
    "[1,2,3].extend([1,2,3])"
   ]
  },
  {
   "cell_type": "code",
   "execution_count": null,
   "id": "a4938508-1f0e-4977-9676-ba560d6c58a7",
   "metadata": {},
   "outputs": [],
   "source": [
    "def is_valid_triangle(side1, side2, side3):\n",
    "    if side1 + side2 >side3 and side1 + side3 > side2 and side2 + side3 > side1:\n",
    "        return True\n",
    "    else:\n",
    "        return False\n"
   ]
  },
  {
   "cell_type": "code",
   "execution_count": 255,
   "id": "9e576442-39e8-447f-89f1-2d614abdf92c",
   "metadata": {},
   "outputs": [
    {
     "name": "stdin",
     "output_type": "stream",
     "text": [
      " 5\n"
     ]
    },
    {
     "data": {
      "text/plain": [
       "True"
      ]
     },
     "execution_count": 255,
     "metadata": {},
     "output_type": "execute_result"
    }
   ],
   "source": [
    "def is_prime(num):\n",
    "    if num == 1:\n",
    "        return False\n",
    "    for i in range(2, num // 2 + 1):\n",
    "        if num % i == 0:\n",
    "            return False\n",
    "    \n",
    "    return True\n",
    "\n",
    "is_prime(int(input()))"
   ]
  },
  {
   "cell_type": "code",
   "execution_count": 263,
   "id": "e6c760e5-78ac-4e0b-8e95-e0b7c3270067",
   "metadata": {},
   "outputs": [
    {
     "name": "stdin",
     "output_type": "stream",
     "text": [
      " 7\n"
     ]
    },
    {
     "data": {
      "text/plain": [
       "11"
      ]
     },
     "execution_count": 263,
     "metadata": {},
     "output_type": "execute_result"
    }
   ],
   "source": [
    "def get_next_prime(num):\n",
    "    num += 1\n",
    "    \n",
    "    while not is_prime(num):\n",
    "        num += 1\n",
    "        \n",
    "    return num\n",
    "\n",
    "get_next_prime(int(input()))"
   ]
  },
  {
   "cell_type": "code",
   "execution_count": 272,
   "id": "9194b146-3ba7-489f-b390-1cbc995aaae5",
   "metadata": {},
   "outputs": [
    {
     "data": {
      "text/plain": [
       "True"
      ]
     },
     "execution_count": 272,
     "metadata": {},
     "output_type": "execute_result"
    }
   ],
   "source": [
    "def is_password_good(pswd):\n",
    "    d = '1234567890'\n",
    "    cap = 'QWERTYUIOPLKJHGFDSAZXCVBNM'\n",
    "    low = 'qwertyuiopasdfghjklzxcvbnm'\n",
    "    f_cap = False\n",
    "    f_d = False\n",
    "    f_low = False\n",
    "    \n",
    "    if len(pswd) < 8:\n",
    "        return False\n",
    "\n",
    "    for c in pswd:\n",
    "        if c in d:\n",
    "            f_d = True\n",
    "        if c in cap:\n",
    "            f_cap = True\n",
    "        if c in low:\n",
    "            f_low = True\n",
    "\n",
    "    if f_d and f_cap and f_low:\n",
    "        return True\n",
    "    else:\n",
    "        return False\n",
    "\n",
    "is_password_good('asK888a;salkjd')"
   ]
  },
  {
   "cell_type": "code",
   "execution_count": 275,
   "id": "93b4fd59-7e56-439d-8b99-15c786e6d4b5",
   "metadata": {},
   "outputs": [
    {
     "name": "stdin",
     "output_type": "stream",
     "text": [
      " abcd\n",
      " abcde\n"
     ]
    },
    {
     "data": {
      "text/plain": [
       "False"
      ]
     },
     "execution_count": 275,
     "metadata": {},
     "output_type": "execute_result"
    }
   ],
   "source": [
    "def is_one_way(word1, word2):\n",
    "    if len(word1) != len(word2):\n",
    "        return False\n",
    "    count_one = 0\n",
    "\n",
    "    for i in range(len(word1)):\n",
    "        if word1[i] != word2[i]:\n",
    "            count_one += 1\n",
    "\n",
    "    if count_one == 1:\n",
    "        return True\n",
    "    else:\n",
    "        return False\n",
    "\n",
    "is_one_way(input(), input())\n"
   ]
  },
  {
   "cell_type": "code",
   "execution_count": 280,
   "id": "95a43a50-8dec-465c-8a8b-cd27131fcee8",
   "metadata": {},
   "outputs": [
    {
     "name": "stdin",
     "output_type": "stream",
     "text": [
      " Gabler Ruby - burrel bag!\n"
     ]
    },
    {
     "data": {
      "text/plain": [
       "True"
      ]
     },
     "execution_count": 280,
     "metadata": {},
     "output_type": "execute_result"
    }
   ],
   "source": [
    "def is_palindrome(text):\n",
    "    l_del = [' ', ',', '.', '!', '?', '-']\n",
    "\n",
    "    text = text.lower()\n",
    "    \n",
    "    for i in l_del:\n",
    "        text = text.replace(i, '')\n",
    "\n",
    "    return text == text[::-1]\n",
    "\n",
    "is_palindrome(input())\n"
   ]
  },
  {
   "cell_type": "code",
   "execution_count": 278,
   "id": "af13d715-d8f7-4563-89a5-d222b61b3493",
   "metadata": {},
   "outputs": [
    {
     "data": {
      "text/plain": [
       "'Fjk'"
      ]
     },
     "execution_count": 278,
     "metadata": {},
     "output_type": "execute_result"
    }
   ],
   "source": [
    "e = 'Fjk'\n",
    "e.lower()\n",
    "e"
   ]
  },
  {
   "cell_type": "code",
   "execution_count": 283,
   "id": "2303c987-7408-4b41-a47c-1a0828626098",
   "metadata": {},
   "outputs": [
    {
     "name": "stdin",
     "output_type": "stream",
     "text": [
      " 15551:7:290\n"
     ]
    },
    {
     "data": {
      "text/plain": [
       "True"
      ]
     },
     "execution_count": 283,
     "metadata": {},
     "output_type": "execute_result"
    }
   ],
   "source": [
    "def is_even(num):\n",
    "    return is_even(num) % 2 == 0\n",
    "\n",
    "\n",
    "def is_valid_password(password):\n",
    "    nums = [x for x in password.split(':')]\n",
    "    return is_palindrome(nums[0]) and is_prime(int(nums[1])) and is_even(int(nums[2]))\n",
    "\n",
    "is_valid_password(input())"
   ]
  },
  {
   "cell_type": "code",
   "execution_count": 13,
   "id": "01534ee4-4d7d-47a3-907e-1a1c78aab724",
   "metadata": {},
   "outputs": [
    {
     "name": "stdin",
     "output_type": "stream",
     "text": [
      " ())()()()(\n"
     ]
    },
    {
     "name": "stdout",
     "output_type": "stream",
     "text": [
      ")()()()(\n"
     ]
    },
    {
     "data": {
      "text/plain": [
       "False"
      ]
     },
     "execution_count": 13,
     "metadata": {},
     "output_type": "execute_result"
    }
   ],
   "source": [
    "def is_correct_bracket(text):\n",
    "\n",
    "    if text.count('(') != text.count(')'):\n",
    "        return False\n",
    "        \n",
    "    while len(text) > 0:\n",
    "        l_b = text.find('(')\n",
    "        r_b = text.find(')')\n",
    "\n",
    "        if l_b > r_b:\n",
    "            return False\n",
    "\n",
    "        text = text.replace('(', '', 1)\n",
    "        text = text.replace(')', '', 1)\n",
    "        # print(text)\n",
    "        \n",
    "        # text = text[:l_b] + text[l_b + 1:]\n",
    "        # text = text[:r_b] + text[r_b + 1:]\n",
    "        \n",
    "        print(text)\n",
    "        \n",
    "    return True\n",
    "\n",
    "is_correct_bracket(input())"
   ]
  },
  {
   "cell_type": "code",
   "execution_count": 16,
   "id": "c88df873-f10d-4bf0-b5c2-6543f1132d75",
   "metadata": {},
   "outputs": [
    {
     "name": "stdin",
     "output_type": "stream",
     "text": [
      " ())()()()(\n"
     ]
    },
    {
     "data": {
      "text/plain": [
       "False"
      ]
     },
     "execution_count": 16,
     "metadata": {},
     "output_type": "execute_result"
    }
   ],
   "source": [
    "def is_correct_bracket(text):\n",
    "    while \"()\" in text:\n",
    "        text = text.replace(\"()\", \"\")\n",
    "\n",
    "    return text == \"\"\n",
    "\n",
    "is_correct_bracket(input())"
   ]
  },
  {
   "cell_type": "code",
   "execution_count": 12,
   "id": "e2717a57-8734-4d32-8337-d2e3391a5f4f",
   "metadata": {},
   "outputs": [
    {
     "name": "stdout",
     "output_type": "stream",
     "text": [
      "asdf\n"
     ]
    }
   ],
   "source": [
    "t = 'asdff'\n",
    "t = t.replace('f', '', 1)\n",
    "print(t)"
   ]
  },
  {
   "cell_type": "code",
   "execution_count": 21,
   "id": "0b2f2566-3c1d-4bdd-bc23-a669e51e1d32",
   "metadata": {},
   "outputs": [
    {
     "name": "stdin",
     "output_type": "stream",
     "text": [
      " ConvertToInt32\n"
     ]
    },
    {
     "data": {
      "text/plain": [
       "'convert_to_int32'"
      ]
     },
     "execution_count": 21,
     "metadata": {},
     "output_type": "execute_result"
    }
   ],
   "source": [
    "def convert_to_python_case(text):\n",
    "    text_l = list(text)\n",
    "    result = list()\n",
    "    result.append(text_l[0].lower())\n",
    "    for i in range(1,len(text_l)):\n",
    "        if text_l[i].isupper():\n",
    "            result.append('_')\n",
    "            result.append(text_l[i].lower())\n",
    "        else:\n",
    "            result.append(text_l[i])\n",
    "\n",
    "    return ''.join(result)\n",
    "\n",
    "convert_to_python_case(input())\n",
    "            "
   ]
  },
  {
   "cell_type": "code",
   "execution_count": 22,
   "id": "c606197e-e437-41a4-8f3c-50c6d2f94079",
   "metadata": {},
   "outputs": [
    {
     "data": {
      "text/plain": [
       "(5.0, 0.0)"
      ]
     },
     "execution_count": 22,
     "metadata": {},
     "output_type": "execute_result"
    }
   ],
   "source": [
    "def get_middle_point(x1, y1, x2, y2):\n",
    "    return (x1 + x2) / 2, (y1 + y2) / 2\n",
    "\n",
    "\n",
    "get_middle_point(0, 0, 10, 0)\n"
   ]
  },
  {
   "cell_type": "code",
   "execution_count": 24,
   "id": "6409d2f5-c6c3-4b14-86c8-6ca3117253f1",
   "metadata": {},
   "outputs": [
    {
     "data": {
      "text/plain": [
       "(6.283185307179586, 3.141592653589793)"
      ]
     },
     "execution_count": 24,
     "metadata": {},
     "output_type": "execute_result"
    }
   ],
   "source": [
    "from math import pi as PI\n",
    "\n",
    "def get_circle(radius):\n",
    "    return 2 * PI * radius, PI * radius**2\n",
    "\n",
    "get_circle(1)\n"
   ]
  },
  {
   "cell_type": "code",
   "execution_count": 43,
   "id": "258c95e8-45db-44f0-8376-9f1bfef2d37e",
   "metadata": {},
   "outputs": [
    {
     "data": {
      "text/plain": [
       "(-1.0, -1.0)"
      ]
     },
     "execution_count": 43,
     "metadata": {},
     "output_type": "execute_result"
    }
   ],
   "source": [
    "import math\n",
    "\n",
    "def solve(a, b, c):\n",
    "    D = b**2 - 4 * a * c\n",
    "    if D > 0:\n",
    "        x1 = (-b + math.sqrt(D)) / (2 * a)\n",
    "        x2 = (-b - math.sqrt(D)) / (2 * a)\n",
    "    elif D == 0:\n",
    "        x = -b / (2 * a)\n",
    "        x1 = x\n",
    "        x2 = x\n",
    "    return min(x1, x2), max(x1, x2)\n",
    "\n",
    "solve(1, 2, 1)"
   ]
  },
  {
   "cell_type": "code",
   "execution_count": 56,
   "id": "de45c5eb-a9df-4fca-9f8f-154a1e78de96",
   "metadata": {},
   "outputs": [
    {
     "data": {
      "text/plain": [
       "3"
      ]
     },
     "execution_count": 56,
     "metadata": {},
     "output_type": "execute_result"
    }
   ],
   "source": [
    "import random\n",
    "random.randrange(10)"
   ]
  },
  {
   "cell_type": "code",
   "execution_count": 57,
   "id": "ba744cd7-9a00-4367-b7e2-02824cc0ef95",
   "metadata": {},
   "outputs": [
    {
     "name": "stdout",
     "output_type": "stream",
     "text": [
      "7\n"
     ]
    }
   ],
   "source": [
    "n = 100\n",
    "count = 0\n",
    "while n > 0:\n",
    "    n //= 2\n",
    "    count += 1\n",
    "\n",
    "print(count)"
   ]
  },
  {
   "cell_type": "code",
   "execution_count": 66,
   "id": "4a1363e7-1836-4523-8018-99f5840c2202",
   "metadata": {},
   "outputs": [
    {
     "data": {
      "text/plain": [
       "3.321928094887362"
      ]
     },
     "execution_count": 66,
     "metadata": {},
     "output_type": "execute_result"
    }
   ],
   "source": [
    "import math\n",
    "\n",
    "math.log2(10)"
   ]
  },
  {
   "cell_type": "code",
   "execution_count": 79,
   "id": "03fb68b8-e1a6-412e-ac75-2e0f81bd77c3",
   "metadata": {},
   "outputs": [
    {
     "name": "stdin",
     "output_type": "stream",
     "text": [
      " 3645762\n"
     ]
    },
    {
     "name": "stdout",
     "output_type": "stream",
     "text": [
      "22\n"
     ]
    }
   ],
   "source": [
    "from math import log2, ceil\n",
    "\n",
    "n = int(input())\n",
    "print(ceil(log2(n)))"
   ]
  },
  {
   "cell_type": "code",
   "execution_count": 3,
   "id": "5202c3fe-3ad4-42ad-be6c-3cb382a1d585",
   "metadata": {},
   "outputs": [
    {
     "name": "stdout",
     "output_type": "stream",
     "text": [
      "Добро пожаловать в числовую угадайку\n",
      "Угадай число от 1 до 100: \n",
      "\n"
     ]
    },
    {
     "name": "stdin",
     "output_type": "stream",
     "text": [
      " 50\n"
     ]
    },
    {
     "name": "stdout",
     "output_type": "stream",
     "text": [
      "Ваше число больше загаданного, попробуйте еще разок\n"
     ]
    },
    {
     "name": "stdin",
     "output_type": "stream",
     "text": [
      " 25\n"
     ]
    },
    {
     "name": "stdout",
     "output_type": "stream",
     "text": [
      "Ваше число больше загаданного, попробуйте еще разок\n"
     ]
    },
    {
     "name": "stdin",
     "output_type": "stream",
     "text": [
      " 12\n"
     ]
    },
    {
     "name": "stdout",
     "output_type": "stream",
     "text": [
      "Ваше число меньше загаданного, попробуйте еще разок\n"
     ]
    },
    {
     "name": "stdin",
     "output_type": "stream",
     "text": [
      " 20\n"
     ]
    },
    {
     "name": "stdout",
     "output_type": "stream",
     "text": [
      "Ваше число меньше загаданного, попробуйте еще разок\n"
     ]
    },
    {
     "name": "stdin",
     "output_type": "stream",
     "text": [
      " 23\n"
     ]
    },
    {
     "name": "stdout",
     "output_type": "stream",
     "text": [
      "Ваше число меньше загаданного, попробуйте еще разок\n"
     ]
    },
    {
     "name": "stdin",
     "output_type": "stream",
     "text": [
      " 24\n"
     ]
    },
    {
     "name": "stdout",
     "output_type": "stream",
     "text": [
      "Вы угадали, поздравляем!\n",
      "Спасибо, что играли в числовую угадайку. Еще увидимся...\n"
     ]
    }
   ],
   "source": [
    "import random\n",
    "\n",
    "def is_valid(num):\n",
    "    try:\n",
    "        num = int(num)\n",
    "    except:\n",
    "        return False\n",
    "    \n",
    "    if 1 <= num <= 100:\n",
    "            return True\n",
    "    return False\n",
    "\n",
    "def check(n, r):\n",
    "    if n < r:\n",
    "        print('Ваше число меньше загаданного, попробуйте еще разок')\n",
    "        return False\n",
    "    elif n > r:\n",
    "        print('Ваше число больше загаданного, попробуйте еще разок')\n",
    "        return False\n",
    "    elif n == r:\n",
    "        print('Вы угадали, поздравляем!')\n",
    "        return True\n",
    "\n",
    "def main_loop():\n",
    "    r = random.randint(1, 100)\n",
    "    print('Добро пожаловать в числовую угадайку')\n",
    "    \n",
    "    while True:\n",
    "        print('Угадай число от 1 до 100: \\n')\n",
    "        n = input()\n",
    "        if not is_valid(n):\n",
    "            print('А может быть все-таки введем целое число от 1 до 100?')\n",
    "            continue\n",
    "        n = int(n)\n",
    "        break\n",
    "\n",
    "    while not check(n, r):\n",
    "        n = int(input())\n",
    "\n",
    "    print('Спасибо, что играли в числовую угадайку. Еще увидимся...')\n",
    "\n",
    "main_loop()\n",
    "\n"
   ]
  },
  {
   "cell_type": "code",
   "execution_count": 4,
   "id": "1191c92f-5d43-49cc-a9d1-d4561ce96265",
   "metadata": {},
   "outputs": [
    {
     "name": "stdout",
     "output_type": "stream",
     "text": [
      "Привет, Мир, я магический шар, и я знаю ответ на любой твой вопрос.\n"
     ]
    },
    {
     "name": "stdin",
     "output_type": "stream",
     "text": [
      "введи свое имя, пытливый... \n",
      " РОДИОН\n"
     ]
    },
    {
     "name": "stdout",
     "output_type": "stream",
     "text": [
      "Привет, РОДИОН\n"
     ]
    },
    {
     "name": "stdin",
     "output_type": "stream",
     "text": [
      "Введи свой вопрос, РОДИОН, или exit для выхода: \n",
      " Мне нужно выключить свет в комнате?\n"
     ]
    },
    {
     "name": "stdout",
     "output_type": "stream",
     "text": [
      "Пока неясно, попробуй снова\n"
     ]
    },
    {
     "name": "stdin",
     "output_type": "stream",
     "text": [
      "Введи свой вопрос, РОДИОН, или exit для выхода: \n",
      " Я сделал уроки?\n"
     ]
    },
    {
     "name": "stdout",
     "output_type": "stream",
     "text": [
      "Мой ответ - нет\n"
     ]
    },
    {
     "name": "stdin",
     "output_type": "stream",
     "text": [
      "Введи свой вопрос, РОДИОН, или exit для выхода: \n",
      " Я хочу пойти в школу?\n"
     ]
    },
    {
     "name": "stdout",
     "output_type": "stream",
     "text": [
      "Пока неясно, попробуй снова\n"
     ]
    },
    {
     "name": "stdin",
     "output_type": "stream",
     "text": [
      "Введи свой вопрос, РОДИОН, или exit для выхода: \n",
      " Хочу?\n"
     ]
    },
    {
     "name": "stdout",
     "output_type": "stream",
     "text": [
      "Бесспорно\n"
     ]
    },
    {
     "name": "stdin",
     "output_type": "stream",
     "text": [
      "Введи свой вопрос, РОДИОН, или exit для выхода: \n",
      " exit\n"
     ]
    },
    {
     "name": "stdout",
     "output_type": "stream",
     "text": [
      "Мне кажется да\n",
      "Возвращайся если возникнут вопросы!\n"
     ]
    }
   ],
   "source": [
    "import random\n",
    "ANSWERS = [\n",
    "    'Бесспорно', 'Предрешено', 'Никаких сомнений', 'Определенно да', \n",
    "    'Можешь быть уверен в этом', 'Мне кажется да', 'Вероятнее всего',\n",
    "    'Хорошие перспективы', 'Знаки говорят - да', 'ДА',\n",
    "    'Пока неясно, попробуй снова', 'Спроси позже', 'Лучше не рассказывать',\n",
    "    'Сейчас нельзя предсказать', 'Сконцентрируйся и спроси опять',\n",
    "    'Даже не думай', 'Мой ответ - нет', 'По моим данным - нет',\n",
    "    'Перспективы не очень хорошие', 'Весьма сомнительно'\n",
    "     ]\n",
    "\n",
    "def choice(answers):\n",
    "    n = len(answers)\n",
    "    r = random.randrange(n)\n",
    "    return answers[r]\n",
    "\n",
    "def main_loop():\n",
    "    print('Привет, Мир, я магический шар, и я знаю ответ на любой твой вопрос.')\n",
    "    name = input('введи свое имя, пытливый... \\n')\n",
    "    print(f'Привет, { name }')\n",
    "    q = ''\n",
    "          \n",
    "    while q != 'exit':\n",
    "        q = input(f'Введи свой вопрос, { name }, или exit для выхода: \\n')\n",
    "        print(choice(ANSWERS))\n",
    "    print('Возвращайся если возникнут вопросы!')\n",
    "\n",
    "main_loop()\n",
    "    "
   ]
  },
  {
   "cell_type": "code",
   "execution_count": null,
   "id": "98c1f3a6-ca45-4d07-b017-5b08ad9dbbfa",
   "metadata": {},
   "outputs": [],
   "source": [
    "%run kivy/hello.py"
   ]
  },
  {
   "cell_type": "code",
   "execution_count": 27,
   "id": "0fb91d44-b7c6-4910-a970-eca98659d13f",
   "metadata": {},
   "outputs": [
    {
     "name": "stdout",
     "output_type": "stream",
     "text": [
      "       *\n",
      "      ***\n",
      "     *****\n",
      "    *******\n",
      "   *********\n",
      "  ***********\n",
      " *************\n",
      "***************\n"
     ]
    }
   ],
   "source": [
    "def draw_triangle():\n",
    "    j = 7\n",
    "    for i in range(1, 16, 2):\n",
    "        print(' ' * (j), '*' * i, sep = '')\n",
    "        j -= 1\n",
    "\n",
    "draw_triangle()"
   ]
  },
  {
   "cell_type": "code",
   "execution_count": 10,
   "id": "6f64e2b6-7371-4364-add2-6ed4d7dfaee6",
   "metadata": {},
   "outputs": [
    {
     "name": "stdout",
     "output_type": "stream",
     "text": [
      "-------\n"
     ]
    }
   ],
   "source": [
    "print('-' * (15//2))"
   ]
  },
  {
   "cell_type": "code",
   "execution_count": 34,
   "id": "0f030faf-6508-40b3-8fad-8695e1f6113b",
   "metadata": {},
   "outputs": [
    {
     "name": "stdout",
     "output_type": "stream",
     "text": [
      "1000\n",
      "1120\n",
      "1240\n",
      "12880\n",
      "5800\n"
     ]
    }
   ],
   "source": [
    "def get_shipping_cost(quantity):\n",
    "    res = 1000\n",
    "    if quantity == 1:\n",
    "        return res \n",
    "    \n",
    "    for i in range(quantity-1):\n",
    "        res += 120\n",
    "\n",
    "    return res\n",
    "\n",
    "for i in [1, 2, 3, 100, 41]:\n",
    "    print(get_shipping_cost(i))"
   ]
  },
  {
   "cell_type": "code",
   "execution_count": null,
   "id": "aa74a358-cc99-49cc-bdb8-e1e6ddeff3ff",
   "metadata": {},
   "outputs": [],
   "source": [
    "def compute_binom(n, k):\n",
    "    n_fac = 1\n",
    "    k_fac = 1\n",
    "    n_k_diff_fac = 1\n",
    "    for i in range(1, n + 1):\n",
    "        n_fac *= i\n",
    "\n",
    "    for i in range(1, k + 1):\n",
    "        k_fac *= i\n",
    "\n",
    "    for i in range(1, ((n - k) + 1)):\n",
    "        n_k_diff_fac *= i\n",
    "\n",
    "    res = n_fac / (k_fac * n_k_diff_fac)\n",
    "    return int(res)\n",
    "\n"
   ]
  },
  {
   "cell_type": "code",
   "execution_count": 47,
   "id": "d449520f-1105-4d45-886e-812eeaf27eef",
   "metadata": {},
   "outputs": [
    {
     "data": {
      "text/plain": [
       "'тридцать'"
      ]
     },
     "execution_count": 47,
     "metadata": {},
     "output_type": "execute_result"
    }
   ],
   "source": [
    "def number_to_words(n):\n",
    "    num_dict = ['ноль', 'один', 'два', 'три', 'четыре', 'пять', 'шесть', \n",
    "                'семь', 'восемь', 'девять', 'десять', 'одиннадцать', \n",
    "                'двенадцать', 'тринадцать', 'четырнадцать', 'пятнадцать', \n",
    "                'шестнадцать', 'семнадцать', 'восемнадцать', 'девятнадцать', \n",
    "                'двадцать']\n",
    "    num_dict_0 = ['', '', 'двадцать', 'тридцать', 'сорок', 'пятьдесят', 'шестьдесят', \n",
    "                'семьдесят', 'восемьдесят', 'девяносто']\n",
    "\n",
    "    if n <= 20:\n",
    "        return num_dict[n]\n",
    "    elif 21 < n <= 99 and n%10 != 0:\n",
    "        return f'{ num_dict_0[n // 10] } { num_dict[n % 10] }'\n",
    "    else:\n",
    "        return num_dict_0[n // 10]\n",
    "    \n",
    "number_to_words(30)"
   ]
  },
  {
   "cell_type": "code",
   "execution_count": null,
   "id": "44745f19-e09e-45dc-8080-ce10884776a7",
   "metadata": {},
   "outputs": [],
   "source": [
    "def get_month(language, number):\n",
    "    m_ru = ' январь февраль март апрель май июнь июль август сентябрь октябрь ноябрь декабрь'.split(' ')\n",
    "    m_en = ' january february march april may june july august september october november december'.split(' ')\n",
    "    if language == 'ru':\n",
    "        return m_ru[number]\n",
    "    elif language == 'en':\n",
    "        return m_en[number]\n",
    "\n",
    "for i in range(1, 13):\n",
    "    print(get_month('ru', i))\n",
    "    print(get_month('en', i))"
   ]
  },
  {
   "cell_type": "code",
   "execution_count": 54,
   "id": "5cdb22b0-8654-4b69-9ce2-230213ddeb0e",
   "metadata": {},
   "outputs": [
    {
     "name": "stdin",
     "output_type": "stream",
     "text": [
      " 11.06.1960\n"
     ]
    },
    {
     "data": {
      "text/plain": [
       "False"
      ]
     },
     "execution_count": 54,
     "metadata": {},
     "output_type": "execute_result"
    }
   ],
   "source": [
    "def is_magic(date):\n",
    "    d_l = [int(x) for x in date.split('.')]\n",
    "    return d_l[0] * d_l[1] == d_l[2] % 100\n",
    "\n",
    "is_magic(input())"
   ]
  },
  {
   "cell_type": "code",
   "execution_count": 58,
   "id": "20e0d747-a494-42b2-a158-5774e98f9107",
   "metadata": {},
   "outputs": [
    {
     "name": "stdin",
     "output_type": "stream",
     "text": [
      " hello world\n"
     ]
    },
    {
     "data": {
      "text/plain": [
       "False"
      ]
     },
     "execution_count": 58,
     "metadata": {},
     "output_type": "execute_result"
    }
   ],
   "source": [
    "def is_pangram(text):\n",
    "    alphabet = 'abcdefghijklmnopqrstuvwxyz'\n",
    "    count = 0\n",
    "    text = text.lower()\n",
    "    for c in alphabet:\n",
    "        if c in text:\n",
    "            count += 1\n",
    "    return count == len(alphabet)\n",
    "\n",
    "is_pangram(input())"
   ]
  },
  {
   "cell_type": "code",
   "execution_count": 59,
   "id": "22719c3f-955d-4dea-a2b0-f460a7e8b4ff",
   "metadata": {},
   "outputs": [
    {
     "name": "stdin",
     "output_type": "stream",
     "text": [
      " 3\n",
      " 8\n"
     ]
    },
    {
     "name": "stdout",
     "output_type": "stream",
     "text": [
      "11\n",
      "-5\n",
      "24\n",
      "0.375\n",
      "0\n",
      "3\n",
      "32768.90100384814\n"
     ]
    }
   ],
   "source": [
    "a, b = int(input()), int(input())\n",
    "print(a + b)\n",
    "print(a - b)\n",
    "print(a * b)\n",
    "print(a / b)\n",
    "print(a // b)\n",
    "print(a % b)\n",
    "print((a**10 + b**10)**0.5)"
   ]
  },
  {
   "cell_type": "code",
   "execution_count": 62,
   "id": "52e4077d-6ec6-4111-a995-b77e91667a8d",
   "metadata": {},
   "outputs": [
    {
     "name": "stdin",
     "output_type": "stream",
     "text": [
      " 120\n",
      " 1.95\n"
     ]
    },
    {
     "name": "stdout",
     "output_type": "stream",
     "text": [
      "Избыточная масса\n"
     ]
    }
   ],
   "source": [
    "weight, height = float(input()), float(input())\n",
    "\n",
    "imt = weight/height**2\n",
    "\n",
    "if imt < 18.5:\n",
    "    print('Недостаточная масса')\n",
    "elif 18.5 <= imt <= 25:\n",
    "    print('Оптимальная масса')\n",
    "elif imt > 25:\n",
    "    print('Избыточная масса')"
   ]
  },
  {
   "cell_type": "code",
   "execution_count": 65,
   "id": "58ede98a-1564-4ad7-8771-89e1578f72d1",
   "metadata": {},
   "outputs": [
    {
     "name": "stdin",
     "output_type": "stream",
     "text": [
      " Тимур - лучший математик на свете!!\n"
     ]
    },
    {
     "name": "stdout",
     "output_type": "stream",
     "text": [
      "21 р. 0 коп.\n"
     ]
    }
   ],
   "source": [
    "s = input()\n",
    "cost = len(s) * 60\n",
    "print(f'{ cost // 100 } р. { cost % 100 } коп.')"
   ]
  },
  {
   "cell_type": "code",
   "execution_count": 104,
   "id": "b1f85ba2-f986-4aaa-99d4-c01ea6943599",
   "metadata": {},
   "outputs": [
    {
     "name": "stdin",
     "output_type": "stream",
     "text": [
      " 2000\n"
     ]
    },
    {
     "name": "stdout",
     "output_type": "stream",
     "text": [
      "Дракон\n"
     ]
    }
   ],
   "source": [
    "year = int(input())\n",
    "china_year = 'Обезьяна Петух Собака Свинья Крыса Бык Тигр Заяц Дракон Змея Лошадь Овца'.split()\n",
    "print(china_year[(year - 2004) % 12])"
   ]
  },
  {
   "cell_type": "code",
   "execution_count": 100,
   "id": "a9372c3f-2bcc-4e94-90b0-b191b4f7c395",
   "metadata": {},
   "outputs": [
    {
     "data": {
      "text/plain": [
       "9"
      ]
     },
     "execution_count": 100,
     "metadata": {},
     "output_type": "execute_result"
    }
   ],
   "source": [
    "(1983 - 2004) % 12"
   ]
  },
  {
   "cell_type": "code",
   "execution_count": 98,
   "id": "e9b015de-1e1e-45be-bbdc-ad20d424e0b7",
   "metadata": {},
   "outputs": [
    {
     "data": {
      "text/plain": [
       "['Обезьяна',\n",
       " 'Петух',\n",
       " 'Собака',\n",
       " 'Свинья',\n",
       " 'Крыса',\n",
       " 'Бык',\n",
       " 'Тигр',\n",
       " 'Заяц',\n",
       " 'Дракон',\n",
       " 'Змея',\n",
       " 'Лошадь',\n",
       " 'Овца']"
      ]
     },
     "execution_count": 98,
     "metadata": {},
     "output_type": "execute_result"
    }
   ],
   "source": [
    "china_year"
   ]
  },
  {
   "cell_type": "code",
   "execution_count": 23,
   "id": "082365fe-21be-4dbf-ad1e-e34025db2e9d",
   "metadata": {},
   "outputs": [
    {
     "name": "stdin",
     "output_type": "stream",
     "text": [
      " 25000\n"
     ]
    },
    {
     "name": "stdout",
     "output_type": "stream",
     "text": [
      "52\n"
     ]
    }
   ],
   "source": [
    "n = input()\n",
    "\n",
    "if len(n) == 5:\n",
    "    print(int(n[::-1]))\n",
    "else:\n",
    "    print(int(n[0] + n[-1:0:-1]))"
   ]
  },
  {
   "cell_type": "code",
   "execution_count": 25,
   "id": "525b6550-d4a6-4bf7-90f9-f726dad7a1f6",
   "metadata": {},
   "outputs": [
    {
     "name": "stdin",
     "output_type": "stream",
     "text": [
      " 6785430\n"
     ]
    },
    {
     "name": "stdout",
     "output_type": "stream",
     "text": [
      "6703458\n"
     ]
    }
   ],
   "source": [
    "n = input()\n",
    "\n",
    "new_n = int(n[:-5] + n[-5:][::-1])\n",
    "\n",
    "print(new_n)"
   ]
  },
  {
   "cell_type": "code",
   "execution_count": 36,
   "id": "42bc063a-657c-4e1b-a59f-805da49434d2",
   "metadata": {},
   "outputs": [
    {
     "name": "stdin",
     "output_type": "stream",
     "text": [
      " 12392393845708329758903712785\n"
     ]
    },
    {
     "name": "stdout",
     "output_type": "stream",
     "text": [
      "12,392,393,845,708,329,758,903,712,785\n"
     ]
    }
   ],
   "source": [
    "n = input()\n",
    "\n",
    "n_r = n[::-1]\n",
    "out = list()\n",
    "\n",
    "for i in range(len(n_r)):\n",
    "    if i % 3 == 0:\n",
    "        out.append(',')\n",
    "        \n",
    "    out.append(n_r[i])\n",
    "\n",
    "out = out[::-1]\n",
    "print(''.join(out)[:-1])"
   ]
  },
  {
   "cell_type": "code",
   "execution_count": 47,
   "id": "7f08fd1e-463e-4860-a4b3-d65c85886675",
   "metadata": {},
   "outputs": [
    {
     "name": "stdin",
     "output_type": "stream",
     "text": [
      " 109890851\n"
     ]
    },
    {
     "ename": "ValueError",
     "evalue": "Format specifier missing precision",
     "output_type": "error",
     "traceback": [
      "\u001b[0;31m---------------------------------------------------------------------------\u001b[0m",
      "\u001b[0;31mValueError\u001b[0m                                Traceback (most recent call last)",
      "Cell \u001b[0;32mIn[47], line 3\u001b[0m\n\u001b[1;32m      1\u001b[0m n \u001b[38;5;241m=\u001b[39m \u001b[38;5;28mint\u001b[39m(\u001b[38;5;28minput\u001b[39m())\n\u001b[0;32m----> 3\u001b[0m \u001b[38;5;28mprint\u001b[39m(\u001b[38;5;124mf\u001b[39m\u001b[38;5;124m'\u001b[39m\u001b[38;5;132;01m{\u001b[39;00m\u001b[38;5;250m \u001b[39mn\u001b[38;5;132;01m:\u001b[39;00m\u001b[38;5;124m.\u001b[39m\u001b[38;5;132;01m}\u001b[39;00m\u001b[38;5;124m'\u001b[39m)\n",
      "\u001b[0;31mValueError\u001b[0m: Format specifier missing precision"
     ]
    }
   ],
   "source": [
    "n = int(input())\n",
    "\n",
    "print(f'{ n:,}')"
   ]
  },
  {
   "cell_type": "code",
   "execution_count": 35,
   "id": "fc7a0778-28db-4451-b1e2-3b7e0a77a150",
   "metadata": {},
   "outputs": [
    {
     "name": "stdout",
     "output_type": "stream",
     "text": [
      "main_list [1, 2, 3, 4, 5, 6, 7]\n",
      "work_list [1, 2, 3, 4, 5, 6, 7]\n",
      "kill_i 5\n",
      "main_list [1, 2, 3, 4, 5, 1, 2, 3, 4, 5, 7]\n",
      "work_list [1, 2, 3, 4, 5, 7]\n",
      "kill_i 10\n",
      "main_list [1, 2, 3, 4, 5, 1, 2, 3, 4, 5, 1, 2, 3, 4, 5]\n",
      "work_list [1, 2, 3, 4, 5]\n",
      "kill_i 15\n",
      "main_list [1, 2, 3, 4, 5, 1, 2, 3, 4, 5, 1, 2, 3, 4, 5, 2, 3, 4, 5]\n",
      "work_list [2, 3, 4, 5]\n",
      "kill_i 20\n",
      "main_list [1, 2, 3, 4, 5, 1, 2, 3, 4, 5, 1, 2, 3, 4, 5, 2, 3, 4, 5, 2, 2, 4, 5]\n",
      "work_list [2, 4, 5]\n",
      "kill_i 25\n",
      "main_list [1, 2, 3, 4, 5, 1, 2, 3, 4, 5, 1, 2, 3, 4, 5, 2, 3, 4, 5, 2, 2, 4, 5, 2, 4, 2, 4]\n",
      "work_list [2, 4]\n",
      "kill_i 30\n"
     ]
    },
    {
     "data": {
      "text/plain": [
       "[2]"
      ]
     },
     "execution_count": 35,
     "metadata": {},
     "output_type": "execute_result"
    }
   ],
   "source": [
    "# n, k = int(input()), int(input())\n",
    "# n_l = list()\n",
    "\n",
    "def circle_kill(n, k):\n",
    "\n",
    "    # for x in range(1, n * 2):\n",
    "    #     for y in range(1, n + 1):\n",
    "    #         n_l.append(y)\n",
    "            \n",
    "    kill_i = k\n",
    "\n",
    "    main_list = [x for x in range(1, n + 1)]\n",
    "    \n",
    "    work_list = [x for x in range(1, n + 1)]\n",
    "\n",
    "    while len(work_list) > 1:\n",
    "        print('main_list', main_list)\n",
    "        print('work_list', work_list)\n",
    "        print('kill_i', kill_i)\n",
    "        \n",
    "        while kill_i > len(main_list) - 1:\n",
    "            \n",
    "            main_list.extend(work_list)\n",
    "\n",
    "        kill = main_list[kill_i]\n",
    "        \n",
    "        work_list.remove(kill)\n",
    "\n",
    "        main_list = main_list[:kill_i]\n",
    "        \n",
    "        main_list.extend(work_list)\n",
    "        \n",
    "        kill_i += k\n",
    "    \n",
    "    \n",
    "    return work_list\n",
    "\n",
    "# n, k, kill = [int(input()) for _ in range(3)]\n",
    "# for i in range(kill+1):\n",
    "#     circle_kill(n, k, i)\n",
    "\n",
    "circle_kill(7, 5)"
   ]
  },
  {
   "cell_type": "code",
   "execution_count": 34,
   "id": "de9d0660-d3e0-458d-8327-7c5fc800d4be",
   "metadata": {},
   "outputs": [
    {
     "name": "stdout",
     "output_type": "stream",
     "text": [
      "[1, 2, 3, 4, 5, 1, 2, 3, 4, 5, 1, 2, 3, 4, 5, 1, 2, 3, 4, 5, 1, 2, 3, 4, 5, 1, 2, 3, 4, 5, 1, 2, 3, 4, 5, 1, 2, 3, 4, 5, 1, 2, 3, 4, 5]\n"
     ]
    }
   ],
   "source": [
    "ll = list()\n",
    "for x in range(1, 10):\n",
    "    for y in range(1,6):\n",
    "        ll.append(y)\n",
    "print(ll)"
   ]
  },
  {
   "cell_type": "code",
   "execution_count": 23,
   "id": "b71bb537-c461-45e2-ae04-fa1f7bfd973d",
   "metadata": {},
   "outputs": [
    {
     "data": {
      "text/plain": [
       "[2, 2, 3, 4, 5]"
      ]
     },
     "execution_count": 23,
     "metadata": {},
     "output_type": "execute_result"
    }
   ],
   "source": [
    "ll = [2,2, 1, 3,4, 1, 5, 1]\n",
    "ll.remove(1)\n",
    "ll.remove(1)\n",
    "ll.remove(1)\n",
    "ll"
   ]
  },
  {
   "cell_type": "code",
   "execution_count": 11,
   "id": "7bd79166-5c23-45ca-941d-e744fc8466ed",
   "metadata": {},
   "outputs": [
    {
     "name": "stdout",
     "output_type": "stream",
     "text": [
      "[0, 1, 2, 3, 4, 5, 6, 7, 8, 9]\n",
      "[0, 1, 2, 3, 4, 5, 6, 7, 8, 9]\n",
      "[0, 1, 2, 3, 4, 5, 6, 7, 8, 9]\n"
     ]
    },
    {
     "data": {
      "text/plain": [
       "10"
      ]
     },
     "execution_count": 11,
     "metadata": {},
     "output_type": "execute_result"
    }
   ],
   "source": [
    "f = [x for x in range(10)]\n",
    "print(f, f, f, sep = '\\n')\n",
    "type(f)\n",
    "len(f)"
   ]
  },
  {
   "cell_type": "code",
   "execution_count": 37,
   "id": "f22ecda9-750d-41c2-9b2f-06bf49913ea2",
   "metadata": {},
   "outputs": [
    {
     "data": {
      "text/plain": [
       "6"
      ]
     },
     "execution_count": 37,
     "metadata": {},
     "output_type": "execute_result"
    }
   ],
   "source": [
    "def josephus(n, k):\n",
    "    if n == 1:\n",
    "        return 1\n",
    "    else:\n",
    "        return (josephus(n - 1, k) + k - 1) % n + 1\n",
    "\n",
    "josephus(7, 5)"
   ]
  },
  {
   "cell_type": "code",
   "execution_count": null,
   "id": "d0c5d82a-462f-4e5d-b9de-b532350b46b7",
   "metadata": {},
   "outputs": [],
   "source": [
    "import turtle\n",
    "import random\n",
    "\n",
    "# Настройки экрана\n",
    "screen = turtle.Screen()\n",
    "screen.bgcolor(\"black\")\n",
    "screen.title(\"Moving Stars\")\n",
    "\n",
    "# Создание черепахи\n",
    "star = turtle.Turtle()\n",
    "star.shape(\"circle\")\n",
    "star.color(\"white\")\n",
    "star.speed(0)\n",
    "star.penup()\n",
    "\n",
    "# Функция для создания случайной звезды\n",
    "def create_star():\n",
    "    x = random.randint(-screen.window_width()//2, screen.window_width()//2)\n",
    "    y = random.randint(-screen.window_height()//2, screen.window_height()//2)\n",
    "    star.goto(x, y)\n",
    "\n",
    "# Функция для движения звезды\n",
    "def move_star():\n",
    "    star.setheading(random.randint(0, 360))  # Случайное направление\n",
    "    star.forward(random.randint(10, 50))  # Случайное расстояние\n",
    "\n",
    "# Создание звезд на экране\n",
    "num_stars = 50\n",
    "for _ in range(num_stars):\n",
    "    create_star()\n",
    "\n",
    "# Задание бесконечного движения звезд\n",
    "while True:\n",
    "    move_star()\n",
    "    screen.update()  # Обновление экрана\n"
   ]
  },
  {
   "cell_type": "code",
   "execution_count": null,
   "id": "3a2aec76-ba36-4432-b1dc-d9f4fee045fe",
   "metadata": {},
   "outputs": [],
   "source": [
    "import turtle\n",
    "import random\n",
    "\n",
    "# Установка окна для отображения\n",
    "turtle.bgcolor(\"black\")\n",
    "turtle.title(\"Moving Stars\")\n",
    "\n",
    "# Создание черепашки для рисования звезд\n",
    "star = turtle.Turtle()\n",
    "star.shape(\"circle\")\n",
    "star.color(\"white\")\n",
    "star.speed(0)  # Наивысшая скорость\n",
    "\n",
    "# Функция для создания случайной звезды\n",
    "def create_star():\n",
    "    x = random.randint(-turtle.window_width() // 2, turtle.window_width() // 2)\n",
    "    y = random.randint(-turtle.window_height() // 2, turtle.window_height() // 2)\n",
    "    size = random.uniform(0.1, 0.5)\n",
    "    star.penup()\n",
    "    star.goto(x, y)\n",
    "    star.shapesize(size)\n",
    "    star.pendown()\n",
    "    star.stamp()\n",
    "\n",
    "# Движение звезд\n",
    "while True:\n",
    "    create_star()\n",
    "    star.setx(star.xcor() - 2)  # Движение звезды влево\n",
    "    turtle.update()\n"
   ]
  },
  {
   "cell_type": "code",
   "execution_count": 45,
   "id": "d5f457a6-6515-4966-950b-9ebf815cc7ac",
   "metadata": {},
   "outputs": [
    {
     "name": "stdin",
     "output_type": "stream",
     "text": [
      " 4\n",
      " 0 -1\n",
      " 1 2\n",
      " 0 9\n",
      " -9 -5\n"
     ]
    },
    {
     "name": "stdout",
     "output_type": "stream",
     "text": [
      "Первая четверть: 1\n",
      "Вторая четверть: 0\n",
      "Третья четверть: 1\n",
      "Четвертая четверть: 0\n"
     ]
    }
   ],
   "source": [
    "n = int(input())\n",
    "\n",
    "xylist = list()\n",
    "\n",
    "for _ in range(n):\n",
    "    xylist.append([int(i) for i in input().split()])\n",
    "\n",
    "countlist = [0, 0, 0, 0]\n",
    "\n",
    "for xy in xylist:\n",
    "    if xy[0] == 0 or xy[1] == 0:\n",
    "        continue\n",
    "    if xy[0] > 0 and xy[1] > 0:\n",
    "        countlist[0] += 1\n",
    "    elif xy[0] < 0 and xy[1] > 0:\n",
    "        countlist[1] += 1\n",
    "    elif xy[0] < 0 and xy[1] < 0:\n",
    "        countlist[2] += 1\n",
    "    elif xy[0] > 0 and xy[1] < 0:\n",
    "        countlist[3] += 1\n",
    "\n",
    "print('Первая четверть:', countlist[0])\n",
    "print('Вторая четверть:', countlist[1])\n",
    "print('Третья четверть:', countlist[2])\n",
    "print('Четвертая четверть:', countlist[3])"
   ]
  },
  {
   "cell_type": "code",
   "execution_count": 55,
   "id": "d4d826c3-a014-41d0-9ff2-58eee697722d",
   "metadata": {},
   "outputs": [
    {
     "name": "stdin",
     "output_type": "stream",
     "text": [
      " 1 1 3 2 2 1 1 1 1\n"
     ]
    },
    {
     "name": "stdout",
     "output_type": "stream",
     "text": [
      "1\n"
     ]
    }
   ],
   "source": [
    "num_list = [int(x) for x in input().split()]\n",
    "\n",
    "count = 0\n",
    "min_d = num_list[0]\n",
    "\n",
    "for i in num_list:\n",
    "    if i > min_d:\n",
    "        count += 1\n",
    "    min_d = i\n",
    "\n",
    "print(count)"
   ]
  },
  {
   "cell_type": "code",
   "execution_count": 57,
   "id": "6e942266-634e-4e89-9258-35071bfd361b",
   "metadata": {},
   "outputs": [
    {
     "name": "stdin",
     "output_type": "stream",
     "text": [
      " 2 3 2 4\n"
     ]
    },
    {
     "name": "stdout",
     "output_type": "stream",
     "text": [
      "3 2 4 2\n"
     ]
    }
   ],
   "source": [
    "num_list = [int(x) for x in input().split()]\n",
    "for i in range(0, len(num_list), 2):\n",
    "    if i + 1 < len(num_list):\n",
    "        num_list[i], num_list[i + 1] = num_list[i + 1], num_list[i]\n",
    "    else:\n",
    "        break\n",
    "\n",
    "print(*num_list)\n",
    "        "
   ]
  },
  {
   "cell_type": "code",
   "execution_count": 64,
   "id": "94b105f6-a3db-4942-befd-bc4389e156ad",
   "metadata": {},
   "outputs": [
    {
     "name": "stdin",
     "output_type": "stream",
     "text": [
      " 1 2 3 4 5\n"
     ]
    },
    {
     "name": "stdout",
     "output_type": "stream",
     "text": [
      "5 1 2 3 4\n"
     ]
    }
   ],
   "source": [
    "num_list = list(map(int, input().split()))\n",
    "num_list.insert(0, num_list.pop())\n",
    "\n",
    "print(*num_list)"
   ]
  },
  {
   "cell_type": "code",
   "execution_count": 65,
   "id": "0d4a03b8-7270-47ae-a3d5-a83590c7daa9",
   "metadata": {},
   "outputs": [
    {
     "name": "stdin",
     "output_type": "stream",
     "text": [
      " 1 1 1 2 2 2 2 3 3 3\n"
     ]
    },
    {
     "name": "stdout",
     "output_type": "stream",
     "text": [
      "3\n"
     ]
    }
   ],
   "source": [
    "num_list = list(map(int, input().split()))\n",
    "unique_list = list()\n",
    "count = 0\n",
    "\n",
    "for i in num_list:\n",
    "    if i in unique_list:\n",
    "        continue\n",
    "    else:\n",
    "        unique_list.append(i)\n",
    "        count += 1\n",
    "\n",
    "print(count)"
   ]
  },
  {
   "cell_type": "code",
   "execution_count": 14,
   "id": "c4561d96-9b45-4cac-a3d6-4383c3bb3265",
   "metadata": {
    "editable": true,
    "slideshow": {
     "slide_type": ""
    },
    "tags": []
   },
   "outputs": [
    {
     "name": "stdin",
     "output_type": "stream",
     "text": [
      " 4\n",
      " 89\n",
      " 4\n",
      " 77\n",
      " 4\n",
      " 16\n"
     ]
    },
    {
     "name": "stdout",
     "output_type": "stream",
     "text": [
      "ДА\n"
     ]
    }
   ],
   "source": [
    "def _mult(): \n",
    "    num_list = [int(input()) for x in range(int(input()))] \n",
    "    mult = int(input())\n",
    "\n",
    "    for i in range(len(num_list)):\n",
    "        for j in range(len(num_list)):\n",
    "            if i == j:\n",
    "                continue\n",
    "            if num_list[i] * num_list[j] == mult:\n",
    "                return 'ДА'\n",
    "    return 'НЕТ'\n",
    "\n",
    "print(_mult())"
   ]
  },
  {
   "cell_type": "code",
   "execution_count": 19,
   "id": "fb884e35-660d-4241-a878-e6e940cd75e2",
   "metadata": {},
   "outputs": [
    {
     "name": "stdin",
     "output_type": "stream",
     "text": [
      " камень\n",
      " ножницы\n"
     ]
    },
    {
     "name": "stdout",
     "output_type": "stream",
     "text": [
      "Тимур\n"
     ]
    }
   ],
   "source": [
    "def paper_scissors_stone(timur, ruslan):\n",
    "    win1 = 'Тимур'\n",
    "    win2 = 'Руслан'\n",
    "    win3 = 'ничья'\n",
    "    q_set = ['камень камень', 'бумага бумага', 'ножницы ножницы',\n",
    "              'бумага камень', 'ножницы бумага', 'камень ножницы',\n",
    "              'камень бумага', 'бумага ножницы', 'ножницы камень']\n",
    "    q_str = ' '.join((timur, ruslan))\n",
    "    if q_str == q_set[0] or q_str == q_set[1] or q_str == q_set[2]:\n",
    "        return win3\n",
    "    elif q_str == q_set[3] or q_str == q_set[4] or q_str == q_set[5]:\n",
    "        return win1\n",
    "    else:\n",
    "        return win2\n",
    "\n",
    "print(paper_scissors_stone(input(), input()))"
   ]
  },
  {
   "cell_type": "code",
   "execution_count": 23,
   "id": "72726866-0a0c-4b5b-be64-476469c9ae47",
   "metadata": {},
   "outputs": [
    {
     "name": "stdin",
     "output_type": "stream",
     "text": [
      " ножницы\n",
      " ножницы\n"
     ]
    },
    {
     "name": "stdout",
     "output_type": "stream",
     "text": [
      "ничья\n"
     ]
    }
   ],
   "source": [
    "def paper_scissors_stone_spok(timur, ruslan):\n",
    "    win1 = 'Тимур'\n",
    "    win2 = 'Руслан'\n",
    "    win3 = 'ничья'\n",
    "    q_set = ['камень камень', 'бумага бумага', 'ножницы ножницы',\n",
    "             'ящерица ящерица', 'Спок Спок',\n",
    "             'бумага камень', 'бумага Спок',\n",
    "             'ножницы бумага', 'ножницы ящерица',\n",
    "             'камень ножницы', 'камень ящерица',\n",
    "             'ящерица Спок', 'ящерица бумага', \n",
    "             'Спок ножницы', 'Спок камень', \n",
    "            ]\n",
    "    q_str = ' '.join((timur, ruslan))\n",
    "    if q_str in q_set[0:5]:\n",
    "        return win3\n",
    "    elif q_str in q_set[5:]:\n",
    "        return win1\n",
    "    else:\n",
    "        return win2\n",
    "\n",
    "print(paper_scissors_stone_spok(input(), input()))"
   ]
  },
  {
   "cell_type": "code",
   "execution_count": 26,
   "id": "502714e5-fa5b-4b06-946f-3b0ae4ac2817",
   "metadata": {},
   "outputs": [
    {
     "name": "stdout",
     "output_type": "stream",
     "text": [
      "31\n"
     ]
    }
   ],
   "source": [
    "def head_tails(ht):\n",
    "    count_l = [0]\n",
    "    for c in ht:\n",
    "        if c == 'Р':\n",
    "            if count_l[-1] != 0:\n",
    "                count_l[-1] += 1\n",
    "            elif count_l[-1] == 0:\n",
    "                count_l.append(1)\n",
    "        else:\n",
    "            count_l.append(0)\n",
    "\n",
    "    return max(count_l)\n",
    "\n",
    "print(head_tails(input()))"
   ]
  },
  {
   "cell_type": "code",
   "execution_count": 28,
   "id": "9eac20b7-4cc0-40b7-9afa-e52991b6b23b",
   "metadata": {},
   "outputs": [
    {
     "data": {
      "text/plain": [
       "9"
      ]
     },
     "execution_count": 28,
     "metadata": {},
     "output_type": "execute_result"
    }
   ],
   "source": [
    "len(max('ООООРРРРРРРРРОРРОООООР'.split('О')))\n"
   ]
  },
  {
   "cell_type": "code",
   "execution_count": 16,
   "id": "6ca385ff-178d-48d1-808a-cdaa3374d720",
   "metadata": {},
   "outputs": [
    {
     "name": "stdin",
     "output_type": "stream",
     "text": [
      " 3\n",
      " antonanton\n",
      " atonn\n",
      " ergnorgenoigeroiegrroinoirgonioinrgeanton\n"
     ]
    },
    {
     "name": "stdout",
     "output_type": "stream",
     "text": [
      "1 3\n"
     ]
    }
   ],
   "source": [
    "n = int(input())\n",
    "cold_list = ['0']\n",
    "\n",
    "for _ in range(n):\n",
    "    i = input()\n",
    "    cold_list.append(i)\n",
    "\n",
    "code = 'anton'\n",
    "cold_inf = list()\n",
    "\n",
    "for i in range(len(cold_list)):\n",
    "    code_index = list()\n",
    "    for c in code:\n",
    "        if c not in cold_list[i]:\n",
    "            break\n",
    "        else:\n",
    "            f_index = cold_list[i].find(c)\n",
    "            code_index.append(f_index)\n",
    "            cold_list[i] = cold_list[i][f_index:]\n",
    "            \n",
    "            \n",
    "\n",
    "    if len(code_index) == 5:\n",
    "        cold_inf.append(i)\n",
    "\n",
    "print(*cold_inf)"
   ]
  },
  {
   "cell_type": "code",
   "execution_count": 28,
   "id": "fe2fc569-d21c-42d2-a5c3-3a23847e608b",
   "metadata": {},
   "outputs": [
    {
     "name": "stdin",
     "output_type": "stream",
     "text": [
      " тимур\n"
     ]
    },
    {
     "name": "stdout",
     "output_type": "stream",
     "text": [
      "тимур запретил букву а\n",
      "тимур зпретил букву б\n",
      "тимур зпретил укву в\n",
      "тимур зпретил уку е\n",
      "тимур зпртил уку з\n",
      "тимур пртил уку и\n",
      "тмур пртл уку к\n",
      "тмур пртл уу л\n",
      "тмур прт уу м\n",
      "тур прт уу п\n",
      "тур рт уу р\n",
      "ту т уу т\n",
      "у уу у\n"
     ]
    }
   ],
   "source": [
    "def roskom(word):\n",
    "    slogan = word + ' запретил букву'\n",
    "    w_list = sorted(set(slogan))[1:]\n",
    "    for w in w_list:\n",
    "        print(slogan, w)\n",
    "        slogan = ' '.join(slogan.replace(w, '').split())\n",
    "        \n",
    "\n",
    "roskom(input())"
   ]
  },
  {
   "cell_type": "code",
   "execution_count": 38,
   "id": "69912f57-e912-4989-8d6e-d6fc9d47ad20",
   "metadata": {},
   "outputs": [
    {
     "data": {
      "text/plain": [
       "True"
      ]
     },
     "execution_count": 38,
     "metadata": {},
     "output_type": "execute_result"
    }
   ],
   "source": [
    "bool(1)"
   ]
  },
  {
   "cell_type": "code",
   "execution_count": 42,
   "id": "748cb534-52dc-4527-b47d-80ce2d68447c",
   "metadata": {},
   "outputs": [
    {
     "ename": "NameError",
     "evalue": "name 'n' is not defined",
     "output_type": "error",
     "traceback": [
      "\u001b[0;31m---------------------------------------------------------------------------\u001b[0m",
      "\u001b[0;31mNameError\u001b[0m                                 Traceback (most recent call last)",
      "Cell \u001b[0;32mIn[42], line 4\u001b[0m\n\u001b[1;32m      2\u001b[0m \u001b[38;5;28;01mdel\u001b[39;00m n[\u001b[38;5;241m0\u001b[39m:\u001b[38;5;241m10\u001b[39m]\n\u001b[1;32m      3\u001b[0m \u001b[38;5;28;01mdel\u001b[39;00m n\n\u001b[0;32m----> 4\u001b[0m \u001b[43mn\u001b[49m\n",
      "\u001b[0;31mNameError\u001b[0m: name 'n' is not defined"
     ]
    }
   ],
   "source": [
    "n = [1, 2, 4]\n",
    "del n[0:10]\n",
    "del n\n",
    "n"
   ]
  },
  {
   "cell_type": "code",
   "execution_count": 45,
   "id": "69dfd980-7e94-416d-a478-2c188fd0838a",
   "metadata": {},
   "outputs": [
    {
     "name": "stdin",
     "output_type": "stream",
     "text": [
      " 5\n"
     ]
    },
    {
     "name": "stdout",
     "output_type": "stream",
     "text": [
      "[1, 2, 3, 4, 5]\n",
      "[1, 2, 3, 4, 5]\n",
      "[1, 2, 3, 4, 5]\n",
      "[1, 2, 3, 4, 5]\n",
      "[1, 2, 3, 4, 5]\n"
     ]
    }
   ],
   "source": [
    "n = int(input())\n",
    "\n",
    "for i in range(n):\n",
    "    print([x for x in range(1, n + 1)])"
   ]
  },
  {
   "cell_type": "markdown",
   "id": "f8b48936-bd57-474c-93b0-a4d45156d4de",
   "metadata": {},
   "source": [
    "## MARK"
   ]
  },
  {
   "cell_type": "code",
   "execution_count": 48,
   "id": "083d40da-fbdb-47a6-a391-adaae2529594",
   "metadata": {},
   "outputs": [
    {
     "name": "stdin",
     "output_type": "stream",
     "text": [
      " 3\n"
     ]
    },
    {
     "name": "stdout",
     "output_type": "stream",
     "text": [
      "[1]\n",
      "[1, 2]\n",
      "[1, 2, 3]\n"
     ]
    }
   ],
   "source": [
    "n = int(input())\n",
    "\n",
    "for i in range(1, n + 1):\n",
    "    print([x for x in range(1, i + 1)])"
   ]
  },
  {
   "cell_type": "code",
   "execution_count": 35,
   "id": "7b4aa1c6-757b-4fa1-9533-cf25350f4a67",
   "metadata": {},
   "outputs": [
    {
     "name": "stdin",
     "output_type": "stream",
     "text": [
      " 5\n"
     ]
    },
    {
     "name": "stdout",
     "output_type": "stream",
     "text": [
      "1\n",
      "1 1\n",
      "1 2 1\n",
      "1 3 3 1\n",
      "1 4 6 4 1\n"
     ]
    }
   ],
   "source": [
    "import math\n",
    "\n",
    "n = int(input())\n",
    "m = 0\n",
    "pas_list = []\n",
    "\n",
    "for i in range(n):\n",
    "    pas_list.append([])\n",
    "    for j in range(m + 1):\n",
    "        pas_list[i].append(int(math.factorial(i) / (math.factorial(j) * math.factorial(i - j))))\n",
    "\n",
    "    m += 1\n",
    "\n",
    "for i in pas_list:\n",
    "    print(*i)\n"
   ]
  },
  {
   "cell_type": "code",
   "execution_count": 42,
   "id": "b934d171-311a-476f-873c-e365a1356f10",
   "metadata": {},
   "outputs": [
    {
     "name": "stdin",
     "output_type": "stream",
     "text": [
      " w w w o r l d g g g g r e a t t e c c h e m g g p w w\n"
     ]
    },
    {
     "name": "stdout",
     "output_type": "stream",
     "text": [
      "[['w', 'w', 'w'], ['o'], ['r'], ['l'], ['d'], ['g', 'g', 'g', 'g'], ['r'], ['e'], ['a'], ['t', 't'], ['e'], ['c', 'c'], ['h'], ['e'], ['m'], ['g', 'g'], ['p'], ['w', 'w']]\n"
     ]
    }
   ],
   "source": [
    "s = input().split()\n",
    "res = [[]]\n",
    "i = 0\n",
    "\n",
    "for c in s:\n",
    "    if c in res[i]:\n",
    "        res[i].append(c)\n",
    "    else:\n",
    "        i += 1\n",
    "        res.append([])\n",
    "        res[i].append(c)\n",
    "\n",
    "print(res[1:])\n"
   ]
  },
  {
   "cell_type": "code",
   "execution_count": 53,
   "id": "366fbfce-f156-484c-ac27-42ed61fb1343",
   "metadata": {},
   "outputs": [
    {
     "name": "stdin",
     "output_type": "stream",
     "text": [
      " a b c d e f\n",
      " 6\n"
     ]
    },
    {
     "name": "stdout",
     "output_type": "stream",
     "text": [
      "[['a', 'b', 'c', 'd', 'e', 'f']]\n"
     ]
    }
   ],
   "source": [
    "def chunked(s, chunk):\n",
    "    s = s.split()\n",
    "    \n",
    "    res = []\n",
    "    for i in range(len(s)//chunk + 1):\n",
    "        res_in = []\n",
    "        for j in range(chunk):\n",
    "            if len(s) > 0:\n",
    "                res_in.append(s.pop(0))\n",
    "        if len(res_in) > 0:\n",
    "            res.append(res_in.copy())\n",
    "    \n",
    "    return res\n",
    "\n",
    "print(chunked(input(), int(input())))\n"
   ]
  },
  {
   "cell_type": "code",
   "execution_count": 54,
   "id": "947664bf-75d6-45b6-b881-4e1bbe4d0b8f",
   "metadata": {},
   "outputs": [
    {
     "name": "stdin",
     "output_type": "stream",
     "text": [
      " a b c d e\n",
      " 2\n"
     ]
    },
    {
     "name": "stdout",
     "output_type": "stream",
     "text": [
      "[['a', 'b'], ['c', 'd'], ['e']]\n"
     ]
    }
   ],
   "source": [
    "def chunked(symbols, n):\n",
    "    result = []\n",
    "    for i in range(0, len(symbols), n):\n",
    "        result.append(symbols[i:i + n])\n",
    "    return result\n",
    "\n",
    "symbols = input().split()\n",
    "n = int(input())\n",
    "\n",
    "print(chunked(symbols, n))"
   ]
  },
  {
   "cell_type": "code",
   "execution_count": 77,
   "id": "de2bae36-7590-42f3-8c32-c4030be97cbc",
   "metadata": {},
   "outputs": [
    {
     "name": "stdin",
     "output_type": "stream",
     "text": [
      " 1 2 3 0\n"
     ]
    },
    {
     "data": {
      "text/plain": [
       "[[], ['1'], ['2'], ['3'], ['0'], ['1', '2'], ['3', '0'], ['2', '3', '0']]"
      ]
     },
     "execution_count": 77,
     "metadata": {},
     "output_type": "execute_result"
    }
   ],
   "source": [
    "def sublist(s: list):\n",
    "    out_list = [[]]\n",
    "    c = 1\n",
    "    for i in range(0, len(s) + 1):\n",
    "        l = chunked(s, c)\n",
    "        for j in l:\n",
    "            if j not in out_list:\n",
    "                out_list.append(j)\n",
    "        c += 1\n",
    "        s = s[i:]\n",
    "        \n",
    "    return out_list\n",
    "\n",
    "sublist(input().split())"
   ]
  },
  {
   "cell_type": "markdown",
   "id": "2d56a4a8-c36b-4ffd-b5a6-7aacee456fea",
   "metadata": {},
   "source": [
    "## HELLO!"
   ]
  },
  {
   "cell_type": "code",
   "execution_count": 2,
   "id": "246f47bb-1d6a-4c06-8e52-b4a98252807b",
   "metadata": {},
   "outputs": [
    {
     "name": "stdin",
     "output_type": "stream",
     "text": [
      " 2\n",
      " 3\n",
      " не\n",
      " в\n",
      " бровь\n",
      " а\n",
      " в\n",
      " глаз\n"
     ]
    },
    {
     "name": "stdout",
     "output_type": "stream",
     "text": [
      "не в бровь\n",
      "а в глаз\n",
      "\n",
      "не а \n",
      "в в \n",
      "бровь глаз \n"
     ]
    }
   ],
   "source": [
    "rows = int(input())\n",
    "cols = int(input())\n",
    "matrix = []\n",
    "\n",
    "for i in range(rows):\n",
    "   matrix.append([input() for _ in range(cols)])\n",
    "\n",
    "for i in range(len(matrix)):\n",
    "    print(*matrix[i])\n",
    "\n",
    "print()\n",
    "\n",
    "for i in range(cols):\n",
    "    for j in range(rows):\n",
    "        print(matrix[j][i], end = ' ')\n",
    "    print()\n",
    "    "
   ]
  },
  {
   "cell_type": "code",
   "execution_count": 4,
   "id": "18abaf20-20d3-422d-a932-54ce5b3bc8dc",
   "metadata": {},
   "outputs": [
    {
     "name": "stdin",
     "output_type": "stream",
     "text": [
      " 3\n",
      " 1 2 3\n",
      " 4 5 6\n",
      " 7 8 9\n"
     ]
    },
    {
     "name": "stdout",
     "output_type": "stream",
     "text": [
      "15\n"
     ]
    }
   ],
   "source": [
    "n = int(input())\n",
    "\n",
    "matrix = []\n",
    "\n",
    "for i in range(n):\n",
    "    matrix.append([int(i) for i in input().split()])\n",
    "\n",
    "s = 0\n",
    "\n",
    "for i in range(n):\n",
    "    s += matrix[i][i]\n",
    "\n",
    "print(s)"
   ]
  },
  {
   "cell_type": "code",
   "execution_count": 5,
   "id": "3c53a8b3-439b-4011-baa6-0784f014cd9e",
   "metadata": {},
   "outputs": [
    {
     "name": "stdin",
     "output_type": "stream",
     "text": [
      " 2\n",
      " 5 6\n",
      " 99 5\n"
     ]
    },
    {
     "name": "stdout",
     "output_type": "stream",
     "text": [
      "1\n",
      "1\n"
     ]
    }
   ],
   "source": [
    "n = int(input())\n",
    "\n",
    "matrix = []\n",
    "\n",
    "for i in range(n):\n",
    "    matrix.append([int(i) for i in input().split()])\n",
    "\n",
    "for i in range(n):\n",
    "    mean = sum(matrix[i]) / n\n",
    "    s = 0\n",
    "    for j in range(n):\n",
    "        if matrix[i][j] > mean:\n",
    "            s += 1\n",
    "    print(s)"
   ]
  },
  {
   "cell_type": "code",
   "execution_count": 9,
   "id": "06f5e98d-cdce-43cd-ac78-7c7f37c93c71",
   "metadata": {},
   "outputs": [
    {
     "name": "stdin",
     "output_type": "stream",
     "text": [
      " 3\n",
      " 1 4 5\n",
      " 6 7 8\n",
      " 1 1 6\n"
     ]
    },
    {
     "data": {
      "text/plain": [
       "7"
      ]
     },
     "execution_count": 9,
     "metadata": {},
     "output_type": "execute_result"
    }
   ],
   "source": [
    "def input_matrix(n: int):\n",
    "\n",
    "    matrix = []\n",
    "    \n",
    "    for i in range(n):\n",
    "        matrix.append([int(i) for i in input().split()])\n",
    "    return matrix\n",
    "\n",
    "def max_area_1(matrix: list):\n",
    "\n",
    "    n = len(matrix)\n",
    "    mx = matrix[0][0]\n",
    "    \n",
    "    for i in range(n):\n",
    "        for j in range(i + 1):\n",
    "            if matrix[i][j] > mx:\n",
    "                mx = matrix[i][j]\n",
    "\n",
    "    return mx\n",
    "\n",
    "matrix = input_matrix(int(input()))\n",
    "max_area_1(matrix)"
   ]
  },
  {
   "cell_type": "code",
   "execution_count": 16,
   "id": "ec1b55e7-2743-47f2-92cd-2706ecaebe00",
   "metadata": {},
   "outputs": [
    {
     "name": "stdin",
     "output_type": "stream",
     "text": [
      " 3\n",
      " 1 4 5\n",
      " 6 7 8\n",
      " 1 1 6\n"
     ]
    },
    {
     "data": {
      "text/plain": [
       "8"
      ]
     },
     "execution_count": 16,
     "metadata": {},
     "output_type": "execute_result"
    }
   ],
   "source": [
    "def max_area_2(matrix: list):\n",
    "\n",
    "    n = len(matrix)\n",
    "    mx = matrix[0][0]\n",
    "\n",
    "    for i in range(n):\n",
    "        for j in range(n):\n",
    "            if i >= j and i <= n - 1 - j or i <= j and i >= n - 1 - j:\n",
    "                if mx < matrix[i][j]:\n",
    "                    mx = matrix[i][j]\n",
    "\n",
    "    return mx\n",
    "\n",
    "max_area_2(input_matrix(int(input())))\n",
    "    "
   ]
  },
  {
   "cell_type": "code",
   "execution_count": 21,
   "id": "09036664-db62-4f0c-9cc5-d131ad8c794f",
   "metadata": {},
   "outputs": [
    {
     "name": "stdin",
     "output_type": "stream",
     "text": [
      " 4\n",
      " 1 2 3 4\n",
      " 5 6 7 8\n",
      " 3 4 5 6\n",
      " 1 2 3 4\n"
     ]
    },
    {
     "name": "stdout",
     "output_type": "stream",
     "text": [
      "Верхняя четверть: 5\n",
      "Правая четверть: 14\n",
      "Нижняя четверть: 5\n",
      "Левая четверть: 8\n"
     ]
    }
   ],
   "source": [
    "def sum_quart(matrix: list):\n",
    "\n",
    "    n = len(matrix)\n",
    "    q_up, q_right, q_down, q_left = 0, 0, 0, 0\n",
    "\n",
    "    for i in range(n):\n",
    "        for j in range(n):\n",
    "            if i < j and i < n - 1 - j:\n",
    "                q_up += matrix[i][j]\n",
    "            elif i < j and i > n - 1 - j:\n",
    "                q_right += matrix[i][j]\n",
    "            elif i > j and i > n - 1 - j:\n",
    "                q_down += matrix[i][j]\n",
    "            elif i > j and i < n - 1 - j:\n",
    "                q_left += matrix[i][j]\n",
    "\n",
    "    return q_up, q_right, q_down, q_left\n",
    "\n",
    "q = sum_quart(input_matrix(int(input())))\n",
    "\n",
    "print('Верхняя четверть:', q[0])\n",
    "print('Правая четверть:', q[1])\n",
    "print('Нижняя четверть:', q[2])\n",
    "print('Левая четверть:', q[3])"
   ]
  },
  {
   "cell_type": "code",
   "execution_count": 24,
   "id": "eade07c0-4fc8-4324-8e57-e45db7bcbff5",
   "metadata": {},
   "outputs": [
    {
     "name": "stdin",
     "output_type": "stream",
     "text": [
      " 6\n",
      " 6\n"
     ]
    },
    {
     "name": "stdout",
     "output_type": "stream",
     "text": [
      "  0   0   0   0   0   0 \n",
      "  0   1   2   3   4   5 \n",
      "  0   2   4   6   8  10 \n",
      "  0   3   6   9  12  15 \n",
      "  0   4   8  12  16  20 \n",
      "  0   5  10  15  20  25 \n"
     ]
    }
   ],
   "source": [
    "n, m = int(input()), int(input())\n",
    "\n",
    "for i in range(n):\n",
    "    for j in range(m):\n",
    "        print(str(i * j).rjust(3), end = ' ')\n",
    "    print()"
   ]
  },
  {
   "cell_type": "code",
   "execution_count": 29,
   "id": "2a7db6c5-c3c1-4d3f-9873-cf47a87d91ec",
   "metadata": {},
   "outputs": [
    {
     "name": "stdin",
     "output_type": "stream",
     "text": [
      " 3\n",
      " 3\n",
      " 5 3 4\n",
      " 2 3 0\n",
      " 4 1 5\n"
     ]
    },
    {
     "name": "stdout",
     "output_type": "stream",
     "text": [
      "0 0\n"
     ]
    }
   ],
   "source": [
    "n, m = int(input()), int(input())\n",
    "matrix = []\n",
    "\n",
    "for i in range(n):\n",
    "    matrix.append([int(j) for j in input().split()])\n",
    "\n",
    "mx_n, mx_m = 0, 0\n",
    "mx = matrix[mx_n][mx_m]\n",
    "\n",
    "for i in range(n):\n",
    "    for j in range(m):\n",
    "        if matrix[i][j] > mx:\n",
    "            mx_n = i\n",
    "            mx_m = j\n",
    "            mx = matrix[i][j]\n",
    "\n",
    "print(mx_n, mx_m)"
   ]
  },
  {
   "cell_type": "code",
   "execution_count": 33,
   "id": "881f38c7-b4cb-4ba8-9879-52dae76cb757",
   "metadata": {},
   "outputs": [
    {
     "name": "stdin",
     "output_type": "stream",
     "text": [
      " 3\n",
      " 3\n",
      " 11 12 13\n",
      " 21 22 23\n",
      " 32 32 33\n",
      " 2 1\n"
     ]
    },
    {
     "name": "stdout",
     "output_type": "stream",
     "text": [
      "11 13 12\n",
      "21 23 22\n",
      "32 33 32\n"
     ]
    }
   ],
   "source": [
    "n, m = int(input()), int(input())\n",
    "matrix = []\n",
    "\n",
    "for i in range(n):\n",
    "    matrix.append([int(j) for j in input().split()])\n",
    "\n",
    "ch_col1, ch_col2 = [int(i) for i in input().split()]\n",
    "\n",
    "for i in range(n):\n",
    "    for j in range(m):\n",
    "        if j == ch_col1:\n",
    "            matrix[i][j], matrix[i][ch_col2] = matrix[i][ch_col2], matrix[i][j]\n",
    "\n",
    "for i in range(n):\n",
    "    print(*matrix[i])"
   ]
  },
  {
   "cell_type": "code",
   "execution_count": 36,
   "id": "06e69b6c-3019-4f3b-9870-a2bea7f2f66b",
   "metadata": {},
   "outputs": [
    {
     "name": "stdin",
     "output_type": "stream",
     "text": [
      " 2\n",
      " 1 2\n",
      " 3 4\n"
     ]
    },
    {
     "name": "stdout",
     "output_type": "stream",
     "text": [
      "NO\n"
     ]
    }
   ],
   "source": [
    "n = int(input())\n",
    "\n",
    "matrix = []\n",
    "\n",
    "for i in range(n):\n",
    "    matrix.append([int(j) for j in input().split()])\n",
    "\n",
    "flag = 'YES'\n",
    "\n",
    "for i in range(n):\n",
    "    for j in range(n):\n",
    "        if matrix[i][j] != matrix[j][i]:\n",
    "            flag = 'NO'\n",
    "            break\n",
    "    if flag == 'NO':\n",
    "        break\n",
    "\n",
    "print(flag)\n"
   ]
  },
  {
   "cell_type": "code",
   "execution_count": 5,
   "id": "39ee3084-6986-4ff8-bdf6-39749363fadc",
   "metadata": {
    "jp-MarkdownHeadingCollapsed": true
   },
   "outputs": [
    {
     "name": "stdin",
     "output_type": "stream",
     "text": [
      " 2\n",
      " 1 2\n",
      " 4 5\n"
     ]
    },
    {
     "name": "stdout",
     "output_type": "stream",
     "text": [
      "4 5\n",
      "1 2\n"
     ]
    }
   ],
   "source": [
    "n = int(input())\n",
    "\n",
    "matrix = []\n",
    "\n",
    "for i in range(n):\n",
    "    matrix.append([int(j) for j in input().split()])\n",
    "\n",
    "for i in range(n):\n",
    "    for j in range(n):\n",
    "        if i == j:\n",
    "            matrix[i][j], matrix[n - i - 1][j] = matrix[n - i - 1][j], matrix[i][j]\n",
    "\n",
    "for i in range(n):\n",
    "    print(*matrix[i])"
   ]
  },
  {
   "cell_type": "code",
   "execution_count": 6,
   "id": "f2519d73-b085-4099-9f53-e6b6a4cf4b0f",
   "metadata": {},
   "outputs": [
    {
     "name": "stdin",
     "output_type": "stream",
     "text": [
      " 2\n",
      " 1 2\n",
      " 4 5\n"
     ]
    },
    {
     "name": "stdout",
     "output_type": "stream",
     "text": [
      "4 5\n",
      "1 2\n"
     ]
    }
   ],
   "source": [
    "n = int(input())\n",
    "matrix = [input().split() for _ in range(n)]\n",
    "\n",
    "for i in range(n):\n",
    "    matrix[i][i], matrix[n - i - 1][i] = matrix[n - i - 1][i], matrix[i][i]\n",
    "\n",
    "for row in matrix:\n",
    "    print(*row)"
   ]
  },
  {
   "cell_type": "code",
   "execution_count": 10,
   "id": "6f3a59c2-663c-479f-a62b-d2f54dbeaac1",
   "metadata": {},
   "outputs": [
    {
     "name": "stdin",
     "output_type": "stream",
     "text": [
      " 4\n",
      " 1 2 3 4\n",
      " 5 6 7 8\n",
      " 8 6 4 2\n",
      " 3 4 5 6\n"
     ]
    },
    {
     "name": "stdout",
     "output_type": "stream",
     "text": [
      "3 4 5 6\n",
      "8 6 4 2\n",
      "5 6 7 8\n",
      "1 2 3 4\n"
     ]
    }
   ],
   "source": [
    "n = int(input())\n",
    "\n",
    "matrix = [input().split() for _ in range(n)]\n",
    "\n",
    "for i in range(n//2):\n",
    "    matrix[i], matrix[n - i - 1] = matrix[n - i - 1], matrix[i]\n",
    "\n",
    "for row in matrix:\n",
    "    print(*row)"
   ]
  },
  {
   "cell_type": "code",
   "execution_count": 16,
   "id": "54eab8df-6e43-420b-911d-ddd250fde611",
   "metadata": {},
   "outputs": [
    {
     "name": "stdin",
     "output_type": "stream",
     "text": [
      " 3\n",
      " 1 2 3\n",
      " 4 5 6\n",
      " 7 8 9\n"
     ]
    },
    {
     "name": "stdout",
     "output_type": "stream",
     "text": [
      "7 4 1\n",
      "8 5 2\n",
      "9 6 3\n"
     ]
    }
   ],
   "source": [
    "n = int(input())\n",
    "\n",
    "matrix = [input().split() for _ in range(n)]\n",
    "\n",
    "matrix_out = list()\n",
    "\n",
    "for i in range(n):\n",
    "    matrix_out.append([])\n",
    "    for j in range(n):\n",
    "        matrix_out[-1].append(matrix[n - j - 1][i])\n",
    "\n",
    "for row in matrix_out:\n",
    "    print(*row)\n",
    "    "
   ]
  },
  {
   "cell_type": "code",
   "execution_count": 27,
   "id": "721789f5-12e2-441f-a0e8-2f2ca66143bf",
   "metadata": {},
   "outputs": [
    {
     "name": "stdin",
     "output_type": "stream",
     "text": [
      " a1\n"
     ]
    },
    {
     "name": "stdout",
     "output_type": "stream",
     "text": [
      "[[9, 1], [9, -1], [5, 1], [5, -1], [8, 2], [8, -2], [6, 2], [6, -2]]\n",
      ". . . . . . . .\n",
      ". . . . . . . .\n",
      ". . . . . . . .\n",
      ". . . . . . . .\n",
      ". . . . . . . .\n",
      ". * . . . . . .\n",
      ". . * . . . . .\n",
      "N . . . . . . .\n"
     ]
    }
   ],
   "source": [
    "def draw_chess() -> list:\n",
    "    matrix = [['.' for _ in range(8)] for _ in range(8)]\n",
    "\n",
    "    return matrix\n",
    "\n",
    "matrix = draw_chess()\n",
    "\n",
    "coord = list(input())\n",
    "coord[0] = 'abcdefgh'.find(coord[0])\n",
    "coord[1] = 8 - int(coord[1])\n",
    "matrix[coord[1]][coord[0]] = 'N'\n",
    "\n",
    "turn = list()\n",
    "\n",
    "turn.append([coord[1] + 2, coord[0] + 1])\n",
    "turn.append([coord[1] + 2, coord[0] - 1])\n",
    "turn.append([coord[1] - 2, coord[0] + 1])\n",
    "turn.append([coord[1] - 2, coord[0] - 1])\n",
    "turn.append([coord[1] + 1, coord[0] + 2])\n",
    "turn.append([coord[1] + 1, coord[0] - 2])\n",
    "turn.append([coord[1] - 1, coord[0] + 2])\n",
    "turn.append([coord[1] - 1, coord[0] - 2])\n",
    "\n",
    "for coord in turn:\n",
    "    if coord[0] < 0 or coord[0] > 7 or coord[1] < 0 or coord[1] > 7:\n",
    "        continue\n",
    "    matrix[coord[0]][coord[1]] = '*'\n",
    "\n",
    "for row in matrix:\n",
    "    print(*row)"
   ]
  },
  {
   "cell_type": "code",
   "execution_count": 13,
   "id": "db0f2700-c871-4160-a815-17b2af5d51a4",
   "metadata": {},
   "outputs": [
    {
     "name": "stdin",
     "output_type": "stream",
     "text": [
      " 3\n",
      " 1 8 6\n",
      " 5 3 7\n",
      " 9 4 2\n"
     ]
    },
    {
     "name": "stdout",
     "output_type": "stream",
     "text": [
      "NO\n"
     ]
    }
   ],
   "source": [
    "\n",
    "def magic_square(n):\n",
    "    matrix = list()\n",
    "    \n",
    "    for i in range(n):\n",
    "        matrix.append([int(i) for i in input().split()])\n",
    "\n",
    "    control_list = sum(matrix, [])\n",
    "    \n",
    "    if 0 in control_list:\n",
    "        return \"NO\"\n",
    "        \n",
    "    for i in range(len(control_list) - 1):\n",
    "        test = control_list[i]\n",
    "        for j in range(i + 1, len(control_list)):\n",
    "            if control_list[j] == test:\n",
    "                return \"NO\"   \n",
    "    \n",
    "    sum_list = []\n",
    "    sum_diag_m = 0\n",
    "    sum_diag_p = 0\n",
    "    \n",
    "    for i in range(n):\n",
    "        sum_list.append(sum(matrix[i]))\n",
    "        sum_col = 0\n",
    "        for j in range(n):\n",
    "            sum_col += matrix[j][i]\n",
    "        sum_list.append(sum_col)\n",
    "        sum_diag_m += matrix[i][i]\n",
    "        sum_diag_p += matrix[n - i - 1][i]\n",
    "\n",
    "    sum_list.append(sum_diag_m)\n",
    "    sum_list.append(sum_diag_p)\n",
    "    \n",
    "    for i in sum_list:\n",
    "        if i != sum_list[0]:\n",
    "            return \"NO\"\n",
    "\n",
    "    return \"YES\"\n",
    "      \n",
    "\n",
    "print(magic_square(int(input())))"
   ]
  },
  {
   "cell_type": "code",
   "execution_count": 11,
   "id": "50fb0c11-a809-449f-a508-304ddde3f988",
   "metadata": {},
   "outputs": [
    {
     "name": "stdin",
     "output_type": "stream",
     "text": [
      " 3 4\n"
     ]
    },
    {
     "name": "stdout",
     "output_type": "stream",
     "text": [
      ". * . *\n",
      "* . * .\n",
      ". * . *\n"
     ]
    }
   ],
   "source": [
    "n, m = [int(x) for x in input().split()]\n",
    "matrix = list()\n",
    "\n",
    "for i in range(n):\n",
    "    matrix.append([])\n",
    "    for j in range(m):\n",
    "        if j % 2 == 0 and i % 2 == 0 or j % 2 != 0 and i % 2 != 0:\n",
    "            matrix[i].append('.')\n",
    "        else:\n",
    "            matrix[i].append('*')\n",
    "\n",
    "for row in matrix:\n",
    "    print(*row)"
   ]
  },
  {
   "cell_type": "code",
   "execution_count": 16,
   "id": "8d7871da-c1b4-4ca5-8ee3-3a7dc1b316b0",
   "metadata": {},
   "outputs": [
    {
     "name": "stdin",
     "output_type": "stream",
     "text": [
      " 2\n"
     ]
    },
    {
     "name": "stdout",
     "output_type": "stream",
     "text": [
      "0 1\n",
      "1 2\n"
     ]
    }
   ],
   "source": [
    "n = int(input())\n",
    "matrix = list()\n",
    "\n",
    "for i in range(n):\n",
    "    matrix.append([])\n",
    "    for j in range(n):\n",
    "        if i <= j and i < n - 1 - j or i >= j and i < n - 1 - j:\n",
    "            matrix[i].append(0)\n",
    "        elif i == n - 1 - j:\n",
    "            matrix[i].append(1)\n",
    "        else:\n",
    "            matrix[i].append(2)\n",
    "\n",
    "for row in matrix:\n",
    "    print(*row)"
   ]
  },
  {
   "cell_type": "code",
   "execution_count": 17,
   "id": "2bb7c528-f6ed-4754-8065-eb75c0292892",
   "metadata": {},
   "outputs": [
    {
     "name": "stdin",
     "output_type": "stream",
     "text": [
      " 4\n"
     ]
    },
    {
     "name": "stdout",
     "output_type": "stream",
     "text": [
      "None None None None\n",
      "None None None None\n",
      "None None None None\n",
      "None None None None\n"
     ]
    }
   ],
   "source": [
    "n = int(input())\n",
    "matrix = [[None for _ in range(n)] for _ in range(n)]\n",
    "\n",
    "for row in matrix:\n",
    "    print(*row)"
   ]
  },
  {
   "cell_type": "code",
   "execution_count": 25,
   "id": "6c3fd406-0244-44e7-af55-a84ae929b214",
   "metadata": {},
   "outputs": [
    {
     "name": "stdin",
     "output_type": "stream",
     "text": [
      " 4 7\n"
     ]
    },
    {
     "name": "stdout",
     "output_type": "stream",
     "text": [
      "1   2   3   4   5   6   7  \n",
      "8   9   10  11  12  13  14 \n",
      "15  16  17  18  19  20  21 \n",
      "22  23  24  25  26  27  28 \n"
     ]
    }
   ],
   "source": [
    "n, m = [int(x) for x in input().split()]\n",
    "matrix = [[None for _ in range(m)] for _ in range(n)]\n",
    "\n",
    "count = 1\n",
    "\n",
    "for i in range(n):\n",
    "    for j in range(m):\n",
    "        matrix[i][j] = str(count).ljust(3)\n",
    "        count += 1\n",
    "\n",
    "for row in matrix:\n",
    "    print(*row)\n"
   ]
  },
  {
   "cell_type": "code",
   "execution_count": 28,
   "id": "1b20a490-e838-4469-a8e8-b9760f7c0c2b",
   "metadata": {},
   "outputs": [
    {
     "name": "stdin",
     "output_type": "stream",
     "text": [
      " 6 6\n"
     ]
    },
    {
     "name": "stdout",
     "output_type": "stream",
     "text": [
      "1   7   13  19  25  31 \n",
      "2   8   14  20  26  32 \n",
      "3   9   15  21  27  33 \n",
      "4   10  16  22  28  34 \n",
      "5   11  17  23  29  35 \n",
      "6   12  18  24  30  36 \n"
     ]
    }
   ],
   "source": [
    "n, m = [int(x) for x in input().split()]\n",
    "matrix = [[None for _ in range(m)] for _ in range(n)]\n",
    "\n",
    "count = 1\n",
    "\n",
    "for i in range(m):\n",
    "    for j in range(n):\n",
    "        matrix[j][i] = str(count).ljust(3)\n",
    "        count += 1\n",
    "\n",
    "for row in matrix:\n",
    "    print(*row)\n"
   ]
  },
  {
   "cell_type": "code",
   "execution_count": 31,
   "id": "0da8050b-f5d1-4740-9fef-382410715ddd",
   "metadata": {},
   "outputs": [
    {
     "name": "stdin",
     "output_type": "stream",
     "text": [
      " 2\n"
     ]
    },
    {
     "name": "stdout",
     "output_type": "stream",
     "text": [
      "1 1\n",
      "1 1\n"
     ]
    }
   ],
   "source": [
    "n = int(input())\n",
    "\n",
    "matrix = [[None for _ in range(n)] for _ in range(n)]\n",
    "\n",
    "for i in range(n):\n",
    "    for j in range(n):\n",
    "        if i == j or i == n - j - 1:\n",
    "            matrix[i][j] = 1\n",
    "        else:\n",
    "            matrix[i][j] = 0\n",
    "\n",
    "for row in matrix:\n",
    "    print(*row)"
   ]
  },
  {
   "cell_type": "code",
   "execution_count": 33,
   "id": "702d87ba-0d7c-4acc-a7d3-7354c9ec0351",
   "metadata": {},
   "outputs": [
    {
     "name": "stdin",
     "output_type": "stream",
     "text": [
      " 4\n"
     ]
    },
    {
     "name": "stdout",
     "output_type": "stream",
     "text": [
      "1 1 1 1\n",
      "0 1 1 0\n",
      "0 1 1 0\n",
      "1 1 1 1\n"
     ]
    }
   ],
   "source": [
    "n = int(input())\n",
    "\n",
    "matrix = [[None for _ in range(n)] for _ in range(n)]\n",
    "\n",
    "for i in range(n):\n",
    "    for j in range(n):\n",
    "        if i <= j and i <= n - j - 1 or i >= j and i >= n - j - 1:\n",
    "            matrix[i][j] = 1\n",
    "        else:\n",
    "            matrix[i][j] = 1\n",
    "\n",
    "for row in matrix:\n",
    "    print(*row)"
   ]
  },
  {
   "cell_type": "code",
   "execution_count": 44,
   "id": "0c72ce76-05ba-4a99-adaa-8ae552fe4d29",
   "metadata": {},
   "outputs": [
    {
     "name": "stdin",
     "output_type": "stream",
     "text": [
      " 6 6\n"
     ]
    },
    {
     "name": "stdout",
     "output_type": "stream",
     "text": [
      "1 2 3 4 5 6\n",
      "2 3 4 5 6 1\n",
      "3 4 5 6 1 2\n",
      "4 5 6 1 2 3\n",
      "5 6 1 2 3 4\n",
      "6 1 2 3 4 5\n"
     ]
    }
   ],
   "source": [
    "n, m = [int(x) for x in input().split()]\n",
    "\n",
    "matrix = [[None for _ in range(m)] for _ in range(n)]\n",
    "fill_list = [i for i in range(1, m + 1)]\n",
    "\n",
    "matrix[0] = fill_list\n",
    "\n",
    "for i in range(1, n):\n",
    "    for j in range(m):\n",
    "        if j + 1 >= m:\n",
    "            l = 0\n",
    "            k = i - 1\n",
    "        else:\n",
    "            l = j + 1\n",
    "            k = i - 1\n",
    "            \n",
    "        matrix[i][j] = matrix[k][l]\n",
    "    \n",
    "for row in matrix:\n",
    "    print(*row)"
   ]
  },
  {
   "cell_type": "code",
   "execution_count": 48,
   "id": "cd138e40-11b6-4cd0-840e-bc7a80faf3b3",
   "metadata": {},
   "outputs": [
    {
     "name": "stdin",
     "output_type": "stream",
     "text": [
      " 5 5\n"
     ]
    },
    {
     "name": "stdout",
     "output_type": "stream",
     "text": [
      "1   2   3   4   5  \n",
      "10  9   8   7   6  \n",
      "11  12  13  14  15 \n",
      "20  19  18  17  16 \n",
      "21  22  23  24  25 \n"
     ]
    }
   ],
   "source": [
    "n, m = [int(x) for x in input().split()]\n",
    "\n",
    "matrix = [[None for _ in range(m)] for _ in range(n)]\n",
    "count = 1\n",
    "\n",
    "for i in range(n):\n",
    "    if i % 2 == 0:\n",
    "        for j in range(m):\n",
    "            matrix[i][j] = str(count).ljust(3)\n",
    "            count += 1\n",
    "    elif i % 2 != 0:\n",
    "        for j in range(m - 1, -1, -1):\n",
    "            matrix[i][j] = str(count).ljust(3)\n",
    "            count += 1\n",
    "\n",
    "for row in matrix:\n",
    "    print(*row)"
   ]
  },
  {
   "cell_type": "code",
   "execution_count": 68,
   "id": "8482a9cd-eeee-410d-ab3c-1bb8f80feaa5",
   "metadata": {},
   "outputs": [
    {
     "name": "stdin",
     "output_type": "stream",
     "text": [
      " 4 4\n"
     ]
    },
    {
     "name": "stdout",
     "output_type": "stream",
     "text": [
      "1  2  4  7  \n",
      "3  5  8  11 \n",
      "6  9  12 14 \n",
      "10 13 15 16 \n"
     ]
    }
   ],
   "source": [
    "n, m = [int(x) for x in input().split()]\n",
    "\n",
    "matrix = [[None for _ in range(m)] for _ in range(n)]\n",
    "count = 1\n",
    "i = 0\n",
    "j = 0\n",
    "\n",
    "for q in range(n + m):\n",
    "    for i in range(n):\n",
    "        for j in range(m):\n",
    "            if i + j == q:\n",
    "                matrix[i][j] = count\n",
    "                count += 1\n",
    "\n",
    "for i in range(n):\n",
    "    for j in range(m):      \n",
    "        print(str(matrix[i][j]).ljust(3), end=\"\")\n",
    "    print()"
   ]
  },
  {
   "cell_type": "code",
   "execution_count": 3,
   "id": "6cc9d527-7cac-45bf-8e52-13f6fe081501",
   "metadata": {},
   "outputs": [
    {
     "name": "stdin",
     "output_type": "stream",
     "text": [
      " 3 10\n"
     ]
    },
    {
     "name": "stdout",
     "output_type": "stream",
     "text": [
      "1  2  3  4  5  6  7  8  9  10 \n",
      "22 23 24 25 26 27 28 29 30 11 \n",
      "21 20 19 18 17 16 15 14 13 12 \n"
     ]
    }
   ],
   "source": [
    "n, m = [int(x) for x in input().split()]\n",
    "\n",
    "matrix = [[None for _ in range(m)] for _ in range(n)]\n",
    "count = 1\n",
    "y = 0\n",
    "x = 0\n",
    "dir = 'right'\n",
    "top = 0\n",
    "down = n - 1\n",
    "left = 0\n",
    "right = m - 1\n",
    "\n",
    "while count <= n * m:\n",
    "    \n",
    "    matrix[y][x] = count\n",
    "    count += 1\n",
    "    \n",
    "    if y <= top and x < right:\n",
    "        dir = 'right'\n",
    "        top = y + 1\n",
    "    elif y >= down and x > left:\n",
    "        dir = 'left'\n",
    "        down = y - 1\n",
    "    elif x <= left and y > top:\n",
    "        dir = 'up'\n",
    "        left = x + 1\n",
    "    elif x >= right and y < down:\n",
    "        dir = 'down'\n",
    "        right = x - 1\n",
    "        \n",
    "    if dir == 'right' and x < right:\n",
    "        x += 1\n",
    "    elif dir == 'left' and x > left:\n",
    "        x -= 1\n",
    "    elif dir == 'up' and y > top:\n",
    "        y -= 1\n",
    "    elif dir == 'down' and y < down:\n",
    "        y += 1\n",
    "        \n",
    "\n",
    "\n",
    "for i in range(n):\n",
    "    for j in range(m):      \n",
    "        print(str(matrix[i][j]).ljust(3), end=\"\")\n",
    "    print()"
   ]
  },
  {
   "cell_type": "code",
   "execution_count": 8,
   "id": "3479cf95-4480-487a-a815-68426b247282",
   "metadata": {},
   "outputs": [
    {
     "name": "stdin",
     "output_type": "stream",
     "text": [
      " 2 4\n",
      " 1 2 3 4\n",
      " 5 6 7 1\n",
      " \n",
      " 3 2 1 2\n",
      " 1 3 1 3\n"
     ]
    },
    {
     "name": "stdout",
     "output_type": "stream",
     "text": [
      "4 4 4 6\n",
      "6 9 8 4\n"
     ]
    }
   ],
   "source": [
    "n, m = [int(i) for i in input().split()]\n",
    "\n",
    "matrix1 = list()\n",
    "matrix2 = list()\n",
    "\n",
    "for i in range(n):\n",
    "    matrix1.append([int(j) for j in input().split()])\n",
    "\n",
    "input()\n",
    "\n",
    "for i in range(n):\n",
    "    matrix2.append([int(j) for j in input().split()])\n",
    "\n",
    "matrix3 = list()\n",
    "\n",
    "for i in range(n):\n",
    "    matrix3.append([])\n",
    "    for j in range(m):\n",
    "        matrix3[-1].append(matrix1[i][j] + matrix2[i][j])\n",
    "\n",
    "for row in matrix3:\n",
    "    print(*row)"
   ]
  },
  {
   "cell_type": "markdown",
   "id": "ea4e8007-47b5-4469-8e74-e3f0fe9f2cbc",
   "metadata": {},
   "source": [
    "## Умножение матриц (доработать!)"
   ]
  },
  {
   "cell_type": "code",
   "execution_count": 3,
   "id": "607df380-8ba8-4c42-bbc8-2d9c56c3ca3b",
   "metadata": {},
   "outputs": [
    {
     "name": "stdin",
     "output_type": "stream",
     "text": [
      " 2 2\n",
      " 1 2\n",
      " 3 2\n",
      " \n",
      " 2 2\n",
      " 3 2\n",
      " 1 1\n"
     ]
    },
    {
     "name": "stdout",
     "output_type": "stream",
     "text": [
      "3 5 8 10\n",
      "6 8 14 16\n"
     ]
    }
   ],
   "source": [
    "n, m = [int(i) for i in input().split()]\n",
    "\n",
    "matrix1 = []\n",
    "for i in range(n):\n",
    "    matrix1.append([int(i) for i in input().split()])\n",
    "\n",
    "input()\n",
    "\n",
    "m, k = [int(i) for i in input().split()]\n",
    "\n",
    "matrix2 = []\n",
    "for i in range(m):\n",
    "    matrix2.append([int(i) for i in input().split()])\n",
    "\n",
    "matrix3 = []\n",
    "\n",
    "for i in range(n):\n",
    "    matrix3.append([])\n",
    "    res = 0\n",
    "    for j in range(k):\n",
    "        for l in range(m):\n",
    "            res += matrix1[i][l] * matrix2[l][i]\n",
    "        matrix3[-1].append(res)\n",
    "\n",
    "for row in matrix3:\n",
    "    print(*row)"
   ]
  },
  {
   "cell_type": "code",
   "execution_count": 6,
   "id": "cc6d6ac4-4c59-49c3-8d70-17e39518d219",
   "metadata": {},
   "outputs": [
    {
     "name": "stdin",
     "output_type": "stream",
     "text": [
      " -2\n",
      " 6\n",
      " 1\n"
     ]
    },
    {
     "data": {
      "text/plain": [
       "(1.5, 5.5)"
      ]
     },
     "execution_count": 6,
     "metadata": {},
     "output_type": "execute_result"
    }
   ],
   "source": [
    "def par_h(a, b, c):\n",
    "    h1 = -(b / (2 * a))\n",
    "    h2 = (4 * a * c - b**2) / (4 * a)\n",
    "    return h1, h2\n",
    "\n",
    "par_h(int(input()), int(input()), int(input()))"
   ]
  },
  {
   "cell_type": "code",
   "execution_count": 14,
   "id": "07645a0c-89fd-4700-8121-ad4f3add6650",
   "metadata": {},
   "outputs": [
    {
     "name": "stdin",
     "output_type": "stream",
     "text": [
      " 2\n",
      " u 5\n",
      " u 3\n"
     ]
    },
    {
     "name": "stdout",
     "output_type": "stream",
     "text": [
      "u 5\n",
      "u 3\n",
      "\n",
      "u 5\n"
     ]
    }
   ],
   "source": [
    "n = int(input())\n",
    "\n",
    "list_stud = []\n",
    "\n",
    "for i in range(n):\n",
    "    list_stud.append(input().split())    \n",
    "\n",
    "for i in list_stud:\n",
    "    print(*i)\n",
    "\n",
    "print()\n",
    "\n",
    "for i in list_stud:\n",
    "    if i[1] == '4' or i[1] == '5':\n",
    "        print(*i)\n",
    "    else:\n",
    "        continue"
   ]
  },
  {
   "cell_type": "code",
   "execution_count": 15,
   "id": "c1524b8a-f116-4aff-883d-041c90d51fa8",
   "metadata": {},
   "outputs": [
    {
     "name": "stdin",
     "output_type": "stream",
     "text": [
      " 3\n",
      " u 4\n",
      " u 3\n",
      " u 5\n"
     ]
    },
    {
     "name": "stdout",
     "output_type": "stream",
     "text": [
      "u 4\n",
      "u 3\n",
      "u 5\n",
      "\n",
      "u 4\n",
      "u 5\n"
     ]
    }
   ],
   "source": [
    "students = [tuple(input().split()) for _ in range(int(input()))]\n",
    "\n",
    "for student in students:\n",
    "    print(*student)\n",
    "\n",
    "print()\n",
    "\n",
    "for name, grade in students:\n",
    "    if int(grade) > 3:\n",
    "        print(name, grade)"
   ]
  },
  {
   "cell_type": "code",
   "execution_count": 16,
   "id": "3176cc0e-832b-451a-99cb-b2492eabbed9",
   "metadata": {},
   "outputs": [
    {
     "data": {
      "text/plain": [
       "(1, 2, 3)"
      ]
     },
     "execution_count": 16,
     "metadata": {},
     "output_type": "execute_result"
    }
   ],
   "source": [
    "b = 1, 2, 3\n",
    "b"
   ]
  },
  {
   "cell_type": "code",
   "execution_count": 17,
   "id": "450ff6f3-5852-4f3e-af7b-8d9babab401d",
   "metadata": {},
   "outputs": [
    {
     "data": {
      "text/plain": [
       "1"
      ]
     },
     "execution_count": 17,
     "metadata": {},
     "output_type": "execute_result"
    }
   ],
   "source": [
    "n, m, k = b\n",
    "n"
   ]
  },
  {
   "cell_type": "code",
   "execution_count": 18,
   "id": "183db95b-9b2a-4d69-aa0b-85d899ccac83",
   "metadata": {},
   "outputs": [
    {
     "data": {
      "text/plain": [
       "[3, 4, 5]"
      ]
     },
     "execution_count": 18,
     "metadata": {},
     "output_type": "execute_result"
    }
   ],
   "source": [
    "a, b, *c = 1, 2, 3, 4, 5\n",
    "c"
   ]
  },
  {
   "cell_type": "code",
   "execution_count": 25,
   "id": "9d523cc6-646c-4afe-ac44-ad40538a4746",
   "metadata": {},
   "outputs": [
    {
     "data": {
      "text/plain": [
       "[]"
      ]
     },
     "execution_count": 25,
     "metadata": {},
     "output_type": "execute_result"
    }
   ],
   "source": [
    "a, *c = None,\n",
    "c"
   ]
  },
  {
   "cell_type": "code",
   "execution_count": 35,
   "id": "ea6223e0-4947-4aa3-a555-2fede7950bd5",
   "metadata": {},
   "outputs": [
    {
     "name": "stdin",
     "output_type": "stream",
     "text": [
      " 20\n"
     ]
    },
    {
     "name": "stdout",
     "output_type": "stream",
     "text": [
      "1 1 1 3 5 9 17 31 57 105 193 355 653 1201 2209 4063 7473 13745 25281 46499 "
     ]
    }
   ],
   "source": [
    "n = int(input())\n",
    "f1, f2, f3 = 1, 1, 1\n",
    "\n",
    "for i in range(n):\n",
    "    print(f1, end = ' ')\n",
    "    f1, f2, f3 = f2, f3, f1 + f2 + f3"
   ]
  },
  {
   "cell_type": "code",
   "execution_count": 6,
   "id": "926ada99-364b-4333-9fb9-c5223261073b",
   "metadata": {},
   "outputs": [
    {
     "data": {
      "text/plain": [
       "set()"
      ]
     },
     "execution_count": 6,
     "metadata": {},
     "output_type": "execute_result"
    }
   ],
   "source": [
    "my_set = set()\n",
    "my_set"
   ]
  },
  {
   "cell_type": "code",
   "execution_count": 7,
   "id": "b515835f-83d7-4a5b-81b2-fce5d2f2648d",
   "metadata": {},
   "outputs": [
    {
     "data": {
      "text/plain": [
       "6"
      ]
     },
     "execution_count": 7,
     "metadata": {},
     "output_type": "execute_result"
    }
   ],
   "source": [
    "len(set('карабас-барабас'))"
   ]
  },
  {
   "cell_type": "code",
   "execution_count": 1,
   "id": "9828cdbd-40b8-469b-bd9b-e5c9b4d4f338",
   "metadata": {},
   "outputs": [
    {
     "name": "stdout",
     "output_type": "stream",
     "text": [
      "82649672\n"
     ]
    }
   ],
   "source": [
    "numbers = {9089, -67, -32, 1, 78, 23, -65, 99, 9089, 34, -32, 0, -67, 1, 11, 111, 111, 1, 23}\n",
    "sum_squares = 0\n",
    "\n",
    "for i in numbers:\n",
    "    sum_squares += i**2\n",
    "\n",
    "print(sum_squares)"
   ]
  },
  {
   "cell_type": "code",
   "execution_count": 15,
   "id": "3c4de176-e3fb-4549-98f0-11e221f4cf7e",
   "metadata": {},
   "outputs": [
    {
     "name": "stdout",
     "output_type": "stream",
     "text": [
      "pineapple\n",
      "grapefruit\n",
      "cherry\n",
      "banana\n",
      "avocado\n",
      "apricot\n",
      "apple\n"
     ]
    }
   ],
   "source": [
    "fruits = {'apple', 'banana', 'cherry', 'avocado', 'pineapple', 'apricot', 'banana', 'avocado', 'grapefruit'}\n",
    "print(*sorted(fruits, reverse=True), sep='\\n')\n"
   ]
  },
  {
   "cell_type": "code",
   "execution_count": 17,
   "id": "e2d8ce5c-c0b4-4429-b128-216b38fa6db3",
   "metadata": {},
   "outputs": [
    {
     "name": "stdin",
     "output_type": "stream",
     "text": [
      " ab bc\n"
     ]
    },
    {
     "name": "stdout",
     "output_type": "stream",
     "text": [
      "4\n"
     ]
    }
   ],
   "source": [
    "print(len(set(input())))"
   ]
  },
  {
   "cell_type": "code",
   "execution_count": 18,
   "id": "46c48b77-3d84-4088-9402-5dd878351dd8",
   "metadata": {},
   "outputs": [
    {
     "ename": "SyntaxError",
     "evalue": "illegal target for annotation (3172407790.py, line 1)",
     "output_type": "error",
     "traceback": [
      "\u001b[0;36m  Cell \u001b[0;32mIn[18], line 1\u001b[0;36m\u001b[0m\n\u001b[0;31m    'YES': 2\u001b[0m\n\u001b[0m    ^\u001b[0m\n\u001b[0;31mSyntaxError\u001b[0m\u001b[0;31m:\u001b[0m illegal target for annotation\n"
     ]
    }
   ],
   "source": [
    "n = input()\n",
    "if len(n) == len(set(n)):\n",
    "    print('YES')\n",
    "else:\n",
    "    print('NO')"
   ]
  },
  {
   "cell_type": "code",
   "execution_count": 22,
   "id": "340f8507-f85c-4068-bce0-4bce6db9e05d",
   "metadata": {},
   "outputs": [
    {
     "name": "stdin",
     "output_type": "stream",
     "text": [
      " 1930\n",
      " 2465748\n"
     ]
    },
    {
     "name": "stdout",
     "output_type": "stream",
     "text": [
      "YES\n"
     ]
    }
   ],
   "source": [
    "a = input()\n",
    "b = input()\n",
    "dig_set = set('1234567890')\n",
    "if dig_set == set(a + b):\n",
    "    print('YES')\n",
    "else:\n",
    "    print('NO')"
   ]
  },
  {
   "cell_type": "code",
   "execution_count": 23,
   "id": "b2226d24-04d2-44fc-b17a-40e5ae462d18",
   "metadata": {},
   "outputs": [
    {
     "name": "stdin",
     "output_type": "stream",
     "text": [
      " 1\n",
      " 1\n"
     ]
    },
    {
     "name": "stdout",
     "output_type": "stream",
     "text": [
      "YES\n"
     ]
    }
   ],
   "source": [
    "a = set(input())\n",
    "b = set(input())\n",
    "\n",
    "if a == b:\n",
    "    print('YES')\n",
    "else:\n",
    "    print('NO')"
   ]
  },
  {
   "cell_type": "code",
   "execution_count": 25,
   "id": "cb0ae1b4-da87-41cd-995a-6fe20f6d8b63",
   "metadata": {},
   "outputs": [
    {
     "name": "stdin",
     "output_type": "stream",
     "text": [
      " шарада баллада услада\n"
     ]
    },
    {
     "name": "stdout",
     "output_type": "stream",
     "text": [
      "NO\n"
     ]
    }
   ],
   "source": [
    "l = [set(i) for i in input().split()]\n",
    "flag = 'YES'\n",
    "\n",
    "for i in l[1:]:\n",
    "    if i != l[0]:\n",
    "        flag = 'NO'\n",
    "        break\n",
    "\n",
    "print(flag)"
   ]
  },
  {
   "cell_type": "code",
   "execution_count": 26,
   "id": "970babf7-0ed4-4105-be02-f546256444d6",
   "metadata": {},
   "outputs": [
    {
     "ename": "KeyError",
     "evalue": "'pop from an empty set'",
     "output_type": "error",
     "traceback": [
      "\u001b[0;31m---------------------------------------------------------------------------\u001b[0m",
      "\u001b[0;31mKeyError\u001b[0m                                  Traceback (most recent call last)",
      "Cell \u001b[0;32mIn[26], line 2\u001b[0m\n\u001b[1;32m      1\u001b[0m myset \u001b[38;5;241m=\u001b[39m \u001b[38;5;28mset\u001b[39m()\n\u001b[0;32m----> 2\u001b[0m item \u001b[38;5;241m=\u001b[39m \u001b[43mmyset\u001b[49m\u001b[38;5;241;43m.\u001b[39;49m\u001b[43mpop\u001b[49m\u001b[43m(\u001b[49m\u001b[43m)\u001b[49m\n\u001b[1;32m      3\u001b[0m \u001b[38;5;28mprint\u001b[39m(item)\n",
      "\u001b[0;31mKeyError\u001b[0m: 'pop from an empty set'"
     ]
    }
   ],
   "source": [
    "myset = set()\n",
    "item = myset.pop()\n",
    "print(item)"
   ]
  },
  {
   "cell_type": "code",
   "execution_count": 29,
   "id": "f02c2b6c-30da-4a4f-8148-279159e4f46f",
   "metadata": {},
   "outputs": [
    {
     "name": "stdin",
     "output_type": "stream",
     "text": [
      " 5\n",
      " aAa\n",
      " bB\n",
      " ccc\n",
      " dDdd\n",
      " pppP\n"
     ]
    },
    {
     "name": "stdout",
     "output_type": "stream",
     "text": [
      "5\n"
     ]
    }
   ],
   "source": [
    "n = int(input())\n",
    "l = []\n",
    "\n",
    "for i in range(n):\n",
    "    l.append(input().lower())\n",
    "\n",
    "s = set(''.join(l))\n",
    "\n",
    "print(len(s))"
   ]
  },
  {
   "cell_type": "code",
   "execution_count": 33,
   "id": "1d03453e-a54c-4c64-8c7f-ee379c93f730",
   "metadata": {},
   "outputs": [
    {
     "name": "stdin",
     "output_type": "stream",
     "text": [
      " \t.ddfsd ,ddsfsdfsdfsd ;ddsssss :dgfhfghfg -dsdfsdfsd ?ddsfsdfsdf !dsdfsdfs\n"
     ]
    },
    {
     "name": "stdout",
     "output_type": "stream",
     "text": [
      "7\n"
     ]
    }
   ],
   "source": [
    "text = input()\n",
    "text = text.lower()\n",
    "l_signs = ['.', ',', ':', ';', '?', '!', '-']\n",
    "\n",
    "for i in l_signs:\n",
    "    text = text.replace(i, '')\n",
    "\n",
    "l_words = text.split()\n",
    "print(len(set(l_words)))"
   ]
  },
  {
   "cell_type": "code",
   "execution_count": 35,
   "id": "4c6d69c4-3883-457e-b870-9512a1aca501",
   "metadata": {},
   "outputs": [
    {
     "name": "stdin",
     "output_type": "stream",
     "text": [
      " 1 2 3 002 03 4 5 05\n"
     ]
    },
    {
     "name": "stdout",
     "output_type": "stream",
     "text": [
      "NO\n",
      "NO\n",
      "NO\n",
      "YES\n",
      "YES\n",
      "NO\n",
      "NO\n",
      "YES\n"
     ]
    }
   ],
   "source": [
    "n = [int(i) for i in input().split()]\n",
    "s = set()\n",
    "\n",
    "for i in n:\n",
    "    if i in s:\n",
    "        print('YES')\n",
    "    else:\n",
    "        print('NO')\n",
    "    s.add(i)"
   ]
  },
  {
   "cell_type": "code",
   "execution_count": 37,
   "id": "916d29e1-c900-406b-97cf-9a71b1819d58",
   "metadata": {},
   "outputs": [
    {
     "data": {
      "text/plain": [
       "{'a', 'c'}"
      ]
     },
     "execution_count": 37,
     "metadata": {},
     "output_type": "execute_result"
    }
   ],
   "source": [
    "set1 = set('abcdh')\n",
    "set2 = set('bdfh')\n",
    "set3 = set1 - set2 & set1\n",
    "set3"
   ]
  },
  {
   "cell_type": "code",
   "execution_count": 39,
   "id": "8bab7f64-0184-4e0d-aec6-1230f05a3019",
   "metadata": {},
   "outputs": [
    {
     "data": {
      "text/plain": [
       "{1, 2, 3}"
      ]
     },
     "execution_count": 39,
     "metadata": {},
     "output_type": "execute_result"
    }
   ],
   "source": [
    "a = {1, 2}\n",
    "b = {1, 3, 3}\n",
    "a | b"
   ]
  },
  {
   "cell_type": "code",
   "execution_count": 8,
   "id": "c874edce-645c-42dd-8f5e-7039f1d1313f",
   "metadata": {},
   "outputs": [
    {
     "name": "stdin",
     "output_type": "stream",
     "text": [
      " 1 2 3 4 5 6 7 8 9 10\n",
      " 10 9 8 7 6 5 4 3 2 1\n"
     ]
    },
    {
     "name": "stdout",
     "output_type": "stream",
     "text": [
      "1 2 3 4 5 6 7 8 9 10\n"
     ]
    }
   ],
   "source": [
    "set_a = set([int(i) for i in input().split()])\n",
    "set_b = set([int(i) for i in input().split()])\n",
    "\n",
    "print(*sorted(set_a & set_b))"
   ]
  },
  {
   "cell_type": "code",
   "execution_count": 10,
   "id": "7935ca2a-1231-412b-b8d6-593f869d1a10",
   "metadata": {},
   "outputs": [
    {
     "name": "stdin",
     "output_type": "stream",
     "text": [
      " 1 2 3 4 5\n",
      " 1 2 3 4 6\n"
     ]
    },
    {
     "name": "stdout",
     "output_type": "stream",
     "text": [
      "5\n"
     ]
    }
   ],
   "source": [
    "set_a = set([int(i) for i in input().split()])\n",
    "set_b = set([int(i) for i in input().split()])\n",
    "\n",
    "print(*sorted(set_a - set_b))"
   ]
  },
  {
   "cell_type": "code",
   "execution_count": 13,
   "id": "3060636a-5edc-4c78-916e-4d452e63461e",
   "metadata": {},
   "outputs": [
    {
     "name": "stdin",
     "output_type": "stream",
     "text": [
      " 4\n",
      " 12345\n",
      " 236\n",
      " 3452222\n",
      " 9302\n"
     ]
    },
    {
     "name": "stdout",
     "output_type": "stream",
     "text": [
      "2 3\n"
     ]
    }
   ],
   "source": [
    "n = int(input())\n",
    "l = list()\n",
    "\n",
    "for i in range(n):\n",
    "    l.append(set(input()))\n",
    "\n",
    "set_res = l[0]\n",
    "\n",
    "for set_i in l[1:]:\n",
    "    set_res = set_res & set_i\n",
    "\n",
    "print(*sorted(set_res))"
   ]
  },
  {
   "cell_type": "code",
   "execution_count": 5,
   "id": "f0420009-b2ee-4d47-8ca9-ccf6efe0e756",
   "metadata": {},
   "outputs": [
    {
     "name": "stdout",
     "output_type": "stream",
     "text": [
      "['b', 'e', 'g', 'k']\n",
      "['b', 'e', 'g', 'i', 'k', 'p', 's', 't']\n"
     ]
    }
   ],
   "source": [
    "word = 'beegeek'\n",
    "set1 = set(word*3)\n",
    "print(sorted(set1))\n",
    "set2 = set(word[::-1]*2 + 'stepik')\n",
    "print(sorted(set2))"
   ]
  },
  {
   "cell_type": "code",
   "execution_count": 8,
   "id": "d6c7986b-f8da-466a-b87e-6ef3a3971c8a",
   "metadata": {},
   "outputs": [
    {
     "name": "stdin",
     "output_type": "stream",
     "text": [
      " 1523\n",
      " 3678\n"
     ]
    },
    {
     "name": "stdout",
     "output_type": "stream",
     "text": [
      "YES\n"
     ]
    }
   ],
   "source": [
    "set1 = set(input())\n",
    "set2 = set(input())\n",
    "\n",
    "if set1.isdisjoint(set2):\n",
    "    print('NO')\n",
    "else:\n",
    "    print('YES')"
   ]
  },
  {
   "cell_type": "code",
   "execution_count": 31,
   "id": "b6aef52a-d6e3-41a6-8366-d80197369fdf",
   "metadata": {},
   "outputs": [
    {
     "name": "stdin",
     "output_type": "stream",
     "text": [
      " 1 5 4 2 5 6 6 2 3 3 5 2\n",
      " 2 3 5 1 2 1 2 6 7 1 1 6\n",
      " 1 4 6 8 8 7 0 6 0 3 8 1\n"
     ]
    },
    {
     "name": "stdout",
     "output_type": "stream",
     "text": [
      "9 10\n"
     ]
    }
   ],
   "source": [
    "set1 = set([int(i) for i in input().split()])\n",
    "set2 = set([int(i) for i in input().split()])\n",
    "set3 = set([int(i) for i in input().split()])\n",
    "set0 = set(range(11))\n",
    "\n",
    "print(*sorted((set0 - (set1 | set2 | set3))))"
   ]
  },
  {
   "cell_type": "code",
   "execution_count": 32,
   "id": "99ab5b3f-45d9-4e8b-baf7-21132c60c10b",
   "metadata": {},
   "outputs": [
    {
     "name": "stdout",
     "output_type": "stream",
     "text": [
      "a c g l o p t w\n"
     ]
    }
   ],
   "source": [
    "words = ['Plum', 'Grapefruit', 'apple', 'orange', 'pomegranate', 'Cranberry', 'lime', 'Lemon', 'grapes', 'persimmon', 'tangerine', 'Watermelon', 'currant', 'Almond']\n",
    "\n",
    "myset = {i[0].lower() for i in words}\n",
    "print(*sorted(myset))"
   ]
  },
  {
   "cell_type": "code",
   "execution_count": 34,
   "id": "c65ebae7-ca37-41e8-85b5-a1d1dc0a6553",
   "metadata": {},
   "outputs": [
    {
     "name": "stdout",
     "output_type": "stream",
     "text": [
      "a about accident all am and at bloom bottom by can darkest day dells died dusk entered for freak furry golden had hedge her hill hollows i if in infancy know lightning memory midges mother my nothing observation of or over past photogenic picnic pocket rambler redolent remnants save set some stand still style subsists suddenly summer sun surely suspended the those three traversed under very warmth was when which with within writing you\n"
     ]
    }
   ],
   "source": [
    "sentence = '''My very photogenic mother died in a freak accident (picnic, lightning) when I was three, and, save for a pocket of warmth in the darkest past, nothing of her subsists within the hollows and dells of memory, over which, if you can still stand my style (I am writing under observation), the sun of my infancy had set: surely, you all know those redolent remnants of day suspended, with the midges, about some hedge in bloom or suddenly entered and traversed by the rambler, at the bottom of a hill, in the summer dusk; a furry warmth, golden midges.'''\n",
    "\n",
    "l_rem = ['(', ')', '.', ',', ';', ':']\n",
    "for i in l_rem:\n",
    "    sentence = sentence.replace(i, '')\n",
    "\n",
    "myset = {i.lower().strip('().,?!:;') for i in sentence.split()}\n",
    "\n",
    "print(*sorted((myset)))"
   ]
  },
  {
   "cell_type": "code",
   "execution_count": 35,
   "id": "bb6f4569-d9c4-401e-80f4-336415453ccf",
   "metadata": {},
   "outputs": [
    {
     "name": "stdout",
     "output_type": "stream",
     "text": [
      "a all am and at by can day for had her i if in my of or set sun the was you\n"
     ]
    }
   ],
   "source": [
    "sentence = '''My very photogenic mother died in a freak accident (picnic, lightning) when I was three, and, save for a pocket of warmth in the darkest past, nothing of her subsists within the hollows and dells of memory, over which, if you can still stand my style (I am writing under observation), the sun of my infancy had set: surely, you all know those redolent remnants of day suspended, with the midges, about some hedge in bloom or suddenly entered and traversed by the rambler, at the bottom of a hill, in the summer dusk; a furry warmth, golden midges.'''\n",
    "\n",
    "l_rem = ['(', ')', '.', ',', ';', ':']\n",
    "for i in l_rem:\n",
    "    sentence = sentence.replace(i, '')\n",
    "\n",
    "myset = {i.lower() for i in sentence.split() if len(i) < 4}\n",
    "\n",
    "print(*sorted((myset)))"
   ]
  },
  {
   "cell_type": "code",
   "execution_count": 39,
   "id": "31d6682d-1ea3-4425-8ded-c17dccfbd638",
   "metadata": {},
   "outputs": [
    {
     "name": "stdout",
     "output_type": "stream",
     "text": [
      "apple.png python.png zebra.png\n"
     ]
    }
   ],
   "source": [
    "files = ['python.png', 'qwerty.py', 'stepik.png', 'beegeek.org', 'windows.pnp', 'pen.txt', 'phone.py', 'book.txT', 'board.pNg', 'keyBoard.jpg', 'Python.PNg', 'apple.jpeg', 'png.png', 'input.tXt', 'split.pop', 'solution.Py', 'stepik.org', 'kotlin.ko', 'github.git']\n",
    "files = ['python.png', 'qwerty.py', 'Python.PNg', 'apple.pnG', 'zebra.PNG',  'solution.Py', 'stepik.org', 'kotlin.ko', 'github.git', 'ZeBrA.PnG']\n",
    "png_set = {i.lower() for i in files if i.lower().split('.')[1] == 'png'}\n",
    "print(*sorted(png_set))"
   ]
  },
  {
   "cell_type": "code",
   "execution_count": 40,
   "id": "7babdb87-058d-4558-a4c1-91ff4d602175",
   "metadata": {},
   "outputs": [
    {
     "ename": "TypeError",
     "evalue": "unsupported operand type(s) for *: 'set' and 'int'",
     "output_type": "error",
     "traceback": [
      "\u001b[0;31m---------------------------------------------------------------------------\u001b[0m",
      "\u001b[0;31mTypeError\u001b[0m                                 Traceback (most recent call last)",
      "Cell \u001b[0;32mIn[40], line 2\u001b[0m\n\u001b[1;32m      1\u001b[0m set1 \u001b[38;5;241m=\u001b[39m {\u001b[38;5;241m1\u001b[39m,\u001b[38;5;241m2\u001b[39m,\u001b[38;5;241m3\u001b[39m}\n\u001b[0;32m----> 2\u001b[0m \u001b[43mset1\u001b[49m\u001b[43m \u001b[49m\u001b[38;5;241;43m*\u001b[39;49m\u001b[43m \u001b[49m\u001b[38;5;241;43m2\u001b[39;49m\n",
      "\u001b[0;31mTypeError\u001b[0m: unsupported operand type(s) for *: 'set' and 'int'"
     ]
    }
   ],
   "source": [
    "set1 = {1,2,3}\n",
    "set1 * 2"
   ]
  },
  {
   "cell_type": "code",
   "execution_count": 41,
   "id": "73e2728f-1879-425f-84cd-b7e2c15b37a4",
   "metadata": {},
   "outputs": [
    {
     "data": {
      "text/plain": [
       "295"
      ]
     },
     "execution_count": 41,
     "metadata": {},
     "output_type": "execute_result"
    }
   ],
   "source": [
    "(315 - 110) + (315 - 225)"
   ]
  },
  {
   "cell_type": "code",
   "execution_count": 51,
   "id": "74c0a89e-9768-4b91-a0d5-6a9b1ccd2984",
   "metadata": {},
   "outputs": [
    {
     "name": "stdin",
     "output_type": "stream",
     "text": [
      " 35\n",
      " 20\n",
      " 10\n",
      " 3\n"
     ]
    },
    {
     "name": "stdout",
     "output_type": "stream",
     "text": [
      "8\n"
     ]
    }
   ],
   "source": [
    "n, m, k, p = [int(input()) for _ in range(4)]\n",
    "\n",
    "res = n - ((m - p) + (k - p) + p)\n",
    "\n",
    "print(res)"
   ]
  },
  {
   "cell_type": "code",
   "execution_count": 54,
   "id": "20a96159-6c09-4301-abdd-1edb3ba23933",
   "metadata": {},
   "outputs": [
    {
     "name": "stdin",
     "output_type": "stream",
     "text": [
      " 100 100 100 100 100 100 100\n"
     ]
    },
    {
     "name": "stdout",
     "output_type": "stream",
     "text": [
      "6\n"
     ]
    }
   ],
   "source": [
    "data_list = [int(i) for i in input().split()]\n",
    "\n",
    "len1 = len(data_list)\n",
    "len2 = len(set(data_list))\n",
    "res = len1 - len2\n",
    "\n",
    "print(res)"
   ]
  },
  {
   "cell_type": "code",
   "execution_count": 58,
   "id": "8c5cd452-b3aa-4874-999d-6a04f79a3ad2",
   "metadata": {},
   "outputs": [
    {
     "name": "stdin",
     "output_type": "stream",
     "text": [
      " 5\n",
      " Лас-Вегас\n",
      " Сеул\n",
      " Лондон\n",
      " Ницца\n",
      " Адел\n",
      " Лас-Вегас\n"
     ]
    },
    {
     "name": "stdout",
     "output_type": "stream",
     "text": [
      "REPEAT\n"
     ]
    }
   ],
   "source": [
    "n = int(input())\n",
    "sity_list = [input() for _ in range(n)]\n",
    "\n",
    "last_sity = input()\n",
    "\n",
    "if last_sity not in sity_list:\n",
    "    print('OK')\n",
    "else:\n",
    "    print('REPEAT')"
   ]
  },
  {
   "cell_type": "code",
   "execution_count": 59,
   "id": "339cbe66-6303-4632-a2e4-1abceb25f296",
   "metadata": {},
   "outputs": [
    {
     "name": "stdin",
     "output_type": "stream",
     "text": [
      " 4\n",
      " 4\n",
      " Хоббит\n",
      " Алиса в стране чудес\n",
      " Том Сойер\n",
      " Остров сокровищ\n",
      " Буратино\n",
      " Хоббит\n",
      " Остров сокровищ\n",
      " Война и мир\n"
     ]
    },
    {
     "name": "stdout",
     "output_type": "stream",
     "text": [
      "NO\n",
      "YES\n",
      "YES\n",
      "NO\n"
     ]
    }
   ],
   "source": [
    "n, m = (int(input()), int(input()))\n",
    "\n",
    "lib_summer_set = {input() for _ in range(n)}\n",
    "mylib_list = [input() for _ in range(m)]\n",
    "\n",
    "for i in mylib_list:\n",
    "    if i in lib_summer_set:\n",
    "        print('YES')\n",
    "    else:\n",
    "        print('NO')"
   ]
  },
  {
   "cell_type": "code",
   "execution_count": 63,
   "id": "e841af0c-7152-4a7d-b8c3-8a5475477129",
   "metadata": {},
   "outputs": [
    {
     "name": "stdin",
     "output_type": "stream",
     "text": [
      " 1 2 3 4 5 6 12\n",
      " 6 5 4 3 2 1\n"
     ]
    },
    {
     "name": "stdout",
     "output_type": "stream",
     "text": [
      "6 5 4 3 2 1\n"
     ]
    }
   ],
   "source": [
    "n = {int(i) for i in input().split()}\n",
    "m = {int(i) for i in input().split()}\n",
    "\n",
    "if len(n & m) == 0:\n",
    "    print('BAD DAY')\n",
    "else:\n",
    "    print(*sorted(n & m, reverse=True))"
   ]
  },
  {
   "cell_type": "code",
   "execution_count": 65,
   "id": "cd33ec82-b62e-44c0-9204-bce3e19b145a",
   "metadata": {},
   "outputs": [
    {
     "name": "stdin",
     "output_type": "stream",
     "text": [
      " 1 2 3 4 8 5\n",
      " 1 2 8 2 3 4 5 2\n"
     ]
    },
    {
     "name": "stdout",
     "output_type": "stream",
     "text": [
      "YES\n"
     ]
    }
   ],
   "source": [
    "n_set = {int(i) for i in input().split()}\n",
    "m_set = {int(i) for i in input().split()}\n",
    "\n",
    "if n_set == m_set:\n",
    "    print('YES')\n",
    "else:\n",
    "    print('NO')"
   ]
  },
  {
   "cell_type": "code",
   "execution_count": 66,
   "id": "e0206b15-429b-4449-a48d-8097c52a8ca2",
   "metadata": {},
   "outputs": [
    {
     "name": "stdin",
     "output_type": "stream",
     "text": [
      " 2\n",
      " 3\n",
      " Хохлов\n",
      " Фадеев\n",
      " Ершов\n",
      " Ушаков\n",
      " Хохлов\n"
     ]
    },
    {
     "name": "stdout",
     "output_type": "stream",
     "text": [
      "1\n"
     ]
    }
   ],
   "source": [
    "n = int(input())\n",
    "m = int(input())\n",
    "\n",
    "math_set = {input() for _ in range(n)}\n",
    "inf_set = {input() for _ in range(m)}\n",
    "\n",
    "print(len(math_set - inf_set))"
   ]
  },
  {
   "cell_type": "code",
   "execution_count": 68,
   "id": "33398cd1-7f69-4a0f-8c48-18b704ea262e",
   "metadata": {},
   "outputs": [
    {
     "name": "stdin",
     "output_type": "stream",
     "text": [
      " 5\n",
      " 4\n",
      " демин\n",
      " рыбаков\n",
      " сафонов\n",
      " игнатов\n",
      " мухин\n",
      " сафонов\n",
      " игнатов\n",
      " демин\n",
      " рыбаков\n"
     ]
    },
    {
     "name": "stdout",
     "output_type": "stream",
     "text": [
      "1\n"
     ]
    }
   ],
   "source": [
    "n = int(input())\n",
    "m = int(input())\n",
    "\n",
    "math_set = {input() for _ in range(n)}\n",
    "inf_set = {input() for _ in range(m)}\n",
    "\n",
    "if len(math_set ^ inf_set) == 0:\n",
    "    print('NO')\n",
    "else:\n",
    "    print(len(math_set ^ inf_set))"
   ]
  },
  {
   "cell_type": "code",
   "execution_count": 69,
   "id": "acf7f524-6e98-4fa4-8659-a29f61871157",
   "metadata": {},
   "outputs": [
    {
     "name": "stdin",
     "output_type": "stream",
     "text": [
      " Блинов Жданов\n",
      " Бобров Жданов Некрасов Блинов\n"
     ]
    },
    {
     "name": "stdout",
     "output_type": "stream",
     "text": [
      "Блинов Бобров Жданов Некрасов\n"
     ]
    }
   ],
   "source": [
    "n_set = {i for i in input().split()}\n",
    "m_set = {i for i in input().split()}\n",
    "\n",
    "print(*sorted(n_set | m_set))"
   ]
  },
  {
   "cell_type": "code",
   "execution_count": 73,
   "id": "fa685ea2-ae1f-447c-99f6-ea7129f56127",
   "metadata": {},
   "outputs": [
    {
     "name": "stdin",
     "output_type": "stream",
     "text": [
      " 3\n",
      " 3\n",
      " иванов\n",
      " петров\n",
      " васечкин\n",
      " иванов\n",
      " петров\n",
      " васечкин\n"
     ]
    },
    {
     "name": "stdout",
     "output_type": "stream",
     "text": [
      "0\n"
     ]
    }
   ],
   "source": [
    "n = int(input())\n",
    "m = int(input())\n",
    "\n",
    "all_list = [input() for _ in range(n + m)]\n",
    "\n",
    "res_set = set()\n",
    "res_list = list()\n",
    "\n",
    "for i in all_list:\n",
    "    res_set.add(i)\n",
    "    if i in res_list:\n",
    "        res_set.discard(i)\n",
    "    res_list.append(i)\n",
    "\n",
    "if len(res_set) == 0:\n",
    "    print('NO')\n",
    "else:\n",
    "    print(len(res_set))"
   ]
  },
  {
   "cell_type": "code",
   "execution_count": 76,
   "id": "98deb84d-6f46-4562-bb10-c6832edac2f0",
   "metadata": {},
   "outputs": [
    {
     "name": "stdin",
     "output_type": "stream",
     "text": [
      " 3\n",
      " 3\n",
      " князев\n",
      " сафаонов\n",
      " майоров\n",
      " 2\n",
      " князев\n",
      " майоров\n",
      " 1\n",
      " майоров\n"
     ]
    },
    {
     "name": "stdout",
     "output_type": "stream",
     "text": [
      "майоров\n"
     ]
    }
   ],
   "source": [
    "m = int(input())\n",
    "list_of_set = list()\n",
    "\n",
    "for i in range(m):\n",
    "    n = int(input())\n",
    "    set_x = {input() for _ in range(n)}\n",
    "    list_of_set.append(set_x)\n",
    "\n",
    "set_res = list_of_set[0]\n",
    "\n",
    "for set_i in list_of_set[1:]:\n",
    "    set_res &= set_i\n",
    "\n",
    "print(*sorted(set_res), sep='\\n')"
   ]
  },
  {
   "cell_type": "code",
   "execution_count": 78,
   "id": "9089567f-4c92-438d-a149-ecbb315818b7",
   "metadata": {},
   "outputs": [
    {
     "name": "stdout",
     "output_type": "stream",
     "text": [
      "Helga LJ Maria Riyad Ruslan\n"
     ]
    }
   ],
   "source": [
    "users = [{'name': 'Todd', 'phone': '551-1414', 'email': 'todd@gmail.com'},\n",
    "         {'name': 'Helga', 'phone': '555-1618', 'email': 'helga@mail.net'},\n",
    "         {'name': 'Olivia', 'phone': '449-3141', 'email': ''},\n",
    "         {'name': 'LJ', 'phone': '555-2718', 'email': 'lj@gmail.net'},\n",
    "         {'name': 'Ruslan', 'phone': '422-145-9098', 'email': 'rus-lan.cha@yandex.ru'},\n",
    "         {'name': 'John', 'phone': '233-421-32', 'email': ''},\n",
    "         {'name': 'Lara', 'phone': '+7998-676-2532', 'email': 'g.lara89@gmail.com'},\n",
    "         {'name': 'Alina', 'phone': '+7948-799-2434', 'email': 'ali.ch.b@gmail.com'},\n",
    "         {'name': 'Robert', 'phone': '420-2011', 'email': ''},\n",
    "         {'name': 'Riyad', 'phone': '128-8890-128', 'email': 'r.mahrez@mail.net'},\n",
    "         {'name': 'Khabib', 'phone': '+7995-600-9080', 'email': 'kh.nurmag@gmail.com'},\n",
    "         {'name': 'Olga', 'phone': '6449-314-1213', 'email': ''},\n",
    "         {'name': 'Roman', 'phone': '+7459-145-8059', 'email': 'roma988@mail.ru'},\n",
    "         {'name': 'Maria', 'phone': '12-129-3148', 'email': 'm.sharapova@gmail.com'},\n",
    "         {'name': 'Fedor', 'phone': '+7445-341-0545', 'email': ''},\n",
    "         {'name': 'Tim', 'phone': '242-449-3141', 'email': 'timm.ggg@yandex.ru'}]\n",
    "\n",
    "users_l = list()\n",
    "\n",
    "for key in users:\n",
    "    if key['phone'][-1] == '8':\n",
    "        users_l.append(key['name'])\n",
    "\n",
    "print(*sorted(users_l))"
   ]
  },
  {
   "cell_type": "code",
   "execution_count": 79,
   "id": "cad86604-c733-4992-aade-8d695ede89c2",
   "metadata": {},
   "outputs": [
    {
     "name": "stdout",
     "output_type": "stream",
     "text": [
      "Alina Fedor Helga John Olga Olivia Robert Roman\n"
     ]
    }
   ],
   "source": [
    "users = [{'name': 'Todd', 'phone': '551-1414', 'email': 'todd@gmail.com'},\n",
    "         {'name': 'Helga', 'phone': '555-1618'},\n",
    "         {'name': 'Olivia', 'phone': '449-3141', 'email': ''},\n",
    "         {'name': 'LJ', 'phone': '555-2718', 'email': 'lj@gmail.net'},\n",
    "         {'name': 'Ruslan', 'phone': '422-145-9098', 'email': 'rus-lan.cha@yandex.ru'},\n",
    "         {'name': 'John', 'phone': '233-421-32', 'email': ''},\n",
    "         {'name': 'Lara', 'phone': '+7998-676-2532', 'email': 'g.lara89@gmail.com'},\n",
    "         {'name': 'Alina', 'phone': '+7948-799-2434'},\n",
    "         {'name': 'Robert', 'phone': '420-2011', 'email': ''},\n",
    "         {'name': 'Riyad', 'phone': '128-8890-128', 'email': 'r.mahrez@mail.net'},\n",
    "         {'name': 'Khabib', 'phone': '+7995-600-9080', 'email': 'kh.nurmag@gmail.com'},\n",
    "         {'name': 'Olga', 'phone': '6449-314-1213', 'email': ''},\n",
    "         {'name': 'Roman', 'phone': '+7459-145-8059'},\n",
    "         {'name': 'Maria', 'phone': '12-129-3148', 'email': 'm.sharapova@gmail.com'},\n",
    "         {'name': 'Fedor', 'phone': '+7445-341-0545', 'email': ''},\n",
    "         {'name': 'Tim', 'phone': '242-449-3141', 'email': 'timm.ggg@yandex.ru'}]\n",
    "\n",
    "users_l = list()\n",
    "\n",
    "for key in users:\n",
    "    if 'email' not in key or key['email'] == '':\n",
    "        users_l.append(key['name'])\n",
    "\n",
    "print(*sorted(users_l))"
   ]
  },
  {
   "cell_type": "code",
   "execution_count": 82,
   "id": "47897c2c-4851-4009-804d-1214868c6ab4",
   "metadata": {},
   "outputs": [
    {
     "name": "stdin",
     "output_type": "stream",
     "text": [
      " 83\n"
     ]
    },
    {
     "name": "stdout",
     "output_type": "stream",
     "text": [
      "eight three "
     ]
    }
   ],
   "source": [
    "dig_dict = {\n",
    "    0: 'zero',\n",
    "    1: 'one',\n",
    "    2: 'two',\n",
    "    3: 'three',\n",
    "    4: 'four',\n",
    "    5: 'five',\n",
    "    6: 'six',\n",
    "    7: 'seven',\n",
    "    8: 'eight',\n",
    "    9: 'nine',\n",
    "}\n",
    "\n",
    "n_l = [int(i) for i in list(input())]\n",
    "\n",
    "for i in n_l:\n",
    "    print(dig_dict[i], end = ' ')"
   ]
  },
  {
   "cell_type": "code",
   "execution_count": 84,
   "id": "47fd6a52-ce05-4cf6-906b-b55842100110",
   "metadata": {},
   "outputs": [
    {
     "name": "stdin",
     "output_type": "stream",
     "text": [
      "Введите натуральное число:  230\n"
     ]
    },
    {
     "name": "stdout",
     "output_type": "stream",
     "text": [
      "Результат: two three zero\n"
     ]
    }
   ],
   "source": [
    "def number_to_words(num):\n",
    "    # Создаем словарь для соответствия цифр и слов\n",
    "    digit_to_word = {\n",
    "        '0': 'zero',\n",
    "        '1': 'one',\n",
    "        '2': 'two',\n",
    "        '3': 'three',\n",
    "        '4': 'four',\n",
    "        '5': 'five',\n",
    "        '6': 'six',\n",
    "        '7': 'seven',\n",
    "        '8': 'eight',\n",
    "        '9': 'nine'\n",
    "    }\n",
    "\n",
    "    # Преобразуем число в строку\n",
    "    num_str = str(num)\n",
    "\n",
    "    # Заменяем каждую цифру на соответствующее слово\n",
    "    result_str = ' '.join(digit_to_word[digit] for digit in num_str)\n",
    "\n",
    "    return result_str\n",
    "\n",
    "# Пример использования\n",
    "input_number = int(input(\"Введите натуральное число: \"))\n",
    "result = number_to_words(input_number)\n",
    "print(f\"Результат: {result}\")"
   ]
  },
  {
   "cell_type": "code",
   "execution_count": 90,
   "id": "6918efcb-0f97-419b-b6a5-677ec014fb93",
   "metadata": {},
   "outputs": [
    {
     "name": "stdin",
     "output_type": "stream",
     "text": [
      " CS101\n"
     ]
    },
    {
     "name": "stdout",
     "output_type": "stream",
     "text": [
      "CS101: 3004, Хайнс, 8:00\n"
     ]
    }
   ],
   "source": [
    "course_dict = {\n",
    "'CS101': '3004 Хайнс 8:00',\n",
    "'CS102': '4501 Альварадо 9:00',\n",
    "'CS103': '6755 Рич 10:00',\n",
    "'NT110': '1244 Берк 11:00',\n",
    "'CM241': '1411 Ли 13:00',\n",
    "}\n",
    "\n",
    "course = input()\n",
    "\n",
    "print(f'{ course }: { course_dict[course].replace(\" \", \", \") }')\n",
    "    "
   ]
  },
  {
   "cell_type": "code",
   "execution_count": 93,
   "id": "e4645c6a-8caf-4f7d-bd08-894f62e592b0",
   "metadata": {},
   "outputs": [
    {
     "data": {
      "text/plain": [
       "{'a': 400,\n",
       " 'z': 999,\n",
       " 'b': 400,\n",
       " 'c': 312,\n",
       " 'd': 445,\n",
       " 'e': 98,\n",
       " 't': 853,\n",
       " 'q': 34,\n",
       " 'f': 90,\n",
       " 'm': 230,\n",
       " 'p': 123,\n",
       " 'w': 111}"
      ]
     },
     "execution_count": 93,
     "metadata": {},
     "output_type": "execute_result"
    }
   ],
   "source": [
    "dict1 = {'a': 100, 'z': 333, 'b': 200, 'c': 300, 'd': 45, 'e': 98, 't': 76, 'q': 34, 'f': 90, 'm': 230}\n",
    "dict2 = {'a': 300, 'b': 200, 'd': 400, 't': 777, 'c': 12, 'p': 123, 'w': 111, 'z': 666}\n",
    "\n",
    "result = {}\n",
    "result.update(dict1)\n",
    "\n",
    "for key in dict2:\n",
    "    if key in dict1:\n",
    "        result[key] = dict1[key] + dict2[key]\n",
    "    else:\n",
    "        result[key] = dict2[key]\n",
    "\n",
    "result"
   ]
  },
  {
   "cell_type": "code",
   "execution_count": 97,
   "id": "2bb13102-fd1a-4bed-ad18-384a11a75d62",
   "metadata": {},
   "outputs": [
    {
     "data": {
      "text/plain": [
       "{'f': 4,\n",
       " 'o': 9,\n",
       " 't': 9,\n",
       " 'b': 3,\n",
       " 'a': 8,\n",
       " 'l': 6,\n",
       " 'c': 6,\n",
       " 'y': 2,\n",
       " 'e': 10,\n",
       " 'r': 8,\n",
       " 'p': 4,\n",
       " 'u': 2,\n",
       " 'n': 6,\n",
       " 'k': 2,\n",
       " 'x': 1,\n",
       " 'i': 7,\n",
       " 'v': 1,\n",
       " 's': 4,\n",
       " 'h': 2,\n",
       " 'm': 3,\n",
       " 'd': 2}"
      ]
     },
     "execution_count": 97,
     "metadata": {},
     "output_type": "execute_result"
    }
   ],
   "source": [
    "text = 'footballcyberpunkextraterritorialityconversationalistblockophthalmoscopicinterdependencemamauserfff'\n",
    "\n",
    "result = {}\n",
    "\n",
    "for i in text:\n",
    "    result[i] = result.get(i, 0) + 1\n",
    "\n",
    "result\n"
   ]
  },
  {
   "cell_type": "code",
   "execution_count": 108,
   "id": "aac5e803-fbd9-4a5a-99fe-f53d57afd7f5",
   "metadata": {},
   "outputs": [
    {
     "name": "stdout",
     "output_type": "stream",
     "text": [
      "banana\n"
     ]
    }
   ],
   "source": [
    "s = 'orange strawberry barley gooseberry apple apricot barley currant orange melon pomegranate banana banana orange barley apricot plum grapefruit banana quince strawberry barley grapefruit banana grapes melon strawberry apricot currant currant gooseberry raspberry apricot currant orange lime quince grapefruit barley banana melon pomegranate barley banana orange barley apricot plum banana quince lime grapefruit strawberry gooseberry apple barley apricot currant orange melon pomegranate banana banana orange apricot barley plum banana grapefruit banana quince currant orange melon pomegranate barley plum banana quince barley lime grapefruit pomegranate barley'\n",
    "\n",
    "words_dict = {}\n",
    "\n",
    "for i in s.split():\n",
    "    words_dict[i] = words_dict.get(i, 0) + 1\n",
    "\n",
    "res = []\n",
    "max_ = 0\n",
    "\n",
    "for i in words_dict.items():\n",
    "    if i[1] > max:\n",
    "        max_ = i[1]\n",
    "\n",
    "for i in words_dict.items():\n",
    "    if i[1] == max_:\n",
    "        res.append(i[0])\n",
    "\n",
    "print(sorted(res)[0])"
   ]
  },
  {
   "cell_type": "code",
   "execution_count": 3,
   "id": "bee8d312-628e-4868-95be-4834eb3aa568",
   "metadata": {},
   "outputs": [
    {
     "data": {
      "text/plain": [
       "'banana'"
      ]
     },
     "execution_count": 3,
     "metadata": {},
     "output_type": "execute_result"
    }
   ],
   "source": [
    "s = 'orange strawberry barley gooseberry apple apricot barley currant orange melon pomegranate banana banana orange barley apricot plum grapefruit banana quince strawberry barley grapefruit banana grapes melon strawberry apricot currant currant gooseberry raspberry apricot currant orange lime quince grapefruit barley banana melon pomegranate barley banana orange barley apricot plum banana quince lime grapefruit strawberry gooseberry apple barley apricot currant orange melon pomegranate banana banana orange apricot barley plum banana grapefruit banana quince currant orange melon pomegranate barley plum banana quince barley lime grapefruit pomegranate barley'\n",
    "\n",
    "result = {}\n",
    "\n",
    "for i in s.split():\n",
    "    result[i] = result.get(i, 0) + 1\n",
    "\n",
    "s = max(result.values())\n",
    "\n",
    "min([key for key, value in result.items() if value == s])\n",
    "\n"
   ]
  },
  {
   "cell_type": "code",
   "execution_count": 10,
   "id": "64a9081a-2b89-4d3e-b141-7e37ea141432",
   "metadata": {},
   "outputs": [
    {
     "data": {
      "text/plain": [
       "{('Parker', 'Wilson', 50): ['Hatiko'],\n",
       " ('Josh', 'King', 25): ['Rusty', 'Balto', 'Barry', 'Lassie'],\n",
       " ('John', 'Smith', 28): ['Fido'],\n",
       " ('Jake', 'Smirnoff', 18): ['Butch'],\n",
       " ('Emma', 'Wright', 18): ['Odi'],\n",
       " ('Hannah', 'Taylor', 40): ['Snape'],\n",
       " ('Martha', 'Robinson', 73): ['Horry', 'Chase'],\n",
       " ('Alex', 'Martinez', 65): ['Giro'],\n",
       " ('Simon', 'Nevel', 32): ['Zooma', 'Rocky'],\n",
       " ('Martha', 'Williams', 38): ['Ace']}"
      ]
     },
     "execution_count": 10,
     "metadata": {},
     "output_type": "execute_result"
    }
   ],
   "source": [
    "pets = [('Hatiko', 'Parker', 'Wilson', 50),\n",
    "        ('Rusty', 'Josh', 'King', 25),\n",
    "        ('Fido', 'John', 'Smith', 28),\n",
    "        ('Butch', 'Jake', 'Smirnoff', 18),\n",
    "        ('Odi', 'Emma', 'Wright', 18),\n",
    "        ('Balto', 'Josh', 'King', 25),\n",
    "        ('Barry', 'Josh', 'King', 25),\n",
    "        ('Snape', 'Hannah', 'Taylor', 40),\n",
    "        ('Horry', 'Martha', 'Robinson', 73),\n",
    "        ('Giro', 'Alex', 'Martinez', 65),\n",
    "        ('Zooma', 'Simon', 'Nevel', 32),\n",
    "        ('Lassie', 'Josh', 'King', 25),\n",
    "        ('Chase', 'Martha', 'Robinson', 73),\n",
    "        ('Ace', 'Martha', 'Williams', 38),\n",
    "        ('Rocky', 'Simon', 'Nevel', 32)]\n",
    "\n",
    "result = {}\n",
    "\n",
    "for pet in pets:\n",
    "    result.setdefault(pet[1:], []).append(pet[0])\n",
    "\n",
    "result"
   ]
  },
  {
   "cell_type": "code",
   "execution_count": 18,
   "id": "93fe9a50-46a7-43df-845c-1c78253603ab",
   "metadata": {},
   "outputs": [
    {
     "name": "stdin",
     "output_type": "stream",
     "text": [
      " home sweet home sweet\n"
     ]
    },
    {
     "name": "stdout",
     "output_type": "stream",
     "text": [
      "home\n"
     ]
    }
   ],
   "source": [
    "text = input().lower()\n",
    "\n",
    "for i in '.,!?:;-':\n",
    "    text = text.replace(i, '')\n",
    "\n",
    "res = {}\n",
    "\n",
    "for i in text.split():\n",
    "    res[i] = res.get(i, 0) + 1\n",
    "\n",
    "min_w = min(res.values())\n",
    "\n",
    "rres = min([key for key, value in res.items() if value == min_w])\n",
    "\n",
    "print(rres)"
   ]
  },
  {
   "cell_type": "code",
   "execution_count": 26,
   "id": "de0306f3-9d45-4ea9-8702-98a8b4fffc81",
   "metadata": {},
   "outputs": [
    {
     "name": "stdin",
     "output_type": "stream",
     "text": [
      " a a a a a\n"
     ]
    },
    {
     "name": "stdout",
     "output_type": "stream",
     "text": [
      "a a_1 a_2 a_3 a_4 "
     ]
    }
   ],
   "source": [
    "text = input()\n",
    "\n",
    "res = {}\n",
    "\n",
    "for i in text.split():\n",
    "    res[i] = res.get(i, -1) + 1\n",
    "    if res[i] == 0:\n",
    "        print(i, end = ' ')\n",
    "    else:\n",
    "        print(i + '_' + str(res[i]), end = ' ')\n",
    "    "
   ]
  },
  {
   "cell_type": "code",
   "execution_count": 29,
   "id": "cd6d2439-47e0-42b6-b57f-509ce52ed7ff",
   "metadata": {},
   "outputs": [
    {
     "name": "stdin",
     "output_type": "stream",
     "text": [
      " 5\n",
      " Змея: язык питон\n",
      " Баг: жучок, ошибка в программе\n",
      " Конфа: конференция\n",
      " Костыль: код исправление\n",
      " Бета: бета-версия\n",
      " 3\n",
      " Змея\n",
      " Жаба\n",
      " костыль\n"
     ]
    },
    {
     "name": "stdout",
     "output_type": "stream",
     "text": [
      "язык питон\n",
      "Не найдено\n",
      "код исправление\n"
     ]
    }
   ],
   "source": [
    "n = int(input())\n",
    "q = {}\n",
    "for i in range(n):\n",
    "    q0, q1 = input().split(': ')\n",
    "    q[q0.lower()] = q1\n",
    "\n",
    "m = int(input())\n",
    "ans = [input().lower() for i in range(m)]\n",
    "\n",
    "for i in ans:\n",
    "    if i in q:\n",
    "        print(q[i])\n",
    "    else:\n",
    "        print('Не найдено')"
   ]
  },
  {
   "cell_type": "code",
   "execution_count": 37,
   "id": "6a4a4875-3ebf-4567-b1b6-d7e832e887fa",
   "metadata": {},
   "outputs": [
    {
     "name": "stdin",
     "output_type": "stream",
     "text": [
      " с мая весной\n",
      " Сам я не свой\n"
     ]
    },
    {
     "name": "stdout",
     "output_type": "stream",
     "text": [
      "YES\n"
     ]
    }
   ],
   "source": [
    "s = input().lower()\n",
    "for i in '.,!?:;- ':\n",
    "    s = s.replace(i, '')\n",
    "    \n",
    "s0 = input().lower()\n",
    "\n",
    "flag = 'YES'\n",
    "\n",
    "for i in s:\n",
    "    if i in s0:\n",
    "        s0 = s0.replace(i, '', 1)\n",
    "    else:\n",
    "        flag = 'NO'\n",
    "        break\n",
    "\n",
    "print(flag)"
   ]
  },
  {
   "cell_type": "code",
   "execution_count": 39,
   "id": "9669f7bd-f7ab-49e2-83d7-cb4129e53330",
   "metadata": {},
   "outputs": [
    {
     "name": "stdin",
     "output_type": "stream",
     "text": [
      " 3\n",
      " Kind Affable\n",
      " Intellect Mind\n",
      " Popular Celebrated\n",
      " Popular\n"
     ]
    },
    {
     "name": "stdout",
     "output_type": "stream",
     "text": [
      "Celebrated\n"
     ]
    }
   ],
   "source": [
    "n = int(input())\n",
    "\n",
    "sin_dict = {}\n",
    "\n",
    "for i in range(n):\n",
    "    key, value = input().split()\n",
    "    sin_dict[key] = value\n",
    "\n",
    "s = input()\n",
    "\n",
    "if s in sin_dict:\n",
    "    print(sin_dict[s])\n",
    "elif s in sin_dict.values():\n",
    "    for key, value in sin_dict.items():\n",
    "        if value == s:\n",
    "            print(key)"
   ]
  },
  {
   "cell_type": "code",
   "execution_count": 41,
   "id": "7e02eb7b-5431-4db0-958f-1f8c88215a2e",
   "metadata": {},
   "outputs": [
    {
     "name": "stdin",
     "output_type": "stream",
     "text": [
      " 2\n",
      " германия берлин мюнхен гамбург дортмунд\n",
      " нидерланды амстердам гаага роттердам алкмар\n",
      " 4\n",
      " амстердам\n"
     ]
    },
    {
     "name": "stdout",
     "output_type": "stream",
     "text": [
      "нидерланды\n"
     ]
    },
    {
     "name": "stdin",
     "output_type": "stream",
     "text": [
      " алкмар\n"
     ]
    },
    {
     "name": "stdout",
     "output_type": "stream",
     "text": [
      "нидерланды\n"
     ]
    },
    {
     "name": "stdin",
     "output_type": "stream",
     "text": [
      " гамбург\n"
     ]
    },
    {
     "name": "stdout",
     "output_type": "stream",
     "text": [
      "германия\n"
     ]
    },
    {
     "name": "stdin",
     "output_type": "stream",
     "text": [
      " гаага\n"
     ]
    },
    {
     "name": "stdout",
     "output_type": "stream",
     "text": [
      "нидерланды\n"
     ]
    }
   ],
   "source": [
    "n = int(input())\n",
    "\n",
    "map_dict = {}\n",
    "\n",
    "for _ in range(n):\n",
    "    s = input().split()\n",
    "    for i in s[1:]:\n",
    "        map_dict[i] = s[0]\n",
    "\n",
    "m = int(input())\n",
    "\n",
    "l_out = []\n",
    "\n",
    "for i in range(m):\n",
    "    l_out.append(map_dict[input()])\n",
    "\n",
    "print(*l_out, sep = '\\n')"
   ]
  },
  {
   "cell_type": "code",
   "execution_count": 47,
   "id": "eaa90301-36b0-4351-9d1e-6c97382fdd78",
   "metadata": {},
   "outputs": [
    {
     "name": "stdin",
     "output_type": "stream",
     "text": [
      " 3\n",
      " 1351 Женя\n",
      " 1251 Руслан\n",
      " 121515 Женя\n",
      " 3\n",
      " Руслан\n",
      " женя\n",
      " Рустам\n"
     ]
    },
    {
     "name": "stdout",
     "output_type": "stream",
     "text": [
      "1251\n",
      "1351 121515\n",
      "абонент не найден\n"
     ]
    }
   ],
   "source": [
    "n = int(input())\n",
    "tel_dict = {}\n",
    "\n",
    "for i in range(n):\n",
    "    value, key = input().split()\n",
    "    tel_dict.setdefault(key, []).append(value)\n",
    "\n",
    "m = int(input())\n",
    "\n",
    "tel_out = []\n",
    "\n",
    "for i in range(m):\n",
    "    s = input().capitalize()\n",
    "    if s in tel_dict:\n",
    "        tel_out.append(' '.join(tel_dict[s]))\n",
    "    else:\n",
    "        tel_out.append('абонент не найден')\n",
    "\n",
    "print(*tel_out, sep='\\n')"
   ]
  },
  {
   "cell_type": "code",
   "execution_count": 50,
   "id": "afbd2c93-c685-4d13-9a89-617f39ee4b64",
   "metadata": {},
   "outputs": [
    {
     "name": "stdin",
     "output_type": "stream",
     "text": [
      " *!*!*?\n",
      " 3\n",
      " а: 3\n",
      " н: 2\n",
      " с: 1\n"
     ]
    },
    {
     "name": "stdout",
     "output_type": "stream",
     "text": [
      "ананас\n"
     ]
    }
   ],
   "source": [
    "# Секретное слово\n",
    "# Напишите программу для расшифровки секретного слова методом частотного анализа.\n",
    "\n",
    "# Формат входных данных\n",
    "# В первой строке задано зашифрованное слово. Во второй строке задано одно целое число \n",
    "\n",
    "# n – количество букв в словаре. В следующих \n",
    "\n",
    "# n строках записано, сколько раз конкретная буква алфавита встречается в этом слове – <буква>: <частота>.\n",
    "\n",
    "# Формат выходных данных\n",
    "# Программа должна вывести дешифрованное слово.\n",
    "\n",
    "# Примечание. Гарантируется, что частоты букв не повторяются.\n",
    "\n",
    "s = input()\n",
    "in_dict = {}\n",
    "\n",
    "for i in s:\n",
    "    in_dict[i] = in_dict.get(i, 0) + 1\n",
    "\n",
    "inv_in_dict = {value: key for key, value in in_dict.items()} \n",
    "\n",
    "n = int(input())\n",
    "\n",
    "for i in range(n):\n",
    "    ch, v = input().split(': ')\n",
    "    s = s.replace(inv_in_dict[int(v)], ch)\n",
    "\n",
    "print(s)"
   ]
  },
  {
   "cell_type": "code",
   "execution_count": 53,
   "id": "e88ec002-ce6d-446e-9773-eb6dd9e98b72",
   "metadata": {},
   "outputs": [
    {
     "name": "stdout",
     "output_type": "stream",
     "text": [
      "0 34\n",
      "1 10\n",
      "2 -4\n",
      "3 6\n",
      "4 10\n",
      "5 23\n",
      "6 -90\n",
      "7 100\n",
      "8 21\n",
      "9 -35\n",
      "10 -95\n",
      "11 1\n",
      "12 36\n",
      "13 -38\n",
      "14 -19\n",
      "15 1\n",
      "16 6\n",
      "17 87\n"
     ]
    },
    {
     "data": {
      "text/plain": [
       "{0: 1156,\n",
       " 1: 100,\n",
       " 2: 16,\n",
       " 3: 36,\n",
       " 4: 100,\n",
       " 5: 529,\n",
       " 6: 8100,\n",
       " 7: 10000,\n",
       " 8: 441,\n",
       " 9: 1225,\n",
       " 10: 9025,\n",
       " 11: 1,\n",
       " 12: 1296,\n",
       " 13: 1444,\n",
       " 14: 361,\n",
       " 15: 1,\n",
       " 16: 36,\n",
       " 17: 7569}"
      ]
     },
     "execution_count": 53,
     "metadata": {},
     "output_type": "execute_result"
    }
   ],
   "source": [
    "numbers = [34, 10, -4, 6, 10, 23, -90, 100, 21, -35, -95, 1, 36, -38, -19, 1, 6, 87]\n",
    "\n",
    "for i, k in enumerate(numbers):\n",
    "    print(i, k)\n",
    "\n",
    "result = {i: numbers[i]**2 for i in range(len(numbers))}\n",
    "\n",
    "result"
   ]
  },
  {
   "cell_type": "code",
   "execution_count": null,
   "id": "a5b79edf-b43b-48e0-9238-c7788f443a99",
   "metadata": {},
   "outputs": [],
   "source": []
  }
 ],
 "metadata": {
  "kernelspec": {
   "display_name": "Python 3 (ipykernel)",
   "language": "python",
   "name": "python3"
  },
  "language_info": {
   "codemirror_mode": {
    "name": "ipython",
    "version": 3
   },
   "file_extension": ".py",
   "mimetype": "text/x-python",
   "name": "python",
   "nbconvert_exporter": "python",
   "pygments_lexer": "ipython3",
   "version": "3.10.12"
  }
 },
 "nbformat": 4,
 "nbformat_minor": 5
}
